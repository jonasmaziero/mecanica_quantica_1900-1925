{
 "cells": [
  {
   "cell_type": "markdown",
   "metadata": {},
   "source": [
    "# Notas de aula: Mecânica Quântica, Autor: Jonas Maziero\n",
    "\n",
    "Link para o vídeo da aula sobre esse tópico: https://youtu.be/2AXKvoutsps."
   ]
  },
  {
   "cell_type": "code",
   "execution_count": 1,
   "metadata": {},
   "outputs": [],
   "source": [
    "%run init.ipynb"
   ]
  },
  {
   "cell_type": "markdown",
   "metadata": {},
   "source": [
    "# Princípio de indeterminação de Heisenberg\n",
    "## Equação de onda e ondas harmônicas\n",
    "Vamos relembrar alguns conceitos sobre ondas. A equação de onda unidimensional lê-se\n",
    "\\begin{equation}\n",
    "v_{f}^{2}\\partial_{xx}\\psi=\\partial_{tt}\\psi,\n",
    "\\end{equation}\n",
    "em que $\\psi$ é a função de onda, $v_{f}$ é a velocidade da onda, a chamada _velocidade de fase_, e usamos a notação $\\partial_{xx}\\equiv\\frac{\\partial^{2}}{\\partial x^{2}}$ e $\\partial_{tt}\\equiv\\frac{\\partial^{2}}{\\partial t^{2}}$.\n",
    "\n",
    "Vamos verificar primeiramente que qualquer função do tipo \n",
    "\\begin{equation}\n",
    "\\psi=\\psi(kx-\\omega t)=:\\psi(u),\n",
    "\\end{equation}\n",
    "com $k,\\omega\\in\\mathbb{R}$ constantes e $u:=kx-\\omega t$, chamada de _onda harmônica_, satisfaz essa equação de onda:\n",
    "\\begin{align}\n",
    "\\partial_{t}\\psi & = \\partial_{t}u\\partial_{u}\\psi=-\\omega\\partial_{u}\\psi, \\\\\n",
    "\\partial_{tt}\\psi & = -(\\partial_{t}\\omega)\\partial_{u}\\psi-\\omega\\partial_{t}\\partial_{u}\\psi =: 0 - \\omega\\partial_{u}\\partial_{t}\\psi = \\omega\\partial_{u}(\\omega\\partial_{u}\\psi) \\\\\n",
    "& = \\omega((\\partial_{u}\\omega)\\partial_{u}\\psi+\\omega\\partial_{uu}\\psi) = 0+\\omega^{2}\\partial_{uu}\\psi,\\\\\n",
    "\\partial_{x}\\psi & = \\partial_{x}u\\partial_{u}\\psi = k\\partial_{u}\\psi, \\\\\n",
    "\\partial_{xx}\\psi & = (\\partial_{x}k)\\partial_{u}\\psi+k\\partial_{x}\\partial_{u}\\psi =: 0 + k\\partial_{u}\\partial_{x}\\psi = k\\partial_{u}(k\\partial_{u}\\psi), \\\\\n",
    "& = k((\\partial_{u}k)\\partial_{u}\\psi + k\\partial_{uu}\\psi) = 0 + k^{2}\\partial_{uu}\\psi.\n",
    "\\end{align}"
   ]
  },
  {
   "cell_type": "markdown",
   "metadata": {},
   "source": [
    "Teremos assim que\n",
    "\\begin{equation}\n",
    "v_{f}^{2}\\partial_{xx}\\psi = v_{f}^{2}k^{2}\\partial_{uu}\\psi = \\partial_{tt}\\psi = \\omega^{2}\\partial_{uu}\\psi.\n",
    "\\end{equation}\n",
    "Portanto\n",
    "\\begin{equation}\n",
    " v_{f}^{2}k^{2}=\\omega^{2}\\Rightarrow v_{f} = \\frac{\\omega}{k}.\n",
    "\\end{equation}\n",
    "Para confirmar que essa é de fato a velocidade de propagação de uma onda do tipo $\\psi(kx-\\omega t)=:\\psi(u)$, considera o movimento de um ponto da onda com $u=\\text{constante}=:C$. Vem que\n",
    "\\begin{equation}\n",
    "kx-\\omega t = C \\Rightarrow x = C/k + (\\omega/k)t = C' + (\\omega/k)t \\Rightarrow v_{f}=\\partial_{t}x = \\omega/k.\n",
    "\\end{equation}\n",
    "Veja o exemplo $\\psi=\\sin(kx-\\omega t)$ na figura abaixo.\n",
    "\n",
    "OBS. Os chamados _número de onda_ $k$ e _frequência angular_ $\\omega$, usados acima, estão relacionados com o _comprimento de onda_ $\\lambda$ e _frequência_ $\\nu$ como segue:\n",
    "\\begin{equation}\n",
    "\\omega=2\\pi\\nu \\text{ e } k = \\frac{2\\pi}{\\lambda} \\Rightarrow v_{f} = \\frac{\\omega}{k}=\\nu\\lambda.\n",
    "\\end{equation}"
   ]
  },
  {
   "cell_type": "code",
   "execution_count": 2,
   "metadata": {},
   "outputs": [
    {
     "data": {
      "application/vnd.jupyter.widget-view+json": {
       "model_id": "651aae2afe854db98d4c2b2206789979",
       "version_major": 2,
       "version_minor": 0
      },
      "text/plain": [
       "interactive(children=(FloatSlider(value=1.0, description='k', max=2.0, min=0.1), FloatSlider(value=1.0, descri…"
      ]
     },
     "metadata": {},
     "output_type": "display_data"
    }
   ],
   "source": [
    "def onda(k,w,t):\n",
    "    fig = plt.figure(figsize=(15,3))\n",
    "    x = np.arange(0,12*math.pi,0.1); y = np.sin(k*x-w*t); plt.plot(x,y)\n",
    "    plt.xlim(0,12*math.pi-0.05); plt.ylim(-1.03,1.03)\n",
    "    plt.xlabel(r'$x$', fontsize=15); plt.ylabel(r'$\\psi$', fontsize=15)\n",
    "    plt.annotate(r'$k=$'+str(k), xy=(20,0.85), xytext=(20,0.85), fontsize=12)\n",
    "    plt.annotate(r'$\\omega=$'+str(w), xy=(25,0.85), xytext=(25,0.85), fontsize=12)\n",
    "    plt.annotate(r'$t=$'+str(t), xy=(30,0.85), xytext=(30,0.85), fontsize=12)\n",
    "    plt.show()\n",
    "interactive(onda, k = (0.1,2,0.1), w = (0.1,2,0.1), t = (0,10,0.1))"
   ]
  },
  {
   "cell_type": "markdown",
   "metadata": {},
   "source": [
    "OBS. $\\omega$ está para $t$ assim como $k$ está para $x$:"
   ]
  },
  {
   "cell_type": "code",
   "execution_count": 3,
   "metadata": {},
   "outputs": [
    {
     "data": {
      "application/vnd.jupyter.widget-view+json": {
       "model_id": "c183c19009494e6eb352e2c79108dd62",
       "version_major": 2,
       "version_minor": 0
      },
      "text/plain": [
       "interactive(children=(FloatSlider(value=1.0, description='k', max=2.0, min=0.1), FloatSlider(value=10.0, descr…"
      ]
     },
     "metadata": {},
     "output_type": "display_data"
    }
   ],
   "source": [
    "def onda(k,x,w):\n",
    "    fig = plt.figure(figsize=(15,3))\n",
    "    t = np.arange(0,12*math.pi,0.1); y = np.sin(k*x-w*t); plt.plot(t,y,color='blue')\n",
    "    plt.xlim(0,12*math.pi-0.05); plt.ylim(-1.03,1.03)\n",
    "    plt.xlabel(r'$t$', fontsize=15); plt.ylabel(r'$\\psi$', fontsize=15)\n",
    "    plt.annotate(r'$k=$'+str(k), xy=(20,0.85), xytext=(20,0.85), fontsize=12)\n",
    "    plt.annotate(r'$\\omega=$'+str(w), xy=(25,0.85), xytext=(25,0.85), fontsize=12)\n",
    "    plt.annotate(r'$x=$'+str(x), xy=(30,0.85), xytext=(30,0.85), fontsize=12)\n",
    "    plt.show()\n",
    "interactive(onda, k = (0.1,2,0.1), x = (0,20,0.1), w = (0.1,2,0.1))"
   ]
  },
  {
   "cell_type": "markdown",
   "metadata": {},
   "source": [
    "## Combinações lineares de ondas harmônicas\n",
    "Percebemos a inadequação da aplicação de ondas harmônicas na descrição de ondas de matéria pelo seguinte exemplo. Consideremos um quanton que se comporta classicamente, como e.g. uma bola de gude, se movimentando com velocidade $\\upsilon\\ll c \\Rightarrow E_{c} \\approx p^{2}/2m\\equiv m\\upsilon^{2}/2$. Seguindo a hipótese de de Broglie e usando a velocidade de uma onda harmônica, teremos\n",
    "\\begin{equation}\n",
    "v_{f}=\\frac{\\omega}{k} = \\lambda\\nu = \\frac{h}{p}\\frac{E}{h}\\approx \\frac{m\\upsilon^{2}/2}{m\\upsilon} = \\frac{\\upsilon}{2}.\n",
    "\\end{equation}\n",
    "\n",
    "A seguir veremos que podemos corrigir esse problema usando combinações lineares de ondas harmônicas."
   ]
  },
  {
   "cell_type": "markdown",
   "metadata": {},
   "source": [
    "## Velocidade de grupo\n",
    "Como exemplo, consideremos a combinação de duas ondas harmônicas como segue:\n",
    "\\begin{align}\n",
    "\\psi & = 2^{-1}\\left(\\psi_{1}+\\psi_{2}\\right) \\\\ \n",
    "& = 2^{-1}(\\sin(kx-\\omega t) +\\sin((k+dk)x-(\\omega+d\\omega)t)) \\\\\n",
    "& = \\cos\\frac{(kx-\\omega t)-((k+dk)x-(\\omega+d\\omega)t)}{2}\\sin\\frac{(kx-\\omega t)+((k+dk)x-(\\omega+d\\omega)t)}{2} \\\\\n",
    "& = \\cos\\frac{dkx-d\\omega t}{2}\\sin\\frac{(2k+dk)x-(2\\omega+d\\omega)t}{2}\n",
    "\\end{align}\n",
    "onde usamos que $\\cos(-\\alpha)=\\cos\\alpha$ e $\\sin\\alpha+\\sin\\beta=2\\cos\\frac{\\alpha-\\beta}{2}\\sin\\frac{\\alpha+\\beta}{2}$. Se $dk \\ll k$ e $d\\omega\\ll\\omega$ teremos\n",
    "\\begin{equation}\n",
    "\\psi \\approx \\cos\\frac{dkx-d\\omega t}{2}\\sin\\left(kx-\\omega t\\right).\n",
    "\\end{equation}\n",
    "Esta onda está mostrada na figura abaixo."
   ]
  },
  {
   "cell_type": "code",
   "execution_count": 4,
   "metadata": {},
   "outputs": [
    {
     "data": {
      "application/vnd.jupyter.widget-view+json": {
       "model_id": "48fc56dc94ac4af7abd09c40e903c2d7",
       "version_major": 2,
       "version_minor": 0
      },
      "text/plain": [
       "interactive(children=(FloatSlider(value=10.0, description='t', max=20.0), Output()), _dom_classes=('widget-int…"
      ]
     },
     "metadata": {},
     "output_type": "display_data"
    }
   ],
   "source": [
    "def ondas(t):\n",
    "    k = 0.1; dk = 0.01; w = 1000; dw = 1; fig = plt.figure(figsize=(15,3))\n",
    "    x = np.arange(0,720*math.pi,0.1) ; y = np.sin(k*x-w*t)*np.cos((dk*x-dw*t)/2); plt.plot(x,y,color='blue')\n",
    "    yl = 0.5*(np.sin(k*x-w*t) + np.sin((k+dk)*x-(w+dw)*t)); plt.plot(x,yl,color='gray')\n",
    "    y3 = np.cos((dk*x-dw*t)/2); plt.plot(x,y3, color='cyan')\n",
    "    y4 = -np.cos((dk*x-dw*t)/2); plt.plot(x,y4, color='cyan')\n",
    "    plt.xlim(0,720*math.pi-0.05); plt.ylim(-1.03,1.03); plt.xlabel(r'$x$')\n",
    "    plt.annotate(r'$t=$'+str(t), xy=(1000,0.9), xytext=(1000,0.9))\n",
    "    plt.legend(('Aproximação','Exato','cos(dk*x-dw*t)','-cos(dk*x-dw*t)'),loc=(1.01,0.2))\n",
    "    plt.show()\n",
    "interactive(ondas, t = (0,20,0.1))"
   ]
  },
  {
   "cell_type": "markdown",
   "metadata": {},
   "source": [
    "A velocidade dos pacotes de onda, que é a parte co cosseno em $\\psi$, é chamada de _velocidade de grupo_, e é dada como segue:\n",
    "\\begin{align}\n",
    "& dkx-d\\omega t=C\\Rightarrow x = \\frac{C}{dk}+\\frac{d\\omega}{dk}t \\\\\n",
    "& \\Rightarrow v_{g}=\\frac{dx}{dt}=\\frac{d\\omega}{dk}.\n",
    "\\end{align}\n",
    "\n",
    "Se considerarmos o exemplo da bola de gude usado acima, como\n",
    "\\begin{cases}\n",
    "d\\omega =  d(2\\pi\\nu) = d(2\\pi E/h)=(2\\pi/h)dE, \\\\\n",
    "dk = d(2\\pi/\\lambda) = d(2\\pi p/h) = (2\\pi/h)dp,\n",
    "\\end{cases}\n",
    "teremos\n",
    "\\begin{align}\n",
    "v_{g} = \\frac{d\\omega}{dk} = \\frac{dE}{dp} = \\frac{d((m\\upsilon)^{2}/2m)}{d(m\\upsilon)}=\\upsilon.\n",
    "\\end{align} "
   ]
  },
  {
   "cell_type": "markdown",
   "metadata": {},
   "source": [
    "## Pacotes de onda\n",
    "Resolvemos o problema da velocidade da onda de de Broglie ser a mesma que aquela da partícula clássica associada, usando a combinação de duas ondas com frequências e comprimentos de onda ligeiramente diferentes. Mas continuamos tendo ondas que se espalham por todo o espaço. Para obter ondas com uma certa dimensão espacial finita, precisamos combinar um número muito grande de ondas harmônicas. Ilustramos isso com a figura abaixo. Note que compomos ondas de mesma frequência angular e números de onda diferindo por múltiplos de $dk$."
   ]
  },
  {
   "cell_type": "code",
   "execution_count": 5,
   "metadata": {},
   "outputs": [
    {
     "data": {
      "application/vnd.jupyter.widget-view+json": {
       "model_id": "2c0fa9ba715c44518d73f6244cd3500e",
       "version_major": 2,
       "version_minor": 0
      },
      "text/plain": [
       "interactive(children=(IntSlider(value=15, description='n', max=30, min=1), Output()), _dom_classes=('widget-in…"
      ]
     },
     "metadata": {},
     "output_type": "display_data"
    }
   ],
   "source": [
    "def pacote(n):\n",
    "    t = 0; k = 0.2; dk = 0.01; w = 10000; fig = plt.figure(figsize=(15,3)); x = np.arange(0,540*math.pi,0.1); y = 0*x\n",
    "    for j in range(0,n):\n",
    "        y += np.sin((k+j*dk)*x-w*t)/n\n",
    "    plt.plot(x,y,color='blue'); plt.plot(x,y**2,color='red', alpha=0.5); plt.xlabel(r'$x$'); plt.ylabel(r'$\\psi$')\n",
    "    plt.xlim(0,540*math.pi-0.05); plt.ylim(-1.03,1.03); plt.annotate(r'$n=$'+str(n), xy=(900,0.9), xytext=(900,0.9))\n",
    "    plt.legend((r'$\\psi$',r'$|\\psi|^{2}$'),loc=(1.01,0.2)); plt.show()\n",
    "interactive(pacote, n = (1,30,1))"
   ]
  },
  {
   "cell_type": "markdown",
   "metadata": {},
   "source": [
    "Digamos que esse pacote de onda estivesse associado ao fóton e que só conseguísemos detectá-lo se a amplitude da onda for maior que um certo valor (nesse caso $I\\propto E^{2}$). Então sua posição estaria dentro do intervalo detectável, que é o seu tamanho. Na figura acima vemos que para ter uma largura $\\Delta x$ menor dos pacotes de onda, que aparecem repetidamente, temos que compor um número maior de ondas harmônicas, ou seja, temos que ter um $\\Delta k$ maior:\n",
    "\\begin{cases}\n",
    "\\uparrow\\Delta k \\Rightarrow \\downarrow \\Delta x, \\\\\n",
    "\\downarrow\\Delta k \\Rightarrow \\uparrow \\Delta x.\n",
    "\\end{cases}\n",
    "Da análise de Fourier, sabe-se que o produto da largura dos pulsos pela largura de valores dos números de onda deve ser uma constante aproximadamente igual a $1$:\n",
    "\\begin{equation}\n",
    "\\Delta x\\Delta k\\approx1.\n",
    "\\end{equation}\n",
    "Nos limites temos $\\Delta k=0\\Rightarrow\\Delta x=\\infty$ para uma onda harmônica. Por outro lado, teríamos que ter $\\Delta k=\\infty$ para obter $\\Delta x=0$.\n",
    "\n",
    "O mesmo tipo de relação vale para o intervalo de frequência angular $\\Delta\\omega$ e para a duração do pulso $\\Delta t$. Na verdade, o mesmo gráfico observado acima será obtido de fixarmos $k$, compormos ondas com diferentes frequências e plotarmos $\\psi\\mathrm{x}t$. Portanto\n",
    "\\begin{equation}\n",
    "\\Delta t\\Delta \\omega\\approx1.\n",
    "\\end{equation}"
   ]
  },
  {
   "cell_type": "markdown",
   "metadata": {},
   "source": [
    "# Princípio de indeterminação de Heisenberg\n",
    "Usando\n",
    "\\begin{equation}\n",
    "p=\\frac{h}{\\lambda}=\\frac{h}{2\\pi}\\frac{2\\pi}{\\lambda}=\\hbar k\n",
    "\\end{equation}\n",
    "e\n",
    "\\begin{equation}\n",
    "E=h\\nu=\\frac{h}{2\\pi}2\\pi\\nu=\\hbar\\omega\n",
    "\\end{equation}\n",
    "as relações acima ficam escritas em termos da posição, momento linear, energia e tempo como segue \n",
    "\\begin{cases}\n",
    "\\Delta x\\Delta p\\approx \\hbar, \\\\\n",
    "\\Delta t\\Delta E\\approx \\hbar.\n",
    "\\end{cases}\n",
    "\n",
    "Werner Heisenberg (https://www.nobelprize.org/prizes/physics/1932/heisenberg/lecture/) foi muito além dessas identificações introduzindo seu princípio de indeterminação (PIH). Seguindo de Broglie, qualquer quanton, radiação eletromagnética ou matéria, tem associado a ele um aspecto corpuscular nas trocas de energia e um aspecto ondulatório de movimento pelo espaço que é descrito por uma função de onda $\\psi$. Dentro desta interpretação, Heisenberg considerou que a largura em posição da função de onda estaria relacionada com a indeterminação desse observável do quanton, que é estatisticamente quantificada pelo desvio padrão $\\sigma_{X}$. A mesma ideia se aplicaria para o momento linear. Com isso, existiria um mínimo fundamental, que não se deve simplesmente a limitações de precisão dos aparelhos de medida, para o produto das indeterminações da posição e do momento linear de um quanton:\n",
    "\\begin{equation}\n",
    "\\sigma_{X}\\sigma_{P}\\ge \\hbar.\n",
    "\\end{equation}\n",
    "O mesmo tipo de relação seguiria para a energia e para o tempo de chegada de um quantum (tempo de detecção):\n",
    "\\begin{equation}\n",
    "\\sigma_{t}\\sigma_{E}\\ge \\hbar.\n",
    "\\end{equation}"
   ]
  },
  {
   "cell_type": "markdown",
   "metadata": {},
   "source": [
    "## Interpretação probabilística de Born da função de onda\n",
    "Dentro deste contexto de descrição estatística, Max Born [https://www.nobelprize.org/prizes/physics/1954/born/lecture/] forneceu uma interpretação probabilística para a função de onda\n",
    "\\begin{equation}\n",
    "|\\psi(x)|^{2}dx=\\text{probabilidade do quanton ter posição entre } x \\text{ e } x+dx.\n",
    "\\end{equation}\n",
    "Claro, a interpretação análoga segue para outros observáveis, como o momento linear ($|\\psi(p)|^{2}dp$), a enegia ($|\\psi(E)|^{2}dE$) e o tempo de chegada ($|\\psi(t)|^{2}dt$). \n",
    "\n",
    "OBS. Na interpretação de Born aparece o módulo quadrado, e não somente o quadrado da função de onda pois esta pode ser complexa.\n",
    "\n",
    "OBS. Conhecendo $\\psi$, podemos calcular o valor esperado e desvio padrão (indeterminação) para qualquer observável. Por exemplo\n",
    "\\begin{cases}\n",
    "\\bar{X}\\equiv\\langle X\\rangle=\\int_{-\\infty}^{+\\infty}x|\\psi(x)|^{2}dx, \\\\\n",
    "\\bar{X^{2}}\\equiv\\langle X^{2}\\rangle=\\int_{-\\infty}^{+\\infty}x^{2}|\\psi(x)|^{2}dx, \\\\\n",
    "\\sigma_{X}=\\sqrt{\\langle X^{2}\\rangle-\\langle X\\rangle^{2}}.\n",
    "\\end{cases}"
   ]
  },
  {
   "cell_type": "markdown",
   "metadata": {},
   "source": [
    "## Aplicações do PIH (exemplos)\n",
    "Em muito casos, podemos utilizar o princípio de indeterminação de Heisenberg para obter algumas informações quantitativas sobre um sistema de maneira razoavelmente simples. Veremos alguns exemplos a seguir.\n",
    "\n",
    "### Energia de ponto zero de um quanton em uma caixa\n",
    "Consideremos um quanton restrito a se mover dentro de uma caixa unidimensional de comprimento $L$. Teremos assim que $\\sigma_{X}=L$. Com isso vem que\n",
    "\\begin{equation}\n",
    "\\sigma_{X}\\sigma_{P} \\ge \\hbar \\Rightarrow \\sigma_{P}\\ge \\hbar/\\sigma_{X} = \\hbar/L. \n",
    "\\end{equation}\n",
    "Assumindo que $\\langle P\\rangle =0$, teremos\n",
    "\\begin{equation}\n",
    "\\sigma_{P}^{2} = \\langle P^{2}\\rangle-\\langle P\\rangle^{2} = \\langle P^{2}\\rangle \\ge P_{\\min}^{2} =\\hbar^{2}/L^{2}.\n",
    "\\end{equation}\n",
    "E energia cinética mínima do quanton na caixa será então\n",
    "\\begin{equation}\n",
    "E_{c}^{\\min} = \\frac{P_{\\min}^{2}}{2m} \\ge \\frac{\\hbar^{2}}{2mL^{2}}.\n",
    "\\end{equation}\n",
    "Essa energia cinética mínima positiva é chamada de _energia de ponto zero_. \n",
    "\n",
    "Por exemplo, para uma partícula de massa $m=10^{-9}\\text{ kg}$ e uma caixa de largua $L=10^{-6}\\text{ }\\text{m}$,\n",
    "\\begin{equation}\n",
    "E_{c}^{\\min} \\approx 3,47\\mathrm{x}10^{-29}\\text{ eV},\n",
    "\\end{equation}\n",
    "que corresponde a uma velocidade mínima de \n",
    "\\begin{equation}\n",
    "v_{\\min} = \\sqrt{\\frac{2E_{\\min}}{m}} \\approx 1,05\\mathrm{x}10^{-19}\\text{ m/s}.\n",
    "\\end{equation}\n",
    "Bom, por isso não conseguimos ver cotidianamente os efeitos da energia de ponto zero desse tipo de sistema."
   ]
  },
  {
   "cell_type": "code",
   "execution_count": 6,
   "metadata": {},
   "outputs": [
    {
     "data": {
      "image/png": "[encoded data removed]",
      "text/latex": [
       "$$\\left ( 3.4706577248044627e-29, \\quad 1.05457163461797 \\cdot 10^{-19}\\right )$$"
      ],
      "text/plain": [
       "(3.4706577248044627e-29, 1.05457163461797e-19)"
      ]
     },
     "execution_count": 6,
     "metadata": {},
     "output_type": "execute_result"
    }
   ],
   "source": [
    "((hb**2)/(2*(10**-9)*(10**-12)))/e, sqrt(2*((hb**2)/(2*(10**-9)*(10**-12)))/(10**-9))"
   ]
  },
  {
   "cell_type": "code",
   "execution_count": 7,
   "metadata": {},
   "outputs": [
    {
     "data": {
      "image/png": "[encoded data removed]",
      "text/latex": [
       "$$\\left ( 20749804.392758835, \\quad 63049015.1191953\\right )$$"
      ],
      "text/plain": [
       "(20749804.392758835, 63049015.1191953)"
      ]
     },
     "execution_count": 7,
     "metadata": {},
     "output_type": "execute_result"
    }
   ],
   "source": [
    "((hb**2)/(2*mp*(10**-30)))/e, sqrt((2*((hb**2)/(2*mp*(10**-30))))/mp)"
   ]
  },
  {
   "cell_type": "code",
   "execution_count": 8,
   "metadata": {},
   "outputs": [
    {
     "data": {
      "image/png": "[encoded data removed]",
      "text/latex": [
       "$$\\left ( 38099815385.98846, \\quad 115767637652.913\\right )$$"
      ],
      "text/plain": [
       "(38099815385.98846, 115767637652.913)"
      ]
     },
     "execution_count": 8,
     "metadata": {},
     "output_type": "execute_result"
    }
   ],
   "source": [
    "((hb**2)/(2*me*(10**-30)))/e, sqrt((2*((hb**2)/(2*me*(10**-30))))/me)"
   ]
  },
  {
   "cell_type": "markdown",
   "metadata": {},
   "source": [
    "### Tamanho do átomo de Hidrogênio\n",
    "Considere que a indeterminação da posição do elétron é $\\sigma_{X}=r$, com $r$ sendo o raio da órbita de Bohr. Temos então que \n",
    "\\begin{equation}\n",
    "\\sigma_{X}\\sigma_{P}\\approx \\hbar \\Rightarrow\\sigma_{P}\\approx \\frac{\\hbar}{\\sigma_{X}} = \\frac{\\hbar}{r}.\n",
    "\\end{equation}\n",
    "Considerando $\\langle P\\rangle = 0$, e trocando o quadrado do momento linear pelo quadrado de sua média (do seu desvio padrão nesse caso) na equação para a energia do átomo, obteremos:\n",
    "\\begin{equation}\n",
    "E=\\frac{P^{2}}{2m_{e}}-\\frac{ke^{2}}{r} = \\frac{\\hbar^{2}}{2m_{e}r^{2}}-\\frac{ke^{2}}{r}.\n",
    "\\end{equation}\n",
    "Para calcular o raio da órbita que corresponde ao estado estacionário de energia mínima, fazemos\n",
    "\\begin{equation}\n",
    "\\partial_{r}E = -2\\frac{\\hbar^{2}}{2m_{e}r^{3}}+\\frac{ke^{2}}{r^{2}}=0\\Rightarrow r_{\\min}= \\frac{\\hbar^{2}}{m_{e}ke^{2}} \\approx 0,5\\overset{\\circ}{A}.\n",
    "\\end{equation}\n",
    "A energia mínima seria\n",
    "\\begin{equation}\n",
    "E_{\\min} = \\frac{\\hbar^{2}}{2m_{e}r_{\\min}^{2}}-\\frac{ke^{2}}{r_{\\min}} = -\\frac{m_{e}k^{2}e^{4}}{2\\hbar^{2}}\\approx -13,6\\text{ eV}.\n",
    "\\end{equation}"
   ]
  },
  {
   "cell_type": "code",
   "execution_count": 9,
   "metadata": {},
   "outputs": [
    {
     "data": {
      "image/png": "[encoded data removed]",
      "text/latex": [
       "$$\\left ( 5.2917713530972064e-11, \\quad -13.605694947717485\\right )$$"
      ],
      "text/plain": [
       "(5.2917713530972064e-11, -13.605694947717485)"
      ]
     },
     "execution_count": 9,
     "metadata": {},
     "output_type": "execute_result"
    }
   ],
   "source": [
    "rmin=(hb**2)/(me*k*e**2); Emin=(-(me*k**2*e**4)/(2*hb**2))/e; rmin, Emin"
   ]
  },
  {
   "cell_type": "markdown",
   "metadata": {},
   "source": [
    "### Largura de linhas espectrais\n",
    "Nos espectros de linhas, as linhas na verdade possuem uma largura finita. Como veremos a seguir, o PIH ajuda a explicar esse fato, embora existem outros efeitos, tais como o efeito Doppler, que podem ser importantes para determinar a largura dessas linhas.\n",
    "\n",
    "Quantons em estados excitados decaem para estados de menor energia, de forma estocástica. O tempo médio que um quanton em um certo estado demora para decair é chamado de tempo de vida, $\\tau$, daquele estado. Para elétrons em átomos $\\tau\\approx 10^{-8}\\text{ s}$. Pelo PIH, a indeterminação da energia daquele estado é\n",
    "\\begin{equation}\n",
    "\\sigma_{E}\\ge \\frac{\\hbar}{\\sigma_{t}} = \\frac{\\hbar}{\\tau} \\approx 6,6\\mathrm{x}10^{-8}\\text{ eV}.\n",
    "\\end{equation}\n",
    "Como para o estado fundamental $\\tau=\\infty$, se consideramos transições de um certo estado para o estado fundamental, os fótons emitidos nesses decaimentos terão uma indeterminação associada ao seu comprimento de onda:\n",
    "\\begin{align}\n",
    "& E-E_{0}=h\\nu = \\frac{hc}{\\lambda} \\therefore dE = -\\frac{hcd\\lambda}{\\lambda^{2}} = -\\frac{hc}{\\lambda}\\frac{d\\lambda}{\\lambda}, \\\\\n",
    "& \\therefore \\frac{d\\lambda}{\\lambda}=\\frac{dE}{E-E_{0}} \\therefore \\sigma_{\\lambda}=\\frac{\\sigma_{E}}{E-E_{0}}\\lambda,\n",
    "\\end{align}\n",
    "que é a chamada __largura natural de linha__."
   ]
  },
  {
   "cell_type": "code",
   "execution_count": 10,
   "metadata": {},
   "outputs": [
    {
     "data": {
      "image/png": "[encoded data removed]",
      "text/latex": [
       "$$6.582118484652283e-08$$"
      ],
      "text/plain": [
       "6.582118484652283e-08"
      ]
     },
     "execution_count": 10,
     "metadata": {},
     "output_type": "execute_result"
    }
   ],
   "source": [
    "hbeV/(10**-8)"
   ]
  },
  {
   "cell_type": "markdown",
   "metadata": {},
   "source": [
    "# Princípio de complementaridade de Bohr\n",
    "Consideremos novamente o experimento de dupla fenda de Young, feito com elétrons. Veja a figura abaixo (veja também (https://www.feynmanlectures.caltech.edu/) e (https://www.microsoft.com/en-us/research/project/tuva-richard-feynman)).\n",
    "\n",
    "<img src='fig_06_double_slit.png' width='500'>"
   ]
  },
  {
   "cell_type": "markdown",
   "metadata": {},
   "source": [
    "Nesta figura, quando a fonte de luz não está presente, aparece o padrão de interferência mostrado na curva em rosa, cuja explicação assume que o elétron se comporta como uma onda passando ao mesmo tempo pelas duas fendas. \n",
    "\n",
    "No entanto, como _nunca é detectada uma fração da energia do elétron_, ou seja, na detecção o elétron se comporta como partícula, pode-se esperar que este passe definitivamente por uma ou pela outra fenda. No entanto, como ilustrado na curva em laranja à direita, se colocarmos uma fonte de luz com intensidade baixa entre fendas (se o elétron passar por aí, vai espalhar luz e o perceberemos através de uma mudança de intensidade na luz que chaga nos detectores de luz), o padrão de interferência desaparece. Ou seja, se obtemos informação sobre o caminho pelo qual elétron passou, ele se comporta como uma partícula, passando por somente uma das fendas. \n",
    "\n",
    "Esses experimentos indicam que não é possível ver os comportamentos classicamente excludentes, onda versus partícula, ao mesmo tempo (com o mesmo aparato experimental). Essa é uma manifestação do _princípio de complementaridade de Bohr_: <br>\n",
    "__É impossível observar a manifestação dos aspectos ondulatório e corpuscular de um quanton usando um único arranjo experimental.__\n",
    "\n",
    "OBS. O formalismo das relações de incerteza é visto em Mecânica Quântica II (https://github.com/jonasmaziero/mecanica_quantica/blob/master/05_uncertainty.ipynb). Pesquisas recentes tem feito avanços para unificar os princípios de complementaridade de Bohr e o princípio de indeterminação de Heisenberg (veja e.g. (https://arxiv.org/abs/1403.4687) e (https://arxiv.org/abs/1809.06354)), que são a primeira vista aparentemente distintos."
   ]
  },
  {
   "cell_type": "markdown",
   "metadata": {},
   "source": [
    "---\n",
    "# Exercícios\n",
    "\n",
    "1. Verifique que se duas funções $f_{1}(x,t)$ e $f_{2}(x,t)$ são soluções da equação de onda $v^{2}\\partial_{xx}f=\\partial_{tt}f$, então qualquer combinação linear $f=c_{1}f_{1}+c_{2}f_{2}$ também é solução, para $c_{1},c_{2}\\in\\mathbb{C}$.\n",
    "\n",
    "1. Verifique que $\\sin\\alpha+\\sin\\beta=2\\cos((\\alpha-\\beta)/2)\\sin((\\alpha+\\beta)/2)$.\n",
    "\n",
    "1. O pacote de ondas Gaussiano unidimensional, centrado em $x=0$, é associado com a função de onda (em $t=0$): \n",
    "\\begin{equation}\n",
    "\\psi(x)=Ae^{-x^{2}/4\\sigma^{2}},\n",
    "\\end{equation}\n",
    "com $\\sigma\\in\\mathbb{R}$. Segundo a interpretação de Born da função de onda, se somarmos a probabilidade de todas as posições possíveis do quanton, temos que ter $\\int_{-\\infty}^{+\\infty}|\\psi(x)|^{2}dx=1$. Use essa condição de normalização para obter a constante de normalização $A$. Calcule também o valor médio e desvio padrão de $X$. <br>\n",
    "OBS. Você pode estudar um pouco sobre probabilidades, estatística e integrais Gaussianas em [https://github.com/jonasmaziero/mecanica_quantica/blob/master/00_probabilities.ipynb].\n",
    "\n",
    "1. Vimos que a velocidade de fase de uma onda harmônica é $v_{f}=\\omega/k$ e que a velocidade de grupo de uma combinação linear de ondas harmônicas, um pacote de ondas, é $v_{g}=d\\omega/dk$. Usando essas relações, mostre que \\begin{equation}\n",
    "v_{g}=v_{f}+k\\frac{dv_{f}}{dk}=v_{f}-\\lambda\\frac{dv_{f}}{d\\lambda}.\n",
    "\\end{equation}\n",
    "\n",
    "1. No interior do núcleo atômico os prótons e nêutrons estão confinados em uma região de aproximadamente $10^{-15}\\text{ m}$ de diâmetro. Quais são a velocidade mínima e a energia cinética mínima desses quantons nessas condições? Qual seriam a velocidade e energia cinética mínimas de um elétron nessas condições?\n",
    "\n",
    "1. Usando LASERs, pode-se produzir pulsos de luz com duração da ordem de fentosegundos ($10^{-15}\\text{ s}$). Tais pulsos são tão curtos que não é possível associar uma cor específica a eles. Para verificar tal afirmação, calcule a duração de um pulso de laser cujo intervalo de frequência cobre tada a faixa visível ($4-7,5\\mathrm{x}10^{14}\\text{ Hz}$).\n",
    "\n",
    "1. Um estado excitado de um certo núcleo tem uma meia-vida de $0,85\\text{ ns}$. Considerando que esse tempo é a indeterminação do tempo de emissão de um fóton, calcule a indeterminação de sua frequência. Calcule também $\\sigma_{\\nu}/\\nu$ para $\\lambda=0,01\\text{ nm}$."
   ]
  },
  {
   "cell_type": "code",
   "execution_count": null,
   "metadata": {},
   "outputs": [],
   "source": []
  }
 ],
 "metadata": {
  "kernelspec": {
   "display_name": "Python 3",
   "language": "python",
   "name": "python3"
  },
  "language_info": {
   "codemirror_mode": {
    "name": "ipython",
    "version": 3
   },
   "file_extension": ".py",
   "mimetype": "text/x-python",
   "name": "python",
   "nbconvert_exporter": "python",
   "pygments_lexer": "ipython3",
   "version": "3.6.6"
  }
 },
 "nbformat": 4,
 "nbformat_minor": 2
}
