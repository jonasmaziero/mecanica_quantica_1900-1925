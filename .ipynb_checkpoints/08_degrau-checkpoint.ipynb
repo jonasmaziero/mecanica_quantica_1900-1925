{
 "cells": [
  {
   "cell_type": "markdown",
   "metadata": {},
   "source": [
    "## Notas de aula de Mecânica Quântica <br> Autor: Jonas Maziero\n",
    "\n",
    "Link para o vídeo da aula sobre esse tópico: https://youtu.be/SIN6MA87fPY."
   ]
  },
  {
   "cell_type": "code",
   "execution_count": 1,
   "metadata": {},
   "outputs": [],
   "source": [
    "%run init.ipynb"
   ]
  },
  {
   "cell_type": "markdown",
   "metadata": {},
   "source": [
    "# Degrau de potencial\n",
    "Por simplicidade, e sem perda de generalidade, para o degrau de potencial, podemos escrever a função energia potencial como:\n",
    "\\begin{cases}\n",
    "U(x<0)=0, \\\\\n",
    "U(x>0)=U_{0}=\\text{constante}.\n",
    "\\end{cases}\n",
    "Como esse potencial é independente do tempo, usaremos a equação de Schrödinger independente do tempo,\n",
    "\\begin{equation}\n",
    "-\\frac{\\hbar^{2}}{2m}\\nabla_{\\vec{r}}\\psi(x,y,z)+U(x)\\psi(x,y,z)=E\\psi(x,y,z),\n",
    "\\end{equation}\n",
    "e como estamos considerando uma aproximação na qual o quanton está restrito a se mover somente na direção x, aplicaremos a eq. de Schrödinger unidimensional (EqS1D):\n",
    "\\begin{equation}\n",
    "-\\frac{\\hbar^{2}}{2m}\\partial_{xx}\\Xi(x)+U(x)\\Xi(x)=E\\Xi(x).\n",
    "\\end{equation}\n",
    "\n",
    "À _esquerda da origem_, $U(x<0)=0$ e\n",
    "\\begin{align}\n",
    "& -\\frac{\\hbar^{2}}{2m}\\partial_{xx}\\Xi_{e}(x)+0=E\\Xi_{e}(x) \\therefore \\partial_{xx}\\Xi_{e}(x) = -\\frac{2mE}{\\hbar^{2}}\\Xi_{e}(x) \\\\ \n",
    "&\\therefore \\partial_{xx}\\Xi_{e}(x) +k_{e}^{2}\\Xi_{e}(x)=0,\n",
    "\\end{align}\n",
    "com\n",
    "\\begin{equation}\n",
    "k_{e}:=\\frac{\\sqrt{2mE}}{\\hbar}.\n",
    "\\end{equation}\n",
    "Vimos que as funções \n",
    "\\begin{equation}\n",
    "e^{i(k_{e}x-\\omega t)}=e^{ik_{e}x}e^{-i\\omega t} \\text{ e } e^{i(-k_{e}x-\\omega t)}=e^{-ik_{e}x}e^{-i\\omega t}\n",
    "\\end{equation}\n",
    "satisfazem a eq. de Schrödinger acima e que descrevem quantons livres se movimentando para a direita e para esquerda, respectivamente, com velocidade $\\omega/k_{e}$. Assim, podemos escrever a forma geral da função de onda como uma combinação linear das ondas harmônicas acima:\n",
    "\\begin{equation}\n",
    "\\Xi_{e}(x<0) = c_{ed}e^{ik_{e}x}+c_{ee}e^{-ik_{e}x},\n",
    "\\end{equation}\n",
    "com $c_{ed},c_{ee}\\in\\mathbb{C}$ constantes. Note que este é o perfil espacial da função de onda, a dependência temporal é dada por $e^{-i\\omega t}$.\n",
    "\n",
    "OBS. Abaixo está um exemplo do uso do IPython para resolução de eqs. diferenciais."
   ]
  },
  {
   "cell_type": "code",
   "execution_count": 2,
   "metadata": {},
   "outputs": [
    {
     "data": {
      "image/png": "[encoded data removed]",
      "text/latex": [
       "$$\\Xi{\\left (x \\right )} = C_{1} e^{- i k x} + C_{2} e^{i k x}$$"
      ],
      "text/plain": [
       "           -ⅈ⋅k⋅x       ⅈ⋅k⋅x\n",
       "Ξ(x) = C₁⋅ℯ       + C₂⋅ℯ     "
      ]
     },
     "execution_count": 2,
     "metadata": {},
     "output_type": "execute_result"
    }
   ],
   "source": [
    "k, x = symbols('k x', Real=True); Xi = Function('Xi'); dsolve(Derivative(Xi(x),x,x) + k**2*Xi(x), Xi(x))"
   ]
  },
  {
   "cell_type": "markdown",
   "metadata": {},
   "source": [
    "À _direita da origem_, $U(x>0)=U_{0}$ e\n",
    "\\begin{align}\n",
    "&-\\frac{\\hbar^{2}}{2m}\\partial_{xx}\\Xi_{d}(x)+U_{0}\\Xi_{d}(x)=E\\Xi_{d}(x)\\therefore \\partial_{xx}\\Xi_{d}(x) + \\frac{2m(E-U_{0})}{\\hbar^{2}}\\Xi_{d}(x)=0 \\\\\n",
    "& \\therefore \\partial_{xx}\\Xi_{d}(x) + k_{d}^{2}\\Xi_{d}(x)=0,\n",
    "\\end{align}\n",
    "com\n",
    "\\begin{equation}\n",
    "k_{d} = \\frac{\\sqrt{2m(E-U_{0})}}{\\hbar}.\n",
    "\\end{equation}\n",
    "Essa eq. diferencial tem a mesma forma da eq. diferencial para $x<0$, e assim\n",
    "\\begin{equation}\n",
    "\\Xi_{d}(x>0) = c_{dd}e^{ik_{d}x}+c_{de}e^{-ik_{d}x}.\n",
    "\\end{equation}"
   ]
  },
  {
   "cell_type": "code",
   "execution_count": 12,
   "metadata": {},
   "outputs": [
    {
     "data": {
      "image/png": "[encoded data removed]",
      "text/latex": [
       "$$k_{e} \\sqrt{1 - \\frac{U_{0}}{E}}$$"
      ],
      "text/plain": [
       "          ________\n",
       "         ╱     U₀ \n",
       "k_{e}⋅  ╱  1 - ── \n",
       "      ╲╱       E  "
      ]
     },
     "execution_count": 12,
     "metadata": {},
     "output_type": "execute_result"
    }
   ],
   "source": [
    "def kd(E,U0,ke):\n",
    "    return sqrt(1-U0/E)*ke\n",
    "U0, E = symbols('U_0 E', Real=True); kd(E,U0,ke)"
   ]
  },
  {
   "cell_type": "markdown",
   "metadata": {},
   "source": [
    "Seguindo, vamos considerar o quanton movendo-se inicialmente da esquerda para a direita e vamos separar a análise em dois casos: $E>U_{0}$ e $E<U_{0}$:\n",
    "## $E>U_{0}$:\n",
    "Nesse caso, como $c_{de}e^{i(-k_{d}x-\\omega t)}$ representa o quanton movendo-se para a esquerda, e não há motivo para que isso ocorra (depois que passou por $x=0$ não há força nenhuma que possa mudar o movimento), impomos\n",
    "\\begin{equation}\n",
    "c_{de} := 0.\n",
    "\\end{equation}\n",
    "Seguindo, usamos a continuidade da função de onda\n",
    "\\begin{equation}\n",
    "\\Xi_{e}(0)=\\Xi_{d}(0) \\therefore c_{ed}+c_{ee}=c_{dd}\n",
    "\\end{equation}\n",
    "e da derivada primeira da função de onda\n",
    "\\begin{align}\n",
    "& \\partial_{x}\\Xi_{e} = ik_{e}\\left(c_{ed}e^{ik_{e}x}-c_{ee}e^{-ik_{e}x}\\right) \\text{, } \\partial_{x}\\Xi_{d} = ik_{d}c_{dd}e^{-ik_{d}x}, \\\\\n",
    "& \\partial_{x}\\Xi_{e}(x=0) = \\partial_{x}\\Xi_{d}(x=0) \\therefore ik_{e}(c_{ed}-c_{ee})=ik_{d}c_{dd}.\n",
    "\\end{align}\n",
    "\n",
    "OBS. Abaixo está um exemplo do uso do IPython para resolução de sistemas de eqs. lineares."
   ]
  },
  {
   "cell_type": "code",
   "execution_count": null,
   "metadata": {},
   "outputs": [],
   "source": [
    "ced, cee, ke, cdd, kd = symbols('c_{ed} c_{ee} k_{e} c_{dd} k_{d}', Real=True)\n",
    "solve([ced + cee - cdd, ke*(ced-cee)-kd*cdd], [cee, cdd])"
   ]
  },
  {
   "cell_type": "code",
   "execution_count": null,
   "metadata": {},
   "outputs": [],
   "source": [
    "def cdd(E,U0,ke,ced):\n",
    "    return ((2*ke)/(ke+kd(E,U0,ke)))*ced\n",
    "def cee(E,U0,ke,ced):\n",
    "    return ((ke-kd(E,U0,ke))/(ke+kd(E,U0,ke)))*ced\n",
    "def Xie(E,U0,ke,ced,x):\n",
    "    return ced*(cos(ke*x)+1j*sin(ke*x))+cee(E,U0,ke,ced)*(cos(ke*x)-1j*sin(ke*x))\n",
    "def Xid(E,U0,ke,ced,x):\n",
    "    return cdd(E,U0,ke,ced)*(cos(kd(E,U0,ke)*x)+1j*sin(kd(E,U0,ke)*x))\n",
    "#cdd(E,U0,ke,ced), cee(E,U0,ke,ced), Xie(E,U0,ke,ced,x), Xid(E,U0,ke,ced,x)\n",
    "#Xid(E,U0,ke,ced,x).as_real_imag()"
   ]
  },
  {
   "cell_type": "markdown",
   "metadata": {},
   "source": [
    "Lembrando, $|\\Xi(x)|^{2}dx$ é a probabilidade de, em uma medida da posição do quanton, encontrá-lo no intervalo infinitesimal $dx$ em torno da posição $x$. Se um feixe de comprimento $L$ com um total de\n",
    "\\begin{equation}\n",
    "N=\\int_{0}^{L}|\\Xi(x)|^{2}dx\n",
    "\\end{equation}\n",
    "quantons dirige-se em direção ao degrau de potencial com velocidade $dx/dt=\\omega/k_{e}$, a densidade de probabilidade\n",
    "\\begin{equation}\n",
    "dN = \\frac{|\\Xi(x)|^{2}dx}{dx} = |\\Xi(x)|^{2}\n",
    "\\end{equation}\n",
    "é igual à densidade de quantons, ou ao número de quantons por unidade de tempo, incidindo no degrau de potencial. Como inicialmente $c_{ed}e^{i(k_{e}x-\\omega t)}$ é a função de onda que representa o quanton movendo-se para a direita, \n",
    "\\begin{equation}\n",
    "|c_{ed}|^{2}=dN.\n",
    "\\end{equation}\n",
    "Por isso, vamos escrever os outros coeficientes em termos de $c_{ed}$:\n",
    "\\begin{equation}\n",
    "c_{dd} = \\frac{2k_{e}}{k_{e}+k_{d}}c_{ed} \\text{ e } c_{ee} = \\frac{k_{e}-k_{d}}{k_{e}+k_{d}}c_{ed}.\n",
    "\\end{equation}"
   ]
  },
  {
   "cell_type": "markdown",
   "metadata": {},
   "source": [
    "O _coeficiente de reflexão_ é definido como a razão entre a taxa de quantons refletidos no degrau de potencial, $|c_{ee}|^{2}$, e a taxa de quantons incidindo no degrau de potencial, $|c_{ed}|^{2}$:\n",
    "\\begin{equation}\n",
    "R := \\frac{|c_{ee}|^{2}}{|c_{ed}|^{2}} = \\frac{(k_{e}-k_{d})^{2}}{(k_{e}+k_{d})^{2}} = \\frac{\\left(\\sqrt{E}-\\sqrt{E-U_{0}}\\right)^{2}}{\\left(\\sqrt{E}+\\sqrt{E-U_{0}}\\right)^{2}} = \\frac{\\left(\\sqrt{\\frac{E}{U_{0}}}-\\sqrt{\\frac{E}{U_{0}}-1}\\right)^{2}}{\\left(\\sqrt{\\frac{E}{U_{0}}}+\\sqrt{\\frac{E}{U_{0}}-1}\\right)^{2}}.\n",
    "\\end{equation}\n",
    "OBS. Começamos pelo coeficiente de relflexão pois os quantons dos feixes incidente e refletido possuem a mesma velocidade.\n",
    "\n",
    "O _coefiente de transmissão_, que é a razão entre a taxa de quantons transmitidos através do degrau de potencial e a taxa de quantons incidindo no degrau de potencial, pode ser obtido assumindo que o número de quantons é conservado:\n",
    "\\begin{align}\n",
    "& R+T:=1, \\\\\n",
    "T & = 1-R = 1-\\frac{(k_{e}-k_{d})^{2}}{(k_{e}+k_{d})^{2}} = \\frac{4k_{e}k_{d}}{(k_{e}+k_{d})^{2}} \\left(\\equiv \\frac{k_{e}}{k_{d}}\\frac{|c_{dd}|^{2}}{|c_{ed}|^{2}} \\equiv \\frac{\\omega/k_{d}}{\\omega/k_{e}}\\frac{|c_{dd}|^{2}}{|c_{ed}|^{2}} \\ne \\frac{|c_{dd}|^{2}}{|c_{ed}|^{2}}\\right) \\\\\n",
    "&  = \\frac{4\\sqrt{E(E-U_{0})}}{(\\sqrt{E}+\\sqrt{E-U_{0}})^{2}} = \\frac{4\\sqrt{\\frac{E}{U_{0}}\\left(\\frac{E}{U_{0}}-1\\right)}}{\\left(\\sqrt{\\frac{E}{U_{0}}}+\\sqrt{\\frac{E}{U_{0}}-1}\\right)^{2}}.\n",
    "\\end{align}\n",
    "\n",
    "OBS. Em contraste com o caso clássico, para $E>U_{0}$ temos $R>0\\therefore T<1$. Ou seja, mesmo tendo energia maior que a barreira de potencial, parte dos quantons é refletida e acaba movimentando-se para a esquerda da barreira de potencial.\n",
    "\n",
    "Abaixo estão mostrados graficamente $R$ e $T$. Vemos que a probabilidade de uma partícula ser refletida diminui rapidamente com o aumento da energia (na sequência verificamos que $R=T$ para $E\\approx 1.03U_{0}$)."
   ]
  },
  {
   "cell_type": "code",
   "execution_count": 4,
   "metadata": {},
   "outputs": [
    {
     "data": {
      "image/png": "[encoded data removed]",
      "text/plain": [
       "<matplotlib.figure.Figure at 0x7fc804e6b8d0>"
      ]
     },
     "metadata": {},
     "output_type": "display_data"
    }
   ],
   "source": [
    "fig = plt.figure(figsize=(7,5)); x = np.arange(1,2.5,0.01)\n",
    "R = ((np.sqrt(x)-np.sqrt(x-1))**2)/((np.sqrt(x)+np.sqrt(x-1))**2); T = 1-R\n",
    "plt.plot(x,R); plt.plot(x,T); plt.xlim(0.95,2.5); plt.ylim(0,1); plt.xlabel(r'$E/U_{0}$')\n",
    "plt.legend((r'$R$',r'$T$'),loc=(1.01,0.2))\n",
    "plt.show()"
   ]
  },
  {
   "cell_type": "markdown",
   "metadata": {},
   "source": [
    "Vamos obter a relação entre $E$ e $U_{0}$ que nos fornece $R=T$:\n",
    "\\begin{align}\n",
    "& R=T \\therefore 4\\sqrt{E(E-U_{0})}=\\left(\\sqrt{E}-\\sqrt{E-U_{0}}\\right)^{2} = E - 2\\sqrt{E}\\sqrt{E-U_{0}}+E-U_{0} \\\\\n",
    "& \\therefore 6\\sqrt{E(E-U_{0})}=2E-U_{0} \\therefore 36E(E-U_{0})=4E^{2}-4U_{0}E+U_{0}^{2} \\\\\n",
    "& \\therefore 36E^{2}-4E^{2}-36U_{0}E+4U_{0}E-U_{0}^{2}=0 \\therefore 32E^{2}-32U_{0}E-U_{0}^{2}=0 \\\\\n",
    "& \\therefore E = \\frac{32U_{0}\\pm\\sqrt{32^{2}U_{0}^{2}-(4)(32)(-U_{0}^{2})}}{(2)(32)} = U_{0}\\left(\\frac{1}{2}\\pm\\frac{\\sqrt{(36)(32)}}{(2)(32)}\\right) \\\\\n",
    "& E = U_{0}\\left(\\frac{1}{2}\\pm\\frac{3\\sqrt{2}}{8}\\right) \\approx 1,03U_{0}.\n",
    "\\end{align}\n",
    "Acima, como $E>U_{0}$, escolhemos a raíz positiva."
   ]
  },
  {
   "cell_type": "code",
   "execution_count": 5,
   "metadata": {},
   "outputs": [
    {
     "data": {
      "image/png": "[encoded data removed]",
      "text/latex": [
       "$$\\left ( \\left [ \\frac{1}{2} + \\frac{3 \\sqrt{2}}{8}\\right ], \\quad 1.0303300858899107\\right )$$"
      ],
      "text/plain": [
       "⎛⎡1   3⋅√2⎤                    ⎞\n",
       "⎜⎢─ + ────⎥, 1.0303300858899107⎟\n",
       "⎝⎣2    8  ⎦                    ⎠"
      ]
     },
     "execution_count": 5,
     "metadata": {},
     "output_type": "execute_result"
    }
   ],
   "source": [
    "x = symbols('x'); solve(2*x-6*sqrt(x*(x-1))-1,x), (1/2)+(3*math.sqrt(2))/8"
   ]
  },
  {
   "cell_type": "markdown",
   "metadata": {},
   "source": [
    "OBS. Como estamos fazendo uma descrição aproximada do quanton usando ondas harmônicas, o comprimento de onda de de Broglie:\n",
    "\\begin{align}\n",
    "& \\lambda_{e}=\\frac{h}{p_{e}}=\\frac{h}{\\hbar k_{e}} = \\frac{2\\pi}{\\sqrt{2mE}}\\text{, } \\lambda_{d}=\\frac{h}{p_{d}}=\\frac{h}{\\hbar k_{d}} = \\frac{2\\pi}{\\sqrt{2m(E-U_{0})}}, \\\\\n",
    "& \\frac{\\lambda_{d}}{\\lambda_{e}} = \\sqrt{\\frac{E}{E-U_{0}}} = \\sqrt{\\frac{E/U_{0}}{E/U_{0}-1}} >1.\n",
    "\\end{align}\n",
    "Veja a figura abaixo. Para fazer essa figura assumimos que $c_{ed}\\in\\mathbb{R}\\therefore c_{ee},c_{dd}\\in\\mathbb{R}$. Assim, usando que para quaisquer dois números complexos $z,w\\in\\mathbb{C}$ temos que\n",
    "\\begin{cases}\n",
    "\\Re(z+w)=\\Re(z)+\\Re(w),\\\\\n",
    "\\Re(zw)=\\Re(z)\\Re(w)-\\Im(z)\\Im(w),\\\\\n",
    "\\Re(e^{\\pm i\\theta}) = \\Re(\\cos(\\theta)\\pm i\\sin(\\theta))=\\cos(\\theta),\\\\\n",
    "\\Im(e^{\\pm i\\theta}) = \\pm\\sin(\\theta),\n",
    "\\end{cases}\n",
    "obteremos\n",
    "\\begin{cases}\n",
    "\\Re\\left(\\Xi_{e}(x<0)\\right) = c_{ed}\\Re\\left(e^{ik_{e}x}\\right)+c_{ee}\\Re\\left(e^{-ik_{e}x}\\right) = (c_{ed}+c_{ee})\\cos(k_{e}x), \\\\\n",
    "\\Re\\left(\\Xi_{d}(x>0)\\right) = c_{dd}\\Re\\left(e^{ik_{d}x}\\right) = c_{dd}\\cos(k_{d}x).\n",
    "\\end{cases}"
   ]
  },
  {
   "cell_type": "code",
   "execution_count": 6,
   "metadata": {},
   "outputs": [
    {
     "data": {
      "application/vnd.jupyter.widget-view+json": {
       "model_id": "19486c8a98b648029c627b51d0d32912",
       "version_major": 2,
       "version_minor": 0
      },
      "text/plain": [
       "interactive(children=(FloatSlider(value=1.4009999999999998, description='E', max=2.0, min=1.001), Output()), _…"
      ]
     },
     "metadata": {},
     "output_type": "display_data"
    }
   ],
   "source": [
    "def E_gt_U0(E):\n",
    "    fig = plt.figure(figsize=(13,5)); U0 = 1; ke = 1.0; ced = 1.0\n",
    "    kd = math.sqrt(1-U0/E)*ke; cee = ((ke-kd)/(ke+kd))*ced; cdd = ((2*ke)/(ke+kd))*ced\n",
    "    N = 500; xmin = -10*math.pi; xmax = -xmin; dx = (xmax-xmin)/N; x = np.zeros(N); y = np.zeros(N)\n",
    "    for j in range(0,N):\n",
    "        x[j] = xmin + j*dx\n",
    "        if x[j] < 0:\n",
    "            y[j] = (ced+cee)*math.cos(ke*x[j])\n",
    "        else:\n",
    "            y[j] = cdd*math.cos(kd*x[j])\n",
    "    plt.annotate(r'$E/U_{0}=$'+str(E)[:5], xy=(xmax-8,1.8), xytext=(xmax-8,1.8), fontsize=12)\n",
    "    plt.plot(x,y); plt.xlabel('x',fontsize=10); plt.ylabel(r'$\\Re(\\Xi)$',fontsize=15)\n",
    "    plt.xlim(xmin,xmax); plt.ylim(-2*ced,2*ced); plt.show()\n",
    "interactive(E_gt_U0, E=(1+10**-3,2,0.1))"
   ]
  },
  {
   "cell_type": "code",
   "execution_count": 7,
   "metadata": {},
   "outputs": [
    {
     "data": {
      "application/vnd.jupyter.widget-view+json": {
       "model_id": "3360d9d64462470d9b0772e4d08a959c",
       "version_major": 2,
       "version_minor": 0
      },
      "text/plain": [
       "interactive(children=(FloatSlider(value=1.4009999999999998, description='E', max=2.0, min=1.001), Output()), _…"
      ]
     },
     "metadata": {},
     "output_type": "display_data"
    }
   ],
   "source": [
    "def dp_E_gt_U0(E):\n",
    "    fig = plt.figure(figsize=(13,5)); U0 = 1; ke = 1.0; ced = 1.0\n",
    "    kd = math.sqrt(1-U0/E)*ke; cee = ((ke-kd)/(ke+kd))*ced; cdd = ((2*ke)/(ke+kd))*ced\n",
    "    N = 500; xmin = -10*math.pi; xmax = -xmin; dx = (xmax-xmin)/N; x = np.zeros(N); y = np.zeros(N)\n",
    "    for j in range(0,N):\n",
    "        x[j] = xmin + j*dx\n",
    "        if x[j] < 0:\n",
    "            y[j] = (ced+cee)*math.cos(ke*x[j])\n",
    "        else:\n",
    "            y[j] = cdd*math.cos(kd*x[j])\n",
    "    plt.annotate(r'$E/U_{0}=$'+str(E)[:5], xy=(xmax-8,1.8), xytext=(xmax-8,1.8), fontsize=12)\n",
    "    plt.plot(x,y); plt.xlabel('x',fontsize=10); plt.ylabel(r'$\\Re(\\Xi)$',fontsize=15)\n",
    "    plt.xlim(xmin,xmax); plt.ylim(-2*ced,2*ced); plt.show()\n",
    "interactive(E_gt_U0, E=(1+10**-3,2,0.1))"
   ]
  },
  {
   "cell_type": "markdown",
   "metadata": {},
   "source": [
    "## $E<U_{0}$:\n",
    "Nesse caso temos $k_{d}=i\\tilde{k}_{d}$ com\n",
    "\\begin{equation}\n",
    "\\tilde{k}_{d}=\\sqrt{2m(U_{0}-E)}/\\hbar.\n",
    "\\end{equation}\n",
    "Assim\n",
    "\\begin{align}\n",
    "\\tilde{\\Xi}_{d}(x>0) & = \\tilde{c}_{dd}e^{ii\\tilde{k}_{d}x}+\\tilde{c}_{de}e^{-ii\\tilde{k}_{d}x} = \\tilde{c}_{dd}e^{-\\tilde{k}_{d}x}+\\tilde{c}_{de}e^{\\tilde{k}_{d}x} \\\\ \n",
    "& := \\tilde{c}_{dd}e^{-\\tilde{k}_{d}x},\n",
    "\\end{align}\n",
    "em que fizemos\n",
    "\\begin{equation}\n",
    "\\tilde{c}_{de}:=0\n",
    "\\end{equation}\n",
    "pois caso contrário a função de onda iria para infinito quando $x\\rightarrow\\infty$. Também teremos que\n",
    "\\begin{equation}\n",
    "\\tilde{\\Xi}_{e}(x<0)=\\tilde{c}_{ed}e^{ik_{e}x}+\\tilde{c}_{ee}e^{-ik_{e}x}.\n",
    "\\end{equation}\n",
    "\n",
    "Para obter os coeficientes, em termos de $\\tilde{c}_{ed}\\equiv c_{ed}$, vamos impor novamente a continuidade da função de onda e de sua derivada primeira:\n",
    "\\begin{align}\n",
    "& \\tilde{\\Xi}_{e}(x=0) = \\tilde{\\Xi}_{d}(x=0) \\therefore \\tilde{c}_{ed}+\\tilde{c}_{ee}=\\tilde{c}_{dd}, \\\\\n",
    "& \\partial_{x}\\tilde{\\Xi}_{e}(x=0) = \\partial_{x}\\tilde{\\Xi}_{d}(x=0) \\therefore ik_{e}\\left(\\tilde{c}_{ed}-\\tilde{c}_{ee}\\right) = -\\tilde{k}_{d}\\tilde{c}_{dd}.\n",
    "\\end{align}\n",
    "Como mostrado abaixo,\n",
    "\\begin{equation}\n",
    "\\tilde{c}_{ee}=\\frac{ik_{e}+\\tilde{k}_{d}}{ik_{e}-\\tilde{k}_{d}}\\tilde{c}_{ed} \\text{ e } \\tilde{c}_{dd} = \\frac{2ik_{e}}{ik_{e}-\\tilde{k}_{d}}\\tilde{c}_{ed}.\n",
    "\\end{equation}"
   ]
  },
  {
   "cell_type": "code",
   "execution_count": 8,
   "metadata": {},
   "outputs": [
    {
     "data": {
      "image/png": "[encoded data removed]",
      "text/latex": [
       "$$\\left \\{ ct_{dd} : \\frac{2.0 i ct_{ed} k_{e}}{i k_{e} - kt_{d}}, \\quad ct_{ee} : \\frac{ct_{ed} \\left(i k_{e} + kt_{d}\\right)}{i k_{e} - kt_{d}}\\right \\}$$"
      ],
      "text/plain": [
       "⎧         2.0⋅ⅈ⋅ct_{ed}⋅k_{e}           ct_{ed}⋅(ⅈ⋅k_{e} + kt_{d})⎫\n",
       "⎨ct_{dd}: ───────────────────, ct_{ee}: ──────────────────────────⎬\n",
       "⎩           ⅈ⋅k_{e} - kt_{d}                 ⅈ⋅k_{e} - kt_{d}     ⎭"
      ]
     },
     "execution_count": 8,
     "metadata": {},
     "output_type": "execute_result"
    }
   ],
   "source": [
    "cted, ctee, ke, ctdd, ktd = symbols('ct_{ed} ct_{ee} k_{e} ct_{dd} kt_{d}')\n",
    "solve([cted + ctee - ctdd, 1j*ke*(cted-ctee)+ktd*ctdd], [ctee, ctdd])"
   ]
  },
  {
   "cell_type": "markdown",
   "metadata": {},
   "source": [
    "Abaixo está mostrada graficamente a parte real da função de onda para $E<U_{0}$. Para fazer esses gráficos é útil reescrever $\\tilde{\\Xi}_{e}$ como\n",
    "\\begin{equation}\n",
    "\\tilde{\\Xi}_{e}(x<0) = \\tilde{c}_{ed}e^{ik_{e}x} + \\frac{ik_{e}+\\tilde{k}_{d}}{ik_{e}-\\tilde{k}_{d}}\\tilde{c}_{ed}e^{-ik_{e}x} = \\tilde{c}_{ed}\\left(e^{ik_{e}x} + \\frac{k_{e}^{2}-\\tilde{k}_{d}^{2}-2ik_{e}\\tilde{k}_{d}}{k_{e}^{2}+\\tilde{k}_{d}^{2}}e^{-ik_{e}x}\\right).\n",
    "\\end{equation}\n",
    "Usando $\\tilde{c}_{ed}\\in\\mathbb{R}$, teremos\n",
    "\\begin{align}\n",
    "\\Re(\\tilde{\\Xi}_{e}(x<0)) & = \\tilde{c}_{ed}\\left(\\Re\\left(e^{ik_{e}x}\\right) + \\Re\\left(\\frac{k_{e}^{2}-\\tilde{k}_{d}^{2}-2ik_{e}\\tilde{k}_{d}}{k_{e}^{2}+\\tilde{k}_{d}^{2}}e^{-ik_{e}x}\\right)\\right) \\\\\n",
    "& = \\tilde{c}_{ed}\\left(\\cos(k_{e}x) + \\Re\\left(\\frac{k_{e}^{2}-\\tilde{k}_{d}^{2}-2ik_{e}\\tilde{k}_{d}}{k_{e}^{2}+\\tilde{k}_{d}^{2}}\\right)\\Re\\left(e^{-ik_{e}x}\\right) - \\Im\\left(\\frac{k_{e}^{2}-\\tilde{k}_{d}^{2}-2ik_{e}\\tilde{k}_{d}}{k_{e}^{2}+\\tilde{k}_{d}^{2}}\\right)\\Im\\left(e^{-ik_{e}x}\\right) \\right) \\\\\n",
    "& = \\tilde{c}_{ed}\\left(\\cos(k_{e}x) + \\frac{k_{e}^{2}-\\tilde{k}_{d}^{2}}{k_{e}^{2}+\\tilde{k}_{d}^{2}}\\cos(k_{e}x) - \\frac{2k_{e}\\tilde{k}_{d}}{k_{e}^{2}+\\tilde{k}_{d}^{2}}\\sin(k_{e}x) \\right) \\\\\n",
    "& = \\tilde{c}_{ed}\\left(\\frac{2k_{e}^{2}}{k_{e}^{2}+\\tilde{k}_{d}^{2}}\\cos(k_{e}x) - \\frac{2k_{e}\\tilde{k}_{d}}{k_{e}^{2}+\\tilde{k}_{d}^{2}}\\sin(k_{e}x) \\right).\n",
    "\\end{align}\n",
    "De\n",
    "\\begin{equation}\n",
    "\\tilde{\\Xi}_{d}(x>0) = \\tilde{c}_{dd}e^{-\\tilde{k}_{d}x} = \\frac{2ik_{e}}{ik_{e}-\\tilde{k}_{d}}\\tilde{c}_{ed}e^{-\\tilde{k}_{d}x} = \\frac{2k_{e}^{2}-2ik_{e}\\tilde{k}_{d}}{k_{e}^{2}+\\tilde{k}_{d}^{2}}\\tilde{c}_{ed}e^{-\\tilde{k}_{d}x}\n",
    "\\end{equation}\n",
    "obtemos\n",
    "\\begin{equation}\n",
    "\\Re\\left(\\tilde{\\Xi}_{d}(x>0)\\right) = \\frac{2k_{e}^{2}}{k_{e}^{2}+\\tilde{k}_{d}^{2}}\\tilde{c}_{ed}e^{-\\tilde{k}_{d}x}.\n",
    "\\end{equation}\n",
    "Também usaremos\n",
    "\\begin{equation}\n",
    "\\frac{\\tilde{k}_{d}}{k_{e}} = \\frac{\\sqrt{2m(U_{0}-E)}/\\hbar}{\\sqrt{2mE}} = \\sqrt{\\frac{U_{0}}{E}-1}.\n",
    "\\end{equation}"
   ]
  },
  {
   "cell_type": "code",
   "execution_count": 9,
   "metadata": {},
   "outputs": [
    {
     "data": {
      "application/vnd.jupyter.widget-view+json": {
       "model_id": "b867f27465734099aeb9be2939a502c5",
       "version_major": 2,
       "version_minor": 0
      },
      "text/plain": [
       "interactive(children=(FloatSlider(value=0.491, description='E', max=0.999, min=0.001, step=0.01), Output()), _…"
      ]
     },
     "metadata": {},
     "output_type": "display_data"
    }
   ],
   "source": [
    "def E_lt_U0(E):\n",
    "    fig = plt.figure(figsize=(13,5)); U0 = 1; ke = 1.0; ced = 1.0; kd = math.sqrt(U0/E-1)*ke\n",
    "    N = 1000; xmin = -10*math.pi; xmax = -xmin; dx = (xmax-xmin)/N; x = np.zeros(N); y = np.zeros(N)\n",
    "    for j in range(0,N):\n",
    "        x[j] = xmin + j*dx\n",
    "        if x[j] < 0:\n",
    "            y[j] = ced*(((2*ke**2)/(ke**2+kd**2))*math.cos(kd*x[j]) - ((2*ke*kd)/(ke**2+kd**2))*math.sin(kd*x[j]))\n",
    "        else:\n",
    "            y[j] = ced*((2*ke**2)/(ke**2+kd**2))*math.exp(-kd*x[j])\n",
    "    plt.annotate(r'$E/U_{0}=$'+str(E)[:5], xy=(xmax-8,1.8), xytext=(xmax-8,1.8), fontsize=12)\n",
    "    plt.plot(x,y); plt.xlabel('x',fontsize=10); plt.ylabel(r'$\\Re(\\Xi)$',fontsize=15)\n",
    "    plt.xlim(xmin,xmax); plt.ylim(-2*ced,2*ced); plt.show()\n",
    "interactive(E_lt_U0, E=(0+10**-3,1-10**-3,0.01))"
   ]
  },
  {
   "cell_type": "markdown",
   "metadata": {},
   "source": [
    "O coeficiente de reflexão é então dado por\n",
    "\\begin{align}\n",
    "R & = \\frac{|\\tilde{c}_{ee}|^{2}}{|\\tilde{c}_{ed}|^{2}} = \\left|\\frac{ik_{e}+\\tilde{k}_{d}}{ik_{e}-\\tilde{k}_{d}}\\right|^{2} = \\left|\\frac{(ik_{e}+\\tilde{k}_{d})(-ik_{e}+\\tilde{k}_{d})}{(ik_{e}-\\tilde{k}_{d})(-ik_{e}-\\tilde{k}_{d})}\\right|^{2} = \\frac{k_{e}^{2}+\\tilde{k}_{d}^{2}}{k_{e}^{2}+\\tilde{k}_{d}^{2}} \\\\\n",
    "& = 1.\n",
    "\\end{align}\n",
    "Portanto o coeficiente de trasmissão é\n",
    "\\begin{equation}\n",
    "T = 1 - R = 0.\n",
    "\\end{equation}\n",
    "Por conseguinte, se a energia inicial do quanton é menor que a altura da barreira de potencial, $E<U_{0}$, todos os quantons são refletidos e acabam movendo-se para a esquerda, como se espera classicamente.\n",
    "\n",
    "No entando, como a função de onda $\\tilde{\\Xi}_{d}$ é não nula mesmo para $x>0$, ela decai exponencialmente com $x$, o quanton parece penetrar em uma _região classicamente proibida_, pois classicamente\n",
    "\\begin{equation}\n",
    "E=\\frac{p^{2}}{2m}+U < U \\therefore p^{2}<0 \\therefore p\\in\\mathbb{C}.\n",
    "\\end{equation}\n",
    "Lembrando, a probabilidade de encontrarmos o quanton em torno de um certo $x>0$ é \n",
    "\\begin{equation}\n",
    "|\\tilde{\\Xi}(x>0)|^{2}dx=|\\tilde{c}_{dd}|^{2}e^{-2\\tilde{k}_{d}x}.\n",
    "\\end{equation}\n",
    "Essa probabilidade cai para $\\approx 0,059$ do valor em $x=0$ para uma distância de penetração na região classicamente proibida:\n",
    "\\begin{equation}\n",
    "x_{p} = \\frac{\\sqrt{2}}{\\tilde{k}_{d}} = \\frac{\\hbar}{\\sqrt{m(U_{0}-E)}}.\n",
    "\\end{equation}"
   ]
  },
  {
   "cell_type": "code",
   "execution_count": 10,
   "metadata": {},
   "outputs": [
    {
     "data": {
      "image/png": "[encoded data removed]",
      "text/latex": [
       "$$0.0591057465619562$$"
      ],
      "text/plain": [
       "0.0591057465619562"
      ]
     },
     "execution_count": 10,
     "metadata": {},
     "output_type": "execute_result"
    }
   ],
   "source": [
    "exp(-2*sqrt(2.))"
   ]
  },
  {
   "cell_type": "markdown",
   "metadata": {},
   "source": [
    "Vamos calcular $x_{p}$ para uma _partícula clássica_ de massa $m=1\\text{ }\\mu\\text{g}=10^{-9}\\text{ kg}$. Usando $U_{0}=1\\text{ J}$ e $E=0.99U_{0}$. Teremos assim que\n",
    "\\begin{equation}\n",
    "x_{p}\\approx 3,3\\mathrm{x}10^{-29} m,\n",
    "\\end{equation}\n",
    "que é muito pequeno para ser mensurável. Bom, por isso não vemos esse tipo de fenômeno no contexto clássico-macroscópico. No entanto, esse efeito tem aplicações práticas muito importantes na tecnologia atual, como veremos na próxima aula, quando estudaremos barreiras de potencial."
   ]
  },
  {
   "cell_type": "code",
   "execution_count": 11,
   "metadata": {},
   "outputs": [
    {
     "data": {
      "image/png": "[encoded data removed]",
      "text/latex": [
       "$$3.33484832119966 \\cdot 10^{-29}$$"
      ],
      "text/plain": [
       "3.33484832119966e-29"
      ]
     },
     "execution_count": 11,
     "metadata": {},
     "output_type": "execute_result"
    }
   ],
   "source": [
    "def xp(m,U0,E):\n",
    "    return hb/sqrt(m*(U0-E))\n",
    "xp(10**-9,1,0.99)"
   ]
  },
  {
   "cell_type": "markdown",
   "metadata": {},
   "source": [
    "---\n",
    "# Exercícios\n",
    "\n",
    "1. Verifique que, para $U=U_{0}$ constante, nem $\\xi(x,t)=A\\sin(kx-\\omega t)$ nem $\\sigma(x,t)=A\\cos(kx-\\omega t)$, com $A$ constante, satisfaz a EqS:\n",
    "\\begin{equation}\n",
    "-\\frac{\\hbar^{2}}{2m}\\partial_{xx}\\psi(x,t)+U_{0}\\psi(x,t)=i\\hbar\\partial_{t}\\psi(x,t).\n",
    "\\end{equation}\n",
    "Dica. Use o fato que $a\\sin\\phi+b\\cos\\phi=0\\forall\\phi$ se e somente se $a=b=0$.\n",
    "\n",
    "1. Resolva o sistema de equações lineares\n",
    "\\begin{cases}\n",
    "c_{ed}+c_{ee}=c_{dd}, \\\\\n",
    "k_{e}(c_{ed}-c_{ee})=k_{d}c_{dd},\n",
    "\\end{cases}\n",
    "para obter $c_{dd}=(2k_{e}/(k_{e}+k_{d}))c_{ed}$ e $c_{ee}=((k_{e}-k_{d})/(k_{e}+k_{d}))c_{ed}$.\n",
    "\n",
    "1. Resolva o sistema de equações lineares\n",
    "\\begin{cases}\n",
    "\\tilde{c}_{ed}+\\tilde{c}_{ee}=\\tilde{c}_{dd}, \\\\\n",
    "ik_{e}(\\tilde{c}_{ed}-\\tilde{c}_{ee})=-\\tilde{k}_{d}\\tilde{c}_{dd},\n",
    "\\end{cases}\n",
    "para obter $\\tilde{c}_{dd}=(2ik_{e}/(ik_{e}-\\tilde{k}_{d}))\\tilde{c}_{ed}$ e $\\tilde{c}_{ee}=((ik_{e}+\\tilde{k}_{d})/(ik_{e}-\\tilde{k}_{d}))c_{ed}$.\n",
    "\n",
    "1. Calcule e faça um gráfico da densidade de probabilidade $|\\Xi(x)|^{2}$ nos dois casos $E>U_{0}$ e $E<U_{0}$. Considere $c_{ed},\\tilde{c}_{ed}\\in\\mathbb{R}$ e use $k_{d}=k_{e}/2$.\n",
    "\n",
    "1. Que fração de um feixe de prótons com energia cinética de $40\\text{ MeV}$ que incidem em um degrau de potencial de $30\\text{ MeV}$ é refletida? Que fração é transmitida? Quais seriam os valores de $R$ e $T$ se o feixe fosse constituído por elétrons?\n",
    "\n",
    "1. Que fração de um feixe de quantons com energia cinética de $E_{c}=2U_{0}$, que incidem em um degrau de potencial de altura $U_{0}$, é refletida? Que fração é transmitida?\n",
    "\n",
    "1. Usando as funções de onda derivadas em aula para os casos $E<U_{0}$ e $E>U_{0}$, obtenha $\\Im(\\Xi_{e}(x<0))$, $\\Im(\\Xi_{d}(x>0))$, $\\Im(\\tilde{\\Xi}_{e}(x<0))$ e $\\Im(\\tilde{\\Xi}_{d}(x>0)).$\n",
    "\n",
    "1. Analogamente ao que fizemos para o caso do quanton movimentando-se inicialmente da esquerda para a direita, obtenha os coeficientes de transmissão e de reflexão para o caso do quanton movimentando-se inicialmente da direita para a esquerda na região $x>0$, para $E>U_{0}$."
   ]
  },
  {
   "cell_type": "code",
   "execution_count": null,
   "metadata": {},
   "outputs": [],
   "source": []
  }
 ],
 "metadata": {
  "kernelspec": {
   "display_name": "Python 3",
   "language": "python",
   "name": "python3"
  },
  "language_info": {
   "codemirror_mode": {
    "name": "ipython",
    "version": 3
   },
   "file_extension": ".py",
   "mimetype": "text/x-python",
   "name": "python",
   "nbconvert_exporter": "python",
   "pygments_lexer": "ipython3",
   "version": "3.6.4"
  }
 },
 "nbformat": 4,
 "nbformat_minor": 2
}
