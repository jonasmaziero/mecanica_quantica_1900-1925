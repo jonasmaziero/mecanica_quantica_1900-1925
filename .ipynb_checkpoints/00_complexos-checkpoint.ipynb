{
 "cells": [
  {
   "cell_type": "markdown",
   "metadata": {},
   "source": [
    "## Notas de aula: Mecânica Quântica <br> Autor: Jonas Maziero\n",
    "\n",
    "Link para o vídeo da aula sobre esse tópico: ."
   ]
  },
  {
   "cell_type": "code",
   "execution_count": 1,
   "metadata": {},
   "outputs": [],
   "source": [
    "%run init.ipynb"
   ]
  },
  {
   "cell_type": "markdown",
   "metadata": {},
   "source": [
    "# Números complexos\n",
    "\n",
    "## Definição\n",
    "Um número complexo $z$ é um objeto do tipo\n",
    "\\begin{equation}\n",
    "z := \\Re(z)+i\\Im(z),\n",
    "\\end{equation}\n",
    "com $\\Re(z),\\Im(z)\\in\\mathbb{R}$ sendo números reais e $i=\\sqrt{-1}\\therefore i^{2}=-1$. Os números reais $\\Re(z)$ e $\\Im(z)$ são chamados, respectivamente, de parte real e parte imaginária de $z$. \n",
    "\n",
    "Denotamos o conjunto de todos os números complexos por $\\mathbb{C}$. Para dizer que um certo número $z$ pertence a esse conjunto, usamos a notação $z\\in\\mathbb{C}$.\n",
    "\n",
    "Denotamos o conjunto de todos os números reais por $\\mathbb{R}$. Os números reais são o caso particular dos números complexos com a parte imaginária igual a $0$."
   ]
  },
  {
   "cell_type": "markdown",
   "metadata": {},
   "source": [
    "## Conjugado\n",
    "O conjugado de um número complexo $z\\in\\mathbb{C}$ é denotado e definido por\n",
    "\\begin{equation}\n",
    "z^{*} := \\Re(z)-i\\Im(z).\n",
    "\\end{equation}\n",
    "Ou seja, para obter o conjugado de um número complexo trocamos o sinal da sua parte imaginária.\n",
    "\n",
    "O __conjugado do conjugado__ é o próprio número:\n",
    "\\begin{align}\n",
    "(z^{*})^{*} &:= (\\Re(z)-i\\Im(z))^{*} = \\Re(z)+i\\Im(z) \\\\\n",
    "&=z.\n",
    "\\end{align}\n",
    "\n",
    "### Exemplo: $z=2+5i$\n",
    "Aqui temos a parte real $\\Re(z)=2$ e parte imaginária $\\Im(z)=5$. Ademais, o conjugado é $z^{*}=(2+5i)^{*}=2-5i$. O conjugado do conjugado é $(z^{*})^{*}=(2-5i)^{*}=2+5i=z$."
   ]
  },
  {
   "cell_type": "markdown",
   "metadata": {},
   "source": [
    "## Módulo de números complexos\n",
    "O módulo de um número complexo é definido por\n",
    "\\begin{align}\n",
    "|z| &:= \\sqrt{zz^{*}} = \\sqrt{(\\Re(z)+i\\Im(z))(\\Re(z)-i\\Im(z))} \\\\\n",
    "&= \\sqrt{\\Re(z)\\Re(z)+i\\Im(z)\\Re(z)-i\\Re(z)\\Im(z)-i^{2}\\Im(z)\\Im(z)}  \\\\\n",
    "&= \\sqrt{\\Re(z)^{2}+\\Im(z)^{2}}.\n",
    "\\end{align}\n",
    "\n",
    "### Exemplo: $z=4+3i$\n",
    "Teremos assim que $|z|=|4+3i|=\\sqrt{4^{2}+3^{2}}=\\sqrt{25}= 5$."
   ]
  },
  {
   "cell_type": "markdown",
   "metadata": {},
   "source": [
    "## Soma, subtração, multiplicação e divisão de números complexos\n",
    "A __soma__ de dois números complexos $z=\\Re(z)+i\\Im(z)$ e $w=\\Re(w)+i\\Im(w)$ é definida como\n",
    "\\begin{align}\n",
    "z+w &:= \\left(\\Re(z)+\\Re(w)\\right)+i\\left(\\Im(z)+\\Im(w)\\right) \\\\\n",
    "&= \\Re(z+w)+i\\Im(z+w).\n",
    "\\end{align}\n",
    "\n",
    "A __subtração__ de dois números complexos $z$ e $w$ é definida como\n",
    "\\begin{align}\n",
    "z-w &:= \\left(\\Re(z)-\\Re(w)\\right)+i\\left(\\Im(z)-\\Im(w)\\right) \\\\\n",
    "&= \\Re(z-w)+i\\Im(z-w).\n",
    "\\end{align}\n",
    "\n",
    "A __multiplicação__ de dois números complexos $z$ e $w$ é definida usando distributividade:\n",
    "\\begin{align}\n",
    "zw & = (\\Re(z)+i\\Im(z))(\\Re(w)+i\\Im(w)) \\\\ \n",
    "&:= \\Re(z)\\Re(w) + \\Re(z)i\\Im(w) + i\\Im(z)\\Re(w) + i\\Im(z)i\\Im(w) \\\\\n",
    "& = \\left(\\Re(z)\\Re(w)-\\Im(z)\\Im(w)\\right)+i\\left(\\Re(z)\\Im(w)+\\Im(z)\\Re(w)\\right) \\\\\n",
    "&= \\Re(zw)+i\\Im(zw).\n",
    "\\end{align}\n",
    "\n",
    "A __divisão__ de dois números complexos $z$ e $w$ é definida por\n",
    "\\begin{align}\n",
    "\\frac{z}{w} & := \\frac{zw^{*}}{ww^{*}} = \\frac{(\\Re(z)+i\\Im(z))(\\Re(w)-i\\Im(w))}{|w|^{2}} \\\\\n",
    "& = \\frac{\\Re(z)\\Re(w)+\\Im(z)\\Im(w)}{\\Re(w)^{2}+\\Im(w)^{2}}+i\\frac{-\\Re(z)\\Im(w)+\\Im(z)\\Re(w)}{\\Re(w)^{2}+\\Im(w)^{2}} \\\\\n",
    "&= \\Re(z/w)+i\\Im(z/w).\n",
    "\\end{align}\n",
    "\n",
    "Duas __relações frequentes__ na lida com números complexos são:\n",
    "\\begin{align}\n",
    "& z+z^{*} = \\Re(z)+i\\Im(z)+\\Re(z)-i\\Im(z) = 2\\Re(z), \\\\\n",
    "& z-z^{*} = \\Re(z)+i\\Im(z)-(\\Re(z)-i\\Im(z)) = i2\\Im(z).\n",
    "\\end{align}"
   ]
  },
  {
   "cell_type": "markdown",
   "metadata": {},
   "source": [
    "### Exemplos\n",
    "Para $z=1+3i$ e $w=5+2i$ teremos\n",
    "\\begin{align}\n",
    "& z+w = (1+5)+(3+2)i = 6+5i, \\\\\n",
    "& z-w = (1-5)+(3-2)i = -4+i, \\\\\n",
    "& zw = ((1)(5)-(3)(2))+((1)(2)+(3)(5))i = (5-6)+(2+15)i = -1+17i, \\\\\n",
    "& |w|^{2} = 5^{2}+2^{2} = 29, \\\\\n",
    "& \\frac{z}{w} = \\frac{zw^{*}}{|w|^{2}}=\\frac{(1)(5)+(3)(2)}{29} + \\frac{-(1)(2)+(3)(5)}{29}i = \\frac{5+6}{29} + \\frac{-2+15}{29}i \\\\\n",
    "& \\hspace{0.5cm} = \\frac{11}{29} + \\frac{13}{29}i \\approx 0,38+0,45i, \\\\\n",
    "& z+z^{*} = (1+3i)+(1-3i) = 2 = 2(1), \\\\\n",
    "& z-z^{*} = (1+3i)-(1-3i) = 6i = i2(3).\n",
    "\\end{align}"
   ]
  },
  {
   "cell_type": "code",
   "execution_count": 56,
   "metadata": {},
   "outputs": [
    {
     "data": {
      "image/png": "[encoded data removed]",
      "text/latex": [
       "$$\\left ( 0.3793103448275862, \\quad 0.4482758620689655\\right )$$"
      ],
      "text/plain": [
       "(0.3793103448275862, 0.4482758620689655)"
      ]
     },
     "execution_count": 56,
     "metadata": {},
     "output_type": "execute_result"
    }
   ],
   "source": [
    "11/29., 13/29."
   ]
  },
  {
   "cell_type": "markdown",
   "metadata": {},
   "source": [
    "### Mais sobre o conjugado\n",
    "O __conjugado da soma__ é a soma dos conjugados:\n",
    "\\begin{align}\n",
    "(z+w)^{*} &= \\left(\\left(\\Re(z)+\\Re(w)\\right)+i\\left(\\Im(z)+\\Im(w)\\right)\\right)^{*} \\\\\n",
    "&= \\left(\\Re(z)+\\Re(w)\\right)-i\\left(\\Im(z)+\\Im(w)\\right) \\\\\n",
    "&= \\left(\\Re(z)-i\\Im(z)\\right) + \\left(\\Re(w)-i\\Im(w)\\right) \\\\\n",
    "&= z^{*}+w^{*}.\n",
    "\\end{align}\n",
    "Consideremos como _exemplo_ $z=11+13i$ e $w=17+19i$. Nesse caso $z+w=28+32i$ e assim $(z+w)^{*}=28-32i$. Por outro lado $z^{*}=11-13i$ e $w^{*}=17-19i$, e assim $z^{*}+w^{*}=28-32i$. Assim $(z+w)^{*}=z^{*}+w^{*}$ se verifica.\n",
    "\n",
    "O __conjugado do produto__ é o produto dos conjugados:\n",
    "\\begin{align}\n",
    "(zw)^{*} &= \\left(\\left(\\Re(z)\\Re(w)-\\Im(z)\\Im(w)\\right)+i\\left(\\Re(z)\\Im(w)+\\Im(z)\\Re(w)\\right)\\right)^{*} \\\\\n",
    "&= \\left(\\Re(z)\\Re(w)-\\Im(z)\\Im(w)\\right)-i\\left(\\Re(z)\\Im(w)+\\Im(z)\\Re(w)\\right), \\\\\n",
    "z^{*}w^{*} &= \\left(\\Re(z)-i\\Im(z)\\right)\\left(\\Re(w)-i\\Im(w)\\right) \\\\\n",
    "&= \\left(\\Re(z)\\Re(w)-\\Im(z)\\Im(w)\\right) -i\\left(\\Re(z)\\Im(w)+\\Im(z)\\Re(w)\\right), \\\\\n",
    "& \\therefore (zw)^{*}=z^{*}w^{*}.\n",
    "\\end{align}\n",
    "Por _exemplo_, para $z=2+3i$ e $w=4+5i$ temos $zw=(8-15)+(10+12)i=-7+22i$ e $(zw)^{*}=-7-22i$. Por outro lado, $z^{*}=2-3i$ e $w^{*}=4-5i$ e $z^{*}w^{*}=((2)(4)-(-3)(-5))+((2)(-5)+(-3)(4))i=(8-15)+(-10-12)i=-7-22i$. Assim $(zw)^{*}=z^{*}w^{*}$ se verifica."
   ]
  },
  {
   "cell_type": "markdown",
   "metadata": {},
   "source": [
    "### Mais sobre o módulo\n",
    "O __módulo da soma__ de dois números complexos é obtido pela raíz quadrada de:\n",
    "\\begin{align}\n",
    "|z+w|^{2} & = (z+w)(z+w)^{*} = (z+w)(z^{*}+w^{*}) \\\\\n",
    "& = |z|^{2}+|w|^{2}+ zw^{*} + wz^{*} = |z|^{2}+|w|^{2} + zw^{*} + (w^{*}z)^{*} \\\\\n",
    "& = |z|^{2}+|w|^{2}+ 2\\Re(zw^{*}) \\\\\n",
    "&= |z|^{2}+|w|^{2}+ 2\\left(\\Re(z)\\Re(w)+\\Im(z)\\Im(w)\\right).\n",
    "\\end{align}\n",
    "Ou seja, em geral o módulo da soma não é igual a soma dos módulos.\n",
    "\n",
    "O __módulo do produto__ de dois números complexos é igual ao produto dos módulos:\n",
    "\\begin{align}\n",
    "|zw| &= \\sqrt{(zw)(zw)^{*}} = \\sqrt{(zw)(z^{*}w^{*})} = \\sqrt{zz^{*}ww^{*}} = \\sqrt{|z|^{2}|w|^{2}} \\\\\n",
    "&= |z||w|.\n",
    "\\end{align}\n",
    "\n",
    "O __módulo da divisão__ é a divisão dos módulos:\n",
    "\\begin{align}\n",
    "\\left|\\frac{z}{w}\\right| &= \\left|\\frac{zw^{*}}{ww^{*}}\\right| = \\frac{|z||w^{*}|}{||w|^{2}|} = \\frac{|z||w|}{|w|^{2}} \\\\\n",
    "&= \\frac{|z|}{|w|}.\n",
    "\\end{align}"
   ]
  },
  {
   "cell_type": "markdown",
   "metadata": {},
   "source": [
    "## Funções complexas\n",
    "Várias funções complexas podem ser definidas via séries de Taylor. A função exponencial é de particular interesse pra nós, e é definida como\n",
    "\\begin{equation}\n",
    "e^{z}=\\sum_{j=0}^{\\infty}\\frac{z^{j}}{j!}.\n",
    "\\end{equation}\n",
    "\n",
    "Usando a notação $x:=\\Re(z)$ e $y:=\\Im(z)$, vamos escrever\n",
    "\\begin{equation}\n",
    "e^{x} = \\sum_{j=0}^{\\infty}\\frac{x^{j}}{j!} = 1+x+\\frac{x^{2}}{2}+\\frac{x^{3}}{3!}+\\frac{x^{4}}{4!}+\\cdots.\n",
    "\\end{equation}\n",
    "Também podemos obter a __fórmula de Euler__:\n",
    "\\begin{align}\n",
    "e^{iy} &= \\sum_{j=0}^{\\infty}\\frac{(iy)^{j}}{j!} \\\\\n",
    "&= 1+iy+\\frac{(iy)^{2}}{2}+\\frac{(iy)^{3}}{3!}+\\frac{(iy)^{4}}{4!}+\\frac{(iy)^{5}}{5!}+\\cdots \\\\\n",
    "&= 1+iy+\\frac{i^{2}y^{2}}{2}+\\frac{i^{2}iy^{3}}{3!}+\\frac{i^{2}i^{2}y^{4}}{4!}+\\frac{i^{2}i^{2}iy^{5}}{5!}+\\cdots \\\\\n",
    "&= \\left(1-\\frac{y^{2}}{2}+\\frac{y^{4}}{4!}+\\cdots\\right) +i\\left(y-\\frac{y^{3}}{3!}+\\frac{y^{5}}{5!}+\\cdots\\right) \\\\\n",
    "&= \\cos(y)+i\\sin(y).\n",
    "\\end{align}\n",
    "Dessa fórmula, e usando $e^{-iy}=e^{i(-y)}=\\cos(-y)+ i\\sin(-y)=\\cos(y)-i\\sin(y)$, para $y\\in\\mathbb{R}$ vemos diretamente que\n",
    "\\begin{equation}\n",
    "\\left(e^{\\pm iy}\\right)^{*} = \\left(\\cos(y)\\pm i\\sin(y)\\right)^{*}=\\cos(y)\\mp i\\sin(y)=e^{\\mp iy}.\n",
    "\\end{equation}"
   ]
  },
  {
   "cell_type": "markdown",
   "metadata": {},
   "source": [
    "Para o número complexo (completo) teremos\n",
    "\\begin{align}\n",
    "e^{z} &= e^{x+iy} = \\sum_{j=0}^{\\infty}\\frac{(x+iy)^{j}}{j!} \\\\\n",
    "&= 1 + x+iy + \\frac{(x+iy)^{2}}{2} + \\frac{(x+iy)^{3}}{3!} + \\cdots  \\\\\n",
    "&= 1 + x + iy + \\frac{x^{2}-y^{2}+i2xy}{2} + \\frac{x^{3}-3xy^{2}+i3x^{2}y-iy^{3}}{3!} + \\cdots.\n",
    "\\end{align}\n",
    "Notemos que\n",
    "\\begin{align}\n",
    "e^{x}e^{iy} &= \\left(1+x+\\frac{x^{2}}{2}+\\frac{x^{3}}{3!}+\\cdots\\right)\\left(1+iy-\\frac{y^{2}}{2}-\\frac{iy^{3}}{3!}+\\cdots\\right) \\\\\n",
    "&= 1 + x + iy + \\frac{x^{2}}{2}-\\frac{y^{2}}{2} +\\frac{2ixy}{2} +\\frac{x^{3}}{3!} -\\frac{iy^{3}}{3!} + \\frac{3iyx^{2}}{(3)(2)} -\\frac{3xy^{2}}{(3)(2)} + \\cdots.\n",
    "\\end{align}\n",
    "Vemos assim que\n",
    "\\begin{equation}\n",
    "e^{z}=e^{x+iy} =e^{x}e^{iy}=e^{x}\\left(\\cos(y)+i\\sin(y)\\right).\n",
    "\\end{equation}\n",
    "\n",
    "Usando esse resultado, vemos que para $z,w\\in\\mathbb{C}$ temos\n",
    "\\begin{align}\n",
    "e^{z}e^{w} &= e^{\\Re(z)+i\\Im(z)}e^{\\Re(w)+i\\Im(w)} = e^{\\Re(z)}e^{i\\Im(z)}e^{\\Re(w)}e^{i\\Im(w)} \\\\\n",
    "& = e^{\\Re(z)+\\Re(w)}e^{i\\Im(z)+i\\Im(w)} = e^{\\Re(z)+\\Re(w)+i\\Im(z)+i\\Im(w)} \\\\\n",
    "& = e^{z+w}.\n",
    "\\end{align}"
   ]
  },
  {
   "cell_type": "code",
   "execution_count": 84,
   "metadata": {},
   "outputs": [
    {
     "data": {
      "image/png": "[encoded data removed]",
      "text/latex": [
       "$$\\left ( x^{2} + 2.0 i x y - 1.0 y^{2}, \\quad x^{3} + 3.0 i x^{2} y - 3.0 x y^{2} - 1.0 i y^{3}\\right )$$"
      ],
      "text/plain": [
       "⎛ 2                    2   3          2            2          3⎞\n",
       "⎝x  + 2.0⋅ⅈ⋅x⋅y - 1.0⋅y , x  + 3.0⋅ⅈ⋅x ⋅y - 3.0⋅x⋅y  - 1.0⋅ⅈ⋅y ⎠"
      ]
     },
     "execution_count": 84,
     "metadata": {},
     "output_type": "execute_result"
    }
   ],
   "source": [
    "x,y=symbols('x y'); expand((x+1j*y)**2), expand((x+1j*y)**3)"
   ]
  },
  {
   "cell_type": "markdown",
   "metadata": {},
   "source": [
    "## Plano complexo e representação polar\n",
    "Podemos representar números complexos no plano cartesiano bidimensional, com as coordenadas sendo $\\Re(z)\\equiv x$ e $\\Im(z)\\equiv y$. Ou seja, no plano\n",
    "\\begin{equation}\n",
    "z\\equiv \\vec{z}=\\Re(z)\\hat{i}+\\Im(z)\\hat{j}.\n",
    "\\end{equation}\n",
    "Nesse caso, a operação de conjugar um número complexo é equivalente a refletir o vetor $\\vec{z}$ em torno do eixo $x$ (or girar $\\vec{z}$  de $\\pi$ radianos em torno de $x$).\n",
    "\n",
    "Como o módulo do número complexo é igual ao módulo do vetor correspondente, i.e., $|z|=|\\vec{z}|$, podemos também representar qualquer número complexo na forma polar (lembrando, $\\vec{z}=|z|\\cos\\theta\\hat{i}+|z|\\sin\\theta\\hat{j}=|z|(\\cos\\theta\\hat{i}+\\sin\\theta\\hat{j}) = |z|\\hat{r}$):\n",
    "\\begin{align}\n",
    "z &= \\Re(z)+\\Im(z)i=|z|\\cos\\theta+i|z|\\sin\\theta = |z|(\\cos\\theta+i\\sin\\theta) \\\\\n",
    "&=|z|e^{i\\theta},\n",
    "\\end{align}\n",
    "em que $\\theta$ é o ângulo entre $\\hat{r}$ e o eixo $x$ positivo e usamos a fórmula de Euler \n",
    "\\begin{equation}\n",
    "e^{i\\theta}=\\cos\\theta+i\\sin\\theta.\n",
    "\\end{equation}\n",
    "__Exemplos__ da representação geométrica e polar de números complexos são obtidos através do código e figura abaixo."
   ]
  },
  {
   "cell_type": "markdown",
   "metadata": {},
   "source": [
    "## Condição para termos $|z|=|w|$ para $z,w\\in\\mathbb{C}$\n",
    "Para \n",
    "\\begin{equation}\n",
    "w=e^{i\\phi}z\n",
    "\\end{equation}\n",
    "com $\\phi\\in[0,2\\pi)$ temos\n",
    "\\begin{equation}\n",
    "|w|=|e^{i\\phi}z|=e^{i\\phi}ze^{-i\\phi}z^{*}=e^{0}zz^{*}=|z|.\n",
    "\\end{equation}\n",
    "Notemos que\n",
    "\\begin{align}\n",
    "& \\Re(w) = \\Re(e^{i\\phi}z) = \\Re(e^{i\\phi})\\Re(z)-\\Im(e^{i\\phi})\\Im(z) = \\cos(\\phi)\\Re(z)-\\sin(\\phi)\\Im(z), \\\\ \n",
    "& \\Im(w) = \\Im(e^{i\\phi}z) = \\Re(e^{i\\phi})\\Im(z)+\\Im(e^{i\\phi})\\Re(z) = \\cos(\\phi)\\Im(z)+\\sin(\\phi)\\Re(z). \\\\ \n",
    "\\end{align}\n",
    "Essas equações podem ser escritas como uma equação matricial\n",
    "\\begin{equation}\n",
    "\\begin{bmatrix} \\Re(w) \\\\ \\Im(w) \\end{bmatrix}=\\begin{bmatrix} \\cos(\\phi) &  -\\sin(\\phi) \\\\ \\sin(\\phi) & \\cos(\\phi) \\end{bmatrix}\\begin{bmatrix} \\Re(z) \\\\ \\Im(z) \\end{bmatrix}.\n",
    "\\end{equation}\n",
    "Vemos assim que $w$ é obtido de $z$ aplicando-se uma rotação no plano complexo. Como rotações não mudam o comprimento de vetores, vemos que todos os números complexos em um círculo do plano complexo possuem o mesmo módulo. Os $w$ obtidos por rotações em $z$ estão mostrados na cor cyan na figura abaixo."
   ]
  },
  {
   "cell_type": "code",
   "execution_count": 99,
   "metadata": {},
   "outputs": [],
   "source": [
    "def plano_complexo(zr,zi):\n",
    "    plt.figure(figsize=(7,7)); z = zr+1j*zi; cm = 1.1*abs(z)\n",
    "    plt.annotate(\"\", xy=(-cm,0), xytext=(cm,0), arrowprops=dict(arrowstyle=\"-\")) # axes\n",
    "    plt.annotate(\"\", xy=(0,-cm), xytext=(0,cm), arrowprops=dict(arrowstyle=\"-\"))\n",
    "    plt.text(zr,-zi,\"z*=\"+str('%3.2f' % zr)+\"-\"+str('%3.2f' % zi)+\"i\",color='red') # the complex number\n",
    "    plt.annotate(\"\", xy=(0,0), xytext=(zr,zi), arrowprops=dict(arrowstyle=\"<-\",color=\"blue\"))\n",
    "    plt.text(zr,zi,\"z=\"+str('%3.2f' % zr)+\"+\"+str('%3.2f' % zi)+\"i\",color='blue') # conjugate\n",
    "    plt.annotate(\"\", xy=(0,0), xytext=(zr,-zi), arrowprops=dict(arrowstyle=\"<-\",color=\"red\"))\n",
    "    plt.annotate(\"\", xy=(zr,0), xytext=(zr,zi), arrowprops=dict(arrowstyle=\"-\",color=\"green\")) # angle and components\n",
    "    plt.annotate(\"\", xy=(0,0), xytext=(zr,0), arrowprops=dict(arrowstyle=\"-\",color=\"green\"))\n",
    "    plt.text(zr,zi/2,r\"$\\Im(z)$\",color='green'); plt.text(zr/2,-0.1*zi,r\"$\\Re(z)$\",color='green')\n",
    "    plt.text(zr/2,0.7*zi,r\"$|z|$\",color='green'); plt.text(0.2*zr,0.06*zi,r\"$\\theta$\",color='green')\n",
    "    thmax= math.atan(zi/zr);  th = np.linspace(0,thmax,100); r=0.1*abs(z) #circle radius\n",
    "    x0=0; y0=0; x1 = r*np.cos(th) + x0; x2 = r*np.sin(th) + y0; plt.plot(x1, x2, color='green')\n",
    "    th = np.linspace(0,2*math.pi,100); r=abs(z) #circle radius\n",
    "    x0=0; y0=0; x1 = r*np.cos(th) + x0; x2 = r*np.sin(th) + y0; plt.plot(x1, x2, color='cyan')\n",
    "    plt.xlim(-cm,cm); plt.ylim(-cm,cm) # axes limits\n",
    "    plt.xlabel(r'$\\Re(z)$'); plt.ylabel(r'$\\Im(z)$') # axes labels\n",
    "    plt.show()"
   ]
  },
  {
   "cell_type": "code",
   "execution_count": 100,
   "metadata": {},
   "outputs": [
    {
     "data": {
      "application/vnd.jupyter.widget-view+json": {
       "model_id": "c9c68c36f2114de4b266f083d2120fe4",
       "version_major": 2,
       "version_minor": 0
      },
      "text/plain": [
       "interactive(children=(FloatSlider(value=4.84, description='zr', max=10.0, min=0.01, step=0.23), FloatSlider(va…"
      ]
     },
     "metadata": {},
     "output_type": "display_data"
    }
   ],
   "source": [
    "plt.rcParams.update({'font.size': 13}); interactive(plano_complexo, zr = (0.01,10,0.23),zi = (0,10,0.23))"
   ]
  },
  {
   "cell_type": "markdown",
   "metadata": {},
   "source": [
    "---\n",
    "# Exercícios\n",
    "\n",
    "1. Considere o número complexo $z=3+5i$. Quais são suas partes real e imaginária? Calcule o conjugado e o módulo de $z$. Represente $z$ no plano complexo.\n",
    "\n",
    "1. Verifique que $|z|=|z^{*}|$ para qualquer $z\\in\\mathbb{C}$.\n",
    "\n",
    "1. Para $z=3+5i$ e $w=4+7i$, calcule $z+w$, $z-w$, $zw$, $z/w$, $|z+w|$, $|z-w|$, $|zw|$ e $|z/w|$.\n",
    "\n",
    "1. Verifique que $\\Re(zw^{*})=\\Re(z)\\Re(w)+\\Im(z)\\Im(w)$ e que $\\Im(zw^{*})=-\\Re(z)\\Im(w)+\\Im(z)\\Re(w)$.\n",
    "\n",
    "1. Verifique que $e^{x}e^{y}=e^{x+y}$ e $e^{ix}e^{iy}=e^{i(x+y)}$ para $x,y\\in\\mathbb{R}$."
   ]
  },
  {
   "cell_type": "code",
   "execution_count": null,
   "metadata": {},
   "outputs": [],
   "source": []
  }
 ],
 "metadata": {
  "kernelspec": {
   "display_name": "Python 3",
   "language": "python",
   "name": "python3"
  },
  "language_info": {
   "codemirror_mode": {
    "name": "ipython",
    "version": 3
   },
   "file_extension": ".py",
   "mimetype": "text/x-python",
   "name": "python",
   "nbconvert_exporter": "python",
   "pygments_lexer": "ipython3",
   "version": "3.6.4"
  }
 },
 "nbformat": 4,
 "nbformat_minor": 2
}
