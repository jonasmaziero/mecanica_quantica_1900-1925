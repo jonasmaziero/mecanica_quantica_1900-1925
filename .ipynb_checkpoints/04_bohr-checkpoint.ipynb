{
 "cells": [
  {
   "cell_type": "markdown",
   "metadata": {},
   "source": [
    "## Notas de aula de Mecânica Quântica <br> Autor: Jonas Maziero\n",
    "Link para o vídeo da aula sobre esse tópico: https://youtu.be/u0sKxEte_Sk."
   ]
  },
  {
   "cell_type": "code",
   "execution_count": 12,
   "metadata": {},
   "outputs": [],
   "source": [
    "%run init.ipynb"
   ]
  },
  {
   "cell_type": "markdown",
   "metadata": {},
   "source": [
    "# O átomo de Bohr\n",
    "## Resultados empíricos\n",
    "Espectroscopia é uma ferramenta experimental fundamental para a ciência e tecnologia atuais. Desde os tempos de Newton sabemos que ao passar luz por um prisma de vidro, podemos separá-la em suas frequências componentes. \n",
    "<figure>\n",
    "    <img src=\"fig_04_newton_prism.jpg\" width=\"400\">\n",
    "    <div class=\"caption\">Fonte: https://commons.wikimedia.org/wiki/File:Newton%27s_Experimentum_Crucis_(Grusche_2015).jpg.</div>\n",
    "</figure>\n",
    "\n",
    "Ao desenvolver melhores redes de difração e sistemas de detecção da luz, Fraunhofer reportou a existência de distinguíveis linhas no espectro da luz solar [https://en.wikipedia.org/wiki/Joseph_von_Fraunhofer]. Hoje em dia conhecemos a existência de espectros contínuos, em geral provenientes da radiação térmica de sistemas condensados. Também existem espectros com a presença de bandas de frequências, que são provenientes da radiação térmica emitida por pequenos pedaços de materiais. Aqui estaremos interessados na descrição de espectros de linhas, onde aparece um conjunto discreto de frequências, que são aquelas emitidas por átomos (ou moléculas) não ligados. Ilustramos parte do espectro do de linhas do Hidrogênio na figura abaixo.\n",
    "<figure>\n",
    "    <img src=\"fig_04_H_spectrum.png\" width=\"600\">\n",
    "    <div class=\"caption\">Fonte: https://commons.wikimedia.org/wiki/File:Bright-line_Spectrum-Hydrogen.svg.</div>\n",
    "</figure>\n",
    "\n",
    "A teoria eletromagnética clássica, que associa a frequência da luz emitida por um material com a frequência de oscilação das cargas elétricas que o compõe, não consegue de forma alguma explicar a existência de espectros de linhas (que seria equivalente a explicar por quê as cargas elétricas só oscilam em um conjunto discreto de frequências)."
   ]
  },
  {
   "cell_type": "markdown",
   "metadata": {},
   "source": [
    "## A estrutura do átomo\n",
    "Sabendo que os átomos continham elétrons, cuja carga elétrica é $-e$ e a massa $m_{e}$ é muito menor que a massa do átomo, _J.J. Thomson_ propôs o _modelo atômico do pudim de passas_, em que a carga positiva massiva é o pudim e os elétrons são as passas, como ilustrado na figura abaixo.\n",
    "<figure>\n",
    "    <img src=\"fig_04_thomson_pudim.png\" width=\"200\">\n",
    "    <div class=\"caption\">Fonte: https://commons.wikimedia.org/wiki/File:PlumPuddingModel_ManyCorpuscles.png.</div>\n",
    "</figure>\n",
    "Existem vários problemas com esse modelo. Segundo a teoria eletromagnética clássica, não existe configuração de equilíbrio estável para cargas elétricas distribuídas dessa forma. Além disso, Thomson não conseguiu encontrar os modos normais de vibração das cargas elétricas cujas frequências corresponderiam e.g. ao espectro de linhas do átomo de Hidrogênio.\n",
    "\n",
    "Um passo importante para o entendimento da estrutura atômica foi dado por Rutherford, que observou experimentalmente que partículas $\\alpha\\equiv He^{++}$ (átomos de Hélio duplamente ionizados) altamente energéticas podaim ser refletidas de $180^{\\circ}$ quando incidiam em uma folha de ouro com aproximadamente $2000$ átomos de espessura. A única explicação para tal resultado é que o massa do átomo deve estar concentrada em uma região muito pequena, seu núcleo, com carga positiva, e que os elétrons, muito leves, orbitam esse núcleo, como ilustrado na figura abaixo.\n",
    "<figure>\n",
    "    <img src=\"fig_04_rutherford_atom.png\" width=\"200\">\n",
    "    <div class=\"caption\">Fonte: Adaptado de https://commons.wikimedia.org/wiki/File:Rutherford_atom.svg.</div>\n",
    "</figure>\n",
    "\n",
    "No entanto, esse modelo também tem problemas, pois segundo a teoria eletromagnética clássica, o elétron, que está acelerado, deveria emitir radiação eletromagnética, perdendo energia continuamente e por fim colapsando no núcleo. A seguir veremos como Bohr contornou esse problema."
   ]
  },
  {
   "cell_type": "markdown",
   "metadata": {},
   "source": [
    "# Modelo de Bohr do átomo\n",
    "Bohr assumiu que o único elétron de um átomo se movimenta em torno de um núcleo com $Z$ prótons ($Z$ é o número atômico do átomo) [https://www.nobelprize.org/prizes/physics/1922/bohr/lecture/]. Além disso, ele usou os seguintes postulados:\n",
    "1. O elétron se move em trajetórias circulares sem irradiar energia, nos chamados __estados estacionários__, com momento angular quantizado:\n",
    "\\begin{equation}\n",
    "L = L_{n} = n\\hbar\n",
    "\\end{equation}\n",
    "com $n=1,2,3,\\cdots$ e\n",
    "\\begin{equation}\n",
    "\\hbar:=\\frac{h}{2\\pi}.\n",
    "\\end{equation}\n",
    "1. O átomo irradia ou absorve energia somente quando o elétron passa de um estado estacionário para outro. A frequência do fóton é obtida por conservação de energia:\n",
    "\\begin{equation}\n",
    "h\\nu=|E_{i}-E_{f}|,\n",
    "\\end{equation}\n",
    "com $E_{i}$ e $E_{f}$ sendo as energias dos estados estacionários inicial e final, respectivamente.\n",
    "\n",
    "O modelo atômico de Bohr está ilustrado na figura abaixo.\n",
    "<figure>\n",
    "    <img src=\"fig_04_bohr_atom.png\" width=\"250\">\n",
    "    <div class=\"caption\">Fonte: https://commons.wikimedia.org/wiki/File:Bohr_atom_model.svg.</div>\n",
    "</figure>"
   ]
  },
  {
   "cell_type": "markdown",
   "metadata": {},
   "source": [
    "O elétron é mantido na órbita circular pela força centrípeda dada pela força elétrica:\n",
    "\\begin{equation}\n",
    "F_{e}=F_{c}\\therefore \\frac{k(Ze)e}{r^{2}}=\\frac{m_{e}v^{2}}{r},\n",
    "\\end{equation}\n",
    "com\n",
    "\\begin{equation}\n",
    "k=8,9875517923\\mathrm{x}10^{9} \\text{ Nm}^{2}\\text{/C}^{2}\n",
    "\\end{equation}\n",
    "sendo a constante elétrica de Coulomb. Podemos escrerver assim (usa $v=\\sqrt{kZe^{2}/m_{e}r}$ obtido da última equação e o postulado 1):\n",
    "\\begin{equation}\n",
    "L=rp\\sin(\\pi/2)=rm_{e}v=rm_{e}\\sqrt{\\frac{Zke^{2}}{m_{e}r}}=\\sqrt{m_{e}rZke^{2}}=n\\hbar.\n",
    "\\end{equation}\n",
    "Vemos assim que os __raios das órbitas de Bohr__ são dados por:\n",
    "\\begin{equation}\n",
    "r = r_{n} = \\left(\\frac{\\hbar^{2}}{m_{e}ke^{2}}\\right)\\frac{n^{2}}{Z}=:\\frac{a_{0}}{Z}n^{2},\n",
    "\\end{equation}\n",
    "com o __raio de Bohr__ definido como\n",
    "\\begin{equation}\n",
    "a_{0} := \\frac{\\hbar^{2}}{m_{e}ke^{2}} \\approx 0,53 \\text{ }\\overset{\\circ}{A}.\n",
    "\\end{equation}"
   ]
  },
  {
   "cell_type": "code",
   "execution_count": 13,
   "metadata": {},
   "outputs": [
    {
     "data": {
      "image/png": "[encoded data removed]",
      "text/latex": [
       "$$5.2917713530972064e-11$$"
      ],
      "text/plain": [
       "5.2917713530972064e-11"
      ]
     },
     "execution_count": 13,
     "metadata": {},
     "output_type": "execute_result"
    }
   ],
   "source": [
    "a0=(hb**2)/(me*k*e**2); a0"
   ]
  },
  {
   "cell_type": "markdown",
   "metadata": {},
   "source": [
    "A __energia__ total do átomo (consideramos o núcleo como estando em repouso) será então:\n",
    "\\begin{align}\n",
    "E & = E_{c}+E_{p} = \\frac{mv^{2}}{2} - \\frac{kZe^{2}}{r} = \\frac{k(Ze)e}{2r} - \\frac{kZe^{2}}{r} \\\\ \n",
    "& = -\\frac{k(Ze)e}{2r} = -\\frac{k(Ze)e}{2}\\frac{Z}{a_{0}n^{2}} = -\\frac{kZ^{2}e^{2}}{2a_{0}}\\frac{1}{n^{2}}.\n",
    "\\end{align}\n",
    "Ou \n",
    "\\begin{equation}\n",
    "\\color{blue}{E_{n} = \\frac{Z^{2}E_{1}}{n^{2}}},\n",
    "\\end{equation}\n",
    "com a energia do estado fundamental ($n=1$) sendo:\n",
    "\\begin{equation}\n",
    "E_{1} := -\\frac{ke^{2}}{2a_{0}} \\approx -13,61\\text{ eV}.\n",
    "\\end{equation}\n",
    "Abaixo está mostrado o diagrama de níveis de energia e parte do espectro de linhas do átomo de Hidrogênio segundo o modelo de Bohr (o acordo é muito bom entre a teoria e o espectro de linhas mencionado acima)."
   ]
  },
  {
   "cell_type": "code",
   "execution_count": 14,
   "metadata": {},
   "outputs": [],
   "source": [
    "def bohr(Z,n): # em eV\n",
    "    return ((-((k*e**2)/(2*a0))/e)*Z**2)/n**2"
   ]
  },
  {
   "cell_type": "code",
   "execution_count": 15,
   "metadata": {},
   "outputs": [
    {
     "data": {
      "image/png": "[encoded data removed]",
      "text/latex": [
       "$$\\left ( -13.605694947717485, \\quad -3.401423736929371, \\quad -1.5117438830797205, \\quad -0.8503559342323428, \\quad -0.5442277979086994\\right )$$"
      ],
      "text/plain": [
       "(-13.605694947717485, -3.401423736929371, -1.5117438830797205, -0.850355934232\n",
       "3428, -0.5442277979086994)"
      ]
     },
     "execution_count": 15,
     "metadata": {},
     "output_type": "execute_result"
    }
   ],
   "source": [
    "Z=1; (bohr(Z,1),bohr(Z,2),bohr(Z,3),bohr(Z,4),bohr(Z,5))"
   ]
  },
  {
   "cell_type": "code",
   "execution_count": 16,
   "metadata": {},
   "outputs": [],
   "source": [
    "def bohr_ed(Z,xmin,xmax):\n",
    "    plt.hlines(bohr(Z,1),xmin,xmax,color='magenta')\n",
    "    plt.text(-0.15,bohr(Z,1),'1',color='magenta'); plt.text(1.01,bohr(Z,1),'%3.2f' % (bohr(Z,1)),color='magenta')\n",
    "    plt.hlines(bohr(Z,2),xmin,xmax,color='blue')\n",
    "    plt.text(-0.15,bohr(Z,2),'2',color='blue'); plt.text(1.01,bohr(Z,2),'%3.2f' % (bohr(Z,2)),color='blue')\n",
    "    plt.hlines(bohr(Z,3),xmin,xmax,color='cyan') \n",
    "    plt.text(-0.15,bohr(Z,3),'3',color='cyan'); plt.text(1.01,bohr(Z,3),'%3.2f' % (bohr(Z,3)),color='cyan')\n",
    "    plt.hlines(bohr(Z,4),xmin,xmax,color='green')\n",
    "    plt.text(-0.15,bohr(Z,4),'4',color='green'); plt.text(1.01,bohr(Z,4),'%3.2f' % (bohr(Z,4)),color='green')\n",
    "    plt.hlines(bohr(Z,5),xmin,xmax,color='gray'); plt.hlines(bohr(Z,6),xmin,xmax,color='brown')\n",
    "    plt.hlines(bohr(Z,7),xmin,xmax,color='brown'); plt.hlines(bohr(Z,8),xmin,xmax,color='brown')\n",
    "    plt.hlines(bohr(Z,9),xmin,xmax,color='gray'); plt.hlines(bohr(Z,10),xmin,xmax,color='brown')\n",
    "    plt.hlines(bohr(Z,11),xmin,xmax,color='brown')\n",
    "    plt.hlines(0,0,1,color='red')\n",
    "    plt.text(-0.15,0,r'$n=\\infty$',color='red'); plt.text(1.01,0.1,r'0 (eV)',color='red')\n",
    "    plt.annotate(\"\", xy=(0.5,bohr(Z,1)), xytext=(0.5,bohr(Z,2)), arrowprops=dict(arrowstyle=\"<->\"))\n",
    "    plt.text(0.51,(bohr(Z,1)+bohr(Z,2))/2,(c*heV)/(bohr(Z,2)-bohr(Z,1)))\n",
    "    plt.annotate(\"\", xy=(0.7,bohr(Z,2)), xytext=(0.7,bohr(Z,3)), arrowprops=dict(arrowstyle=\"<->\"))\n",
    "    plt.text(0.71,(bohr(Z,2)+bohr(Z,3))/2,(c*heV)/(bohr(Z,3)-bohr(Z,2)))\n",
    "    plt.axis('off'); plt.xlim(0,2); plt.ylim(bohr(Z,1)-0.1,0); plt.show()"
   ]
  },
  {
   "cell_type": "code",
   "execution_count": 17,
   "metadata": {},
   "outputs": [
    {
     "data": {
      "image/png": "[encoded data removed]",
      "text/plain": [
       "<matplotlib.figure.Figure at 0x7ffc33345780>"
      ]
     },
     "metadata": {},
     "output_type": "display_data"
    }
   ],
   "source": [
    "# Diagrama de níveis de energia no modelo de Bohr\n",
    "# Z=1 => H, Z=2 => He^+, Z = 3 => Li^++ \n",
    "Z=1; bohr_ed(Z,0,1)"
   ]
  },
  {
   "cell_type": "code",
   "execution_count": 18,
   "metadata": {},
   "outputs": [
    {
     "data": {
      "image/png": "[encoded data removed]",
      "text/latex": [
       "$$\\left ( 6.561120802854423e-07, \\quad 4.860089483595869e-07, \\quad 4.3393656103534547e-07, \\quad 4.100700501784015e-07, \\quad 3.9690730782699596e-07, \\quad 3.8880715868766953e-07, \\quad 3.6450816930236736e-07\\right )$$"
      ],
      "text/plain": [
       "(6.561120802854423e-07, 4.860089483595869e-07, 4.3393656103534547e-07, 4.10070\n",
       "0501784015e-07, 3.9690730782699596e-07, 3.8880715868766953e-07, 3.645081693023\n",
       "6736e-07)"
      ]
     },
     "execution_count": 18,
     "metadata": {},
     "output_type": "execute_result"
    }
   ],
   "source": [
    "def bohrf(Z,ni,nf): # Frequências de Bohr\n",
    "    return abs((bohr(Z,nf)-bohr(Z,ni))/heV)\n",
    "def bohrl(Z,ni,nf): # Comprimentos de onda de Bohr\n",
    "    return c/bohrf(Z,ni,nf)\n",
    "Z=1; (bohrl(Z,2,3),bohrl(Z,2,4),bohrl(Z,2,5),bohrl(Z,2,6),bohrl(Z,2,7),bohrl(Z,2,8),bohrl(Z,2,10**3))"
   ]
  },
  {
   "cell_type": "code",
   "execution_count": 19,
   "metadata": {},
   "outputs": [
    {
     "data": {
      "image/png": "[encoded data removed]",
      "text/plain": [
       "<matplotlib.figure.Figure at 0x7ffc336456d8>"
      ]
     },
     "metadata": {},
     "output_type": "display_data"
    }
   ],
   "source": [
    "Z=1; plt.figure(figsize=(12,1.5))\n",
    "nf=2; ni=3; plt.vlines(bohrl(Z,ni,nf),0,1,color='red')\n",
    "plt.text(0.98*bohrl(Z,ni,nf),1.05,r'$\\lambda$='+\"% 8.3e\"% (bohrl(Z,ni,nf)),color='red')\n",
    "plt.text(0.991*bohrl(Z,ni,nf),-0.08,str(nf)+r'$\\rightarrow$'+str(ni),color='red')\n",
    "nf=2; ni=4; plt.vlines(bohrl(Z,ni,nf),0,1,color='darkgreen')\n",
    "plt.text(0.98*bohrl(Z,ni,nf),1.05,r'$\\lambda$='+\"% 8.3e\"% (bohrl(Z,ni,nf)),color='darkgreen')\n",
    "plt.text(0.991*bohrl(Z,ni,nf),-0.08,str(nf)+r'$\\rightarrow$'+str(ni),color='darkgreen')\n",
    "nf=2; ni=5; plt.vlines(bohrl(Z,ni,nf),0,1,color='darkmagenta')\n",
    "plt.text(0.98*bohrl(Z,ni,nf),1.05,r'$\\lambda$='+\"% 8.3e\"% (bohrl(Z,ni,nf)),color='darkmagenta')\n",
    "plt.text(0.991*bohrl(Z,ni,nf),-0.08,str(nf)+r'$\\rightarrow$'+str(ni),color='darkmagenta')\n",
    "nf=2; ni=6; plt.vlines(bohrl(Z,ni,nf),0,1,color='darkblue')\n",
    "plt.text(0.96*bohrl(Z,ni,nf),1.05,r'$\\lambda$='+\"% 8.3e\"% (bohrl(Z,ni,nf)),color='darkblue')\n",
    "plt.text(0.991*bohrl(Z,ni,nf),-0.08,str(nf)+r'$\\rightarrow$'+str(ni),color='darkblue')\n",
    "plt.axis('off'); plt.show()"
   ]
  },
  {
   "cell_type": "markdown",
   "metadata": {},
   "source": [
    "## Experimento de Franck-Hertz\n",
    "James Franck [https://www.nobelprize.org/prizes/physics/1925/franck/lecture/] e Gustav Hertz (sobrinho de Heinrich Hertz) [https://www.nobelprize.org/prizes/physics/1925/hertz/lecture/] fizeram um experimento decisivo para a aceitação de uma das consequências principais da teoria de Bohr do átomo, a quantização da energia. O aparato experimental e os resultados obtidos estão ilustrados na figura abaixo.\n",
    "\n",
    "<figure>\n",
    "    <img src=\"fig_04_franck-hertz.png\" width=\"300\">\n",
    "    <div class=\"caption\">Fonte: https://commons.wikimedia.org/wiki/File:Experiencia_Franck_Hertz.svg.</div>\n",
    "</figure>\n",
    "<figure>\n",
    "    <img src=\"fig_04_franck-hertz_.png\" width=\"300\">\n",
    "    <div class=\"caption\">Fonte: https://commons.wikimedia.org/wiki/File:Dades_Experiment_Franck_Hertz.png.</div>\n",
    "</figure>"
   ]
  },
  {
   "cell_type": "markdown",
   "metadata": {},
   "source": [
    "Nesse experimento, o filamento $H$ é usado para aquecer o cátodo $C$, arrancando assim elétrons dele. Esses elétrons são acelerados pela ddp $V_{0}$ aplicada entre $C$ e a grade $G$. Passando pela grade, os elétrons que possuem energia cinética maior que a barreira de potencial $e|V_{p}|$ chegam até a placa $P$, contribuindo assim para a corrente elétrica que é medida pelo amperímetro $A$. \n",
    "\n",
    "Se aumentamos o potencial de aceleração $V_{0}$, aumentamos a energia cinética dos elétrons que passam por $G$. Assim, se fazemos vácuo no tubo, se espera um aumento linear da corrente elétrica com $V_{0}$. No entanto, ao colocar um gás de mercúrio no tubo ($Hg$ possui 80 elétrons), observa-se o comportamento \"oscilatório\" da corrente elétrica, como mostrado na figura do meio. \n",
    "\n",
    "Podemos explicar esses resultados assumindo quantização da energia do átomo. Se o intervalo de energia entre o estado fundamental e primeiro estado excitado do $Hg$ é $4,9\\text{ eV}$, então para $V_{0}<4,9\\text{ V}$ o elétron incidente não possui energia suficiente para excitar elétrons do $Hg$. Para $V_{0}\\ge 4,9\\text{ V}$ os elétrons incidentes excitam os elétrons do $Hg$, perdendo $4,9\\text{ eV}$ de sua energia, o que faz com que eles não tenham energia cinética suficiente para vencer a barreira de potencial $e|V_{p}|$, o que implica numa diminuição da corrente elétrica. Os outros picos de corrente elétrica são entendidos considerando-se múltiplos espalhamentos, o que equivale a excitar múltiplos átomos de $Hg$.\n",
    "\n",
    "Um aspecto decisivo do experimento em favor da teoria de Bohr é que fótons com comprimento de onda\n",
    "\\begin{align}\n",
    "\\lambda = \\frac{c}{\\nu} = \\frac{hc}{4,9\\text{ eV}} \\approx 253,03\\text{ nm}\n",
    "\\end{align}\n",
    "são detectados somente para $V_{0}\\ge4,9\\text{ V}$. Estes são os fótons emitidos pelos átomos de mercúrio quanto o elétron retorda do primeiro estado excitado para o estado fundamental."
   ]
  },
  {
   "cell_type": "code",
   "execution_count": 20,
   "metadata": {},
   "outputs": [
    {
     "data": {
      "image/png": "[encoded data removed]",
      "text/latex": [
       "$$2.530289346903643e-07$$"
      ],
      "text/plain": [
       "2.530289346903643e-07"
      ]
     },
     "execution_count": 20,
     "metadata": {},
     "output_type": "execute_result"
    }
   ],
   "source": [
    "(heV*c)/4.9"
   ]
  },
  {
   "cell_type": "markdown",
   "metadata": {},
   "source": [
    "## Espectro de raios X\n",
    "Segundo a previsão de Bohr, para um átomo de um elétron temos:\n",
    "\\begin{equation}\n",
    "E_{n} = -\\frac{Z^{2}m_{e}k^{2}e^{4}}{2\\hbar^{2}n^{2}}.\n",
    "\\end{equation}\n",
    "Frequências para a série de Lyman são\n",
    "\\begin{equation}\n",
    "\\nu_{n_{i},n_{f}} = \\frac{|E_{n_{i}}-E_{n_{f}}|}{\\hbar}=\\frac{Z^{2}m_{e}k^{2}e^{4}}{2\\hbar^{2}}\\left|\\frac{1}{n_{i}^{2}}-\\frac{1}{n_{f}^{2}}\\right|=cR_{\\infty}Z^{2}\\left|\\frac{1}{n_{i}^{2}}-\\frac{1}{n_{f}^{2}}\\right|,\n",
    "\\end{equation}\n",
    "em que definimos a constante de Rydberg como:\n",
    "\\begin{equation}\n",
    "R_{\\infty} := \\frac{m_{e}k^{2}e^{4}}{4\\pi \\hbar^{3}c} \\approx 1,1\\mathrm{x}10^{7}\\text{ m}^{-1}.\n",
    "\\end{equation}\n",
    "Temos assim que\n",
    "\\begin{equation}\n",
    "Z = \\frac{1}{\\sqrt{cR_{\\infty}\\left|1/n_{i}^{2}-1/n_{f}^{2}\\right|}}\\sqrt{\\nu_{n_{i},n_{f}}}.\n",
    "\\end{equation}\n",
    "Abaixo mostramos algumas curvas para o \"número atômico em função da frequência\", que valem para átomos hidrogenóides. Assumindo que transições que produzem raios X são transições para elétrons internos dos átomos, a dependência dos intervalos de energia, e portanto das frequências, com o número atômico será similar à obtida acima para átomos com um único elétron. Os experimentos de Moseley verificaram esses resultados para muitos tipos de átomos diferentes."
   ]
  },
  {
   "cell_type": "code",
   "execution_count": 21,
   "metadata": {},
   "outputs": [
    {
     "data": {
      "image/png": "[encoded data removed]",
      "text/latex": [
       "$$10973734.848575922$$"
      ],
      "text/plain": [
       "10973734.848575922"
      ]
     },
     "execution_count": 21,
     "metadata": {},
     "output_type": "execute_result"
    }
   ],
   "source": [
    "(me*k**2*e**4)/(4*math.pi*hb**3*c)"
   ]
  },
  {
   "cell_type": "code",
   "execution_count": 22,
   "metadata": {},
   "outputs": [
    {
     "data": {
      "image/png": "[encoded data removed]",
      "text/plain": [
       "<matplotlib.figure.Figure at 0x7ffc337da668>"
      ]
     },
     "metadata": {},
     "output_type": "display_data"
    }
   ],
   "source": [
    "def bohrZ(ni,nf,nu):\n",
    "    return (1/np.sqrt(c*Ri*abs((1/ni**2) - (1/nf**2))))*np.sqrt(nu)\n",
    "def bohrX():\n",
    "    plt.figure(figsize=(5,10))\n",
    "    x = np.arange(6,24,0.1)\n",
    "    y = bohrZ(1,2,x*10**16); plt.plot(x, y, color = 'blue')\n",
    "    y1 = bohrZ(1,3,x*10**16); plt.plot(x, y1, color = 'cyan')\n",
    "    z = bohrZ(2,3,x*10**16); plt.plot(x, z, color = 'green')\n",
    "    z1 = bohrZ(2,4,x*10**16); plt.plot(x, z1, color = 'gray')\n",
    "    z2 = bohrZ(2,5,x*10**16); plt.plot(x, z2, color = 'red')\n",
    "    plt.xlabel(r'$\\sqrt{\\nu}(10^{8}Hz^{-1})$'); plt.ylabel('Z')\n",
    "    plt.legend((r'$K_{\\alpha}$',r'$K_{\\beta}$',r'$L_{\\alpha}$',r'$L_{\\beta}$',r'$L_{\\gamma}$'), loc='upper left')\n",
    "    plt.show()\n",
    "bohrX()"
   ]
  },
  {
   "cell_type": "markdown",
   "metadata": {},
   "source": [
    "# Exercícios\n",
    "1. As séries de Lyman, Balmer, Paschen, Brackett e Pfund para o átomo de Hidrogênio estão relacionadas a comprimentos de onda envolvendo transições com $n_{i}=1,2,3,4,5$, respectivamente. Para cada uma dessas séries, usando o modelo de Bohr, calcule o comprimento de onda dos fótons emitidos quando $n_{f}=n_{i}+1,n_{i}+2,n_{i}+3,n_{i}+\\infty$. Faça um esboço de como ficariam distribuídas essas linhas em um chapa fotográfica, em função do comprimento de onda.\n",
    "\n",
    "1. Se o momento angular da Terra fosse quantizado, como o do átomo de Hidrogênio, qual seria o número quântico do estado estacionário da Terra (use como raio da órbita da Terra $1,5\\mathrm{x}10^{11}\\text{ m}$)? Qual seria a energia liberada em uma transição para o nível de energia imediatamente inferior? Se essa energia fosse emitida e.g. na forma de uma onda gravitacional, ela seria fácil de detectar? Qual seria o raio da nova órbita?\n",
    "\n",
    "1. Usando LASERs sintonizáveis, foram preparados os chamados átomos de Rydberg, ou átomos gigantes, do Sódio com $n\\approx 100$. O diâmetro desse átomo corresponderia àquele do átomo de Hidrogênio para $n\\approx 600$. Qual seria esse diâmetro? Qual seria a velocidade do elétron nessa órbita? Qual é a razão dessa velocidade e àquela obtida com $n=1$?\n",
    "\n",
    "1. A transição do primeiro estado excitado para o estado fundamental do átomo de Potássio resulta na emissão de um fóton com comprimento de onda $\\lambda=770\\text{ nm}$. Se o experimento de Franck-Hertz for executado com vapor de Potássio, para que valor da tensão deverá ocorrer a primeira queda da corrente elétrica? \n",
    "\n",
    "1. Moseley previu que átomos com números atômicos $Z=43,61\\text{ e } 75$ deveriam existir. Usando a teoria de Bohr como aproximação, calcule os comprimentos e frequências dos 'raios X' que seriam emitidos por esses átomos na linha $K_{\\alpha}$ para $n_{i}=2,3$."
   ]
  }
 ],
 "metadata": {
  "kernelspec": {
   "display_name": "Python 3",
   "language": "python",
   "name": "python3"
  },
  "language_info": {
   "codemirror_mode": {
    "name": "ipython",
    "version": 3
   },
   "file_extension": ".py",
   "mimetype": "text/x-python",
   "name": "python",
   "nbconvert_exporter": "python",
   "pygments_lexer": "ipython3",
   "version": "3.6.4"
  }
 },
 "nbformat": 4,
 "nbformat_minor": 2
}
