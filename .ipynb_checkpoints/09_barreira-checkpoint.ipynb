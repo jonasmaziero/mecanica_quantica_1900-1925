{
 "cells": [
  {
   "cell_type": "markdown",
   "metadata": {},
   "source": [
    "# Notas de aula: Mecânica Quântica, Autor: Jonas Maziero\n",
    "\n",
    "Links para os vídeos da aulas sobre esse tópico: https://youtu.be/IGS1N1bEu8U e https://youtu.be/fZnf471dRG8."
   ]
  },
  {
   "cell_type": "code",
   "execution_count": 2,
   "metadata": {},
   "outputs": [],
   "source": [
    "%run init.ipynb"
   ]
  },
  {
   "cell_type": "markdown",
   "metadata": {},
   "source": [
    "# Potencial Barreira\n",
    "Para a barreira de potencial, podemos escrever a função energia potencial como:\n",
    "\\begin{cases}\n",
    "U(x<0)=0, \\\\\n",
    "U(0<x<a)=U_{0}=\\text{constante}, \\\\\n",
    "U(x>a)=0.\n",
    "\\end{cases}\n",
    "As soluções da equação de Schrödinher, que, para as três regiões, pode ser escrita na forma \n",
    "\\begin{equation}\n",
    "\\partial_{xx}\\Xi(x)+k^{2}\\Xi(x)=0,\n",
    "\\end{equation}\n",
    "são obtidas como no caso do potencial dregrau. \n",
    "\n",
    "## $E<U_{0}$\n",
    "Nesse caso as soluções da EqSIT1D podem ser escritas na forma\n",
    "\\begin{cases}\n",
    "\\Xi_{e}(x<0) = c_{ed}e^{ik_{e}x} + c_{ee}e^{-ik_{e}x}, \\\\\n",
    "\\Xi_{b}(0<x<a) = c_{bd}e^{-k_{b}x} + c_{bc}e^{k_{b}x}, \\\\\n",
    "\\Xi_{d}(x>a) = c_{dd}e^{ik_{e}x} + c_{de}e^{-ik_{e}x},\n",
    "\\end{cases}\n",
    "com\n",
    "\\begin{equation}\n",
    "k_{e}=\\frac{\\sqrt{2mE}}{\\hbar} \\text{ e } k_{b}=\\frac{\\sqrt{2m(U_{0}-E)}}{\\hbar}.\n",
    "\\end{equation}\n",
    "Assim\n",
    "\\begin{equation}\n",
    "\\frac{k_{b}}{k_{e}} = \\frac{\\sqrt{2m(U_{0}-E)}}{\\sqrt{2mE}} \\therefore k_{b} = k_{e}\\sqrt{\\frac{U_{0}}{E}-1}.\n",
    "\\end{equation}\n",
    "OBS. Aqui não usarei o til para diferenciar os dois casos.\n",
    "\n",
    "Novamente, $c_{ed}$ determina o fluxo de quantons incidindo na barreira de potencial e consideramos que os quantons movem-se inicialmente na região $x<0$ da esquerda para a direita. Pontanto, se o quanton passou para a região $x>a$ não há motivo para este retornar, então\n",
    "\\begin{equation}\n",
    "c_{de} := 0.\n",
    "\\end{equation}"
   ]
  },
  {
   "cell_type": "markdown",
   "metadata": {},
   "source": [
    "As outras constantes, $c_{ee},c_{bd},c_{ba},c_{dd}$, são determinadas, em termos de $c_{ed}$, impondo a continuidade da função de onda e de sua primeira derivada. Usando\n",
    "\\begin{cases}\n",
    "\\partial_{x}\\Xi_{e} = ik_{e}\\left(c_{ed}e^{ik_{e}x}-c_{ee}e^{-ik_{e}x}\\right), \\\\\n",
    "\\partial_{x}\\Xi_{b} = -k_{b}\\left(c_{bd}e^{-k_{b}x}-c_{bc}e^{k_{b}x}\\right), \\\\\n",
    "\\partial_{x}\\Xi_{d} = ik_{e}c_{dd}e^{ik_{e}x},\n",
    "\\end{cases}\n",
    "teremos\n",
    "\\begin{align}\n",
    "\\Xi_{e}(x=0) = \\Xi_{b}(x=0) & \\\\\n",
    "& \\therefore c_{ed}+c_{ee}=c_{bd}+c_{bc} \\therefore -c_{ee}+c_{bd}+c_{bc}+0c_{dd}=c_{ed}, \\\\\n",
    "\\Xi_{b}(x=a) = \\Xi_{d}(x=a) & \\\\ \n",
    "& \\therefore c_{bd}e^{-k_{b}a}+c_{bc}e^{k_{b}a}=c_{dd}e^{ik_{e}a} \\therefore 0c_{ee}+e^{-k_{b}a}c_{bd}+e^{k_{b}a}c_{bc}-e^{ik_{e}a}c_{dd}=0, \\\\\n",
    "\\partial_{x}\\Xi_{e}(x=0)=\\partial_{x}\\Xi_{b}(x=0) & \\\\ \n",
    "& \\therefore ik_{e}(c_{ed}-c_{ee})=-k_{b}(c_{bd}-c_{bc}) \\therefore ik_{e}c_{ee}-k_{b}c_{bd}+k_{b}c_{bc}+0c_{dd}=ik_{e}c_{ed}, \\\\\n",
    "\\partial_{x}\\Xi_{e}(x=a)=\\partial_{x}\\Xi_{b}(x=a) & \\\\ \n",
    "& \\therefore -k_{b}\\left(c_{bd}e^{-k_{b}a}-c_{bc}e^{k_{b}a}\\right) = ik_{e}c_{dd}e^{ik_{e}a} \\therefore 0c_{ee}-k_{b}e^{-k_{b}a}c_{bd}+k_{b}e^{k_{b}a}c_{bc}-ik_{e}e^{ik_{e}a}c_{dd}=0.\n",
    "\\end{align}\n",
    "Ou, na forma matricial,\n",
    "\\begin{equation}\n",
    "\\begin{bmatrix} -1&1&1&0 \\\\ 0&e^{-k_{b}a}&e^{k_{b}a}&-e^{ik_{e}a} \\\\ ik_{e}&-k_{b}&k_{b}&0 \\\\ 0&-k_{b}e^{-k_{b}a}&k_{b}e^{k_{b}a}&-ik_{e}e^{ik_{e}a} \\end{bmatrix}\\begin{bmatrix} c_{ee}\\\\c_{bd}\\\\c_{bc}\\\\c_{dd}\\end{bmatrix}=\\begin{bmatrix} c_{ed} \\\\ 0 \\\\ ik_{e}c_{ed} \\\\ 0\\end{bmatrix}\\text{ ou } A|x\\rangle=|y\\rangle.\n",
    "\\end{equation}\n",
    "Se $\\det(A)\\ne 0$, a inversa de $A$ existe e a solução desse sistema de equações lineares não homogêneo é\n",
    "\\begin{equation}\n",
    "|x\\rangle=A^{-1}|y\\rangle \\text{, com } (A^{-1})_{j,k}=\\frac{(-1)^{k+j}\\det(A^{(k,j)})}{\\det(A)}\n",
    "\\end{equation}\n",
    "(veja https://github.com/jonasmaziero/algebra_linear/blob/master/01_determinant.ipynb). No entanto, essas contas são muito longas para os propósitos dessa disciplina, e por isso usaremos os resultados obtidos com o Sympy, como mostrado abaixo."
   ]
  },
  {
   "cell_type": "code",
   "execution_count": 3,
   "metadata": {},
   "outputs": [],
   "source": [
    "a, ke, kb, ced, cee, cbd, cbc, cdd = symbols('a k_{e} k_{b} c_{ed} c_{ee} c_{bd} c_{bc} c_{dd}')\n",
    "A = Matrix([[-1,1,1,0],[0,exp(-kb*a),exp(kb*a),-exp(1j*ke*a)],[1j*ke,-kb,kb,0],\n",
    "            [0,-kb*exp(-kb*a),kb*exp(kb*a),-1j*ke*exp(1j*ke*a)]])#; A"
   ]
  },
  {
   "cell_type": "code",
   "execution_count": 4,
   "metadata": {},
   "outputs": [],
   "source": [
    "Am1 = A.inv()#; simplify(Am1)"
   ]
  },
  {
   "cell_type": "code",
   "execution_count": 5,
   "metadata": {},
   "outputs": [
    {
     "data": {
      "image/png": "[encoded data removed]",
      "text/latex": [
       "$$- \\frac{1.0 c_{ed} \\left(- 1.0 k_{b}^{3} e^{4 a k_{b}} + 1.0 k_{b}^{3} + 1.0 i k_{b}^{2} k_{e} e^{4 a k_{b}} - 2.0 i k_{b}^{2} k_{e} e^{2 a k_{b}} + 1.0 i k_{b}^{2} k_{e} - 1.0 k_{b} k_{e}^{2} e^{4 a k_{b}} + 1.0 k_{b} k_{e}^{2} + 1.0 i k_{e}^{3} e^{4 a k_{b}} - 2.0 i k_{e}^{3} e^{2 a k_{b}} + 1.0 i k_{e}^{3}\\right)}{- 1.0 k_{b}^{3} e^{4 a k_{b}} + 1.0 k_{b}^{3} + 3.0 i k_{b}^{2} k_{e} e^{4 a k_{b}} + 2.0 i k_{b}^{2} k_{e} e^{2 a k_{b}} + 3.0 i k_{b}^{2} k_{e} + 3.0 k_{b} k_{e}^{2} e^{4 a k_{b}} - 3.0 k_{b} k_{e}^{2} - 1.0 i k_{e}^{3} e^{4 a k_{b}} + 2.0 i k_{e}^{3} e^{2 a k_{b}} - 1.0 i k_{e}^{3}}$$"
      ],
      "text/plain": [
       "            ⎛           3  4⋅a⋅k_{b}            3              2        4⋅a⋅k_\n",
       "-1.0⋅c_{ed}⋅⎝- 1.0⋅k_{b} ⋅ℯ          + 1.0⋅k_{b}  + 1.0⋅ⅈ⋅k_{b} ⋅k_{e}⋅ℯ      \n",
       "──────────────────────────────────────────────────────────────────────────────\n",
       "                  3  4⋅a⋅k_{b}            3              2        4⋅a⋅k_{b}   \n",
       "       - 1.0⋅k_{b} ⋅ℯ          + 1.0⋅k_{b}  + 3.0⋅ⅈ⋅k_{b} ⋅k_{e}⋅ℯ          + \n",
       "\n",
       "{b}              2        2⋅a⋅k_{b}              2                        2  4\n",
       "    - 2.0⋅ⅈ⋅k_{b} ⋅k_{e}⋅ℯ          + 1.0⋅ⅈ⋅k_{b} ⋅k_{e} - 1.0⋅k_{b}⋅k_{e} ⋅ℯ \n",
       "──────────────────────────────────────────────────────────────────────────────\n",
       "           2        2⋅a⋅k_{b}              2                        2  4⋅a⋅k_{\n",
       "2.0⋅ⅈ⋅k_{b} ⋅k_{e}⋅ℯ          + 3.0⋅ⅈ⋅k_{b} ⋅k_{e} + 3.0⋅k_{b}⋅k_{e} ⋅ℯ       \n",
       "\n",
       "⋅a⋅k_{b}                  2              3  4⋅a⋅k_{b}              3  2⋅a⋅k_{b\n",
       "         + 1.0⋅k_{b}⋅k_{e}  + 1.0⋅ⅈ⋅k_{e} ⋅ℯ          - 2.0⋅ⅈ⋅k_{e} ⋅ℯ        \n",
       "──────────────────────────────────────────────────────────────────────────────\n",
       "b}                  2              3  4⋅a⋅k_{b}              3  2⋅a⋅k_{b}     \n",
       "   - 3.0⋅k_{b}⋅k_{e}  - 1.0⋅ⅈ⋅k_{e} ⋅ℯ          + 2.0⋅ⅈ⋅k_{e} ⋅ℯ          - 1.\n",
       "\n",
       "}              3⎞ \n",
       "  + 1.0⋅ⅈ⋅k_{e} ⎠ \n",
       "──────────────────\n",
       "         3        \n",
       "0⋅ⅈ⋅k_{e}         "
      ]
     },
     "execution_count": 5,
     "metadata": {},
     "output_type": "execute_result"
    }
   ],
   "source": [
    "cee = Am1[0,0]*ced + 0 + Am1[0,2]*1j*ke*ced + 0; simplify(cee)"
   ]
  },
  {
   "cell_type": "code",
   "execution_count": 6,
   "metadata": {},
   "outputs": [
    {
     "data": {
      "image/png": "[encoded data removed]",
      "text/latex": [
       "$$\\frac{1.0 c_{ed} k_{e} \\left(2.0 i k_{b}^{2} e^{2 a k_{b}} + 2.0 i k_{b}^{2} + 4.0 k_{b} k_{e} e^{2 a k_{b}} - 2.0 i k_{e}^{2} e^{2 a k_{b}} + 2.0 i k_{e}^{2}\\right) e^{2 a k_{b}}}{- 1.0 k_{b}^{3} e^{4 a k_{b}} + 1.0 k_{b}^{3} + 3.0 i k_{b}^{2} k_{e} e^{4 a k_{b}} + 2.0 i k_{b}^{2} k_{e} e^{2 a k_{b}} + 3.0 i k_{b}^{2} k_{e} + 3.0 k_{b} k_{e}^{2} e^{4 a k_{b}} - 3.0 k_{b} k_{e}^{2} - 1.0 i k_{e}^{3} e^{4 a k_{b}} + 2.0 i k_{e}^{3} e^{2 a k_{b}} - 1.0 i k_{e}^{3}}$$"
      ],
      "text/plain": [
       "                                                                   ⎛          \n",
       "                                                  1.0⋅c_{ed}⋅k_{e}⋅⎝2.0⋅ⅈ⋅k_{b\n",
       "──────────────────────────────────────────────────────────────────────────────\n",
       "           3  4⋅a⋅k_{b}            3              2        4⋅a⋅k_{b}          \n",
       "- 1.0⋅k_{b} ⋅ℯ          + 1.0⋅k_{b}  + 3.0⋅ⅈ⋅k_{b} ⋅k_{e}⋅ℯ          + 2.0⋅ⅈ⋅k\n",
       "\n",
       " 2  2⋅a⋅k_{b}              2                    2⋅a⋅k_{b}              2  2⋅a⋅\n",
       "} ⋅ℯ          + 2.0⋅ⅈ⋅k_{b}  + 4.0⋅k_{b}⋅k_{e}⋅ℯ          - 2.0⋅ⅈ⋅k_{e} ⋅ℯ    \n",
       "──────────────────────────────────────────────────────────────────────────────\n",
       "    2        2⋅a⋅k_{b}              2                        2  4⋅a⋅k_{b}     \n",
       "_{b} ⋅k_{e}⋅ℯ          + 3.0⋅ⅈ⋅k_{b} ⋅k_{e} + 3.0⋅k_{b}⋅k_{e} ⋅ℯ          - 3.\n",
       "\n",
       "k_{b}              2⎞  2⋅a⋅k_{b}                                              \n",
       "      + 2.0⋅ⅈ⋅k_{e} ⎠⋅ℯ                                                       \n",
       "──────────────────────────────────────────────────────────────────────────────\n",
       "             2              3  4⋅a⋅k_{b}              3  2⋅a⋅k_{b}            \n",
       "0⋅k_{b}⋅k_{e}  - 1.0⋅ⅈ⋅k_{e} ⋅ℯ          + 2.0⋅ⅈ⋅k_{e} ⋅ℯ          - 1.0⋅ⅈ⋅k_{\n",
       "\n",
       "   \n",
       "   \n",
       "───\n",
       "  3\n",
       "e} "
      ]
     },
     "execution_count": 6,
     "metadata": {},
     "output_type": "execute_result"
    }
   ],
   "source": [
    "cbd = Am1[1,0]*ced + 0 + Am1[1,2]*1j*ke*ced + 0; simplify(cbd)"
   ]
  },
  {
   "cell_type": "code",
   "execution_count": 7,
   "metadata": {},
   "outputs": [
    {
     "data": {
      "image/png": "[encoded data removed]",
      "text/latex": [
       "$$\\frac{1.0 c_{ed} k_{e} \\left(2.0 i k_{b}^{2} e^{2 a k_{b}} + 2.0 i k_{b}^{2} - 4.0 k_{b} k_{e} + 2.0 i k_{e}^{2} e^{2 a k_{b}} - 2.0 i k_{e}^{2}\\right)}{- 1.0 k_{b}^{3} e^{4 a k_{b}} + 1.0 k_{b}^{3} + 3.0 i k_{b}^{2} k_{e} e^{4 a k_{b}} + 2.0 i k_{b}^{2} k_{e} e^{2 a k_{b}} + 3.0 i k_{b}^{2} k_{e} + 3.0 k_{b} k_{e}^{2} e^{4 a k_{b}} - 3.0 k_{b} k_{e}^{2} - 1.0 i k_{e}^{3} e^{4 a k_{b}} + 2.0 i k_{e}^{3} e^{2 a k_{b}} - 1.0 i k_{e}^{3}}$$"
      ],
      "text/plain": [
       "                                                                              \n",
       "                                                             1.0⋅c_{ed}⋅k_{e}⋅\n",
       "──────────────────────────────────────────────────────────────────────────────\n",
       "           3  4⋅a⋅k_{b}            3              2        4⋅a⋅k_{b}          \n",
       "- 1.0⋅k_{b} ⋅ℯ          + 1.0⋅k_{b}  + 3.0⋅ⅈ⋅k_{b} ⋅k_{e}⋅ℯ          + 2.0⋅ⅈ⋅k\n",
       "\n",
       "⎛           2  2⋅a⋅k_{b}              2                                2  2⋅a⋅\n",
       "⎝2.0⋅ⅈ⋅k_{b} ⋅ℯ          + 2.0⋅ⅈ⋅k_{b}  - 4.0⋅k_{b}⋅k_{e} + 2.0⋅ⅈ⋅k_{e} ⋅ℯ    \n",
       "──────────────────────────────────────────────────────────────────────────────\n",
       "    2        2⋅a⋅k_{b}              2                        2  4⋅a⋅k_{b}     \n",
       "_{b} ⋅k_{e}⋅ℯ          + 3.0⋅ⅈ⋅k_{b} ⋅k_{e} + 3.0⋅k_{b}⋅k_{e} ⋅ℯ          - 3.\n",
       "\n",
       "k_{b}              2⎞                                                         \n",
       "      - 2.0⋅ⅈ⋅k_{e} ⎠                                                         \n",
       "──────────────────────────────────────────────────────────────────────────────\n",
       "             2              3  4⋅a⋅k_{b}              3  2⋅a⋅k_{b}            \n",
       "0⋅k_{b}⋅k_{e}  - 1.0⋅ⅈ⋅k_{e} ⋅ℯ          + 2.0⋅ⅈ⋅k_{e} ⋅ℯ          - 1.0⋅ⅈ⋅k_{\n",
       "\n",
       "   \n",
       "   \n",
       "───\n",
       "  3\n",
       "e} "
      ]
     },
     "execution_count": 7,
     "metadata": {},
     "output_type": "execute_result"
    }
   ],
   "source": [
    "cbc = Am1[2,0]*ced + 0 + Am1[2,2]*1j*ke*ced + 0; simplify(cbc)"
   ]
  },
  {
   "cell_type": "code",
   "execution_count": 8,
   "metadata": {},
   "outputs": [
    {
     "data": {
      "image/png": "[encoded data removed]",
      "text/latex": [
       "$$- \\frac{4.0 i c_{ed} k_{b} k_{e} e^{a \\left(k_{b} - 1.0 i k_{e}\\right)}}{2 k_{b} \\left(k_{b} - 1.0 i k_{e}\\right) e^{2 a k_{b}} - \\left(k_{b} + 1.0 i k_{e}\\right) \\left(k_{b} + 1.0 i k_{e} + \\left(k_{b} - 1.0 i k_{e}\\right) e^{2 a k_{b}}\\right)}$$"
      ],
      "text/plain": [
       "                                                              a⋅(k_{b} - 1.0⋅ⅈ\n",
       "                                   -4.0⋅ⅈ⋅c_{ed}⋅k_{b}⋅k_{e}⋅ℯ                \n",
       "──────────────────────────────────────────────────────────────────────────────\n",
       "                               2⋅a⋅k_{b}                         ⎛            \n",
       "2⋅k_{b}⋅(k_{b} - 1.0⋅ⅈ⋅k_{e})⋅ℯ          - (k_{b} + 1.0⋅ⅈ⋅k_{e})⋅⎝k_{b} + 1.0⋅\n",
       "\n",
       "⋅k_{e})                                    \n",
       "                                           \n",
       "───────────────────────────────────────────\n",
       "                                 2⋅a⋅k_{b}⎞\n",
       "ⅈ⋅k_{e} + (k_{b} - 1.0⋅ⅈ⋅k_{e})⋅ℯ         ⎠"
      ]
     },
     "execution_count": 8,
     "metadata": {},
     "output_type": "execute_result"
    }
   ],
   "source": [
    "cdd = Am1[3,0]*ced + 0 + Am1[3,2]*1j*ke*ced + 0; simplify(cdd)"
   ]
  },
  {
   "cell_type": "markdown",
   "metadata": {},
   "source": [
    "## Densidade de probabilidade\n",
    "Assumiremos $c_{ed}\\in\\mathbb{R}$. Usando as expressões obtidas acima para os coeficientes das funções de onda, obteremos à esquerda da barreira:\n",
    "\\begin{align}\n",
    "|\\Xi_{e}|^{2} & = \\Xi_{e}\\Xi_{e}^{*} = \\left(c_{ed}e^{ik_{e}x}+c_{ee}e^{-ik_{e}x}\\right)\\left(c_{ed}^{*}e^{-ik_{e}x}+c_{ee}^{*}e^{ik_{e}x}\\right) = |c_{ed}|^{2} + c_{ed}c_{ee}^{*}e^{2ik_{e}x} + c_{ee}c_{ed}^{*}e^{-ik_{e}x} + |c_{ee}|^{2} \\\\\n",
    "& = |c_{ed}|^{2} + |c_{ee}|^{2} + 2\\Re\\left(c_{ed}c_{ee}^{*}e^{2ik_{e}x}\\right)= c_{ed}^{2} + |c_{ee}|^{2} + 2c_{ed}\\left(\\Re(c_{ee}^{*})\\Re\\left(e^{2ik_{e}x}\\right)-\\Im(c_{ee}^{*})\\Im\\left(e^{2ik_{e}x}\\right)\\right) \\\\\n",
    "& = c_{ed}^{2} + |c_{ee}|^{2} + 2c_{ed}\\left(\\Re(c_{ee})\\cos(2k_{e}x)+\\Im(c_{ee})\\sin(2k_{e}x)\\right).\n",
    "\\end{align}\n",
    "Na barreira\n",
    "\\begin{align}\n",
    "|\\Xi_{b}|^{2} & = \\Xi_{b}\\Xi_{b}^{*} = \\left(c_{bd}e^{-k_{b}x}+c_{bc}e^{k_{b}x}\\right)\\left(c_{bd}^{*}e^{-k_{b}x}+c_{bc}^{*}e^{k_{b}x}\\right) = |c_{bd}|^{2}e^{-2k_{b}x} + c_{bd}c_{bc}^{*} + c_{bd}^{*}c_{bc} + |c_{bc}|^{2}e^{2k_{b}x} \\\\\n",
    "& = |c_{bd}|^{2}e^{-2k_{b}x} + |c_{bc}|^{2}e^{2k_{b}x} + 2\\Re(c_{bd}c_{bc}^{*}) = |c_{bd}|^{2}e^{-2k_{b}x} + |c_{bc}|^{2}e^{2k_{b}x} + 2(\\Re(c_{bd})\\Re(c_{bc}^{*})-\\Im(c_{bd})\\Im(c_{bc}^{*})) \\\\\n",
    "& = |c_{bd}|^{2}e^{-2k_{b}x} + |c_{bc}|^{2}e^{2k_{b}x} + 2(\\Re(c_{bd})\\Re(c_{bc})+\\Im(c_{bd})\\Im(c_{bc})).\n",
    "\\end{align}\n",
    "À direita da barreira\n",
    "\\begin{align}\n",
    "|\\Xi_{d}|^{2} & = \\Xi_{d}\\Xi_{d}^{*} = c_{dd}e^{ik_{e}x}c_{dd}^{*}e^{-ik_{e}x} = |c_{dd}|^{2}.\n",
    "\\end{align}"
   ]
  },
  {
   "cell_type": "code",
   "execution_count": 9,
   "metadata": {},
   "outputs": [
    {
     "data": {
      "application/vnd.jupyter.widget-view+json": {
       "model_id": "7eeccc9f165e423ab7b25f7647970155",
       "version_major": 2,
       "version_minor": 0
      },
      "text/plain": [
       "interactive(children=(FloatSlider(value=0.241, description='E', max=0.499, min=0.001, step=0.01), FloatSlider(…"
      ]
     },
     "metadata": {},
     "output_type": "display_data"
    }
   ],
   "source": [
    "def E_lt_U0(E,a):\n",
    "    U0 = 0.5; m = 1; ke = math.sqrt(2*m*E); kb = math.sqrt(U0/E-1)*ke; ced = 0.5\n",
    "    # usando inv\n",
    "    '''cee = -ced*(-kb**3*math.exp(4*a*kb)+kb**3+1j*kb**2*ke*math.exp(4*a*kb) - 2*1j*kb**2*ke*math.exp(2*a*kb) + 1j*kb**2*ke - kb*ke**2*math.exp(4*a*kb) + kb*ke**2 + 1j*ke**3*math.exp(4*a*kb) - 2*1j*ke**3*math.exp(2*a*kb) + 1j*ke**3)\n",
    "    den = -kb**3*math.exp(4*a*kb) + kb**3 + 3*1j*kb**2*ke*math.exp(4*a*kb) + 2*1j*kb**2*ke*math.exp(2*a*kb) + 3*1j*kb**2*ke + 3*kb*ke**2*math.exp(4*a*kb) - 3*kb*ke**2 - 1j*ke**3*math.exp(4*a*kb) + 2*1j*ke**3*math.exp(2*a*kb) - 1j*ke**3\n",
    "    cee /= den#; print(cee)\n",
    "    cbd = ced*ke*math.exp(2*a*kb)*(2*1j*kb**2*math.exp(2*a*kb) + 2*1j*kb**2 + 4*kb*ke*math.exp(2*a*kb) - 2*1j*ke**2*math.exp(2*a*kb) + 2*1j*ke**2)\n",
    "    cbd /= den#; print(cbd)\n",
    "    cbc = ced*ke*(2*1j*kb**2*math.exp(2*a*kb) + 2*1j*kb**2 - 4*kb*ke + 2*1j*ke**2*math.exp(2*a*kb) - 2*1j*ke**2)\n",
    "    cbc /= den#; print(cbc)\n",
    "    cdd = -4*1j*ced*kb*ke*math.exp(a*kb)*(math.cos(ke*a)-1j*math.sin(ke*a))\n",
    "    cdd /= 2*kb*(kb - 1j*ke)*math.exp(2*a*kb) - (kb + 1j*ke)*(kb + 1j*ke + (kb - 1j*ke)*math.exp(2*a*kb))\n",
    "    #print(cdd)'''\n",
    "    # usando solve\n",
    "    den = -1j*kb**2*math.exp(2*a*kb)*math.sin(a*ke) - kb**2*math.exp(2*a*kb)*math.cos(a*ke) + 1j*kb**2*math.sin(a*ke) + kb**2*math.cos(a*ke) - 2*kb*ke*math.exp(2*a*kb)*math.sin(a*ke) + 2*1j*kb*ke*math.exp(2*a*kb)*math.cos(a*ke) - 2*kb*ke*math.sin(a*ke) + 2*1j*kb*ke*math.cos(a*ke) + 1j*ke**2*math.exp(2*a*kb)*math.sin(a*ke) + ke**2*math.exp(2*a*kb)*math.cos(a*ke) - 1j*ke**2*math.sin(a*ke) - ke**2*math.cos(a*ke) \n",
    "    #print('den = ',den)\n",
    "    cee = ced*(1j*kb**2*math.exp(2*a*kb)*math.sin(a*ke) + kb**2*math.exp(2*a*kb)*math.cos(a*ke) - 1j*kb**2*math.sin(a*ke) - kb**2*math.cos(a*ke) + 1j*ke**2*math.exp(2*a*kb)*math.sin(a*ke) + ke**2*math.exp(2*a*kb)*math.cos(a*ke) - 1j*ke**2*math.sin(a*ke) - ke**2*math.cos(a*ke))\n",
    "    cee /= den#; print('cee = ',cee)\n",
    "    cbc = 2*ced*ke*(-kb*math.sin(a*ke) + 1j*kb*math.cos(a*ke) - 1j*ke*math.sin(a*ke) - ke*math.cos(a*ke))\n",
    "    cbc /= den#; print('cbc = ',cbc)\n",
    "    cbd = 2*1j*ced*ke*(kb*(math.cos(a*ke)+1j*math.sin(a*ke)) + ke*(math.sin(a*ke) - 1j*math.cos(a*ke)))*math.exp(2*a*kb)\n",
    "    cbd /= den#; print('cbd = ',cbd)\n",
    "    cdd = 4*1j*ced*kb*ke*math.exp(a*kb)\n",
    "    cdd /= den#; print('cdd = ',cdd)\n",
    "    fig = plt.figure(figsize=(15,6)); \n",
    "    N = 1000; xmin = -5*math.pi; xmax = -xmin; dx = (xmax-xmin)/N; x = np.zeros(N); y = np.zeros(N)\n",
    "    for j in range(0,N):\n",
    "        x[j] = xmin + j*dx\n",
    "        if x[j] < 0:\n",
    "            y[j] = ced**2 + (cee.real)**2 + (cee.imag)**2 + 2*ced*((cee.real)*math.cos(2*ke*x[j])+(cee.imag)*math.sin(2*ke*x[j]))\n",
    "        elif x[j] > 0 and x[j] < a:\n",
    "            y[j] = ((cbd.real)**2+(cbd.imag)**2)*math.exp(-2*kb*x[j])+((cbc.real)**2+(cbc.imag)**2)*math.exp(2*kb*x[j])+2*((cbd.real)*(cbc.real)+(cbd.imag)*(cbc.imag))\n",
    "        elif x[j] > a:\n",
    "            y[j] = (cdd.real)**2+(cdd.imag)**2\n",
    "    plt.annotate(r'$E=$'+str(E)[:5], xy=(xmax-8,0.8), xytext=(xmax-8,0.8), fontsize=12)\n",
    "    plt.plot(x,y); plt.xlabel(r'$x$',fontsize=10); plt.ylabel(r'$|\\Xi|^{2}$',fontsize=15)\n",
    "    plt.annotate(r'$a=$'+str(a)[:4], xy=(a,0), xytext=(a,0), fontsize=12)\n",
    "    #plt.legend(r'$|\\Xi|^{2}$',loc=(1.01,0.2))\n",
    "    plt.xlim(xmin,xmax); plt.ylim(0,1)\n",
    "    plt.annotate(\"\", xy=(0,0), xytext=(0,U0), arrowprops=dict(arrowstyle=\"-\"))\n",
    "    plt.annotate(\"\", xy=(a,0), xytext=(a,U0), arrowprops=dict(arrowstyle=\"-\"))\n",
    "    plt.annotate(\"\", xy=(0-0.08,U0-0.005), xytext=(a+0.08,U0-0.005), arrowprops=dict(arrowstyle=\"-\"))\n",
    "    plt.show()\n",
    "interactive(E_lt_U0, E=(0+10**-3,0.5-10**-3,0.01), a=(0.1,10,0.1))"
   ]
  },
  {
   "cell_type": "markdown",
   "metadata": {},
   "source": [
    "OBS. O limite de $a$ \"muito\" grande fornece o mesmo comportamento do potencial degrau. <br>"
   ]
  },
  {
   "cell_type": "markdown",
   "metadata": {},
   "source": [
    "## Tunelamento quântico\n",
    "No caso da barreira de potencial, como quantons podem ser refletidos tanto em $x=0$ quanto em $x=a$, iniciaremos calculando o coeficiente de transmissão, que é dado por:\n",
    "\\begin{equation}\n",
    "T:=\\frac{|c_{dd}|^{2}}{|c_{ed}|^{2}},\n",
    "\\end{equation}\n",
    "uma vez que a velocidade é a mesma, $\\omega/k_{e}$, nas regiões $x<0$ e $x>a$. Simplificando,\n",
    "\\begin{align}\n",
    "c_{dd} & = \\frac{-ic_{ed}4k_{e}k_{b}e^{k_{b}a}e^{-ik_{e}a}}{2k_{b}(k_{b}-ik_{e})e^{2k_{b}a}-(k_{b}+ik_{e})(k_{b}+ik_{e}+(k_{b}-ik_{e})e^{2k_{b}a})} \\\\\n",
    "& = \\frac{-ic_{ed}4k_{e}k_{b}e^{k_{b}a}e^{-ik_{e}a}} {2(k_{b}^{2}-ik_{b}k_{e})e^{2k_{b}a}-k_{b}^{2}-2ik_{b}k_{e}+k_{e}^{2}-(k_{b}^{2}+k_{e}^{2})e^{2k_{b}a}} \\\\\n",
    "& = \\frac{-ic_{ed}4k_{e}k_{b}e^{k_{b}a}e^{-ik_{e}a}} {(2k_{b}^{2}-k_{b}^{2}-k_{e}^{2})e^{2k_{b}a}-k_{b}^{2}+k_{e}^{2}-2ik_{b}k_{e}(e^{2k_{b}a}+1)}\\frac{e^{-k_{b}a}}{e^{-k_{b}a}} \\\\\n",
    "& = \\frac{-ic_{ed}4k_{e}k_{b}e^{-ik_{e}a}} {(k_{b}^{2}-k_{e}^{2})e^{k_{b}a}-(k_{b}^{2}-k_{e}^{2})e^{-k_{b}a}-2ik_{b}k_{e}(e^{k_{b}a}+e^{-k_{b}a})}\\frac{1/4k_{b}k_{e}}{1/4k_{b}k_{e}} \\\\\n",
    "& = \\frac{-ic_{ed}e^{-ik_{e}a}} {\\frac{k_{b}^{2}-k_{e}^{2}}{2k_{b}k_{e}}\\frac{e^{k_{b}a}-e^{-k_{b}a}}{2}-i\\frac{e^{k_{b}a}+e^{-k_{b}a}}{2}} \\\\\n",
    "& = \\frac{-ie^{-ik_{e}a}} {\\frac{k_{b}^{2}-k_{e}^{2}}{2k_{b}k_{e}}\\sinh(k_{b}a)-i\\cosh(k_{b}a)}c_{ed}.\n",
    "\\end{align}"
   ]
  },
  {
   "cell_type": "markdown",
   "metadata": {},
   "source": [
    "Segue assim que\n",
    "\\begin{align}\n",
    "T & = \\frac{1} {\\frac{(k_{b}^{2}-k_{e}^{2})^{2}}{4k_{b}^{2}k_{e}^{2}}\\sinh^{2}(k_{b}a)+\\cosh^{2}(k_{b}a)} = \\frac{4k_{b}^{2}k_{e}^{2}} {(k_{b}^{4}+k_{e}^{4}-2k_{b}^{2}k_{e}^{2})\\sinh^{2}(k_{b}a)+4k_{b}^{2}k_{e}^{2}\\cosh^{2}(k_{b}a)} \\\\\n",
    "& = \\frac{4k_{b}^{2}k_{e}^{2}} {(k_{b}^{4}+k_{e}^{4}+2k_{b}^{2}k_{e}^{2})\\sinh^{2}(k_{b}a)+4k_{b}^{2}k_{e}^{2}(\\cosh^{2}(k_{b}a)-\\sinh^{2}(k_{b}a))} \\\\\n",
    "& = \\frac{1} {\\frac{(k_{b}^{2}+k_{e}^{2})^{2}}{4k_{b}^{2}k_{e}^{2}}\\sinh^{2}(k_{b}a)+1}.\n",
    "\\end{align}\n",
    "Como \n",
    "\\begin{align}\n",
    "& \\frac{(k_{b}^{2}+k_{e}^{2})^{2}}{k_{b}^{2}k_{e}^{2}} = \\frac{(2m(U_{0}-E)+2mE)^{2}}{2m(U_{0}-E)2mE} = \\frac{U_{0}^{2}}{E(U_{0}-E)} = \\frac{1}{\\frac{E}{U_{0}}\\left(1-\\frac{E}{U_{0}}\\right)}.\n",
    "\\end{align}\n",
    "obteremos, finalmente, que\n",
    "\\begin{equation}\n",
    "T = \\left(\\frac{\\sinh^{2}\\left(ak_{e}\\sqrt{\\frac{U_{0}}{E}-1}\\right)}{4\\frac{E}{U_{0}}\\left(1-\\frac{E}{U_{0}}\\right)}+1\\right)^{-1}.\n",
    "\\end{equation}"
   ]
  },
  {
   "cell_type": "code",
   "execution_count": 10,
   "metadata": {},
   "outputs": [
    {
     "data": {
      "application/vnd.jupyter.widget-view+json": {
       "model_id": "e28eded4bfbc45ba91f28849b56fe558",
       "version_major": 2,
       "version_minor": 0
      },
      "text/plain": [
       "interactive(children=(FloatSlider(value=1.9500000000000002, description='a', max=4.0, min=0.05), Output()), _d…"
      ]
     },
     "metadata": {},
     "output_type": "display_data"
    }
   ],
   "source": [
    "def EltU0(a):\n",
    "    fig = plt.figure(figsize=(8,5)); U0 = 1; m = 1; hbb = 1\n",
    "    x = np.arange(0.01,0.999,0.005); ke = np.sqrt(2*m*x)/hbb; kb = np.sqrt((U0/x)-1)*ke\n",
    "    T = 1/(1+((np.sinh(kb*a)**2)*((kb**2+ke**2)**2/(4*kb**2*ke**2)))); R = 1-T\n",
    "    plt.plot(x,R); plt.plot(x,T); plt.xlim(0,1); plt.ylim(-0.01,1.01)\n",
    "    plt.xlabel(r'$E/U_{0}$'); plt.legend((r'$R$',r'$T$'),loc=(1.01,0.5))\n",
    "    plt.annotate(r'$a=$'+str(a)[:5], xy=(0.8,0.9), xytext=(0.8,0.9), fontsize=12)\n",
    "    plt.show()\n",
    "interactive(EltU0, a=(0.05,4,0.1))"
   ]
  },
  {
   "cell_type": "markdown",
   "metadata": {},
   "source": [
    "### Aplicações\n",
    "Vemos assim que, ao contrário do regime clássico, no regime quântico um quanton pode, mesmo tendo energia menor do que a altura da barreira, passar para o outro lado. Esse fenômeno é o chamado de __tunelamento quântico__. O tunelamendo quântico, assim como vários outros fenômenos quânticos, podem ser pensados como sendo cosequência do aspecto ondulatório dos quantons. No caso do tunelamento quântico, existe um fenômeno ondulatório clássico análogo, que é a chamada __reflexão interna total frustrada__.\n",
    "\n",
    "O tunelamento quântico possui muitas aplicações físicas e tecnológicas: O funcionamento do _olfato_ envolve, em parte, o tunelamento quântico [https://www.ted.com/talks/luca_turin_the_science_of_scent?utm_campaign=tedspread&utm_medium=referral&utm_source=tedcomshare], que tem associado um _espectroscópio_ para medida de frequências de vibrações moleculares. Esse fenômeno também tem outras aplicações tecnológicas importantes tais como o _microscópio de varredura por tunelamento_ [https://www.nobelprize.org/prizes/physics/1986/rohrer/lecture/], o _diodo túnel_ [https://www.nobelprize.org/prizes/physics/1973/esaki/lecture/], as _juncões Josephson_ [https://www.nobelprize.org/prizes/physics/1973/josephson/lecture/], os _relógios atômicos_ [https://cienciahoje.org.br/coluna/se-nao-fosse-o-relogio-atomico/], etc."
   ]
  },
  {
   "cell_type": "markdown",
   "metadata": {},
   "source": [
    "---\n",
    "# Exercícios\n",
    "\n",
    "1. Dadas as definições $\\sinh(x):=(e^{x}-e^{-x})/2$ e $\\cosh(x):=(e^{x}+e^{-x})/2$, verifique que $\\cosh^{2}(x)-\\sinh^{2}(x)=1$.\n",
    "\n",
    "1. Uma camada de óxido, em um dispositivo semicondutor, forma uma barreira de $0,6\\text{ nm}$ de largura e $9\\text{ eV}$ de altura. Para elétrons acelerados com uma ddp de $4\\text{ V}$, qual é a fração deles que consegue atravessar a barreira? Qual deveria ser a ddp de aceleração para que o valor de $T$ seja o dobro desse valor?\n",
    "\n",
    "1. Faça todos os cálculos necessários para obter o coeficiente de trasmissão para $E>U_{0}$, sob as mesmas condições iniciais usadas acima. Faça um gráfico de $T$ e $R$ versus $E/U_{0}$."
   ]
  },
  {
   "cell_type": "markdown",
   "metadata": {},
   "source": [
    "---\n",
    "#### Contas relacionadas aos exercícios"
   ]
  },
  {
   "cell_type": "code",
   "execution_count": 11,
   "metadata": {},
   "outputs": [
    {
     "data": {
      "image/png": "[encoded data removed]",
      "text/latex": [
       "$$\\left[\\begin{matrix}1 & -1 & -1 & 0\\\\0 & e^{1.0 i a k_{b}} & e^{- 1.0 i a k_{b}} & - e^{1.0 i a k_{e}}\\\\- k_{e} & - k_{b} & k_{b} & 0\\\\0 & k_{b} e^{1.0 i a k_{b}} & - k_{b} e^{- 1.0 i a k_{b}} & - k_{e} e^{1.0 i a k_{e}}\\end{matrix}\\right]$$"
      ],
      "text/plain": [
       "⎡  1              -1                     -1                      0          ⎤\n",
       "⎢                                                                           ⎥\n",
       "⎢            1.0⋅ⅈ⋅a⋅k_{b}         -1.0⋅ⅈ⋅a⋅k_{b}           1.0⋅ⅈ⋅a⋅k_{e}   ⎥\n",
       "⎢  0        ℯ                     ℯ                       -ℯ                ⎥\n",
       "⎢                                                                           ⎥\n",
       "⎢-k_{e}         -k_{b}                 k_{b}                     0          ⎥\n",
       "⎢                                                                           ⎥\n",
       "⎢               1.0⋅ⅈ⋅a⋅k_{b}          -1.0⋅ⅈ⋅a⋅k_{b}          1.0⋅ⅈ⋅a⋅k_{e}⎥\n",
       "⎣  0     k_{b}⋅ℯ               -k_{b}⋅ℯ                -k_{e}⋅ℯ             ⎦"
      ]
     },
     "execution_count": 11,
     "metadata": {},
     "output_type": "execute_result"
    }
   ],
   "source": [
    "#3\n",
    "A = Matrix([[1,-1,-1,0],[0,exp(1j*kb*a),exp(-1j*kb*a),-exp(1j*ke*a)],\n",
    "            [-ke,-kb,kb,0],[0,kb*exp(1j*kb*a),-kb*exp(-1j*kb*a),-ke*exp(1j*ke*a)]])\n",
    "A"
   ]
  },
  {
   "cell_type": "code",
   "execution_count": 12,
   "metadata": {},
   "outputs": [
    {
     "data": {
      "image/png": "[encoded data removed]",
      "text/latex": [
       "$$\\frac{4 c_{ed} k_{b} k_{e} e^{1.0 i a \\left(k_{b} - k_{e}\\right)}}{2 k_{b} \\left(k_{b} + k_{e}\\right) - \\left(k_{b} - k_{e}\\right) \\left(k_{b} + k_{e} + \\left(k_{b} - k_{e}\\right) e^{2.0 i a k_{b}}\\right)}$$"
      ],
      "text/plain": [
       "                                            1.0⋅ⅈ⋅a⋅(k_{b} - k_{e})           \n",
       "                      4⋅c_{ed}⋅k_{b}⋅k_{e}⋅ℯ                                  \n",
       "──────────────────────────────────────────────────────────────────────────────\n",
       "                                          ⎛                                 2.\n",
       "2⋅k_{b}⋅(k_{b} + k_{e}) - (k_{b} - k_{e})⋅⎝k_{b} + k_{e} + (k_{b} - k_{e})⋅ℯ  \n",
       "\n",
       "            \n",
       "            \n",
       "────────────\n",
       "0⋅ⅈ⋅a⋅k_{b}⎞\n",
       "           ⎠"
      ]
     },
     "execution_count": 12,
     "metadata": {},
     "output_type": "execute_result"
    }
   ],
   "source": [
    "Ainv = A.inv()\n",
    "cdd = Ainv[3,0]*(-ced) + Ainv[3,2]*(-ke*ced); simplify(cdd)"
   ]
  },
  {
   "cell_type": "markdown",
   "metadata": {},
   "source": [
    "Coeficiente de transmissão:\n",
    "\\begin{equation}\n",
    "T = \\frac{|c_{dd}|^{2}}{|c_{ed}|^{2}} = \\left(1+\\frac{(k_{b}^{2}-k_{e}^{2})^{2}}{4k_{b}^{2}k_{e}^{2}}\\sin^{2}(k_{b}a)\\right)^{-1}.\n",
    "\\end{equation}"
   ]
  },
  {
   "cell_type": "code",
   "execution_count": 13,
   "metadata": {},
   "outputs": [
    {
     "data": {
      "application/vnd.jupyter.widget-view+json": {
       "model_id": "60fb9d5cf63f40b887dfe6686224b750",
       "version_major": 2,
       "version_minor": 0
      },
      "text/plain": [
       "interactive(children=(FloatSlider(value=2.41, description='a', max=5.0, min=0.01), Output()), _dom_classes=('w…"
      ]
     },
     "metadata": {},
     "output_type": "display_data"
    }
   ],
   "source": [
    "def EltU0(a):\n",
    "    fig = plt.figure(figsize=(8,5)); U0 = 1; m = 1; hbb = 1\n",
    "    x = np.arange(0.01,0.999,0.005); ke = np.sqrt(2*m*x)/hbb; kb = np.sqrt((U0/x)-1)*ke\n",
    "    T = 1/(1+((np.sinh(kb*a)**2)*((kb**2+ke**2)**2/(4*kb**2*ke**2)))); R = 1-T\n",
    "    plt.plot(x,R,color='blue'); plt.plot(x,T,color='red')\n",
    "    x = np.arange(1.001,12,0.005); ke = np.sqrt(2*m*x)/hbb; kb = np.sqrt(1-U0/x)*ke\n",
    "    T = 1/(1+(((np.sin(kb*a))**2)*((kb**2-ke**2)**2/(4*kb**2*ke**2)))); R = 1-T\n",
    "    plt.plot(x,R,color='blue'); plt.plot(x,T,color='red')\n",
    "    plt.xlim(0,12); plt.ylim(-0.01,1.01)\n",
    "    plt.xlabel(r'$E/U_{0}$'); plt.legend((r'$R$',r'$T$'),loc=(1.01,0.5))\n",
    "    plt.annotate(r'$a=$'+str(a)[:5], xy=(10,0.9), xytext=(10,0.9), fontsize=12)\n",
    "    plt.show()\n",
    "interactive(EltU0, a=(0.01,5,0.1))"
   ]
  },
  {
   "cell_type": "code",
   "execution_count": null,
   "metadata": {},
   "outputs": [],
   "source": []
  }
 ],
 "metadata": {
  "kernelspec": {
   "display_name": "Python 3",
   "language": "python",
   "name": "python3"
  },
  "language_info": {
   "codemirror_mode": {
    "name": "ipython",
    "version": 3
   },
   "file_extension": ".py",
   "mimetype": "text/x-python",
   "name": "python",
   "nbconvert_exporter": "python",
   "pygments_lexer": "ipython3",
   "version": "3.6.4"
  }
 },
 "nbformat": 4,
 "nbformat_minor": 2
}
