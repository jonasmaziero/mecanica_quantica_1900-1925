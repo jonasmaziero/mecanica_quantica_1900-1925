{
 "cells": [
  {
   "cell_type": "markdown",
   "metadata": {},
   "source": [
    "## Notas de aula de Mecânica Quântica <br> Autor: Jonas Maziero\n",
    "\n",
    "Link para os vídeos das aulas sobre esse tópico: https://youtu.be/XE7WweIAZRs e https://youtu.be/f4kVTR-NpJc."
   ]
  },
  {
   "cell_type": "code",
   "execution_count": 1,
   "metadata": {},
   "outputs": [],
   "source": [
    "%run init.ipynb\n",
    "%run numerics.ipynb"
   ]
  },
  {
   "cell_type": "markdown",
   "metadata": {},
   "source": [
    "# Potencial poço quadrado finito\n",
    "O potencial de um quanton em uma caixa unidimensional é\n",
    "\\begin{cases}\n",
    "U(x<0)= U_{0}, \\\\\n",
    "U(0<x<a) = 0, \\\\\n",
    "U(x>a) = U_{0},\n",
    "\\end{cases}\n",
    "com $U_{0}$ finito. Para esse potencial, a forma geral das soluções da EqSIT1D,\n",
    "\\begin{equation}\n",
    "-\\frac{\\hbar^{2}}{2m}\\partial_{xx}\\Xi(x)+U(x)\\Xi(x)=E\\Xi(x) \\text{ ou } \\partial_{xx}\\Xi(x)+k^{2}\\Xi(x)=0\n",
    "\\end{equation}\n",
    "com $k=\\sqrt{2m(E-U(x))}/\\hbar$, podem ser escritas como segue:\n",
    "\\begin{equation}\n",
    "\\Xi(x)=c_{d}e^{ik_{e}x}+c_{e}e^{-ik_{e}x}.\n",
    "\\end{equation}"
   ]
  },
  {
   "cell_type": "markdown",
   "metadata": {},
   "source": [
    "## $E>U_{0}$\n",
    "Nesse caso o problema vira um problema de espalhamento. As soluções para as três regiões podem ser escritas na forma\n",
    "\\begin{cases}\n",
    "\\Xi_{e}(x<0) = c_{ed}e^{ik_{e}x}+c_{ee}e^{-ik_{e}x}, \\\\\n",
    "\\Xi_{i}(0<x<a) = c_{id}e^{ik_{i}x}+c_{ie}e^{-ik_{i}x}, \\\\\n",
    "\\Xi_{d}(x>a) = c_{dd}e^{ik_{e}x}+c_{de}e^{-ik_{e}x}, \\\\\n",
    "\\end{cases}\n",
    "com\n",
    "\\begin{equation}\n",
    "k_{e} = \\frac{\\sqrt{2m(E-U_{0})}}{\\hbar} \\text{ e } k_{i} = \\frac{\\sqrt{2mE}}{\\hbar}.\n",
    "\\end{equation}\n",
    "\n",
    "Como com os outros problemas desse tipo, que vimos anteriormente, vamos considerar o quanton movimentando-se inicialmente na região $x<0$ da esquerda para a direita, i.e., a intensidade do feixe incidente é dada por $|c_{ed}|^{2}$. Novamente, como depois de passar para a região $x>a$ não há motivo para o quanton retornar para a esquerda, fazemos\n",
    "\\begin{equation}\n",
    "c_{de}:=0.\n",
    "\\end{equation}\n",
    "Para determinar os outros coeficientes em termos de $c_{ed}$ impomos a continuidade da função de onda\n",
    "\\begin{align}\n",
    "& \\Xi_{e}(x=0)=\\Xi_{i}(x=0) \\therefore c_{ed}+c_{ee}=c_{id}+c_{ie}, \\\\\n",
    "& \\Xi_{i}(x=a)=\\Xi_{d}(x=a) \\therefore c_{id}e^{ik_{i}a}+c_{ie}e^{-ik_{i}a} = c_{dd}e^{ik_{e}a},\n",
    "\\end{align}\n",
    "Para $U_{0}$ finito, a primeira derivada,\n",
    "\\begin{align}\n",
    "&\\partial_{x}\\Xi_{e} = ik_{e}\\left(c_{ed}e^{ik_{e}x}-c_{ee}e^{-ik_{e}x}\\right), \\\\\n",
    "&\\partial_{x}\\Xi_{i} = ik_{i}\\left(c_{id}e^{ik_{i}x}-c_{ie}e^{-ik_{i}x}\\right), \\\\\n",
    "&\\partial_{x}\\Xi_{d} = ik_{e}c_{dd}e^{ik_{e}x},\n",
    "\\end{align}\n",
    "também deve ser contínua:\n",
    "\\begin{align}\n",
    "& \\partial_{x}\\Xi_{e}(x=0)=\\partial_{x}\\Xi_{i}(x=0) \\therefore ik_{e}(c_{ed}-c_{ee})=ik_{i}(c_{id}-c_{ie}), \\\\\n",
    "& \\partial_{x}\\Xi_{i}(x=a)=\\partial_{x}\\Xi_{d}(x=a) \\therefore ik_{i}\\left(c_{id}e^{ik_{i}a}-c_{ie}e^{-ik_{i}a}\\right) = ik_{e}c_{dd}e^{ik_{e}a}.\n",
    "\\end{align}\n",
    "A solução desse sistema de equações lineares não homogêneo é obtido usando o código abaixo."
   ]
  },
  {
   "cell_type": "code",
   "execution_count": 2,
   "metadata": {},
   "outputs": [
    {
     "data": {
      "image/png": "[encoded data removed]",
      "text/latex": [
       "$$\\left \\{ c_{dd} : \\frac{4.0 c_{ed} k_{e} k_{i} e^{i a \\left(- k_{e} + k_{i}\\right)}}{- k_{e}^{2} e^{2.0 i a k_{i}} + k_{e}^{2} + 2.0 k_{e} k_{i} e^{2.0 i a k_{i}} + 2.0 k_{e} k_{i} - k_{i}^{2} e^{2.0 i a k_{i}} + k_{i}^{2}}, \\quad c_{ee} : \\frac{c_{ed} \\left(k_{e}^{2} e^{2.0 i a k_{i}} - k_{e}^{2} - k_{i}^{2} e^{2.0 i a k_{i}} + k_{i}^{2}\\right)}{k_{e}^{2} e^{2.0 i a k_{i}} - k_{e}^{2} - 2.0 k_{e} k_{i} e^{2.0 i a k_{i}} - 2.0 k_{e} k_{i} + k_{i}^{2} e^{2.0 i a k_{i}} - k_{i}^{2}}, \\quad c_{id} : \\frac{2.0 c_{ed} k_{e} \\left(k_{e} + k_{i}\\right)}{- k_{e}^{2} e^{2.0 i a k_{i}} + k_{e}^{2} + 2.0 k_{e} k_{i} e^{2.0 i a k_{i}} + 2.0 k_{e} k_{i} - k_{i}^{2} e^{2.0 i a k_{i}} + k_{i}^{2}}, \\quad c_{ie} : \\frac{2.0 c_{ed} k_{e} \\left(k_{e} - k_{i}\\right) e^{2.0 i a k_{i}}}{k_{e}^{2} e^{2.0 i a k_{i}} - k_{e}^{2} - 2.0 k_{e} k_{i} e^{2.0 i a k_{i}} - 2.0 k_{e} k_{i} + k_{i}^{2} e^{2.0 i a k_{i}} - k_{i}^{2}}\\right \\}$$"
      ],
      "text/plain": [
       "⎧                                                                    ⅈ⋅a⋅(-k_{\n",
       "⎪                                            4.0⋅c_{ed}⋅k_{e}⋅k_{i}⋅ℯ         \n",
       "⎨c_{dd}: ─────────────────────────────────────────────────────────────────────\n",
       "⎪               2  2.0⋅ⅈ⋅a⋅k_{i}        2                    2.0⋅ⅈ⋅a⋅k_{i}    \n",
       "⎩        - k_{e} ⋅ℯ              + k_{e}  + 2.0⋅k_{e}⋅k_{i}⋅ℯ              + 2\n",
       "\n",
       "e} + k_{i})                                                                   \n",
       "                                                                              \n",
       "───────────────────────────────────────────────, c_{ee}: ─────────────────────\n",
       "                      2  2.0⋅ⅈ⋅a⋅k_{i}        2               2  2.0⋅ⅈ⋅a⋅k_{i}\n",
       ".0⋅k_{e}⋅k_{i} - k_{i} ⋅ℯ              + k_{i}           k_{e} ⋅ℯ             \n",
       "\n",
       "       ⎛     2  2.0⋅ⅈ⋅a⋅k_{i}        2        2  2.0⋅ⅈ⋅a⋅k_{i}        2⎞      \n",
       "c_{ed}⋅⎝k_{e} ⋅ℯ              - k_{e}  - k_{i} ⋅ℯ              + k_{i} ⎠      \n",
       "──────────────────────────────────────────────────────────────────────────────\n",
       "        2                    2.0⋅ⅈ⋅a⋅k_{i}                          2  2.0⋅ⅈ⋅a\n",
       " - k_{e}  - 2.0⋅k_{e}⋅k_{i}⋅ℯ              - 2.0⋅k_{e}⋅k_{i} + k_{i} ⋅ℯ       \n",
       "\n",
       "                                                                              \n",
       "                                                                   2.0⋅c_{ed}⋅\n",
       "───────────────, c_{id}: ─────────────────────────────────────────────────────\n",
       "⋅k_{i}        2                 2  2.0⋅ⅈ⋅a⋅k_{i}        2                    2\n",
       "       - k_{i}           - k_{e} ⋅ℯ              + k_{e}  + 2.0⋅k_{e}⋅k_{i}⋅ℯ \n",
       "\n",
       "                                                                              \n",
       "k_{e}⋅(k_{e} + k_{i})                                                         \n",
       "───────────────────────────────────────────────────────────────, c_{ie}: ─────\n",
       ".0⋅ⅈ⋅a⋅k_{i}                          2  2.0⋅ⅈ⋅a⋅k_{i}        2               \n",
       "             + 2.0⋅k_{e}⋅k_{i} - k_{i} ⋅ℯ              + k_{i}           k_{e}\n",
       "\n",
       "                                                              2.0⋅ⅈ⋅a⋅k_{i}   \n",
       "                            2.0⋅c_{ed}⋅k_{e}⋅(k_{e} - k_{i})⋅ℯ                \n",
       "──────────────────────────────────────────────────────────────────────────────\n",
       "2  2.0⋅ⅈ⋅a⋅k_{i}        2                    2.0⋅ⅈ⋅a⋅k_{i}                    \n",
       " ⋅ℯ              - k_{e}  - 2.0⋅k_{e}⋅k_{i}⋅ℯ              - 2.0⋅k_{e}⋅k_{i} +\n",
       "\n",
       "                               ⎫\n",
       "                               ⎪\n",
       "───────────────────────────────⎬\n",
       "      2  2.0⋅ⅈ⋅a⋅k_{i}        2⎪\n",
       " k_{i} ⋅ℯ              - k_{i} ⎭"
      ]
     },
     "execution_count": 2,
     "metadata": {},
     "output_type": "execute_result"
    }
   ],
   "source": [
    "ced, cee, cid, cie, cdd, ke, ki, a = symbols('c_{ed} c_{ee} c_{id} c_{ie} c_{dd} k_{e} k_{i} a')\n",
    "solve([ced+cee-cid-cie, cid*exp(1j*ki*a)+cie*exp(-1j*ki*a)-cdd*exp(1j*ke*a), ke*(ced-cee)-ki*(cid-cie),\n",
    "      ki*(cid*exp(1j*ki*a)-cie*exp(-1j*ki*a))-ke*cdd*exp(1j*ke*a)],[cee,cid,cie,cdd])"
   ]
  },
  {
   "cell_type": "markdown",
   "metadata": {},
   "source": [
    "O coeficiente de transmissão é obtido a partir do coeficiente \n",
    "\\begin{align}\n",
    "c_{dd} & = \\frac{c_{ed}4k_{e}k_{i}e^{-iak_{e}}e^{iak_{i}}}{(k_{e}^{2}+k_{i}^{2})(1-e^{2iak_{i}})+2k_{i}k_{e}(1+e^{2iak_{i}})} = \\frac{c_{ed}e^{-iak_{e}}}{\\frac{k_{e}^{2}+k_{i}^{2}}{2k_{e}k_{i}}\\frac{e^{-iak_{i}}-e^{iak_{i}}}{2}+\\frac{e^{-iak_{i}}+e^{iak_{i}}}{2}} \\\\\n",
    "& = \\frac{c_{ed}e^{-iak_{e}}}{-i\\frac{k_{e}^{2}+k_{i}^{2}}{2k_{e}k_{i}}\\sin(ak_{i})+\\cos(ak_{i})}\n",
    "\\end{align}\n",
    "e é dado por\n",
    "\\begin{align}\n",
    "T & = \\frac{|c_{dd}|^{2}}{|c_{ed}|^{2}} = \\left(\\frac{(k_{e}^{2}+k_{i}^{2})^{2}}{4k_{e}^{2}k_{i}^{2}}\\sin^{2}(ak_{i})+\\cos^{2}(ak_{i})\\right)^{-1} = \\left(\\frac{k_{e}^{4}+k_{i}^{4}-2k_{e}^{2}k_{i}^{2}+4k_{e}^{2}k_{i}^{2}}{4k_{e}^{2}k_{i}^{2}}\\sin^{2}(ak_{i})+\\cos^{2}(ak_{i})\\right)^{-1}  \\\\ \n",
    "& = \\left(\\frac{(k_{e}^{2}-k_{i}^{2})^{2}}{4k_{e}^{2}k_{i}^{2}}\\sin^{2}(ak_{i})+1\\right)^{-1}.\n",
    "\\end{align}\n",
    "Na figura abaixo está mostrado $T=T(E/U_{0})$ para energias $E>U_{0}$ quaisquer."
   ]
  },
  {
   "cell_type": "code",
   "execution_count": 4,
   "metadata": {},
   "outputs": [
    {
     "data": {
      "application/vnd.jupyter.widget-view+json": {
       "model_id": "83305e1abfa0444682ff2a8c614777e9",
       "version_major": 2,
       "version_minor": 0
      },
      "text/plain": [
       "interactive(children=(FloatSlider(value=4.95, description='a', max=10.0, min=0.05), Output()), _dom_classes=('…"
      ]
     },
     "metadata": {},
     "output_type": "display_data"
    }
   ],
   "source": [
    "def T_EgtU0(a):\n",
    "    fig = plt.figure(figsize=(8,5)); U0 = 1; m = 1; hbb = 1\n",
    "    x = np.arange(1.001,10,0.005); ki = np.sqrt(2*m*x)/hbb; ke = np.sqrt(1-U0/x)*ki\n",
    "    T = 1/(1+((np.sin(ki*a)**2)*((ke**2-ki**2)**2/(4*ke**2*ki**2)))); R = 1-T\n",
    "    plt.plot(x,R); plt.plot(x,T); plt.xlim(1,); plt.ylim(-0.01,1.01)\n",
    "    plt.xlabel(r'$E/U_{0}$'); plt.legend((r'$R$',r'$T$'),loc=(1.01,0.5))\n",
    "    plt.annotate(r'$a=$'+str(a)[:5], xy=(8,0.9), xytext=(8,0.9), fontsize=12)\n",
    "    plt.show()\n",
    "interactive(T_EgtU0, a=(0.05,10,0.1))"
   ]
  },
  {
   "cell_type": "markdown",
   "metadata": {},
   "source": [
    "### Efeito Ramsauer-Townsend\n",
    "Vemos na expressão acima que $T=1$ quando $\\sin(ak_{i})=0$, o que é obtido quando $ak_{i}=n\\pi$ com $n=1,2,3,\\cdots$. Mas, como $k_{i}=\\sqrt{2mE}/\\hbar$, essa condição é equivalente ao quanton ter inicialmente as energias\n",
    "\\begin{equation}\n",
    "E=\\frac{\\hbar^{2}k_{i}^{2}}{2m} = \\left(\\frac{\\hbar^{2}\\pi^{2}}{2m a^{2}}\\right)n^{2},\n",
    "\\end{equation}\n",
    "que é igual à expressão para a energia de um quanton em um potencial poço quadrado infinito. Esse fenômeno já foi verificado experimentalmente [https://doi.org/10.1119/1.1975094]. "
   ]
  },
  {
   "cell_type": "markdown",
   "metadata": {},
   "source": [
    "## $E<U_{0}$\n",
    "Nesse caso, vamos definir\n",
    "\\begin{equation}\n",
    "k_{d}:=ik_{e} = \\frac{\\sqrt{2m(U_{0}-E)}}{\\hbar}>0.\n",
    "\\end{equation}\n",
    "Assim $\\Xi_{e}(x<0) = c_{ed}e^{k_{d}x}+c_{ee}e^{-k_{d}x}$ e como $\\lim_{x\\rightarrow -\\infty}e^{-k_{d}x}=\\infty$ fazemos\n",
    "\\begin{equation}\n",
    "c_{ee} :=0\\therefore\\Xi_{e}(x<0) = c_{ed}e^{k_{d}x}.\n",
    "\\end{equation}\n",
    "\n",
    "Já para $\\Xi_{d}(x>a) = c_{dd}e^{k_{d}x}+c_{de}e^{-k_{d}x}$ temos que $\\lim_{x\\rightarrow \\infty}e^{k_{d}x}=\\infty$ e por isso impomos que\n",
    "\\begin{equation}\n",
    "c_{dd}:= 0 \\therefore \\Xi_{d}(x>a) = c_{de}e^{-k_{d}x}.\n",
    "\\end{equation}\n",
    "\n",
    "Usando as derivadas\n",
    "\\begin{cases}\n",
    "\\partial_{x}\\Xi_{e}(x<0) = k_{d}c_{ed}e^{k_{d}x}, \\\\\n",
    "\\partial_{x}\\Xi_{i}(0<x<a) = ik_{i}\\left(c_{id}e^{ik_{i}x}-c_{ie}e^{-ik_{i}x}\\right), \\\\\n",
    "\\partial_{x}\\Xi_{d}(x>a) = -k_{d}c_{de}e^{-k_{d}x}, \\\\\n",
    "\\end{cases}"
   ]
  },
  {
   "cell_type": "markdown",
   "metadata": {},
   "source": [
    "aplicamos a continuidade da função de onda e de sua derivada primeira nas fronteiras:\n",
    "\\begin{align}\n",
    "& (\\star) \\text{ } \\Xi_{e}(x=0)=\\Xi_{i}(x=0) \\therefore c_{ed} = c_{id}+c_{ie}, \\\\\n",
    "& (*) \\text{ } \\partial_{x}\\Xi_{e}(x=0)=\\partial_{x}\\Xi_{i}(x=0) \\therefore k_{d}c_{ed} = ik_{i}(c_{id}-c_{ie}), \\\\\n",
    "& (\\star\\star) \\text{ } \\Xi_{i}(x=a)=\\Xi_{d}(x=a) \\therefore c_{id}e^{ik_{i}a}+c_{ie}e^{-ik_{i}a} = c_{de}e^{-k_{d}a}, \\\\\n",
    "& (**) \\text{ } \\partial_{x}\\Xi_{i}(x=a)=\\partial_{x}\\Xi_{d}(x=a) \\therefore ik_{i}\\left(c_{id}e^{ik_{i}a}-c_{ie}e^{-ik_{i}a}\\right) = -k_{d}c_{de}e^{-k_{d}a}.\n",
    "\\end{align}"
   ]
  },
  {
   "cell_type": "markdown",
   "metadata": {},
   "source": [
    "Substituindo a eq. ($\\star$) na eq. ($*$) obteremos\n",
    "\\begin{align}\n",
    "& k_{d}c_{ed}= k_{d}(c_{id}+c_{ie}) = ik_{i}(c_{id}-c_{ie}) \\therefore c_{ie}(k_{d}+ik_{i})=c_{id}(ik_{i}-k_{d}) \\\\\n",
    "& c_{ie} = \\frac{ik_{i}-k_{d}}{ik_{i}+k_{d}}c_{id}.\n",
    "\\end{align}\n",
    "Desse último resultado temos que $|c_{ie}|=|c_{id}|$, o indica a formação de uma onda estacionária na região $0<x<a$. Podemos confirmar isso substituindo essa última relação na função de onda:\n",
    "\\begin{align}\n",
    "\\Xi_{i}(0<x<a) & = c_{id}e^{ik_{i}x}+\\frac{ik_{i}-k_{d}}{ik_{i}+k_{d}}c_{id}e^{-ik_{i}x} = c_{id}\\frac{ik_{i}+k_{d}}{ik_{i}+k_{d}}e^{ik_{i}x}+\\frac{ik_{i}-k_{d}}{ik_{i}+k_{d}}c_{id}e^{-ik_{i}x} \\\\\n",
    "& = \\frac{c_{id}ik_{i}}{ik_{i}+k_{d}}\\left(e^{ik_{i}x}+e^{-ik_{i}x}\\right) + \\frac{c_{id}k_{d}}{ik_{i}+k_{d}}\\left(e^{ik_{i}x}-e^{-ik_{i}x}\\right) \\\\\n",
    "& = \\frac{2c_{id}ik_{i}}{ik_{i}+k_{d}}\\cos(k_{i}x) + \\frac{2ic_{id}k_{d}}{ik_{i}+k_{d}}\\sin(k_{i}x) \\\\\n",
    "& =: A\\sin(k_{i}x) + B\\cos(k_{i}x).\n",
    "\\end{align}"
   ]
  },
  {
   "cell_type": "markdown",
   "metadata": {},
   "source": [
    "### Usando a simetria de $U(x)$\n",
    "Pela _simetria do potencial_ em relação aos pontos $x=0$ e $x=a$, esperamos que a densidade de probabilidade seja a mesma nesses pontos\n",
    "\\begin{align}\n",
    "& |\\Xi_{e}(x=0)|^{2} = |\\Xi_{d}(x=a)|^{2} \\therefore |c_{ed}e^{k_{d}0}|^{2} = |c_{de}e^{-k_{d}a}|^{2} \\\\\n",
    "& \\therefore |c_{ed}|^{2} = |c_{de}|^{2}e^{-2k_{d}a}.\n",
    "\\end{align}\n",
    "\n",
    "Substituindo $c_{ie}$ na eq. ($\\star$) obtemos\n",
    "\\begin{equation}\n",
    "c_{ed} = c_{id}+c_{ie} = c_{id} + \\frac{ik_{i}-k_{d}}{ik_{i}+k_{d}}c_{id} = \\left(\\frac{ik_{i}+k_{d}+ik_{i}-k_{d}}{ik_{i}+k_{d}}\\right)c_{id} = \\frac{2ik_{i}c_{id}}{ik_{i}+k_{d}}.\n",
    "\\end{equation}"
   ]
  },
  {
   "cell_type": "markdown",
   "metadata": {},
   "source": [
    "### Condição obtida a partir de $\\Xi_{i}(x=a)=\\Xi_{d}(x=a)$\n",
    "Da eq. ($\\star\\star$) temos que\n",
    "\\begin{equation}\n",
    "c_{de} = e^{k_{d}a}\\left(c_{id}e^{ik_{i}a}+c_{ie}e^{-ik_{i}a}\\right) = \\frac{e^{k_{d}a}2ik_{i}c_{id}}{ik_{i}+k_{d}}\\left(\\cos(k_{i}a) + \\frac{k_{d}}{k_{i}}\\sin(k_{i}a)\\right).\n",
    "\\end{equation}\n",
    "\n",
    "Das equações acima para $c_{ed}$ e para $c_{de}$ temos que\n",
    "\\begin{equation}\n",
    "|c_{de}|^{2} = e^{2k_{d}a}\\left|\\frac{2ik_{i}c_{id}}{ik_{i}+k_{d}}\\right|^{2}\\left(\\cos(k_{i}a) + \\frac{k_{d}}{k_{i}}\\sin(k_{i}a)\\right)^{2} = e^{2k_{d}a}|c_{ed}|^{2}\\left(\\cos(k_{i}a) + \\frac{k_{d}}{k_{i}}\\sin(k_{i}a)\\right)^{2}.\n",
    "\\end{equation}\n",
    "Portanto devemos ter\n",
    "\\begin{align}\n",
    "& \\cos(k_{i}a) + \\frac{k_{d}}{k_{i}}\\sin(k_{i}a)=1 \\\\\n",
    "& \\therefore \\cos^{2}(k_{i}a/2)-\\sin^{2}(k_{i}a/2)+ \\frac{k_{d}}{k_{i}}2\\sin(k_{i}a/2)\\cos(k_{i}a/2) =\\cos^{2}(k_{i}a/2)+\\sin^{2}(k_{i}a/2) \\\\\n",
    "& \\frac{k_{d}}{k_{i}}2\\sin(k_{i}a/2)\\cos(k_{i}a/2) = 2\\sin^{2}(k_{i}a/2) \\\\\n",
    "& \\therefore k_{d}=k_{i}\\tan(k_{i}a/2),\n",
    "\\end{align}\n",
    "que é uma equação transcendental válida se $\\sin(k_{i}a/2)\\ne 0$ e $\\cos(k_{i}a/2)\\ne 0$."
   ]
  },
  {
   "cell_type": "markdown",
   "metadata": {},
   "source": [
    "### Condição obtida a partir de $\\partial_{x}\\Xi_{i}(x=a)=\\partial_{x}\\Xi_{d}(x=a)$\n",
    "Da eq. ($**$), $c_{id}e^{ik_{i}a}+c_{ie}e^{-ik_{i}a} = c_{de}e^{-k_{d}a}$, e usando $c_{ie}=\\frac{ik_{i}-k_{d}}{ik_{i}+k_{d}}c_{id}$, teremos\n",
    "\\begin{align}\n",
    "c_{de} &= -e^{k_{d}a}\\frac{ik_{i}}{k_{d}}\\left(c_{id}e^{ik_{i}a}-\\frac{ik_{i}-k_{d}}{ik_{i}+k_{d}}c_{id}e^{-ik_{i}a}\\right) = \\frac{-e^{k_{d}a}ik_{i}c_{id}}{k_{d}(ik_{i}+k_{d})}\\left((ik_{i}+k_{d})e^{ik_{i}a}-(ik_{i}-k_{d})e^{-ik_{i}a}\\right) \\\\\n",
    "& = \\frac{-e^{k_{d}a}ik_{i}c_{id}}{k_{d}(ik_{i}+k_{d})}\\left(ik_{i}\\left(e^{ik_{i}a}-e^{-ik_{i}a}\\right)+k_{d}\\left(e^{ik_{i}a}+e^{-ik_{i}a}\\right)\\right) \\\\\n",
    "& = \\frac{-e^{k_{d}a}2ik_{i}c_{id}}{ik_{i}+k_{d}}\\left(-\\frac{k_{i}}{k_{d}}\\sin(k_{i}a)+\\cos(k_{i}a)\\right) =: \\tilde{c}_{de}.\n",
    "\\end{align}\n",
    "\n",
    "Aplicando novamente a condição $|c_{ed}|^{2} = |\\tilde{c}_{de}|^{2}e^{-2k_{d}a}$, que vem da simetria do potencial, vemos que devemos ter\n",
    "\\begin{align}\n",
    "& -\\frac{k_{i}}{k_{d}}\\sin(k_{i}a)+\\cos(k_{i}a) = 1, \\\\\n",
    "& \\therefore -\\frac{k_{i}}{k_{d}}2\\sin(k_{i}a/2)\\cos(k_{i}a/2)+\\cos^{2}(k_{i}a/2)-\\sin^{2}(k_{i}a/2) = \\cos^{2}(k_{i}a/2)+\\sin^{2}(k_{i}a/2), \\\\\n",
    "& \\therefore -\\frac{k_{i}}{k_{d}}2\\sin(k_{i}a/2)\\cos(k_{i}a/2)=2\\sin^{2}(k_{i}a/2), \\\\\n",
    "& \\therefore k_{i}\\cot(k_{i}a/2)=-k_{d},\n",
    "\\end{align}\n",
    "que é uma equação transcendental válida se $\\sin(k_{i}a/2)\\ne 0$ e $\\cos(k_{i}a/2)\\ne 0$."
   ]
  },
  {
   "cell_type": "markdown",
   "metadata": {},
   "source": [
    "### Existem 2 classes de soluções\n",
    "No entando, das eqs. $k_{i}\\tan(k_{i}a/2)=k_{d}$ e $k_{i}\\cot(k_{i}a/2)=-k_{d}$ teremos:\n",
    "\\begin{align}\n",
    "& k_{i}\\tan(k_{i}a/2)+k_{i}\\cot(k_{i}a/2)=k_{d}-k_{d}=0, \\\\\n",
    "& \\therefore \\tan(k_{i}a/2)\\tan(k_{i}a/2)+\\cot(k_{i}a/2)\\tan(k_{i}a/2)=0, \\\\\n",
    "& \\therefore \\tan^{2}(k_{i}a/2)+1=0, \\\\\n",
    "& \\therefore \\tan^{2}(k_{i}a/2)=-1,\n",
    "\\end{align}\n",
    "o que não pode ser verdade. Portanto, as condições de continuidade $\\Xi(x=a)=\\Xi_{d}(x=a)$ e $\\partial_{x}\\Xi(x=a)=\\partial_{x}\\Xi_{d}(x=a)$ não podem ser satisfeitas simultaneamente. Por isso, separaremos as soluções em duas classes:\n",
    "\\begin{cases}\n",
    "\\text{Classe F: } \\Xi(x=a)=\\Xi_{d}(x=a), \\\\\n",
    "\\text{Classe D: } \\partial_{x}\\Xi(x=a)=\\partial_{x}\\Xi_{d}(x=a).\n",
    "\\end{cases}"
   ]
  },
  {
   "cell_type": "markdown",
   "metadata": {},
   "source": [
    "### Autoenergias\n",
    "Agora, definindo\n",
    "\\begin{equation}\n",
    "x=\\sqrt{\\frac{mEa^{2}}{2\\hbar^{2}}} \\text{ e } R=\\sqrt{\\frac{mU_{0}a^{2}}{2\\hbar^{2}}},\n",
    "\\end{equation}\n",
    "reescrevemos $k_{d}=k_{i}\\tan(k_{i}a/2)$ como (para a classe F)\n",
    "\\begin{align}\n",
    "& \\frac{k_{d}a}{2}=\\frac{k_{i}a}{2}\\tan\\left(\\frac{k_{i}a}{2}\\right) \\therefore \\sqrt{\\frac{2m(U_{0}-E)a^{2}}{\\hbar^{2}4}}=\\sqrt{\\frac{2mEa^{2}}{\\hbar^{2}4}}\\tan\\sqrt{\\frac{2mEa^{2}}{\\hbar^{2}4}} \\\\\n",
    "& \\therefore \\sqrt{R^{2}-x^{2}} = x\\tan(x).\n",
    "\\end{align}\n",
    "Os dois lados dessa última igualdade estão mostrados, separadamente, na figura abaixo. Já a condição $ k_{i}\\cot(k_{i}a/2)=-k_{d}$ pode ser reescrita como (para a classe D)\n",
    "\\begin{align}\n",
    "& \\frac{k_{d}a}{2}=-\\frac{k_{i}a}{2}\\cot\\left(\\frac{k_{i}a}{2}\\right) \\therefore \\sqrt{\\frac{2m(U_{0}-E)a^{2}}{\\hbar^{2}4}}=-\\sqrt{\\frac{2mEa^{2}}{\\hbar^{2}4}}\\cot\\sqrt{\\frac{2mEa^{2}}{\\hbar^{2}4}} \\\\\n",
    "& \\therefore \\sqrt{R^{2}-x^{2}} = -x\\cot(x).\n",
    "\\end{align}\n",
    "Os dos lados dessa última igualdade também estão mostrados na figura abaixo."
   ]
  },
  {
   "cell_type": "code",
   "execution_count": 5,
   "metadata": {},
   "outputs": [
    {
     "data": {
      "application/vnd.jupyter.widget-view+json": {
       "model_id": "dae30f147a294939919495ba53018ad7",
       "version_major": 2,
       "version_minor": 0
      },
      "text/plain": [
       "interactive(children=(FloatSlider(value=4.6, description='R', max=10.0, min=0.1, step=0.5), Output()), _dom_cl…"
      ]
     },
     "metadata": {},
     "output_type": "display_data"
    }
   ],
   "source": [
    "def fun(R):\n",
    "    fig = plt.figure(figsize=(4,8))\n",
    "    x1 = np.arange(0,R,0.01); y1 = np.sqrt(R**2-x1**2)\n",
    "    xm = 3*math.pi; x = np.arange(0.01,xm,0.05); y2 = x*np.tan(x); y3 = -x/np.tan(x)\n",
    "    #y2[:-1][np.diff(y2) < 0] = np.nan; y3[:-1][np.diff(y3) < 0] = np.nan\n",
    "    plt.plot(x1,y1,color='black'); plt.plot(x,y2,color='blue'); plt.plot(x,y3,color='red')\n",
    "    plt.xlim(0,xm); plt.ylim(-10,10)\n",
    "    plt.xlabel(r'$x$'); plt.legend((r'$\\sqrt{R^{2}-x^{2}}$',r'$x\\tan(x)$',r'$-x\\cot(x)$'),loc=(1.01,0.5))\n",
    "    plt.annotate(r'$R=$'+str(R)[:5], xy=(R,0), xytext=(R,0), fontsize=12)\n",
    "    plt.show()\n",
    "interactive(fun,R=(0.1,10,0.5))"
   ]
  },
  {
   "cell_type": "code",
   "execution_count": 6,
   "metadata": {},
   "outputs": [
    {
     "data": {
      "application/vnd.jupyter.widget-view+json": {
       "model_id": "a738455c2f404be088a48cf883871ca5",
       "version_major": 2,
       "version_minor": 0
      },
      "text/plain": [
       "interactive(children=(FloatSlider(value=5.0, description='R', max=10.0, min=0.1), Output()), _dom_classes=('wi…"
      ]
     },
     "metadata": {},
     "output_type": "display_data"
    }
   ],
   "source": [
    "def fun_(R):\n",
    "    fig = plt.figure(figsize=(6,8))\n",
    "    x1 = np.arange(0.01,R,0.005); y1 = np.sqrt(R**2-x1**2)-x1*np.tan(x1); y2 = np.sqrt(R**2-x1**2)+x1/np.tan(x1)\n",
    "    #y1[:-1][np.diff(y1) > 0] = np.nan; y2[:-1][np.diff(y2) > 0] = np.nan\n",
    "    plt.plot(x1,y1,color='blue'); plt.plot(x1,y2,color='red'); y3 = x1*0; plt.plot(x1,y3,color='green')\n",
    "    plt.xlim(0,R); plt.ylim(-10,10)\n",
    "    plt.xlabel(r'$x$')\n",
    "    plt.legend((r'$\\sqrt{R^{2}-x^{2}}-x\\tan(x)$',r'$\\sqrt{R^{2}-x^{2}}+x\\cot(x)$','0'),loc=(1.01,0.5))\n",
    "    plt.annotate(r'$R=$'+str(R)[:5], xy=(0.1,9), xytext=(0.1,9), fontsize=12)\n",
    "    plt.show()\n",
    "interactive(fun_,R=(0.1,10,0.1))"
   ]
  },
  {
   "cell_type": "markdown",
   "metadata": {},
   "source": [
    "Notamos, com as equações acima e com a figura acima, que $y^{2}=R^{2}-x^{2}$ é a eq. de um círculo de raio $R$. Nesse caso teremos $y=0$ quando $x=R$, que é obtido com $E=U_{0}$. \n",
    "\n",
    "Observamos também que $x\\tan x$ é descontínua, indo direto de $+\\infty$ para $-\\infty$ para todo $x=(2n+1)\\pi/2$ e que é nula para $x=n\\pi$, com $n=0,1,2,3,\\cdots.$ \n",
    "\n",
    "Já $-x\\cot x$, que também é descontínua, vai diretamente de  $+\\infty$ para $-\\infty$ para todo $x=n\\pi$ com $n=1,2,3,\\cdots$ e é nula para $x=(2n+1)\\pi/2$ com $n=0,1,2,3,\\cdots.$ \n",
    "\n",
    "Vemos no gráfico que $\\sqrt{R^{2}-x^{2}}$, se positiva, intersecta as funções $x\\tan x$ e $-x\\cot x$ antes dessas descontinuidades. Uma implicação dessa análise é que existe um número finito de possíveis energias para o quanton em um poço finito. Uma vez obtidos os valores de $x$ que são solução das eqs. transcedentais apresentadas acima, a energia é dada por\n",
    "\\begin{equation}\n",
    "E = \\left(\\frac{2\\hbar^{2}}{ma^{2}}\\right)x^{2}.\n",
    "\\end{equation}\n",
    "\n",
    "Usando os gráficos acima vemos que, se $R>\\pi/2$, existe uma ou mais raízes na classe D nos intervalos\n",
    "\\begin{equation}\n",
    "(2j-1)\\frac{\\pi}{2}<x<(j+1)\\pi,\n",
    "\\end{equation}\n",
    "com $j=0,1,2,3,\\cdots$. Para o último intervalo, se $(2j-1)\\pi/2<R$ e $R>(j+1)\\pi$, procuramos raíz no intervalo $[(2j-1)\\pi/2,R]$.\n",
    "\n",
    "Existirá pelo menos uma solução na classe F, no intervalo $0<R<\\pi/2$, para qualquer valor de $U_{0}$. De forma geral, pode-se inferir que existem raízes nos intervalos\n",
    "\\begin{equation}\n",
    "j\\pi<x<(2j+1)\\frac{\\pi}{2},\n",
    "\\end{equation}\n",
    "com $j=0,1,3,5,\\cdots$. Se $j\\pi <R$ e $(2j+1)\\frac{\\pi}{2}>R$, devemos procurar a raíz no intervalo $[j\\pi,R]$.\n",
    "\n",
    "Abaixo estão disponibilizadas funções que, dados $U_{0}$, $m$ e $a$, fazem os cálculos necessários para construir o diagrama de níveis de energia para um quanton sob o potencial do poço quadrado finito."
   ]
  },
  {
   "cell_type": "code",
   "execution_count": 7,
   "metadata": {},
   "outputs": [],
   "source": [
    "def fR(m,a,U0):\n",
    "    return math.sqrt((m*U0*a**2)/(2*hb**2))\n",
    "def fE(x): # em eV\n",
    "    return ((2*hb**2*x**2)/(m*a**2))/e\n",
    "def fF(x):\n",
    "    return math.sqrt(R**2-x**2)-x*math.tan(x)\n",
    "def fD(x):\n",
    "    return math.sqrt(R**2-x**2)+x/math.tan(x)"
   ]
  },
  {
   "cell_type": "code",
   "execution_count": 8,
   "metadata": {},
   "outputs": [
    {
     "name": "stdout",
     "output_type": "stream",
     "text": [
      "R =  9.920971412779512\n",
      "nF =  4 , EF =  [0.31012150006806893, 2.775697674348271, 7.60022098424712, 14.21030309825517]\n",
      "nD =  3 , ED =  [1.238033488108134, 4.90690912911041, 10.785685255690185]\n"
     ]
    }
   ],
   "source": [
    "def energias_poco(m,a,U0,R): # melhorar os intervalors (diminuir, é possível!)\n",
    "    dx = 10**-3\n",
    "    EF = [] # Lista para colocar as energias da classe F\n",
    "    j = 0\n",
    "    while R > j*math.pi:\n",
    "        xe = j*math.pi+dx; xd = (2*j+1)*(math.pi/2)-dx\n",
    "        if xd > R-dx:\n",
    "            xd = R-dx\n",
    "        xr, er = bissection(fF, xe, xd, err, Nm)\n",
    "        if er == 1:\n",
    "            EF.append(fE(xr))\n",
    "            #print('xe = ',xe,', xd = ',xd,', xr = ',xr)\n",
    "        j += 1\n",
    "    #print('nF = ',len(EF), ', EF = ',EF)\n",
    "    ED = [] # Lista para colocar as energias da classe D\n",
    "    j = 0\n",
    "    while R > (2*j+1)*(math.pi/2):\n",
    "        xe = (2*j+1)*(math.pi/2)+dx; xd = (j+1)*math.pi-dx\n",
    "        if xd > R-dx:\n",
    "            xd = R-dx\n",
    "        xr, er = bissection(fD, xe, xd, err, Nm)\n",
    "        if er == 1:\n",
    "            ED.append(fE(xr))\n",
    "            #print('xe = ',xe,', xd = ',xd,', xr = ',xr)\n",
    "        j += 1\n",
    "    #print('nD = ',len(ED), ', ED = ',ED)\n",
    "    return EF,ED\n",
    "err = 10**-8; Nm = 10**4 # parâmetros para a bissecção\n",
    "a = 10**-9; U0 = 15*e; m = me; R = fR(m,a,U0); print('R = ',R)\n",
    "EF, ED = energias_poco(me,a,U0,R); print('nF = ',len(EF),', EF = ',EF); print('nD = ',len(ED),', ED = ',ED)"
   ]
  },
  {
   "cell_type": "code",
   "execution_count": 9,
   "metadata": {},
   "outputs": [
    {
     "data": {
      "image/png": "[encoded data removed]",
      "text/plain": [
       "<matplotlib.figure.Figure at 0x7f9d695994e0>"
      ]
     },
     "metadata": {
      "needs_background": "light"
     },
     "output_type": "display_data"
    }
   ],
   "source": [
    "def poco_niveis(xmin,xmax):\n",
    "    nF = len(EF); nD = len(ED)\n",
    "    for j in range(0,nF):\n",
    "        plt.hlines(EF[j],xmin,xmax,color='blue'); plt.text(-0.2,EF[j],'E='+str(EF[j])[0:4]+' eV',color='blue')\n",
    "        plt.text(1.03,EF[j],'n = '+str(2*j+1),color='black')\n",
    "    for j in range(0,nD):\n",
    "        plt.hlines(ED[j],xmin,xmax,color='red'); plt.text(-0.2,ED[j],'E='+str(ED[j])[0:5]+' eV',color='red')\n",
    "        plt.text(1.03,ED[j],'n = '+str(2*j+2),color='black')\n",
    "    plt.axis('off'); plt.show()\n",
    "poco_niveis(0,1)"
   ]
  },
  {
   "cell_type": "markdown",
   "metadata": {},
   "source": [
    "### Autofunções\n",
    "Lembrando, temos que\n",
    "\\begin{equation}\n",
    "\\Xi_{e}(x<0)=c_{ed}e^{k_{d}x} \\text{, } \\Xi_{i}(0<x<a)=c_{id}e^{ik_{i}x}+c_{ie}e^{-ik_{i}x} \\text{ e } \\Xi_{d}(x>a)=c_{de}e^{-k_{d}x}.\n",
    "\\end{equation}\n",
    "\n",
    "A normalização da função de onda implica que\n",
    "\\begin{align}\n",
    "& 1 = \\int_{-\\infty}^{+\\infty}|\\Xi(x)|^{2}dx = \\int_{-\\infty}^{0}|\\Xi_{e}(x)|^{2}dx + \\int_{0}^{a}|\\Xi_{i}(x)|^{2}dx + \\int_{a}^{\\infty}|\\Xi_{d}(x)|^{2}dx \\\\\n",
    "&=: I_{e} + I_{i} + I_{d}.\n",
    "\\end{align}\n",
    "Teremos assim\n",
    "\\begin{align}\n",
    "& I_{e} = \\int_{-\\infty}^{+\\infty}|\\Xi(x)|^{2}dx = \\int_{-\\infty}^{0}|c_{ed}|^{2}e^{2k_{d}x}dx = |c_{ed}|^{2}\\left[\\frac{e^{2k_{d}x}}{2k_{d}}\\right]_{-\\infty}^{0}  \\\\\n",
    "& = \\frac{|c_{ed}|^{2}}{2k_{d}}\\left(e^{0}-e^{-\\infty}\\right) = \\frac{|c_{ed}|^{2}}{2k_{d}}, \\\\\n",
    "& I_{d} = \\int_{a}^{\\infty}|\\Xi_{d}(x)|^{2}dx = \\int_{a}^{\\infty}|c_{de}|^{2}e^{-2k_{d}x}dx = |c_{de}|^{2}\\left[\\frac{e^{-2k_{d}x}}{-2k_{d}}\\right]_{a}^{\\infty}  \\\\\n",
    "& = \\frac{|c_{de}|^{2}}{-2k_{d}}\\left(e^{-\\infty}-e^{-2k_{d}a}\\right) = \\frac{|c_{de}|^{2}e^{-2k_{d}a}}{2k_{d}}.\n",
    "\\end{align}"
   ]
  },
  {
   "cell_type": "markdown",
   "metadata": {},
   "source": [
    "Para a outra integral, primeiramente calculemos\n",
    "\\begin{align}\n",
    "|\\Xi_{i}|^{2} & = \\Xi_{i}\\Xi_{i}^{*} = \\left(c_{id}e^{ik_{i}x}+c_{ie}e^{-ik_{i}x}\\right)\\left(c_{id}^{*}e^{-ik_{i}x}+c_{ie}^{*}e^{ik_{i}x}\\right) \\\\\n",
    "& = |c_{id}|^{2} + c_{id}c_{ie}^{*}e^{2ik_{i}x} + c_{ie}c_{id}^{*}e^{-2ik_{i}x} + |c_{ie}|^{2} = |c_{id}|^{2} + |c_{ie}|^{2} + 2\\Re\\left(c_{id}c_{ie}^{*}e^{2ik_{i}x}\\right) \\\\\n",
    "& = |c_{id}|^{2} + |c_{ie}|^{2} + 2\\left(\\Re(c_{id}c_{ie}^{*})\\Re\\left(e^{2ik_{i}x}\\right)-\\Im(c_{id}c_{ie}^{*})\\Im\\left(e^{2ik_{i}x}\\right)\\right) \\\\\n",
    "& = |c_{id}|^{2} + |c_{ie}|^{2} + 2\\left(\\Re(c_{id}c_{ie}^{*})\\cos(2k_{i}x)-\\Im(c_{id}c_{ie}^{*})\\sin(2k_{i}x)\\right).\n",
    "\\end{align}\n",
    "Assim\n",
    "\\begin{align}\n",
    "I_{i} & = \\int_{0}^{a}|\\Xi_{i}(x)|^{2}dx \\\\\n",
    "&= (|c_{id}|^{2} + |c_{ie}|^{2})\\int_{0}^{a}dx + 2\\Re(c_{id}c_{ie}^{*})\\int_{0}^{a}\\cos(2k_{i}x)dx-2\\Im(c_{id}c_{ie}^{*})\\int_{0}^{a}\\sin(2k_{i}x)dx \\\\\n",
    "&= (|c_{id}|^{2} + |c_{ie}|^{2})[x]_{0}^{a} + 2\\Re(c_{id}c_{ie}^{*})\\left[\\frac{\\sin(2k_{i}x)}{2k_{i}}\\right]_{0}^{a}+2\\Im(c_{id}c_{ie}^{*})\\left[\\frac{\\cos(2k_{i}x)}{2k_{i}}\\right]_{0}^{a} \\\\\n",
    "&= (|c_{id}|^{2} + |c_{ie}|^{2})a + \\Re(c_{id}c_{ie}^{*}/k_{i})\\left(\\sin(2k_{i}a)-\\sin(0)\\right)+\\Im(c_{id}c_{ie}^{*}/k_{i})\\left(\\cos(2k_{i}a)-\\cos(0)\\right) \\\\\n",
    "&= (|c_{id}|^{2} + |c_{ie}|^{2})a + \\Re(c_{id}c_{ie}^{*})\\sin(2k_{i}a)/k_{i}+\\Im(c_{id}c_{ie}^{*})\\left(\\cos(2k_{i}a)-1\\right)/k_{i}.\n",
    "\\end{align}"
   ]
  },
  {
   "cell_type": "markdown",
   "metadata": {},
   "source": [
    "Lembrando,\n",
    "\\begin{align}\n",
    "& c_{ie} = \\frac{ik_{i}-k_{d}}{ik_{i}+k_{d}}c_{id}=\\frac{(ik_{i}-k_{d})}{(ik_{i}+k_{d})}\\frac{(-ik_{i}+k_{d})}{(-ik_{i}+k_{d})}c_{id}=\\frac{k_{i}^{2}-k_{d}^{2}+i2k_{i}k_{d}}{k_{i}^{2}+k_{d}^{2}}c_{id},\\\\\n",
    "& c_{ed} = \\frac{2ik_{i}}{ik_{i}+k_{d}}c_{id} \\therefore |c_{ed}|^{2} = \\frac{4k_{i}^{2}}{k_{i}^{2}+k_{d}^{2}}|c_{id}|^{2}, \\\\\n",
    "& |c_{ed}|^{2}:=|c_{de}|^{2}e^{-2k_{d}a}.\n",
    "\\end{align}\n",
    "\n",
    "Temos assim que\n",
    "\\begin{equation}\n",
    "|c_{ie}|=|c_{id}|\\text{, }|c_{ed}|^{2}=\\frac{4k_{i}^{2}}{k_{i}^{2}+k_{d}^{2}}|c_{id}|^{2}\\text{, }\\Re(c_{ed})=\\frac{2k_{i}^{2}}{k_{i}^{2}+k_{d}^{2}}c_{id}\\text{ e }\\Im(c_{ed})=\\frac{2k_{i}k_{d}}{k_{i}^{2}+k_{d}^{2}}c_{id}.\n",
    "\\end{equation}\n",
    "Por simplicidade, vamos assumir que $c_{id}\\in\\mathbb{R}$, obtendo assim\n",
    "\\begin{align}\n",
    "& I_{e}+I_{i}+I_{d}= 1,\\\\\n",
    "& \\therefore\\frac{|c_{ed}|^{2}}{2k_{d}} + (|c_{id}|^{2} + |c_{ie}|^{2})a + \\frac{\\Re(c_{id}c_{ie}^{*})\\sin(2k_{i}a)}{k_{i}}+\\frac{\\Im(c_{id}c_{ie}^{*})\\left(\\cos(2k_{i}a)-1\\right)}{k_{i}} + \\frac{|c_{de}|^{2}e^{-2k_{d}a}}{2k_{d}} = 1, \\\\\n",
    "& \\therefore\\frac{|c_{ed}|^{2}}{k_{d}} + 2c_{id}^{2}a + \\frac{c_{id}}{k_{i}}\\left(\\Re(c_{ie})\\sin(2k_{i}a)-\\Im(c_{ie})\\left(\\cos(2k_{i}a)-1\\right)\\right) = 1, \\\\\n",
    "& \\therefore\\frac{\\frac{4k_{i}^{2}}{k_{i}^{2}+k_{d}^{2}}c_{id}^{2}}{k_{d}} + 2c_{id}^{2}a + \\frac{c_{id}}{k_{i}}\\left(\\frac{k_{i}^{2}-k_{d}^{2}}{k_{i}^{2}+k_{d}^{2}}c_{id}\\sin(2k_{i}a)-\\frac{2k_{i}k_{d}}{k_{i}^{2}+k_{d}^{2}}c_{id}\\left(\\cos(2k_{i}a)-1\\right)\\right) = 1, \\\\\n",
    "& \\therefore c_{id}^{2} = \\frac{k_{i}^{2}+k_{d}^{2}}{2a(k_{i}^{2}+k_{d}^{2})+(k_{i}^{2}-k_{d}^{2})\\sin(2k_{i}a)/k_{i}-2k_{d}\\cos(2k_{i}a)+4k_{i}^{2}/k_{d}+2k_{d}}.\n",
    "\\end{align}\n",
    "Com isso, temos todos os coeficientes escritos em termos de $E,U_{0},m\\text{ e }a$."
   ]
  },
  {
   "cell_type": "markdown",
   "metadata": {},
   "source": [
    "Abaixo faremos um gráficos das densidades de probabilidade. Para tal, lembramos que $k_{i}=\\sqrt{2mE}/\\hbar$, $k_{d}=\\sqrt{2m(U_{0}-E)}/\\hbar$ e que\n",
    "\\begin{cases}\n",
    "|\\Xi_{e}|^{2}(x<0) = |c_{ed}|^{2}e^{2k_{d}x} = \\frac{4k_{i}^{2}}{k_{i}^{2}+k_{d}^{2}}e^{2k_{d}x}c_{id}^{2}, \\\\\n",
    "|\\Xi_{i}|^{2}(0<x<a) = 2c_{id}^{2}\\left(1+\\frac{k_{i}^{2}-k_{d}^{2}}{k_{i}^{2}+k_{d}^{2}}\\cos(2k_{i}x)+\\frac{2k_{i}k_{d}}{k_{i}^{2}+k_{d}^{2}}\\sin(2k_{i}x)\\right)\\\\\n",
    "|\\Xi_{d}|^{2}(x<0) = |c_{de}|^{2}e^{-2k_{d}x}.\n",
    "\\end{cases}"
   ]
  },
  {
   "cell_type": "code",
   "execution_count": 10,
   "metadata": {},
   "outputs": [
    {
     "data": {
      "application/vnd.jupyter.widget-view+json": {
       "model_id": "e309bbe1c36d4a7aa11f9ff9cba60476",
       "version_major": 2,
       "version_minor": 0
      },
      "text/plain": [
       "interactive(children=(IntSlider(value=4, description='n', max=7, min=1), Output()), _dom_classes=('widget-inte…"
      ]
     },
     "metadata": {},
     "output_type": "display_data"
    }
   ],
   "source": [
    "def psi2_poco(n):\n",
    "    if n%2 == 0:\n",
    "        j = int((n-2)/2); E = ED[j] \n",
    "    else:\n",
    "        j = int((n-1)/2); E = EF[j]\n",
    "    E = E*e#; print('E = ',E) # E em Joules\n",
    "    ki = math.sqrt(2*m*E)/hb; kd = math.sqrt(2*m*(U0-E))/hb#; print('ki = ',ki,', kd = ',kd)\n",
    "    cid2 = (ki**2+kd**2)/(2*a*(ki**2+kd**2)+(ki**2-kd**2)*math.sin(2*ki*a)/ki-2*kd*math.cos(2*ki*a)+4*ki**2/kd + 2*kd)\n",
    "    ced2 = ((4*ki**2)/(ki**2+kd**2))*cid2\n",
    "    N = 1000; xmin = -a; xmax = 2*a; dx = (xmax-xmin)/N; x = np.zeros(N); y = np.zeros(N)\n",
    "    for j in range(0,N):\n",
    "        x[j] = xmin + j*dx\n",
    "        if x[j] < 0:\n",
    "            y[j] = ced2*math.exp(2*kd*x[j])\n",
    "        elif x[j] >= 0 and x[j] < a:\n",
    "            y[j] = 2*cid2*(1+((ki**2-kd**2)/(ki**2+kd**2))*math.cos(2*ki*x[j])\\\n",
    "                              +((2*ki*kd)/(ki**2+kd**2))*math.sin(2*ki*x[j]))\n",
    "        elif x[j] >= a:\n",
    "            y[j] = ced2*math.exp(-2*kd*(x[j]-a))#; print(x[j],y[j])\n",
    "    fig = plt.figure(figsize=(15,3))\n",
    "    plt.annotate(r'$n=$'+str(n), xy=(1.75,1.75), xytext=(1.75,1.75), fontsize=12)\n",
    "    plt.plot(x,y); plt.xlabel(r'$x$',fontsize=10); plt.ylabel(r'$|\\Xi|^{2}$',fontsize=15)\n",
    "    plt.annotate(r'$a=$'+str(a), xy=(a,0), xytext=(a,0), fontsize=12)\n",
    "    plt.xlim(xmin,xmax); ym = 1.02*np.amax(y); plt.ylim(0,ym)\n",
    "    plt.annotate(\"\", xy=(0,0), xytext=(0,ym), arrowprops=dict(arrowstyle=\"-\"))\n",
    "    plt.annotate(\"\", xy=(a,0), xytext=(a,ym), arrowprops=dict(arrowstyle=\"-\"))\n",
    "    plt.show()\n",
    "err = 10**-8; Nm = 10**4 # parâmetros para a bissecção\n",
    "U0 = 15*e; a = 10**-9; m = me; R = fR(m,a,U0); EF,ED = energias_poco(m,a,U0,R); nt = len(EF)+len(ED)\n",
    "interactive(psi2_poco, n=(1,nt,1))"
   ]
  },
  {
   "cell_type": "markdown",
   "metadata": {},
   "source": [
    "---\n",
    "# Exercícios\n",
    "\n",
    "1. Calcule o valor do coeficiente de transmissão para um elétron de energia $E=4\\text{ eV}$ em um poço quadrado finito com $U_{0}=2\\text{ eV}$ e larguras $a=1\\text{ nm}$ ou $a=1\\text{ }\\mathring{A}$.\n",
    "\n",
    "1. Para $c_{ie} = \\frac{ik_{i}-k_{d}}{ik_{i}+k_{d}}c_{id}$, verifique que $|c_{ie}|=|c_{id}|$.\n",
    "\n",
    "1. Verifique que a onda estacionária $\\Xi_{i}(x)=A\\sin(k_{i}x)+B\\cos(k_{i}x)$ satisfaz a EqSIT1D dentro do poço, i.e., para $0<x<a$.\n",
    "\n",
    "1. Verifique que a condição $\\sin\\left(\\frac{k_{i}a}{2}\\right)\\ne 0$ é equivalente à condição $E\\ne4\\left(\\frac{\\pi^{2}\\hbar^{2}}{2ma^{2}}\\right)n^{2}$ com $n=1,2,3,\\cdots$.\n",
    "\n",
    "1. Verifique que a condição $\\cos\\left(\\frac{k_{i}a}{2}\\right)\\ne 0$ é equivalente à condição $E\\ne\\left(\\frac{\\pi^{2}\\hbar^{2}}{2ma^{2}}\\right)n^{2}$ com $n=1,3,5,\\cdots$.\n",
    "\n",
    "1. Uma vez que as energias do quanton em um poço quadrado finito são $E = \\left(\\frac{2\\hbar^{2}}{ma^{2}}\\right)x^{2}$, verifique que, para que as condições obtidas nos problemas 4 e 5 sejam respeitadas, $x$ não pode assumir os valores $x\\ne\\frac{n\\pi}{\\sqrt{2}}$, com $n=1,2,3,\\cdots$, e $x\\ne\\frac{n\\pi}{2}$, com $n=1,3,5,\\cdots$, respectivamente.\n",
    "\n",
    "1. Isole $c_{de}$ em uma das eqs. ($**$) ou ($\\star\\star$) e substitua na outra para obter\n",
    "\\begin{equation}\n",
    "c_{ie} = \\frac{ik_{i}+k_{d}}{ik_{i}-k_{d}}e^{2ik_{i}a}c_{id}.\n",
    "\\end{equation}\n",
    "Verifique que neste caso também temos que $|c_{ie}|=|c_{id}|$. Substitua $c_{ie}$ em ($**$) ou em ($\\star\\star$) para obter\n",
    "\\begin{equation}\n",
    "c_{de} = \\frac{2ik_{i}e^{(ik_{i}+k_{d})a}}{ik_{i}-k_{d}}c_{id}.\n",
    "\\end{equation}\n",
    "\n",
    "1. Substituindo o $c_{ie}$ da última questão em $\\Xi_{i}(0<x<a)=c_{id}e^{ik_{i}x}+c_{ie}e^{-ik_{i}x}$, obtenha a onda estacionária\n",
    "\\begin{equation}\n",
    "\\Xi_{i}(0<x<a) = \\frac{2ik_{i}c_{id}e^{ik_{i}a}}{ik_{i}-k_{d}}\\left(\\cos(k_{i}(x-a))-\\frac{k_{d}}{k_{i}}\\sin(k_{i}(x-a))\\right).\n",
    "\\end{equation}\n",
    "\n",
    "1. Substitua $c_{ie}$ do problema 7 na eq. ($\\star$) para obter\n",
    "\\begin{equation}\n",
    "c_{ed} = \\frac{2ik_{i}c_{id}e^{ik_{i}a}}{ik_{i}-k_{d}}\\left(\\cos(k_{i}a)+\\frac{k_{d}}{k_{i}}\\sin(k_{i}a)\\right).\n",
    "\\end{equation}\n",
    "Impondo $|c_{ed}|^{2}:=|c_{de}|^{2}e^{-2k_{d}a}$, usand o $c_{de}$ do problema 7, obtenha a eq. trascendental\n",
    "\\begin{equation}\n",
    "k_{d}=k_{i}\\tan\\left(\\frac{k_{i}a}{2}\\right).\n",
    "\\end{equation}\n",
    "\n",
    "1. Substitua $c_{ie}$ do problema 7 na eq. ($*$) para obter\n",
    "\\begin{equation}\n",
    "c_{ed} = \\frac{-2ik_{i}c_{id}e^{ik_{i}a}}{ik_{i}-k_{d}}\\left(\\cos(k_{i}a)-\\frac{k_{i}}{k_{d}}\\sin(k_{i}a)\\right).\n",
    "\\end{equation}\n",
    "Impondo $|c_{ed}|^{2}=|c_{de}|^{2}e^{-2k_{d}a}$, usando o $c_{de}$ do problema 7, obtenha a eq. trascendental\n",
    "\\begin{equation}\n",
    "-k_{d}=k_{i}\\cot\\left(\\frac{k_{i}a}{2}\\right).\n",
    "\\end{equation}\n",
    "\n",
    "1. Usando os coeficientes obtidos no problema 7 e a condição usada no problema 9, aplique normalização para obter $c_{id}^{2}$.\n",
    "\n",
    "---"
   ]
  },
  {
   "cell_type": "code",
   "execution_count": 57,
   "metadata": {},
   "outputs": [
    {
     "name": "stdout",
     "output_type": "stream",
     "text": [
      "ki =  10246335215.971977 , ke =  7245253113.524314\n",
      "((ke**2-ki**2)**2)/(4*ki**2*ke**2) =  0.12499999999999986\n",
      "a =  1e-09 , math.sin(ki*a)**2 =  0.5361275818550265 , T =  0.9372071227741331\n",
      "a =  1e-10 , math.sin(ki*a)**2 =  0.7302110846488908 , T =  0.9163802978235968\n"
     ]
    }
   ],
   "source": [
    "# 1\n",
    "m = me; E = 4*e; U0 = 2*e ; ki = math.sqrt(2*m*E)/hb; ke = math.sqrt(2*m*(E-U0))/hb; print('ki = ',ki,', ke = ', ke)\n",
    "print('((ke**2-ki**2)**2)/(4*ki**2*ke**2) = ', ((ke**2-ki**2)**2)/(4*ki**2*ke**2))\n",
    "T = 1/(1+(((ke**2-ki**2)**2)/(4*ki**2*ke**2))*(math.sin(ki*a)**2))\n",
    "a = 10**-9; print('a = ',a,', math.sin(ki*a)**2 = ',math.sin(ki*a)**2, ', T = ', 1/(1+0.125*0.536))\n",
    "a = 10**-10; print('a = ',a,', math.sin(ki*a)**2 = ',math.sin(ki*a)**2, ', T = ', 1/(1+0.125*0.730))"
   ]
  },
  {
   "cell_type": "code",
   "execution_count": null,
   "metadata": {},
   "outputs": [],
   "source": []
  }
 ],
 "metadata": {
  "kernelspec": {
   "display_name": "Python 3",
   "language": "python",
   "name": "python3"
  },
  "language_info": {
   "codemirror_mode": {
    "name": "ipython",
    "version": 3
   },
   "file_extension": ".py",
   "mimetype": "text/x-python",
   "name": "python",
   "nbconvert_exporter": "python",
   "pygments_lexer": "ipython3",
   "version": "3.6.6"
  }
 },
 "nbformat": 4,
 "nbformat_minor": 2
}
