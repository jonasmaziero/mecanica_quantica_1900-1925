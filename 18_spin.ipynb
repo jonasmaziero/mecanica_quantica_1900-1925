{
 "cells": [
  {
   "cell_type": "markdown",
   "metadata": {},
   "source": [
    "## Notas de aula de Mecânica Quântica <br> Autor: Jonas Maziero\n",
    "Link para o vídeo da aula sobre esse tópico: https://youtu.be/UQA3r7VwmAo."
   ]
  },
  {
   "cell_type": "code",
   "execution_count": 2,
   "metadata": {},
   "outputs": [],
   "source": [
    "%run init.ipynb"
   ]
  },
  {
   "cell_type": "markdown",
   "metadata": {},
   "source": [
    "# Spin"
   ]
  },
  {
   "cell_type": "markdown",
   "metadata": {},
   "source": [
    "## Relação momento magnético-momento angular\n",
    "O exemplo típico, e mais simples, de momento magnético em eletrodinâmica clássica é aquele de uma partícula de massa $m$ e carga elétrica $q$ se movimentando em uma trajetória círcular de raio $r$. Para \n",
    "\\begin{equation}\n",
    "t=\\frac{2\\pi r}{v}\n",
    "\\end{equation}\n",
    "sendo o período de uma volta completa da partícula em seu movimento circular com velocidade $v$, como a corrente elétrica pode ser escrita como \n",
    "\\begin{equation}\n",
    "i = \\frac{q}{t} = \\frac{qv}{2\\pi r},\n",
    "\\end{equation}\n",
    "o módulo do momento magnético associado a esse movimento é\n",
    "\\begin{equation}\n",
    "\\mu = iA = \\frac{qv}{2\\pi r}\\pi r^{2} = \\frac{qrv}{2} = \\frac{qrmv}{2m}.\n",
    "\\end{equation}\n",
    "OBS. A direção de $\\mu$ é aquela da linha ortogonal ao plano da \"espira de corrente\". O sentido é obtido usando a regra da mão direita.\n",
    "\n",
    "O módulo do momento angular $\\vec{L}=\\vec{r}\\mathrm{x}\\vec{p}$ da partícula em movimento circular é\n",
    "\\begin{equation}\n",
    "L = |\\vec{r}\\mathrm{x}\\vec{p}| = rp\\sin 90^{\\circ} = rmv.\n",
    "\\end{equation}\n",
    "\n",
    "Vemos assim que o momento magnético da partícula em movimento circular está relacionado ao momento angular por\n",
    "\\begin{equation}\n",
    "\\vec{\\mu} = \\frac{q}{2m}\\vec{L}.\n",
    "\\end{equation}\n",
    "OBS. $\\vec{\\mu}$ e $\\vec{L}$ são paralelos se $q>0$ e antiparalelos se $q<0$.\n",
    "\n",
    "Em geral, movimento de rotação de cargas elétricas (momento angular) estará associado à existência de um momento magnético. Para casos mais gerais que o movimento circular, assumiremos que\n",
    "\\begin{equation}\n",
    "\\vec{\\mu} \\propto \\frac{q}{2m}\\vec{L} = g\\frac{q}{2m}\\vec{L} =:\\gamma\\vec{L},\n",
    "\\end{equation}\n",
    "em que $\\gamma$ é o chamado fator giromagnético (de rotação), que é um fator de proporcionalidade que depende somente da forma da distribuição de cargas elétricas em movimento de rotação."
   ]
  },
  {
   "cell_type": "markdown",
   "metadata": {},
   "source": [
    "## Momento magnético sujeito a um campo magnético\n",
    "Um momento magnético $\\vec{\\mu}$ sujeito a um campo magnético $\\vec{B}$ sofre um torque\n",
    "\\begin{equation}\n",
    "\\vec{\\tau}=\\vec{\\mu}\\mathrm{x}\\vec{B}.\n",
    "\\end{equation}\n",
    "\n",
    "Como o trabalho necessário para fazer o dipolo magnético mudar sua orientação angular de uma quantidade $d\\theta$ é\n",
    "\\begin{equation}\n",
    "dW=\\tau d\\theta=\\mu B\\sin\\theta d\\theta = d(-\\mu B\\cos\\theta)=dU,\n",
    "\\end{equation}\n",
    "a energia potencial de interação entre $\\vec{\\mu}$ e $\\vec{B}$ é\n",
    "\\begin{equation}\n",
    "U = -\\vec{\\mu}\\cdot\\vec{B}.\n",
    "\\end{equation}"
   ]
  },
  {
   "cell_type": "markdown",
   "metadata": {},
   "source": [
    "## Campo magnético constante\n",
    "Vamos considerar o exemplo de um campo magnético\n",
    "\\begin{equation}\n",
    "\\vec{B}=b\\hat{k}\n",
    "\\end{equation}\n",
    "com $b\\in\\mathbb{R}$ constante no espaço. Da 2ª lei de Newton para rotações,\n",
    "\\begin{equation}\n",
    "\\partial_{t}\\vec{L}=\\vec{\\tau},\n",
    "\\end{equation}\n",
    "teremos que\n",
    "\\begin{align}\n",
    "\\partial_{t}\\vec{L} &= \\gamma\\vec{L}\\mathrm{x}\\vec{B} = \\gamma(L_{x}\\hat{i}+L_{y}\\hat{j}+L_{z}\\hat{k})\\mathrm{x}(b\\hat{k}) \\\\\n",
    "&= \\gamma b(-L_{x}\\hat{j}+L_{y}\\hat{i}+0).\n",
    "\\end{align}\n",
    "Ou seja,\n",
    "\\begin{cases}\n",
    "\\partial_{t}L_{x}=\\omega L_{y}, \\\\\n",
    "\\partial_{t}L_{y}=-\\omega L_{x}, \\\\\n",
    "\\partial_{t}L_{z}=0 \\therefore L_{z}(t)=L_{z}(0),\n",
    "\\end{cases}\n",
    "onde definimos\n",
    "\\begin{equation}\n",
    "\\omega := \\gamma b.\n",
    "\\end{equation}\n",
    "\n",
    "Agora, podemos desacoplar as equações diferenciais acima definindo \n",
    "\\begin{equation}\n",
    "L_{\\pm}:=L_{x}\\pm i L_{y}.\n",
    "\\end{equation}\n",
    "Temos que \n",
    "\\begin{align}\n",
    "\\partial_{t}L_{\\pm} & = \\partial_{t}L_{x}\\pm i \\partial_{t}L_{y} = \\omega L_{y} \\pm i (-\\omega L_{x}) = \\mp i\\omega(L_{x}\\pm i L_{y}) \\\\ \n",
    "&= \\mp i\\omega L_{\\pm}.\n",
    "\\end{align}"
   ]
  },
  {
   "cell_type": "markdown",
   "metadata": {},
   "source": [
    "A solução dessa equação diferencial é \n",
    "\\begin{equation}\n",
    "L_{\\pm}(t)=L_{\\pm}(0)e^{\\mp i\\omega t},\n",
    "\\end{equation}\n",
    "que nos fornece\n",
    "\\begin{align}\n",
    "L_{x}(t) &= (1/2)(L_{+}(t)+L_{-}(t)) = (1/2)\\left(L_{+}(0)e^{- i\\omega t}+L_{-}(0)e^{i\\omega t}\\right) \\\\\n",
    "&= (1/2)\\left(\\left(L_{x}(0)+iL_{y}(0)\\right)e^{- i\\omega t}+\\left(L_{x}(0)-iL_{y}(0)\\right)e^{i\\omega t}\\right) \\\\\n",
    "&= (1/2)L_{x}(0)\\left(e^{- i\\omega t}+e^{i\\omega t}\\right) +(i/2)L_{y}(0)\\left(e^{- i\\omega t}-e^{i\\omega t}\\right) \\\\\n",
    "&= L_{x}(0)\\cos\\omega t + L_{y}(0)\\sin\\omega t, \\\\\n",
    "L_{y}(t) &= (1/2i)(L_{+}(t)-L_{-}(t)) = (1/2i)\\left(L_{+}(0)e^{- i\\omega t}-L_{-}(0)e^{i\\omega t}\\right) \\\\\n",
    "&= (1/2i)\\left(\\left(L_{x}(0)+iL_{y}(0)\\right)e^{- i\\omega t}-\\left(L_{x}(0)-iL_{y}(0)\\right)e^{i\\omega t}\\right) \\\\\n",
    "&= (1/2i)L_{x}(0)\\left(e^{- i\\omega t}-e^{i\\omega t}\\right) +(i/2i)L_{y}(0)\\left(e^{- i\\omega t}+e^{i\\omega t}\\right) \\\\\n",
    "&= -L_{x}(0)\\sin\\omega t + L_{y}(0)\\cos\\omega t.\n",
    "\\end{align}\n",
    "\n",
    "Por conseguinte, usando $\\vec{\\mu}=\\gamma\\vec{L}$, vem que\n",
    "\\begin{align}\n",
    "\\vec{\\mu}(t) &= \\begin{bmatrix}\\mu_{x}(t) \\\\ \\mu_{y}(t) \\\\ \\mu_{z}(t) \\end{bmatrix} = \\begin{bmatrix} \\mu_{x}(0)\\cos\\omega t + \\mu_{y}(0)\\sin\\omega t \\\\ -\\mu_{x}(0)\\sin\\omega t+\\mu_{y}(0)\\cos\\omega t  \\\\ \\mu_{z}(0) \\end{bmatrix} \\\\\n",
    "&= \\begin{bmatrix} \\cos\\omega t & \\sin\\omega t & 0 \\\\ -\\sin\\omega t & \\cos\\omega t & 0 \\\\ 0&0&1\\end{bmatrix}\\begin{bmatrix}\\mu_{x}(0) \\\\ \\mu_{y}(0) \\\\ \\mu_{z}(0) \\end{bmatrix} = R_{z}(\\omega t)\\vec{\\mu}(0),\n",
    "\\end{align}\n",
    "em que $R_{z}(\\omega t)$ é a matriz de rotação em torno de $z$, em $\\mathbb{R}^{3}$. Ou seja, o momento magnético precessa em torno da direção do campo magnético constante aplicado, com a frequência de presseção proporcional a intensidade do campo magnético aplicado."
   ]
  },
  {
   "cell_type": "markdown",
   "metadata": {},
   "source": [
    "## Campo magnético variável\n",
    "A força sobre o dipolo magnético pode ser obtida de\n",
    "\\begin{align}\n",
    "\\vec{F} & = -\\vec{\\nabla}_{\\vec{r}}U = -\\vec{\\nabla}_{\\vec{r}}(-\\vec{\\mu}\\cdot\\vec{B}) = \\sum_{j=1}^{3}\\hat{e}_{j}\\partial_{x_{j}}\\sum_{k=1}^{3}\\mu_{k}B_{k} \\\\\n",
    "& =\\sum_{j,k=1}^{3}\\hat{e}_{j}\\mu_{k}\\partial_{x_{j}}B_{k},\n",
    "\\end{align}\n",
    "em que usamos que as componentes do momento magnético não dependem das coordenadas espaciais. Se o campo magnético é constante no espaço, a partícula, por inércia, continua parada ou com movimento retilíneo uniforme:\n",
    "\\begin{equation}\n",
    "\\vec{B}(\\vec{r})=\\vec{B}(\\vec{r}')\\forall \\vec{r},\\vec{r}'\\in\\mathbb{R}^{3} \\Rightarrow \\vec{F}=\\vec{0}.\n",
    "\\end{equation}\n",
    "OBS. Isso ocorre mesmo se o campo magnético depender de tempo (desde que seja constante no espaço).\n",
    "\n",
    "Por outro lado, se o campo magnético varia no espaço, a partícula com momento magnético é acelerada, mudando assim seu estado de movimento. Como um simples exemplo, vamos considerar que\n",
    "\\begin{equation}\n",
    "\\vec{B} = -ax\\hat{e}_{1}+(b+az)\\hat{e}_{3},\n",
    "\\end{equation}\n",
    "com $a,b\\in\\mathbb{R}$ constantes reais. Nesse caso teremos\n",
    "\\begin{align}\n",
    "\\vec{F} &= \\sum_{j=1}^{3}\\hat{e}_{j}\\left(\\mu_{1}\\partial_{x_{j}}B_{1} + \\mu_{2}\\partial_{x_{j}}B_{2} + \\mu_{3}\\partial_{x_{j}}B_{3}\\right) \\\\\n",
    "&= \\sum_{j=1}^{3}\\hat{e}_{j}\\left(\\mu_{1}\\partial_{x_{j}}(-ax_{1}) + \\mu_{2}\\partial_{x_{j}}(0) + \\mu_{3}\\partial_{x_{j}}(b+ax_{3})\\right) \\\\\n",
    "&= \\sum_{j=1}^{3}\\hat{e}_{j}\\left(-\\mu_{1}a\\delta_{j,1} + \\mu_{3}c\\delta_{j,3}\\right) \\\\\n",
    "& = -\\mu_{x}a\\hat{e}_{1}+\\mu_{z}a\\hat{e}_{3}.\n",
    "\\end{align}"
   ]
  },
  {
   "cell_type": "markdown",
   "metadata": {},
   "source": [
    "Consideremos uma partícula clássica, com momento magnético $\\vec{\\mu}$, movimentando-se inicialmente no eixo $y$, com $x=z=0$, com velocidade $\\vec{v}_{0}=d\\hat{e}_{2}$, com $d\\in\\mathbb{R}$ constante. Vamos supor que, para $y>0$, essa partícula é sujeita ao campo magnético especificado acima, e por conseguinte à força (note que a dependência temporal de $\\vec{\\mu}$ é causada pela componente $b\\hat{e}_{3}$ de $\\vec{B}$):\n",
    "\\begin{align}\n",
    "\\vec{F}_{t} &= -\\mu_{x}(t)a\\hat{e}_{1}+\\mu_{z}(t)a\\hat{e}_{3} \\\\\n",
    "&= (\\mu_{x}(0)\\cos\\omega t + \\mu_{y}(0)\\sin\\omega t)a\\hat{e}_{1}+\\mu_{z}(0)a\\hat{e}_{3}.\n",
    "\\end{align}\n",
    "\n",
    "Para $b\\gg a$, o tempo de precessão é muito menor que as outras escalas de tempo relevantes nesse problema, e o efeito importante será da força média\n",
    "\\begin{align}\n",
    "\\langle\\vec{F}\\rangle &= (\\langle\\mu_{x}(0)\\cos\\omega t\\rangle + \\langle\\mu_{y}(0)\\sin\\omega t\\rangle) a\\hat{e}_{1}+\\langle\\mu_{z}(0)\\rangle a\\hat{e}_{3} \\\\\n",
    "&= \\hat{e}_{3}\\mu_{z}(0)a,\n",
    "\\end{align}\n",
    "em que usamos que $\\langle\\mu_{x}(0)\\cos\\omega t\\rangle=\\frac{1}{2\\pi}\\int_{0}^{2\\pi}\\mu_{x}(0)\\cos(\\omega t)d(\\omega t)=0$. Similarmente $\\langle\\sin\\omega t\\rangle=0$ e $\\langle\\mu_{z}(0)\\rangle=\\mu_{z}(0)=:\\mu_{z}$.\n",
    "\n",
    "Assim, a única componente da velocidade da partícula que muda é\n",
    "\\begin{equation}\n",
    "v_{z}(t)=v_{z}(0)+a_{z}t = 0 + \\frac{\\mu_{z}a}{m}t.\n",
    "\\end{equation}\n",
    "E, depois de passado esse intervalo de tempo, a coordenada $z$ da partícula é\n",
    "\\begin{align}\n",
    "z(t)&=z(0)+v_{z}(0)t+\\frac{a_{z}t^{2}}{2} = 0+0t+\\frac{\\mu_{z}a}{m}\\frac{t^{2}}{2} \\\\\n",
    "&= \\frac{\\mu_{z}at^{2}}{2m}.\n",
    "\\end{align}\n",
    "Se colocarmos detectores de partículas em várias coordenadas $z$ e em uma certa coordenadas $y_{d}$, as partículas chegarão nessa coordenada no instante de tempo obtido como segue\n",
    "\\begin{align}\n",
    "y_{d}=:y(t=:t_{d})=y(0)+v_{y}(0)t_{d}=0+dt_{d} \\therefore t_{d}=\\frac{y_{d}}{d}.\n",
    "\\end{align}\n",
    "Com isso, temos que a coordenada $z$ na qual a partícula chega no detector pode ser escrita como\n",
    "\\begin{equation}\n",
    "z_{d}:=z(t_{d}) = \\left(\\frac{ay_{d}^{2}}{2md^{2}}\\right)\\mu_{z} = \\text{(constante)}\\mu_{z} =: A\\mu_{z}.\n",
    "\\end{equation}\n",
    "\n",
    "Vemos assim que a coordenada $z$ na partícula é proporcional à componente $z$ do seu momento magnético. Se essas partículas provém de um forno a uma temperatura alta, espera-se que a orientação do seus momentos magnéticos seja aleatória. Isso implicará que\n",
    "\\begin{equation}\n",
    "z_{d} = \\text{contínuo}.\n",
    "\\end{equation}"
   ]
  },
  {
   "cell_type": "code",
   "execution_count": null,
   "metadata": {},
   "outputs": [],
   "source": [
    "# fazer gráfico das trajetórias, escolhendo mu_z aleatoriamente em R"
   ]
  },
  {
   "cell_type": "markdown",
   "metadata": {},
   "source": [
    "## Momento magnético quantizado\n",
    "O momento angular de sistemas quânticos é quantizado, como vimos no exemplo de átomos hidrogenóides, e como veremos de maneira geral da disciplina de MQII [https://github.com/jonasmaziero/mecanica_quantica/blob/master/11_momento_angular.ipynb]. Aqui, usando que os valores possíveis do momento angular $L$ são $\\hbar\\sqrt{l(l+1)}$, teremos\n",
    "\\begin{align}\n",
    "\\mu = g\\frac{q}{2m}L = g\\frac{q}{2m}\\hbar\\sqrt{l(l+1)} =: g\\mu_{B}\\sqrt{l(l+1)},\n",
    "\\end{align}\n",
    "em que definimos o chamado magneton de Bohr:\n",
    "\\begin{equation}\n",
    "\\mu_{b} := \\frac{q\\hbar}{2m}.\n",
    "\\end{equation}\n",
    "\n",
    "Para a componente $z$ do momento magnético, usando que os valores de $L_{z}$ são $\\hbar m_{l}$, teremos\n",
    "\\begin{align}\n",
    "\\mu_{z} = g\\frac{q}{2m}L_{z} = g\\mu_{B}m_{l},\n",
    "\\end{align}\n",
    "com $m_{l}\\in\\mathbb{Z}$.\n",
    "\n",
    "Agora, se considerarmos o mesmo exemplo estudado acima, teremos que\n",
    "\\begin{equation}\n",
    "z_{d} = A\\mu_{z} = Ag\\mu_{B}m_{l} = \\text{discreto}.\n",
    "\\end{equation}\n",
    "Portanto, somente detectores colocados em um conjunto discreto de valores de $z$ irão \"clicar\", por consequência da quantização do momento angular quântico."
   ]
  },
  {
   "cell_type": "code",
   "execution_count": null,
   "metadata": {},
   "outputs": [],
   "source": [
    "# fazer gráfico das trajetórias, escolhendo mu_z aleatoriamente em N"
   ]
  },
  {
   "cell_type": "markdown",
   "metadata": {},
   "source": [
    "## Momento angular intrínseco - spin\n",
    "Um experimento muito útil para a história e discussões atuais dos fundamentos da MQ é o experimento de Stern-Gerlach (ESG) [https://www.nobelprize.org/prizes/physics/1943/stern/lecture/], cujos principais elementos estão mostrados na figura abaixo.\n",
    "\n",
    "<figure>\n",
    "    <img src=\"fig_18_stern-gerlach.png\" width=\"450\">\n",
    "    <div class=\"caption\"> O número 2 indica o feixe de átomos, que passam pelo campo magnético não homogêneo indicado por 3. Já 4 indica a previsão clássica e 5 indica o que é de fato observado experimentalmente. Fonte: https://commons.wikimedia.org/wiki/File:Stern-Gerlach_experiment_svg.svg.</div>\n",
    "</figure>\n",
    "\n",
    "\n",
    "Átomos que saem de um forno são colimados e passam por um gradiente de campo magnético na direção $z$. Stern e Gerlach observaram que os átomos são separados em dois feixes. Esses resultados experimentais, obtidos em 1922 (portanto antes da teoria de Schrödinger de 1925), \"provavam\" a quantização do momento angular, previamente assumida teoricamente por Bohr e Sommerfeld (lembrando, estes assumiram que $L = n\\hbar$ com $n=1,2,3,\\cdots$). "
   ]
  },
  {
   "cell_type": "markdown",
   "metadata": {},
   "source": [
    "No entanto, com vistas na teoria de Schrödinger, que vimos nessa disciplina, que é uma teoria melhor que a de Bohr, o número de faixas que deveriam ser observadas no ESG deveria de igual ao número de valores possíveis de $m_{l}$:\n",
    "* Para $l=0\\therefore m_{l}=0$, e não observaríamos nenhum desvio, e $z_{d}=0$ para todos os quantons. \n",
    "* Para\n",
    "\\begin{equation}\n",
    "l=1\\Rightarrow\\begin{cases}m_{l}=+1\\therefore z_{d}=Ag\\mu_{B}, \\\\ m_{l}=0\\therefore z_{d}=0, \\\\ m_{l}=-1\\therefore z_{d}=-Ag\\mu_{B}, \\end{cases}\n",
    "\\end{equation}\n",
    "deveríamos observar três faixas separadas onde os quantons chegam nos detectores. \n",
    "* O análogo segue para valores maiores de $l$. Em particular, sempre temos o caso $m_{l}=0\\therefore z_{d}=0$.\n",
    "\n",
    "No entanto, no ESG não aparece a faixa escura central (que corresponderia a $m_{l}=0$), aparecem somente duas faixas. O não aparecimento dessa faixa central (que deveria estar presente para todos os valores de $l$) era um indicativo de que estava faltando algum elemento na teoria de Schrödinger.\n",
    "\n",
    "Esse elemento é o momento angular intrínseco, o __spin__, do elétron $S$, com valores $\\hbar\\sqrt{s(s+1)}$, conceito proposto por G.E. UHLENBECK e S. GOUDSMIT em 1925 (que quase ganharam o prêmio Nobel de 1947 [https://www.nobelprize.org/nomination/archive/show.php?id=8351]), que está associado a um momento magnético intrínseco \n",
    "\\begin{equation}\n",
    "\\mu_{s}=g_{s}\\mu_{b}\\sqrt{s(s+1)},\n",
    "\\end{equation}\n",
    "com \n",
    "\\begin{equation}\n",
    "s=\\frac{1}{2}\\Rightarrow m_{s}=-\\frac{1}{2},+\\frac{1}{2},\n",
    "\\end{equation}\n",
    "dando conta assim de explicar o aparecimento de apenas duas faixas no ESG (que seriam obtidas para $l=0\\therefore m_{l}=0$).\n",
    "\n",
    "OBS. O spin aparece 'naturalmente' na teoria relativística da MQ de Dirac, embora ainda não entendemos o spin tal como alguns poderiam esperar."
   ]
  },
  {
   "cell_type": "markdown",
   "metadata": {},
   "source": [
    "## Função de onda completa de átomos hidrogenóides\n",
    "A descrição de Schrödinger é completada, de maneira ad hoc, adicionando-se o número quântico que especifica a componente $z$ do seu spin (pois $s=1/2$ para o elétron):\n",
    "\\begin{equation}\n",
    "\\psi_{n,l,m_{l},m_{s}}.\n",
    "\\end{equation}\n",
    "\n",
    "Por exemplo, para o estado fundamental de átomos hidrogenóides, a função de onda é a combinação linear\n",
    "\\begin{equation}\n",
    "\\psi_{n=1,l=0,m_{l}=0} = C_{+}\\psi_{n=1,l=0,m_{l}=0,m_{s}=+1/2} + C_{-}\\psi_{n=1,l=0,m_{l}=0,m_{s}=-1/2},\n",
    "\\end{equation}\n",
    "e $|C_{\\pm}|^{2}$ é a probabilidade de, em um experimento do tipo de Stern-Gerlach, o átomo ser desviado \"pra cima\" ou \"pra baixo\" (no caso do elétron, que possui carga elétrica negativa, o desvio seria nos sentidos contrários)."
   ]
  },
  {
   "cell_type": "markdown",
   "metadata": {},
   "source": [
    "## Soma de momentos angulares\n",
    "Veremos esse tema em detalhes na disciplina de MQII. Alguns dos principais resultados de interesse aqui são os seguintes. \n",
    "\n",
    "Se somamos o momento angular orbital $\\vec{L}$ e o momento angular intrínseco $\\vec{S}$ do elétron, obteremos seu momento angular total\n",
    "\\begin{equation}\n",
    "\\vec{J}=\\vec{L}+\\vec{S}.\n",
    "\\end{equation}\n",
    "\n",
    "Lembrando, os valores possíveis de $L$ são $\\hbar\\sqrt{l(l+1)}$ com $l=0,1,\\cdots,n=1$ e os valores de $L_{z}$ são $\\hbar m_{l}$ com $m_{l}=0,\\pm1,\\cdots,\\pm l$. O valor de $S$ é $\\hbar\\sqrt{s(s+1)}$ com $s=1/2$ para o elétron e os valores de $S_{z}$ são $\\hbar m_{s}$ com $m_{s}=-1/2,1/2$.\n",
    "\n",
    "Algo de certo modo surpreendente aqui é que ao somar dois momentos angulares fixos, podemos obter vários valores para o momento angular total $\\vec{J}$, que são $\\hbar\\sqrt{j(j+1)}$ com\n",
    "\\begin{equation}\n",
    "j=|l-s|,|l-s|+1,\\cdots,l+s.\n",
    "\\end{equation}\n",
    "Já a componente $z$ do momento angular total, $J_{z}=L_{z}+S_{z}$, pode assumir, para um dado $j$, os valores $\\hbar m_{j}$ com\n",
    "\\begin{equation}\n",
    "m_{j} = -j,-j+1,\\cdots,j\n",
    "\\end{equation}\n",
    "com a restrição que\n",
    "\\begin{equation}\n",
    "m_{j}=m_{l}+m_{s}.\n",
    "\\end{equation}"
   ]
  },
  {
   "cell_type": "markdown",
   "metadata": {},
   "source": [
    "## Princípio de esclusão de Pauli\n",
    "Pauli postulou que, para sistemas com 2 ou mais elétrons, estes não podem compartilhar o mesmo conjunto de números quânticos. \n",
    "\n",
    "Então, por exemplo, para o estado fundamental do átomo de Hélio, se $n=1,l=0,m_{l}=0$, os dois elétrons devem ter spins opostos. \n",
    "\n",
    "OBS. Esse princípio é essencial para o entendimento da tabela periódica.\n",
    "\n",
    "OBS. A obtenção do princípio de exclusão de Pauli a partir das regras básicas da MQ é um problema de pesquisa em aberto."
   ]
  },
  {
   "cell_type": "markdown",
   "metadata": {},
   "source": [
    "---\n",
    "# Exercícios\n",
    "\n",
    "1. Considere um momento magnético $\\vec{\\mu}$ sujeito a um campo magnético constante $\\vec{B}=b\\hat{i}$, com $b\\in\\mathbb{R}$ constante. Calcule $\\vec{\\mu}(t)$.\n",
    "\n",
    "1. Verifique que um campo magnético do tipo $\\vec{B}=bz^{a}\\hat{e}_{3}$ não satisfaz a lei de Maxwell $\\vec{\\nabla}\\cdot\\vec{B}=0$. Verifique que $\\vec{B}=-ax\\hat{e}_{1}+(b+az)\\hat{e}_{3}$ satisfaz essa lei. Nos dois casos, $a,b\\in\\mathbb{R}$ são constantes não nulas.\n",
    "\n",
    "1. Considerando o mesmo exemplo usado em aula, obtenha (as expressões para) as posições $z_{d}$ nas quais os quantons chegam no detector, no experimento de Stern-Gerlach, para $l=2$.\n",
    "\n",
    "1. Supondo que o elétron se comporte, classicamente, como uma esfera maciça de raio $r=10^{-15}\\text{ m}$, e usando o módulo do seu momento angular intrínseco como $S=\\hbar\\sqrt{s(s+1)}=\\hbar\\sqrt{3}/2$, calcule a velocidade tangencial de um ponto situado no equador do elétron. Compare essa velocidade com a velocidade da luz no vácuo.\n",
    "\n",
    "1. Quantas faixas são observadas em experimentos de Stern-Gerlach feitos com átomos com spin $s=0$ e momento angular orbital $l=1$? Quantas faixas seriam observadas para o estado fundamental do átomo de ítrio, com $j=3/2$?\n",
    "---"
   ]
  },
  {
   "cell_type": "code",
   "execution_count": null,
   "metadata": {},
   "outputs": [],
   "source": []
  }
 ],
 "metadata": {
  "kernelspec": {
   "display_name": "Python 3",
   "language": "python",
   "name": "python3"
  },
  "language_info": {
   "codemirror_mode": {
    "name": "ipython",
    "version": 3
   },
   "file_extension": ".py",
   "mimetype": "text/x-python",
   "name": "python",
   "nbconvert_exporter": "python",
   "pygments_lexer": "ipython3",
   "version": "3.6.6"
  }
 },
 "nbformat": 4,
 "nbformat_minor": 2
}
