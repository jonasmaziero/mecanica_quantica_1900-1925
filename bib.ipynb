{
 "cells": [
  {
   "cell_type": "markdown",
   "metadata": {},
   "source": [
    "# Bibliografia\n",
    "\n",
    "1. TIPLER, P.A., LLEWELLYN, R.A.. Física Moderna. LTC, Rio de Janeiro: 2010.\n",
    "\n",
    "1. EISBERG, R. M., RESNICK, R.. Quantum Physics of Atoms, Molecules, Solids, Nuclei, and Particles. John Wiley & Sons, California: 1985.\n",
    "\n",
    "1. GRIFFITHS David J. Introduction to Quantum Mechanics. Prentice Hall, 1995.\n",
    "\n",
    "1. MESSIAH, A. Quantum Mechanics. Dover, Mineola: 1999.\n",
    "\n",
    "1. NUSSENZVEIG, H. M.. Curso de Física Básica – Vol. 4. Editora Blucher, São Paulo: 1998.\n",
    "\n",
    "1. SAKURAI, J. J. Mecânica Quântica Moderna. 2a ed. Bookman, Porto Alegre: 2013.\n",
    "\n",
    "1. PIZA, A. F. R. T. Mecânica Quântica. Edusp, São Paulo: 2003.\n",
    "\n",
    "1. FEYNMAN, R. P. The Feynman Lectures on Physics. Addison-Wesley, Reading: 1966. v. 3.\n",
    "\n",
    "1. PESSOA JR, O.. Conceitos de Física Quântica – Vols. I e II. Editora Livraria da Física, São Paulo: 2003.\n",
    "\n",
    "1. HORBATSCH, M. Quantum Mechanics using Maple. Springer, Berlin: 1995.\n",
    "\n",
    "1. HEWITT, P. Física conceitual. Bookman, Porto Alegre: 2007.\n",
    "\n",
    "1. AMARAL, B., BARAVIERA, A. T., TERRA CUNHA, M. O.. Mecânica Quântica para Matemáticos em Formação. IMPA, Rio de Janeiro: 2011. Disponível em https://impa.br/wp-content/uploads/2017/04/28CBM_12.pdf.\n",
    "\n",
    "1. SCHIFF, L. I.. Quantum Mechanics. McGraw-Hill Book Company, York: 1955.\n",
    "\n",
    "1. ARFKEN, G. B., WEBER, H. J.. Mathematical Methods for Physicists. 6ª ed. Academic Press, 2005."
   ]
  },
  {
   "cell_type": "code",
   "execution_count": null,
   "metadata": {},
   "outputs": [],
   "source": []
  }
 ],
 "metadata": {
  "kernelspec": {
   "display_name": "Python 3",
   "language": "python",
   "name": "python3"
  },
  "language_info": {
   "codemirror_mode": {
    "name": "ipython",
    "version": 3
   },
   "file_extension": ".py",
   "mimetype": "text/x-python",
   "name": "python",
   "nbconvert_exporter": "python",
   "pygments_lexer": "ipython3",
   "version": "3.6.6"
  }
 },
 "nbformat": 4,
 "nbformat_minor": 2
}
