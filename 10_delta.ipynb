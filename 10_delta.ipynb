{
 "cells": [
  {
   "cell_type": "markdown",
   "metadata": {},
   "source": [
    "## Notas de aula de Mecânica Quântica <br> Autor: Jonas Maziero\n",
    "\n",
    "Link para o vídeo da aula sobre este tópico: ."
   ]
  },
  {
   "cell_type": "code",
   "execution_count": 1,
   "metadata": {},
   "outputs": [],
   "source": [
    "%run init.ipynb"
   ]
  },
  {
   "cell_type": "markdown",
   "metadata": {},
   "source": [
    "# Potencial função delta\n",
    "Este potencial é de certa forma similar ao potencial barreira, que vimos na aula anterior. No entanto, enquanto a largura e altura do potencial barreira são finitas, neste caso a altura é infinita e a largura é infinitesimalmente pequena. O potencial função delta pode ser escrito, sem perda de generalidade, como\n",
    "\\begin{equation}\n",
    "U(x) = -\\alpha\\delta(x),\n",
    "\\end{equation}\n",
    "com $\\alpha$ sendo uma constante positiva e a função delta é tal que\n",
    "\\begin{equation}\n",
    "\\delta(x)= \\begin{cases}0 \\text{ se } x\\ne0, \\\\ \\infty\\text{ se }x=0,\\end{cases}\n",
    "\\end{equation}\n",
    "com as restrições \n",
    "\\begin{equation}\n",
    "\\int_{-\\infty}^{+\\infty}\\delta(x)dx=1\n",
    "\\end{equation}\n",
    "e \n",
    "\\begin{equation}\n",
    "\\int_{-\\infty}^{+\\infty}\\delta(x-a)f(x)dx=f(a).\n",
    "\\end{equation}\n",
    "Um exemplo de sistema físico onde este potencial seria relevante é para o espalhamento por uma carga elétrica 'pontual', cuja densidade de carga elétrica é uma função delta.\n",
    "\n",
    "A equação de Schrödinger independente do tempo para essa energia potencial é escrita como\n",
    "\\begin{equation}\n",
    "-\\frac{\\hbar^{2}}{2m}\\partial_{xx}\\psi(x)-\\alpha\\delta(x)\\psi(x)=E\\psi(x).\n",
    "\\end{equation}"
   ]
  },
  {
   "cell_type": "markdown",
   "metadata": {},
   "source": [
    "## Estados ligados: $E<0$\n",
    "Nessa caso, para $x<0$ e para $x>0$ temos $V(x)=0$ e assim a EqSIT1D fica \n",
    "\\begin{equation}\n",
    "\\partial_{xx}\\psi-(-2mE/\\hbar)\\psi=\\partial_{xx}\\psi-k^{2}\\psi=0,\n",
    "\\end{equation}\n",
    "com\n",
    "\\begin{equation}\n",
    "k=\\sqrt{-2mE}/\\hbar.\n",
    "\\end{equation}\n",
    "A solução geral dessa eq. diferencial é $\\psi(x)=c_{p}e^{kx}+c_{n}e^{-kx}$. Como a função de onda deve ir pra zero quando $x\\rightarrow\\pm\\infty$, zeramos os coeficientes de acordo obtendo\n",
    "\\begin{align}\n",
    "& \\psi(x>0)=c_{n}e^{-kx}, \\\\\n",
    "& \\psi(x<0)=c_{p}e^{kx}.\n",
    "\\end{align}\n",
    "Para continuidade da função de onda, essas duas funções devem ter o mesmo valor em $x=0$, o que implica que $c_{n}=c_{p}$, i.e.,\n",
    "\\begin{align}\n",
    "& \\psi(x>0)=c_{p}e^{-kx}, \\\\\n",
    "& \\psi(x<0)=c_{p}e^{kx}.\n",
    "\\end{align}\n",
    "Seguindo, impomos a condição de normalização para obtermos a constante:\n",
    "\\begin{align}\n",
    "1 &=\\int_{-\\infty}^{+\\infty}|\\psi(x)|^{2}dx = \\int_{-\\infty}^{0}|\\psi(x<0)|^{2}dx + \\int_{0}^{+\\infty}|\\psi(x>0)|^{2}dx \\\\\n",
    "&= |c_{p}|^{2}\\left(\\int_{-\\infty}^{0}e^{2kx}dx + \\int_{0}^{+\\infty}e^{-2kx}dx\\right) = |c_{p}|^{2}\\left(\\left(\\frac{e^{2kx}}{2k}\\right)_{-\\infty}^{0} + \\left(\\frac{e^{-2kx}}{-2k}\\right)_{0}^{\\infty}\\right) \\\\\n",
    "&= |c_{p}|^{2}(1/2k+1/2k), \\\\\n",
    "& \\therefore c_{p}=\\sqrt{k}.\n",
    "\\end{align}\n",
    "Assim\n",
    "\\begin{equation}\n",
    "\\begin{cases}\\psi(x\\ge0)=\\sqrt{k}e^{-kx}, \\\\ \\psi(x<0)=\\sqrt{k}e^{kx}.\\end{cases} \\therefore \\psi(x)=\\sqrt{k}e^{-k|x|}.\n",
    "\\end{equation}\n",
    "Essa função de onda está ilustrada na figura abaixo."
   ]
  },
  {
   "cell_type": "code",
   "execution_count": 21,
   "metadata": {},
   "outputs": [
    {
     "data": {
      "image/png": "[encoded data removed]",
      "text/plain": [
       "<matplotlib.figure.Figure at 0x7f8b85b511d0>"
      ]
     },
     "metadata": {},
     "output_type": "display_data"
    }
   ],
   "source": [
    "def psi(k,x):\n",
    "    return sqrt(k)*exp(-k*abs(x))\n",
    "xm = 5; x = np.arange(-xm,xm,0.1); k = 1; d = x.shape[0]; y = np.zeros(d)\n",
    "for j in range(0,d):\n",
    "    y[j] = psi(k,x[j])\n",
    "fig = plt.figure(figsize=(10,5)); plt.annotate(r'$k=$'+str(k)[:5], xy=(xm-1,0.9), xytext=(xm-1,0.8), fontsize=12)\n",
    "plt.plot(x,y); plt.xlabel('x'); plt.ylabel(r'$\\psi$'); plt.show()"
   ]
  },
  {
   "cell_type": "markdown",
   "metadata": {},
   "source": [
    "Para obter os possíveis valores da energia vamos fazer o seguinte. A 1ª derivada da função de onda não é contínua em $x=0$, pois o potencial é $-\\infty$ nesse ponto. Então vamos integrar a EqSIT1D no intervalo $[-\\epsilon,\\epsilon]$ para $\\epsilon\\rightarrow 0$:\n",
    "\\begin{align}\n",
    "& \\int_{-\\epsilon}^{\\epsilon}\\Big(-\\frac{\\hbar^{2}}{2m}\\Big)\\frac{\\partial^{2}\\psi(x)}{\\partial x^{2}}dx +\\int_{-\\epsilon}^{\\epsilon}U(x)\\psi(x)dx = \\int_{-\\epsilon}^{\\epsilon}E\\psi(x)dx, \\\\\n",
    "& \\therefore -\\frac{\\hbar^{2}}{2m}\\int_{-\\epsilon}^{\\epsilon}d\\Big(\\frac{\\partial\\psi(x)}{\\partial x}\\Big)dx -\\alpha\\int_{-\\epsilon}^{\\epsilon}\\delta(x)\\psi(x)dx = E\\int_{-\\epsilon}^{\\epsilon}\\psi(x)dx, \\\\\n",
    "& \\therefore -\\frac{\\hbar^{2}}{2m}\\Big(\\Big(\\frac{\\partial\\psi(x)}{\\partial x}\\Big)_{\\epsilon} -\\Big(\\frac{\\partial\\psi(x)}{\\partial x}\\Big)_{-\\epsilon}\\Big) -\\alpha\\psi(0)= E\\Big(\\psi(0)(0-(-\\epsilon))+\\psi(\\epsilon)(\\epsilon-0)\\Big), \\\\\n",
    "& \\therefore -\\frac{\\hbar^{2}}{2m}\\Delta\\Big(\\frac{\\partial\\psi(x)}{\\partial x}\\Big) -\\alpha\\psi(0)= E\\Big(\\psi(0)+\\psi(\\epsilon)\\Big)\\epsilon=0, \\\\\n",
    "& \\therefore \\Delta\\Big(\\frac{\\partial\\psi(x)}{\\partial x}\\Big) = -\\frac{2m\\alpha}{\\hbar^{2}}\\psi(0).\n",
    "\\end{align}"
   ]
  },
  {
   "cell_type": "markdown",
   "metadata": {},
   "source": [
    "Como a derivada da função de onda é\n",
    "\\begin{align}\n",
    "& \\partial_{x}\\psi(x\\ge0)=\\partial_{x}\\Big(\\sqrt{k}e^{-kx}\\Big)=-k\\sqrt{k}e^{-kx}, \\\\\n",
    "& \\partial_{x}\\psi(x<0)=\\partial_{x}\\Big(\\sqrt{k}e^{kx}\\Big) = k\\sqrt{k}e^{kx},\n",
    "\\end{align}\n",
    "teremos que\n",
    "\\begin{align}\n",
    "& \\Delta\\Big(\\frac{\\partial\\psi(x)}{\\partial x}\\Big) = \\Big(\\partial_{x}\\psi(x\\ge0)\\Big)_{\\epsilon} - \\Big(\\partial_{x}\\psi(x<0)\\Big)_{-\\epsilon} = -k\\sqrt{k}e^{-k\\epsilon}-k\\sqrt{k}e^{k(-\\epsilon)} \\\\\n",
    "& =-2k\\sqrt{k}e^{-k\\epsilon} \\approx -2k\\sqrt{k} = -\\frac{2m\\alpha}{\\hbar^{2}}\\psi(0) = -\\frac{2m\\alpha}{\\hbar^{2}}\\sqrt{k}, \\\\\n",
    "& \\therefore k = \\frac{m\\alpha}{\\hbar^{2}} = \\frac{\\sqrt{-2mE}}{\\hbar}.\n",
    "\\end{align}\n",
    "Por conseguinte, para a energia potencial função delta $U(x)=-\\alpha\\delta(x)$ temos um único estado ligado\n",
    "\\begin{equation}\n",
    "\\psi(x) = \\frac{\\sqrt{m\\alpha}}{\\hbar}e^{-m\\alpha |x|/\\hbar^{2}}\n",
    "\\end{equation}\n",
    "com energia\n",
    "\\begin{equation}\n",
    "E = -\\frac{m\\alpha^{2}}{2\\hbar}.\n",
    "\\end{equation}"
   ]
  },
  {
   "cell_type": "markdown",
   "metadata": {},
   "source": [
    "## Espalhamento: $E>0$\n",
    "Nesse caso, para $x\\ne0$ teremos da EqSIT1D que \n",
    "\\begin{equation}\n",
    "\\partial_{xx}\\psi(x\\ne0)+(2mE/\\hbar^{2})\\psi(x\\ne0)=:\\partial_{xx}\\psi(x\\ne0)+k^{2}\\psi(x\\ne0)=0,\n",
    "\\end{equation}\n",
    "em que definimos\n",
    "\\begin{equation}\n",
    "k = \\sqrt{2mE}/\\hbar.\n",
    "\\end{equation}\n",
    "As soluções gerais dessa eq. podem ser escritas como\n",
    "\\begin{align}\n",
    "& \\psi(x<0) = c_{ed}e^{ikx}+c_{ee}e^{-ikx}, \\\\\n",
    "& \\psi(x>0) = c_{dd}e^{ikx}+c_{de}e^{-ikx}.\n",
    "\\end{align}\n",
    "Vamos considerar o quanton movimentando-se inicialmente na região $x<0$ no sentido de $x$ crescente. Nesse caso, uma vez que o quanton passou para a região $x>0$ não há porquê este se movimentar no sentido de $x$ decrescente. Por isso impomos que\n",
    "\\begin{equation}\n",
    "c_{de}=0.\n",
    "\\end{equation}"
   ]
  },
  {
   "cell_type": "markdown",
   "metadata": {},
   "source": [
    "Seguindo, impomos a continuidade da função de onda em $x=0$:\n",
    "\\begin{equation}\n",
    "c_{ed}e^{ik0}+c_{ee}e^{-ik0} = c_{dd}e^{ik0} \\therefore c_{ed}+c_{ee}=c_{dd}.\n",
    "\\end{equation}\n",
    "\n",
    "Aqui também temos que a derivada 1ª não é contínua em $x=0$, e usaremos novemente $\\Delta\\Big(\\frac{\\partial\\psi(x)}{\\partial x}\\Big) = -\\frac{2m\\alpha}{\\hbar^{2}}\\psi(0)$. Para isso notemos que\n",
    "\\begin{align}\n",
    "& \\partial_{x}\\psi(x<0) = ik(c_{ed}e^{ikx}-c_{ee}e^{-ikx}), \\\\\n",
    "& \\partial_{x}\\psi(x>0) = ik c_{dd}e^{ikx}.\n",
    "\\end{align}\n",
    "Assim, para $\\epsilon\\rightarrow 0$, teremos\n",
    "\\begin{align}\n",
    "\\Delta\\Big(\\frac{\\partial\\psi(x)}{\\partial x}\\Big) &= \\Big(\\frac{\\partial\\psi(x)}{\\partial x}\\Big)_{\\epsilon} - \\Big(\\frac{\\partial\\psi(x)}{\\partial x}\\Big)_{-\\epsilon} \\\\\n",
    "&= ik c_{dd}e^{-ik\\epsilon} - ik(c_{ed}e^{ik\\epsilon}-c_{ee}e^{-ik\\epsilon}) \\approx ik(c_{dd}-c_{ed}+c_{ee}) \\\\\n",
    "& = 2m\\alpha(c_{ed}+c_{ee})/\\hbar^{2}.\n",
    "\\end{align}"
   ]
  },
  {
   "cell_type": "markdown",
   "metadata": {},
   "source": [
    "Substituind $c_{dd}$ nessa última eq. obteremos\n",
    "\\begin{align}\n",
    "& ik(c_{ed}+c_{ee}-c_{ed}+c_{ee}) = \\frac{2m\\alpha}{\\hbar^{2}}(c_{ed}+c_{ee}), \\\\\n",
    "& \\therefore \\Big(2ik-\\frac{2m\\alpha}{\\hbar^{2}}\\Big)c_{ee} = \\frac{2m\\alpha}{\\hbar^{2}}c_{ed} \\therefore c_{ee}= \\frac{m\\alpha/\\hbar^{2}}{ik-m\\alpha/\\hbar^{2}}c_{ed}.\n",
    "\\end{align}\n",
    "O coeficiente de reflexão é assim dado por\n",
    "\\begin{align}\n",
    "R &= |c_{ee}|^{2}/|c_{ed}|^{2} = \\Big|\\frac{m\\alpha/\\hbar^{2}}{ik-m\\alpha/\\hbar^{2}}\\Big|^{2} \\\\\n",
    "&= \\frac{m^{2}\\alpha^{2}/\\hbar^{4}}{(ik-m\\alpha/\\hbar^{2})(-ik-m\\alpha/\\hbar^{2})} = \\frac{m^{2}\\alpha^{2}/\\hbar^{4}}{k^{2}+m^{2}\\alpha^{2}/\\hbar^{4}} \\\\\n",
    "& = \\frac{1}{1+ \\hbar^{4}k^{2}/m^{2}\\alpha^{2}}  = \\frac{1}{1+ \\hbar^{4}(2mE/\\hbar^{2})/m^{2}\\alpha^{2}} \\\\\n",
    "& = \\frac{1}{1+ 2\\hbar^{2}E/m\\alpha^{2}}.\n",
    "\\end{align}\n",
    "Já o coeficiente de transmissão é\n",
    "\\begin{equation}\n",
    "T = 1-R = \\frac{1+2\\hbar^{2}E/m\\alpha^{2}-1}{1+2\\hbar^{2}E/m\\alpha^{2}} = \\frac{1}{1+m\\alpha^{2}/2\\hbar^{2}E}.\n",
    "\\end{equation}"
   ]
  },
  {
   "cell_type": "code",
   "execution_count": 50,
   "metadata": {},
   "outputs": [
    {
     "data": {
      "application/vnd.jupyter.widget-view+json": {
       "model_id": "b06f9b8c9e6e4bf2bdaf19c7541f3e35",
       "version_major": 2,
       "version_minor": 0
      },
      "text/plain": [
       "interactive(children=(FloatSlider(value=0.46, description='al', max=1.0, min=0.01, step=0.05), Output()), _dom…"
      ]
     },
     "metadata": {},
     "output_type": "display_data"
    }
   ],
   "source": [
    "def coeff(al):\n",
    "    fig = plt.figure(figsize=(8,5)); m = 1; hbb = 1\n",
    "    E = np.arange(0.0001,3,0.05); T = 1/(1+(m*al**2)/(2*E*hbb**2)); R = 1-T\n",
    "    plt.plot(E,R); plt.plot(E,T); plt.xlim(0,3); plt.ylim(-0.01,1.01)\n",
    "    plt.xlabel(r'$E$'); plt.legend((r'$R$',r'$T$'),loc=(0.5,0.5))\n",
    "    plt.annotate(r'$\\alpha=$'+str(al)[:5], xy=(0.2,0.9), xytext=(0.2,0.9), fontsize=12)\n",
    "    plt.show()\n",
    "interactive(coeff, al=(0.01,1,0.05))"
   ]
  },
  {
   "cell_type": "markdown",
   "metadata": {},
   "source": [
    "---\n",
    "# Exercícios\n",
    "\n",
    "1. Calcule a integral $\\int_{-\\infty}^{\\infty}e^{x+3}\\delta(x+3)dx$.\n",
    "\n",
    "1. Considere $U(x)=\\alpha\\delta(x)$ com $\\alpha$ sendo um número real positivo. Existem estados ligados (com $E<0$) nesse caso? Para espalhamento por esse potencial, quais são os coeficientes de trasmissão e de reflexão?\n",
    "\n",
    "1. A matriz de transferência, ou matriz $S$, é definida por $\\begin{bmatrix}c_{dd}\\\\c_{de}\\end{bmatrix}=\\begin{bmatrix}S_{1,1}&S_{1,2}\\\\S_{2,1}&S_{2,2}\\end{bmatrix}\\begin{bmatrix}c_{ed}\\\\c_{ee}\\end{bmatrix}$. Obtenha os elementos dessa matriz, $S_{j,k}$, no caso do problema de espalhamento por um potencial função delta tratado nestas notas de aula."
   ]
  },
  {
   "cell_type": "code",
   "execution_count": null,
   "metadata": {},
   "outputs": [],
   "source": []
  }
 ],
 "metadata": {
  "kernelspec": {
   "display_name": "Python 3",
   "language": "python",
   "name": "python3"
  },
  "language_info": {
   "codemirror_mode": {
    "name": "ipython",
    "version": 3
   },
   "file_extension": ".py",
   "mimetype": "text/x-python",
   "name": "python",
   "nbconvert_exporter": "python",
   "pygments_lexer": "ipython3",
   "version": "3.6.4"
  }
 },
 "nbformat": 4,
 "nbformat_minor": 2
}
