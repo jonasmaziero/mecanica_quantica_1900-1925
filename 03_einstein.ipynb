{
 "cells": [
  {
   "cell_type": "markdown",
   "metadata": {},
   "source": [
    "## Notas de aula de Mecânica Quântica <br> Autor: Jonas Maziero\n",
    "Link para o vídeo da aula sobre esse tópico: https://youtu.be/DD33Nv_F1eY."
   ]
  },
  {
   "cell_type": "code",
   "execution_count": 1,
   "metadata": {},
   "outputs": [],
   "source": [
    "%run init.ipynb"
   ]
  },
  {
   "cell_type": "markdown",
   "metadata": {},
   "source": [
    "# Quantização da luz\n",
    "## Efeito fotoelétrico\n",
    "Teorias corpusculares da luz foram desenvolvidas por _Descartes_ em 1637 e por _Newton_ em 1672, e podem explicar, por exemplo, a reflexão da luz. No entanto, fenômenos tais como difração e interferência só são explicados por teorias ondulatórias da luz, como a de _Huygens_ de 1678. Em 1862 _Maxwell_ utilizou suas equações do eletromagnetismo para mostrar que ondas eletromagnéticas se propagam com a velocidade da luz, ou seja, luz é um tipo de onda eletromagnética. É curioso que, em 1887, ao verificar experimentalmente uma das predições da teoria de Maxwell, _Heinrich Hertz_ observou a primeira indicação da existência do efeito fotoelétrico, que discutiremos a seguir. E foi ao explicar esse efeito que _Einstein_ teorizou, em 1905, que a luz, ao interagir com a matéria, se comporta como sendo constituída por corpúsculos, hoje chamados de fótons.\n",
    "\n",
    "### Fatos empíricos\n",
    "O experimento cujos resultados serão tomados como base motivacional para o desenvolvimento da teoria é o de Lenard [https://www.nobelprize.org/prizes/physics/1905/lenard/lecture/], que está ilustrado na figura abaixo.\n",
    "\n",
    "<table>\n",
    "<tr>\n",
    "<td> <img src='fig_03_lenard1.png' width='250'/> </td>\n",
    "<td> <img src='fig_03_lenard2.png' width='250'/> </td>\n",
    "<td> <img src='fig_03_lenard3.png' width='250'/> </td>\n",
    "</tr>\n",
    "</table>"
   ]
  },
  {
   "cell_type": "markdown",
   "metadata": {},
   "source": [
    "Luz de uma fonte $L$ incide na superfície metálica $C$, podendo arrancar elétrons dela. A ejeção de elétrons de uma superfície metálica pela incidência de radiação eletromagnética é chamada de _efeito fotoelétrico_. Uma diferença de potencial (ddp) $V$  aplicada entre $C$ e $A$ pode acelerar ou desacelerar esses elétrons. Se elétrons chegam em $A$, eles são \"coletados\" e uma corrente elétrica é medida com um amperímetro. Com a polaridade certa, uma ddp suficientemente grande fará com que todos os elétrons arrancados de $C$ pela luz cheguem a $A$, e uma corrente elétrica máxima $i_{\\max}$ é observada no amperímetro. Para uma dada frequência, a corrente elétrica máxima (e a corrente elétrica em geral) é proporcional à intensidade da luz:\n",
    "\\begin{equation}\n",
    "i_{\\max}\\propto I.\n",
    "\\end{equation}\n",
    "Para uma dada intensidade, a corrente elétrica máxima (e a corrente elétrica em geral) é proporcional à frequência da luz:\n",
    "\\begin{equation}\n",
    "i_{\\max}\\propto \\nu.\n",
    "\\end{equation}"
   ]
  },
  {
   "cell_type": "markdown",
   "metadata": {},
   "source": [
    "A diminuição da ddp diminui a corrente elétrica, que é não nula mesmo para $V=0$. Isso mostra que alguns dos elétrons arrancados de $C$ possuem energia cinética não nula. Agora, se invertermos a polarização da ddp, impedindo que elétrons com energia cinética\n",
    "\\begin{equation}\n",
    "E_{c}< e|V|\n",
    "\\end{equation}\n",
    "cheguem a $A$, a corrente elétrica continua diminuindo. Independente de $I$, a corrente elétrica vai pra zero em um valor de potencial $V=V_{0}$, chamado de _potencial de corte_. Esse potencial de corte corresponde ao frenamento dos elétrons com energia cinética máxima:\n",
    "\\begin{equation}\n",
    "e|V_{0}| = E_{c}^{\\max}.\n",
    "\\end{equation}\n",
    "Ademais, o módulo do potencial de corte aumenta com o aumento da frequência da radiação eletromagnética incidente, e existe uma frequência de corte $\\nu_{\\min}$ tal que para frequências\n",
    "\\begin{equation}\n",
    "\\nu<\\nu_{c},\n",
    "\\end{equation}\n",
    "nenhuma corrente elétrica é medida para $V<0$, independentemente da intensidade da luz incidente. Note que a pequena corrente elétrica observada para $V>0$ é devida aos elétrons arrancados com $E_{c}=0$.\n",
    "\n",
    "Outra observação experimental é que, independente de $I$, uma corrente elétrica não nula é observada quase que imediatamente ao instante de incidência da luz na placa metálica, ou seja, não há retardo entre a incidência da luz e a ejeção de elétrons:\n",
    "\\begin{equation}\n",
    "t_{\\text{retardo}}=0.\n",
    "\\end{equation}"
   ]
  },
  {
   "cell_type": "markdown",
   "metadata": {},
   "source": [
    "### Teoria clássica (TC)\n",
    "Pela teoria clássica, a energia transportada pela onda eletromagnética é proporcional a sua intendidade, que é proporcional ao módulo quadrado do campo elétrico:\n",
    "\\begin{equation}\n",
    "I\\propto E^{2}.\n",
    "\\end{equation}\n",
    "Como a intensidade não depende da frequência, segundo a TC a corrente elétrica também não deveria depender da frequência. Além disso, segundo a TC a energia cinética máxima deveria depender da aceleração máxima $a_{\\max}=eE/m_{e}$, que é proporcional à intensidade da luz. Portanto, pela TC o potencial de corte deveria ser proporcional à intensidade $|V_{0}|\\propto I$, e não à frequência. \n",
    "\n",
    "A TC clássica também não explica a inexistência de um retardo entre o instante em que luz incide na placa metálica e o instante em que uma corrente elétrica não nula é observada no amperímetro. Pela TC, a energia luminosa se distribui uniformente pela superfície da placa metálica. Dividindo essa energia pela área total e multiplicando pela área do átomo, teremos a energia absorvida pelo elétron (em um certo intervalo de tempo). Pela TC, depois que o elétron absorveu energia suficiente, este seria ejetado. Isso implica em um $t_{\\text{retardo}}$ finito, que não é observado experimentalmente, por menor que seja $I$.\n",
    "\n",
    "A TC clássica explica $i_{\\max}\\propto I$, pois o número de elétrons ejetados seria proporcional à taxa com que estes absorvem energia luminosa, que é proporcional à intensidade da onda eletromagnética. "
   ]
  },
  {
   "cell_type": "markdown",
   "metadata": {},
   "source": [
    "### A teoria de Einstein\n",
    "Einstein levou a hipótese de Planck a um outro nível. Enquanto Planck assumiu que a energia de um modo de oscilação da radiação eletromagnética com frequência $\\nu$ é um múltiplo de $h\\nu$, Einstein assumiu que a luz incidente na placa $C$ é constituída por pacotes de energia, os fótons, cada um com energia $h\\nu$. Ao ser absorvido, toda a energia do fóton é transferida imediatamente para o elétron. Se a energia necessária para arrancar o elétron do material for $\\tau$, a chamada _função trabalho do material_, então, por conservação de energia:\n",
    "\\begin{equation}\n",
    "h\\nu = \\tau + E_{c},\n",
    "\\end{equation}\n",
    "em que $E_{c}$ é a energia cinética do elétron, depois que este foi ejetado. A frequência mínima para que corrente elétrica não nula seja observada é obtida quando aproximadamente toda energia do fóton é usada para arrancar o elétron do material (e $E_{c}\\approx0$ e $V=0$):\n",
    "\\begin{equation}\n",
    "h\\nu_{\\min} = \\tau.\n",
    "\\end{equation}\n",
    "Como o potencial de corte corresponde à energia cinética máxima do elétron, teremos que:\n",
    "\\begin{align}\n",
    "& e|V_{0}| = E_{c}^{\\max} = h\\nu - \\tau, \\\\\n",
    "& \\therefore |V_{0}| = (-\\tau/e) + (h/e)\\nu,\n",
    "\\end{align}\n",
    "que é conhecida com _equação do efeito fotoelétrico_ (EqEFE).\n",
    "\n",
    "Millikan verificou experimentalmente a teoria de Einstein do efeito fotoelétrico, a EqEFE. Veja [Physical Review 7, 355 (1916)] e [https://www.nobelprize.org/prizes/physics/1923/millikan/lecture/]). Nsse experimento, pela inclinação da reta, Millikan pode também medir o valor da constante de Planck. Um gráfico parecido com aquele obtido por Millikan está mostrado na figura abaixo.\n",
    "<figure>\n",
    "    <img src=\"fig_03_millikan.png\" width=\"350\">\n",
    "    <div class=\"caption\">Fonte: https://commons.wikimedia.org/wiki/File:Photoelectric_effect_-_stopping_voltage_diagram_for_zinc_-_English.svg.</div>\n",
    "</figure>"
   ]
  },
  {
   "cell_type": "markdown",
   "metadata": {},
   "source": [
    "A teoria de Einstein (TE) para o efeito fotoelétrico explica a inexistência de um tempo de retardo entre incidência de luz e observação de corrente elétrica assumindo que toda a energia do fóton é absorvida imediatamente pelo elétron. A dependência do potencial de corte com a frequência é descrita pela EEFE de Einstein. \n",
    "\n",
    "A proporcionalidade da corrente elétrica máxima com a intensidade da luz é explicada pela teoria de Einstein notando-se que o número de fótons incidindo na placa metálica por unidade de tempo é proporcional a $I$, e portanto a taxa com que elétrons são arrancados (por conseguinte $i$) é proporcional $I$. \n",
    "\n",
    "Por fim, a teoria de Einstein explica a dependência de $i$ com $\\nu$ notando que a energia cinética dos fotoelétrons é proporcional a $h\\nu$. Assim, como $e|V|$ é constante, aumentando $\\nu$ aumentamos o número de elétrons que chegam à placa $A$, aumentando assim $i$. \n",
    "\n",
    "A teoria de Einstein também explica naturalmente a existência de uma frequência de corte, pois como a energia absorvida pelo elétron é $h\\nu$, se esta for menor que a função trabalho do materia, $h\\nu_{c}=\\tau$, nenhum elétron é arrancado e nenhuma corrente elétrica é observada."
   ]
  },
  {
   "cell_type": "code",
   "execution_count": 2,
   "metadata": {},
   "outputs": [
    {
     "data": {
      "application/vnd.jupyter.widget-view+json": {
       "model_id": "56c649e9f35d45f2a68cd13da7e2fa82",
       "version_major": 2,
       "version_minor": 0
      },
      "text/plain": [
       "interactive(children=(FloatSlider(value=2.0, description='tau', max=5.0), Output()), _dom_classes=('widget-int…"
      ]
     },
     "metadata": {},
     "output_type": "display_data"
    }
   ],
   "source": [
    "def einstein_efe(tau,nu):\n",
    "    return (-(tau*e)/e)+(h/e)*nu*10**13\n",
    "def einstein(tau):\n",
    "    x = np.arange(0,130,1)\n",
    "    y = einstein_efe(tau,x); plt.plot(x, y, color = 'blue')\n",
    "    plt.xlabel(r'$\\nu(10^{13}$ Hz)'); plt.ylabel(r'$|V_0|$(V)')\n",
    "    plt.xlim(0,130)\n",
    "    plt.ylim(0,5)\n",
    "    plt.show()\n",
    "interactive(einstein, tau = (0,5,0.1)) # tau = tau(J)"
   ]
  },
  {
   "cell_type": "markdown",
   "metadata": {},
   "source": [
    "## Efeito Compton \n",
    "Levando adiante a ideia de Einstein, de que a radiação eletromagnética é constituíca por pacotes de energia, os fótons, que se comportam como partículas ao interagir com a matéria, Compton considerou a colisão, no regime relativístico, entre um fóton e um elétron livre (casos mais realísticos form estudados em [https://arxiv.org/abs/1911.04780]), predizendo que o fóton perde energia nessa colisão, o que implica em um aumento do seu comprimento de onda. A seguir obtemos a equação de Compton. Considere a situação da figura abaixo (retirada de [https://www.nobelprize.org/prizes/physics/1927/compton/lecture/]).\n",
    "\n",
    "<img src='fig_03_compton.png' width='250'>\n",
    "\n",
    "A Energia $E$ de uma partícula com movimento relativístico é tal que:\n",
    "\\begin{equation}\n",
    "E^{2} = E_{0}^{2}+p^{2}c^{2},\n",
    "\\end{equation}\n",
    "em que $E_{0}=m_{0}c^{2}$ é a energia de repouso, $m_{0}$ é a massa de repouso e $p$ é o momento linear relativístico da partícula.\n",
    "\n",
    "Como a massa de repouso do fóton é nula, $\\lambda\\nu=c$ e a energia do fóton segundo Einstein é $E=h\\nu$, teremos a versão quântica do _momento linear do fóton_ dada como segue:\n",
    "\\begin{equation}\n",
    "E = pc \\Rightarrow p = \\frac{E}{c} = \\frac{h\\nu}{c} = \\frac{h}{\\lambda}.\n",
    "\\end{equation}\n",
    "\n",
    "Consideremos uma colisão elástica entre um fóton em um elétron. O fóton, com frequência $\\nu$, movimenta-se inicialmente na horizontal. O elétron está inicialmente em repouso. _Conservação de energia_ nos fornece ($E_{0}^{f}=0$ pois $m_{0}^{f}=0$, $p_{i}^{e}=0$):\n",
    "\\begin{align}\n",
    "& E_{i}^{f}+E_{i}^{e} = E_{f}^{f}+E_{f}^{e}, \\\\\n",
    "& \\therefore p_{i}^{f}c + m_{e}c^{2} = p_{f}^{f}c + \\sqrt{m_{e}^{2}c^{4}+(p_{f}^{e})^{2}c^{2}}, \\\\\n",
    "& \\therefore \\sqrt{m_{e}^{2}c^{4}+(p_{f}^{e})^{2}c^{2}} = (p_{i}^{f}-p_{f}^{f})c + m_{e}c^{2}, \\\\\n",
    "& \\therefore m_{e}^{2}c^{4}+(p_{f}^{e})^{2}c^{2} = (p_{i}^{f}-p_{f}^{f})^{2}c^{2} + m_{e}^{2}c^{4} + 2(p_{i}^{f}-p_{f}^{f})m_{e}c^{3}, \\\\\n",
    "& \\therefore (p_{f}^{e})^{2} = (p_{i}^{f})^{2}+(p_{f}^{f})^{2}-2p_{i}^{f}p_{f}^{f} + 2(p_{i}^{f}-p_{f}^{f})m_{e}c. \\hspace{1cm} (\\star)\n",
    "\\end{align}"
   ]
  },
  {
   "cell_type": "markdown",
   "metadata": {},
   "source": [
    "_Conservação do momento linear_ nor fornece:\n",
    "\\begin{align}\n",
    "& \\vec{p}_{i}^{f}+\\vec{p}_{i}^{e} = \\vec{p}_{f}^{f}+\\vec{p}_{f}^{e}, \\\\\n",
    "& \\therefore \\vec{p}_{i}^{f} + 0 = \\vec{p}_{f}^{f}+\\vec{p}_{f}^{e}, \\\\\n",
    "& \\therefore \\vec{p}_{f}^{e}\\cdot\\vec{p}_{f}^{e} =  (\\vec{p}_{i}^{f}-\\vec{p}_{f}^{f})\\cdot(\\vec{p}_{i}^{f}-\\vec{p}_{f}^{f}) \\\\\n",
    "& \\therefore (p_{f}^{e})^{2} = (p_{i}^{f})^{2}+(p_{f}^{f})^{2}-2p_{i}^{f}p_{f}^{f}\\cos\\varphi, \\hspace{1cm} (\\star\\star)\n",
    "\\end{align}\n",
    "em que $\\varphi$ é o ângulo entre os momentos lineares inicial e final do fóton.\n",
    "\n",
    "Usando $(\\star)=(\\star\\star)$, obtemos\n",
    "\\begin{align}\n",
    "& (p_{i}^{f})^{2}+(p_{f}^{f})^{2}-2p_{i}^{f}p_{f}^{f} + 2(p_{i}^{f}-p_{f}^{f})m_{e}c = (p_{i}^{f})^{2}+(p_{f}^{f})^{2}-2p_{i}^{f}p_{f}^{f}\\cos\\varphi, \\\\\n",
    "& \\therefore 2(p_{i}^{f}-p_{f}^{f})m_{e}c = 2p_{i}^{f}p_{f}^{f}(1-\\cos\\varphi), \\\\\n",
    "& \\therefore \\left(\\frac{h}{\\lambda_{i}}-\\frac{h}{\\lambda_{f}}\\right)m_{e}c = \\frac{h}{\\lambda_{i}}\\frac{h}{\\lambda_{f}}(1-\\cos\\varphi), \\\\\n",
    "& \\therefore h\\left(\\frac{\\lambda_{f}-\\lambda_{i}}{\\lambda_{i}\\lambda_{f}}\\right)m_{e}c = \\frac{h}{\\lambda_{i}}\\frac{h}{\\lambda_{f}}(1-\\cos\\varphi), \\\\\n",
    "& \\therefore \\color{blue}{\\lambda_{f}-\\lambda_{i} = \\frac{h}{m_{e}c}(1-\\cos\\varphi)}, \\\\\n",
    "\\end{align}\n",
    "que é a _equação de Compton_ para a mudança no comprimento de onda de um fóton que sofre espalhamento elástico por um elétron. $\\Delta\\lambda=\\lambda_{f}-\\lambda_{i}$ é chamado de _deslocamento Compton_. Claro, a mesma equação se aplica para o espalhamento por outras partículas. Para usá-la precisamos trocar $m_{e}$ pela massa de repouso da partícula espalhadora em questão.\n",
    "\n",
    "A constante multiplicativa que aparece na última equação é denominada __comprimento de onda de Compton__. Para o elétron teremos\n",
    "\\begin{equation}\n",
    "\\lambda_{c}^{e} := \\frac{h}{m_{e}c} \\approx 0,002426310\\text{ nm}.\n",
    "\\end{equation}"
   ]
  },
  {
   "cell_type": "code",
   "execution_count": 54,
   "metadata": {},
   "outputs": [
    {
     "data": {
      "image/png": "[encoded data removed]",
      "text/latex": [
       "$$2.4263102707796467e-12$$"
      ],
      "text/plain": [
       "2.4263102707796467e-12"
      ]
     },
     "execution_count": 54,
     "metadata": {},
     "output_type": "execute_result"
    }
   ],
   "source": [
    "h/(me*c)"
   ]
  },
  {
   "cell_type": "code",
   "execution_count": 3,
   "metadata": {},
   "outputs": [
    {
     "data": {
      "image/png": "[encoded data removed]",
      "text/plain": [
       "<matplotlib.figure.Figure at 0x7fd3411221d0>"
      ]
     },
     "metadata": {},
     "output_type": "display_data"
    }
   ],
   "source": [
    "def compton_dl(m,ph):\n",
    "    return (h/(m*c))*(1-np.cos(ph))\n",
    "def compton():\n",
    "    x = np.arange(0,2*math.pi,0.1)\n",
    "    y = compton_dl(me,x)*10**9; plt.plot(x, y, color = 'blue')\n",
    "    y1 = compton_dl(me*10,x)*10**9; plt.plot(x, y1, color = 'cyan')\n",
    "    y2 = compton_dl(me*100,x)*10**9; plt.plot(x, y2, color = 'green')\n",
    "    y3 = compton_dl(me*1000,x)*10**9; plt.plot(x, y3, color = 'red')\n",
    "    plt.xlabel(r'$\\varphi$'); plt.ylabel(r'$\\Delta\\lambda$(nm)')\n",
    "    plt.legend((r'$m=m_e$',r'$m=10m_e$',r'$m=100m_e$',r'$m=1000m_e$'), loc='upper right')\n",
    "    plt.show()\n",
    "compton()"
   ]
  },
  {
   "cell_type": "markdown",
   "metadata": {},
   "source": [
    "### Verificação experimental do efeito Compton\n",
    "Como o comprimento de onda de Compton é muito pequeno ($\\approx 0,002\\text{ nm}$), efeitos do deslocamento Compton são difíceis de observar se a frequência da radiação eletromagnética não for muito grande (comprimento de onda muito pequeno), em relação ao visível. Por isso foi importante o uso dos raios X, que foram descobertos por Röntgen em 1895 [https://www.nobelprize.org/prizes/physics/1901/rontgen/biographical/], fazendo experimentos com tubos de raios catódicos, como os que vimos no experimento de Thomson. Somando à observação de Röntgen de que raios X não são desviados por campos magnéticos, em 1912 Willian Bragg verificou que raios X são difratados por cristais [https://www.nobelprize.org/prizes/physics/1915/wh-bragg/lecture/], mostrando assim que eles fazem parte do espectro eletromagnético.\n",
    "\n",
    "Para verificação do efeito Compton, um aparato experimental importante é o __difratômetro de Bragg__, ilustrado na figura abaixo.\n",
    "\n",
    "<table>\n",
    "<tr>\n",
    "<td> <img src='fig_03_bragg1.png' width='300'/> </td>\n",
    "<td> <img src='fig_03_bragg2.png' width='300'/> </td>\n",
    "<td> <img src='fig_03_bragg3.png' width='150'/> </td>\n",
    "</tr>\n",
    "</table>"
   ]
  },
  {
   "cell_type": "markdown",
   "metadata": {},
   "source": [
    "Na esquerda está mostrado um tubo de raios X, que consiste em acelerar elétrons através de uma ddp muito grande. Ao chegar no ânodo, esses elétrons, altamente energéticos, são freados emitindo assim radiação eletromagnética na faixa dos raios X. Esses raios X são difratados por um cristal, sendo que ondas provindas de planos de átomos diferentes, os planos de Bragg (como mostrado na figura do meio), irão interferir construtivamente se os ângulos de incidência e de espalhamento forem iguais. Nesse caso a condição de Bragg para interferência construtiva é (diferença de caminho igual a um número inteiro de comprimentos de onda):\n",
    "\\begin{equation}\n",
    "2d\\sin\\theta = m\\lambda,\n",
    "\\end{equation}\n",
    "com $m\\in\\mathbb{Z}$. Uma das aplicações desse tipo de interferômetro é no estudo da estrutura cristalina de materiais. Aqui nos basta considerar que a intensidade dos raios X detectados se comportam como na figura da direita, que foi obtida pela difração por um cristal de molibidênio.\n",
    "\n",
    "O experimento de Compton e os resultados obtidos estão ilustrados na figura abaixo.\n",
    "<img src='fig_03_compton1.png' width='600'/>\n",
    "\n",
    "Compton verificou seu deslocamento para fótons de raios X espalhados por elétrons da grafita. A medida com o difratrômetro de Bragg mostra que a linha $K_{\\alpha}$ do molibdênio abre em duas, como previsto pela teoria corpuscular da radiação eletromagnética. Entende-se a persistência da linha $K_{\\alpha}$ notando-se que estes se devem ao espalhamento por elétrons internos, ligados, do carbono."
   ]
  },
  {
   "cell_type": "markdown",
   "metadata": {},
   "source": [
    "---\n",
    "# Exercícios\n",
    "\n",
    "1. Os comprimentos de onda da luz visível vão aproximadamente de $380\\text{ nm}$ a $750\\text{ nm}$. Qual é o intervalo de energia, em $\\text{eV}$, dos fótons nesse intervalo? Qual é a energia, em $\\text{eV}$, dos fótons de uma onda de rádio FM, cuja frequência típica é $100\\text{ MHz}$? Qual é a energia, em $\\text{eV}$, associada a raios X de comprimento de onda $0,1\\text{ nm}$.\n",
    "\n",
    "1. Um experimento sobre o efeito fotoelétrico com césio obteve $V_{0}(\\lambda=435,8\\text{ nm})=-0,95\\text{ V}$ e $V_{0}(\\lambda=546,1\\text{ nm})=-0,38\\text{ V}$. Usando esses dados, determine a frequência de corte e a função trabalho para o césio e a constante de Planck $h$.\n",
    "\n",
    "1. O olho humano consegue sentir um sinal de luz quando 60 ou mais fótons chegam até a córnea. Qual é a energia total associada a esses 60 fótons se o comprimento de onda da radiação eletromagnética incidente é $550\\text{ nm}$?\n",
    "\n",
    "1. A molécula de NaCl possui uma energia de ligação de $4,26\\text{ eV}$, que é a energia necessária pra 'quebrar' a molécula e obter os íons Na$^{+}$ e Cl$^{-}$ separados. Qual é a frequência mínima (comprimento de onda máximo) para que um fóton forneça energia suficiente para dissociar a molécula NaCl? Em qual parte do espectro eletromagnético está este fóton?\n",
    "\n",
    "1. Calcule o comprimento de onda de Compton de um elétron, de um próton e da molécula $H_{2}$. Calcule quais seriam as energias de fótons com esses comprimentos de onda.\n",
    "\n",
    "1. Calcule o deslocamento Compton para um ângulo $\\varphi=2\\pi/3$ entre $\\vec{p}_{i}^{f}$ e $\\vec{p}_{f}^{f}$ para espalhamento por um elétron, por de um próton ou por uma molécula $H_{2}$.\n",
    "\n",
    "1. Considere um fóton de um raio gama com energia $0,511\\text{ MeV}$, produzido pela aniquilação de um elétron e de um pósitron. Se este fóton sofre espalhamento Compton, com $\\varphi=110^{\\circ}$, por um elétron livre, quais são as energias do fóton e do elétron após a colisão? Qual é a direção do movimento do elétron após a colisão, em relação à direção do fóton incidente?\n",
    "\n",
    "1. Tubos de raios X usados atualmente por dentistas possuem voltagem de aceleração de $80\\text{ kV}$. Qual é o comprimento de onda mínimo dos raios X que esses tubos produzem?"
   ]
  },
  {
   "cell_type": "code",
   "execution_count": null,
   "metadata": {},
   "outputs": [],
   "source": []
  }
 ],
 "metadata": {
  "kernelspec": {
   "display_name": "Python 3",
   "language": "python",
   "name": "python3"
  },
  "language_info": {
   "codemirror_mode": {
    "name": "ipython",
    "version": 3
   },
   "file_extension": ".py",
   "mimetype": "text/x-python",
   "name": "python",
   "nbconvert_exporter": "python",
   "pygments_lexer": "ipython3",
   "version": "3.6.4"
  }
 },
 "nbformat": 4,
 "nbformat_minor": 2
}
