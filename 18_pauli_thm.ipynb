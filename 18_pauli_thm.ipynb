{
 "cells": [
  {
   "cell_type": "markdown",
   "metadata": {},
   "source": [
    "## Notas de aula de Mecânica Quântica <br> Autor: Jonas Maziero\n",
    "Link para o vídeo da aula sobre esse tópico: ."
   ]
  },
  {
   "cell_type": "code",
   "execution_count": 4,
   "metadata": {},
   "outputs": [],
   "source": [
    "%run init.ipynb"
   ]
  },
  {
   "cell_type": "markdown",
   "metadata": {},
   "source": [
    "# Teorema de Pauli\n",
    "Vamos considerar $H=H(\\alpha)\\therefore E=E(\\alpha),\\psi=\\psi(\\vec{r},\\alpha)$, em que $\\alpha$ é um parâmetro qualquer, tal como a massa ou carga elétrica de um quanton, a frequência associada a um campo magnético externo, etc. Podemos escrever\n",
    "\\begin{equation}\n",
    "\\partial_{\\alpha}E(\\alpha) = \\langle\\partial_{\\alpha}H(\\alpha)\\rangle.\n",
    "\\end{equation}\n",
    "\n",
    "#### Prova do teorema:\n",
    "Para verificar a validade dessa igualdade, começamos considerando a EqSIT\n",
    "\\begin{equation}\n",
    "H(\\alpha)\\psi(\\vec{r},\\alpha) = E(\\alpha)\\psi(\\vec{r},\\alpha) \\hspace{2cm} (\\star)\n",
    "\\end{equation}\n",
    "e lembrando da condição de normalização da função de onda \n",
    "\\begin{equation}\n",
    "\\int d^{3}r\\psi(\\vec{r},\\alpha)^{*}\\psi(\\vec{r},\\alpha)=1,\n",
    "\\end{equation}\n",
    "em que consideramos que o hamiltoniano e suas autoenergias e autofunções dependem do parâmentro $\\alpha$.\n",
    "\n",
    "Seguindo, multiplicamos a eq. $(\\star)$ por $\\psi(\\vec{r},\\alpha)^{*}$ e integramos em $\\mathbb{R}^{3}$:\n",
    "\\begin{align}\n",
    "\\int d^{3}r\\psi(\\vec{r},\\alpha)^{*}H(\\alpha)\\psi(\\vec{r},\\alpha) &= \\int d^{3}r\\psi(\\vec{r},\\alpha)^{*}E(\\alpha)\\psi(\\vec{r},\\alpha) \\\\\n",
    "&= E(\\alpha)\\int d^{3}r\\psi(\\vec{r},\\alpha)^{*}\\psi(\\vec{r},\\alpha) \\\\\n",
    "&=E(\\alpha).\n",
    "\\end{align}"
   ]
  },
  {
   "cell_type": "markdown",
   "metadata": {},
   "source": [
    "Derivando última essa equação em relação a $\\alpha$, obteremos\n",
    "\\begin{align}\n",
    "\\partial_{\\alpha}E(\\alpha) &= \\int d^{3}r\\psi(\\vec{r},\\alpha)^{*}(\\partial_{\\alpha}H(\\alpha))\\psi(\\vec{r},\\alpha) \\\\\n",
    "& + \\int d^{3}r(\\partial_{\\alpha}\\psi(\\vec{r},\\alpha)^{*})H(\\alpha)\\psi(\\vec{r},\\alpha) + \\int d^{3}r\\psi(\\vec{r},\\alpha)^{*}H(\\alpha)(\\partial_{\\alpha}\\psi(\\vec{r},\\alpha)). \\hspace{1cm} (\\star\\star)\n",
    "\\end{align}\n",
    "Usando a eq. $(\\star)$, e o resultado associado $\\psi(\\vec{r},\\alpha)^{*}H(\\alpha)=\\psi(\\vec{r},\\alpha)^{*}E(\\alpha)$, veremos que a última linha da Eq. $(\\star\\star)$ é nula:\n",
    "\\begin{align}\n",
    "& \\int d^{3}r(\\partial_{\\alpha}\\psi(\\vec{r},\\alpha)^{*})H(\\alpha)\\psi(\\vec{r},\\alpha) + \\int d^{3}r\\psi(\\vec{r},\\alpha)^{*}H(\\alpha)(\\partial_{\\alpha}\\psi(\\vec{r},\\alpha)) \\\\\n",
    "& = \\int d^{3}r(\\partial_{\\alpha}\\psi(\\vec{r},\\alpha)^{*})E(\\alpha)\\psi(\\vec{r},\\alpha) + \\int d^{3}r\\psi(\\vec{r},\\alpha)^{*}E(\\alpha)(\\partial_{\\alpha}\\psi(\\vec{r},\\alpha)) \\\\\n",
    "& = E(\\alpha)\\left(\\int d^{3}r(\\partial_{\\alpha}\\psi(\\vec{r},\\alpha)^{*})\\psi(\\vec{r},\\alpha) + \\int d^{3}r\\psi(\\vec{r},\\alpha)^{*}(\\partial_{\\alpha}\\psi(\\vec{r},\\alpha))\\right) \\\\\n",
    "& = E(\\alpha)\\int d^{3}r\\partial_{\\alpha}(\\psi(\\vec{r},\\alpha)^{*}\\psi(\\vec{r},\\alpha)) = E(\\alpha)\\partial_{\\alpha}\\int d^{3}r(\\psi(\\vec{r},\\alpha)^{*}\\psi(\\vec{r},\\alpha)) \\\\\n",
    "&= E(\\alpha)\\partial_{\\alpha}(1)=0.\n",
    "\\end{align}\n",
    "A Eq. $(\\star\\star)$ fica então escrita como $\\partial_{\\alpha}E(\\alpha) = \\langle\\partial_{\\alpha}H(\\alpha)\\rangle$, concluindo assim a prova do teorema. $\\hspace{4cm}\\square$"
   ]
  },
  {
   "cell_type": "markdown",
   "metadata": {},
   "source": [
    "## Exemplos\n",
    "### Oscilador harmônico 1D\n",
    "Nesse caso, teremos \n",
    "\\begin{align}\n",
    "& H=p^{2}/2m+m\\omega^{2}x^{2}/2=H(\\omega), \\\\\n",
    "&E_{n}=\\hbar\\omega(n+1/2)=E_{n}(\\omega).\n",
    "\\end{align}\n",
    "Aplicando o teorema de Pauli, teremos que\n",
    "\\begin{align}\n",
    "& \\partial_{\\omega}E_{n}(\\omega) = \\hbar(n+1/2)  \\\\\n",
    "& = \\langle\\partial_{\\omega}H(\\omega)\\rangle_{\\Xi_{n}} = \\langle m\\omega x^{2}\\rangle_{\\Xi_{n}} = m\\omega\\langle x^{2}\\rangle_{\\Xi_{n}}.\n",
    "\\end{align}\n",
    "Vemos assim que, para qualquer um dos possíveis valores de $n=1,2,3,\\cdots$, obtivemos o valor médio do quadrado da posição:\n",
    "\\begin{equation}\n",
    "\\langle x^{2}\\rangle_{\\Xi_{n}} = \\frac{\\hbar(n+1/2)}{m\\omega} = \\frac{\\hbar\\omega(n+1/2)}{m\\omega^{2}} = \\frac{E_{n}}{m\\omega^{2}}.\n",
    "\\end{equation}\n",
    "\n",
    "Vale apreciar o utilidade desse teorema nesse caso. Para calcularmos esse valor médio teríamos que resolver a integral \n",
    "\\begin{equation}\n",
    "\\langle x^{2}\\rangle_{\\Xi_{n}} = \\int_{-\\infty}^{+\\infty}x^{2}|\\Xi_{n}|^{2}dx,\n",
    "\\end{equation}\n",
    "com $\\Xi_{n}=N_{n}e^{-\\alpha x^{2}/2}R_{n}(\\sqrt{\\alpha}x)$, $R_{n}(u)=(-1)^{n}e^{u^{2}}\\partial_{u^{n}}e^{u^{2}}$, $N_{n}=\\sqrt{\\sqrt{\\alpha}/\\sqrt{\\pi}2^{n}n!}$ e $\\alpha=m\\omega/\\hbar$. \n",
    "\n",
    "Pode-se verificar, escolhendo-se apropriadamente o parâmetro a ser usado no teorema de Pauli, que\n",
    "\\begin{align}\n",
    "\\langle p^{2}\\rangle_{\\Xi_{n}}=m^{2}\\omega^{2}\\langle x^{2}\\rangle_{\\Xi_{n}}=mE_{n}\n",
    "\\end{align}"
   ]
  },
  {
   "cell_type": "markdown",
   "metadata": {},
   "source": [
    "### Átomos hidrogenóides\n",
    "A seguir utilizaremos o teorema de Pauli para obter alguns resultados úteis para o estudo da estrutura fina dos níveis de energia desse tipo de átomo.\n",
    "### $\\langle 1/r\\rangle$\n",
    "Nesse caso, as energias possíveis são\n",
    "\\begin{equation}\n",
    "E_{n}=-\\frac{\\mu k^{2}Z^{2}e^{4}}{2\\hbar^{2}n^{2}} = - \\frac{\\mu c^{2}Z^{2}\\alpha^{2}}{2n^{2}},\n",
    "\\end{equation}\n",
    "em que definimos a constante de estrutura fina\n",
    "\\begin{equation}\n",
    "\\alpha := \\frac{ke^{2}}{\\hbar c} \\approx \\frac{1}{137,04}.\n",
    "\\end{equation}\n",
    "E o Hamiltoniano pode ser escrito como \n",
    "\\begin{equation}\n",
    "H=\\frac{p^{2}}{2\\mu}-\\frac{kZe^{2}}{r} =\\frac{p^{2}}{2\\mu}-\\frac{Z\\hbar c\\alpha}{r}.\n",
    "\\end{equation}\n",
    "Aplicando o teorema de Pauli, teremos que\n",
    "\\begin{equation}\n",
    "\\partial_{\\alpha}E_{n} = - \\frac{\\mu c^{2}Z^{2}\\alpha}{n^{2}} = \\langle\\partial_{\\alpha}H\\rangle = \\left\\langle\\left(0-\\frac{Z\\hbar c}{r}\\right)\\right\\rangle,\n",
    "\\end{equation}\n",
    "da qual inferimos que\n",
    "\\begin{equation}\n",
    "\\left\\langle\\frac{1}{r}\\right\\rangle_{\\psi_{n,l,m_{l},m_{s}}} = \\frac{\\mu cZ\\alpha}{\\hbar n^{2}} = \\frac{Z}{a_{0}n^{2}},\n",
    "\\end{equation}\n",
    "em que usamos o raio de Bohr $a_{0}=\\hbar^{2}/\\mu ke^{2}=\\hbar/\\mu c\\alpha$."
   ]
  },
  {
   "cell_type": "markdown",
   "metadata": {},
   "source": [
    "### $\\langle 1/r^{2}\\rangle$\n",
    "Em coordenadas esféricas, usando o momento angular\n",
    "\\begin{equation}\n",
    "L^{2} = -\\hbar^{2}\\left(\\frac{1}{\\sin\\theta}\\frac{\\partial}{\\partial\\theta}\\left(\\sin\\theta\\frac{\\partial}{\\partial\\theta}\\right) + \\frac{1}{\\sin^{2}\\theta}\\frac{\\partial^{2}}{\\partial\\phi^{2}}\\right),\n",
    "\\end{equation}\n",
    "podemos escrever a EqSIT como segue\n",
    "\\begin{align}\n",
    "& \\frac{-\\hbar^{2}}{2\\mu}\\left(\\frac{1}{r^{2}}\\frac{\\partial}{\\partial r}\\left(r^{2}\\frac{\\partial\\psi}{\\partial r}\\right) + \\frac{1}{r^{2}\\sin\\theta}\\frac{\\partial}{\\partial \\theta}\\left(\\sin\\theta\\frac{\\partial\\psi}{\\partial \\theta}\\right) + \\frac{1}{r^{2}\\sin^{2}\\theta}\\frac{\\partial^{2}\\psi}{\\partial \\phi^{2}} \\right) + U(r)\\psi = E\\psi, \\\\\n",
    "& \\therefore \\left(F(r)+\\frac{L^{2}}{2\\mu r^{2}}\\right)\\psi = \\left(F(r)+\\frac{\\hbar^{2}l(l+1)}{2\\mu r^{2}}\\right)\\psi =H\\psi= E\\psi,\n",
    "\\end{align}\n",
    "em que definimos $F(r)=\\frac{-\\hbar^{2}}{2\\mu}\\frac{1}{r^{2}}\\frac{\\partial}{\\partial r}\\left(r^{2}\\frac{\\partial}{\\partial r}\\right)+U(r)$ e $U(r)=-kZe^{2}/r$. Notando que $F(r)$ não depende de $l$, usaremos $l$ como parâmetro no teorema de Pauli. Como a energia depende explicitamente somente de $n$, poderíamos pensar que $\\partial_{l}E_{n}=0$. No entanto, temos que lembrar que $n$ e $l$ estão vinculados. Ao obter a função de onda radial, truncamos a série fazendo $n= j_{\\max}+l+1$ com $j_{\\max}$ fixo e determinando a maior potência de $r$ na série. Com isso vem que\n",
    "\\begin{align}\n",
    "& \\partial_{l}E_{n} = (\\partial_{n}E_{n})(\\partial_{l}n) = \\partial_{n}\\left(- \\frac{\\mu c^{2}Z^{2}\\alpha^{2}}{2n^{2}}\\right)(1)= \\frac{\\mu c^{2}Z^{2}\\alpha^{2}}{n^{3}} \\\\\n",
    "& = \\langle\\partial_{l}H\\rangle = \\left\\langle\\partial_{l}\\left(F(r)+\\frac{\\hbar^{2}l(l+1)}{2\\mu r^{2}}\\right)\\right\\rangle = 0 + \\frac{\\hbar^{2}(2l+1)}{2\\mu}\\left\\langle\\frac{1}{r^{2}}\\right\\rangle.\n",
    "\\end{align}\n",
    "Assim\n",
    "\\begin{equation}\n",
    "\\left\\langle\\frac{1}{r^{2}}\\right\\rangle_{\\psi_{n,l,m_{l},m_{s}}} = \\frac{\\mu^{2} c^{2}Z^{2}\\alpha^{2}}{\\hbar^{2}(l+1/2)n^{3}} = \\frac{Z^{2}}{a_{0}^{2}(l+1/2)n^{3}}.\n",
    "\\end{equation}"
   ]
  },
  {
   "cell_type": "markdown",
   "metadata": {},
   "source": [
    "### $\\langle 1/r^{3}\\rangle$\n",
    "OBS. Nesse caso não usaremos o teorema de Pauli. <br>\n",
    "Para energias potenciais dependentes somente da posição, i.e., para $U=U(\\vec{r})$, veremos na disciplina de MQII [https://github.com/jonasmaziero/mecanica_quantica/blob/master/10_posicao_momento_linear.ipynb] que, em termos de valores médios, podemos obter uma 2ª lei de Newton \n",
    "\\begin{equation}\n",
    "m\\partial_{tt}\\langle\\vec{r}(t)\\rangle = \\partial_{t}\\langle\\vec{p}(t)\\rangle = \\langle - \\nabla_{\\vec{r}}U(\\vec{r})\\rangle = \\langle\\vec{F}(t)\\rangle.\n",
    "\\end{equation}\n",
    "Para estados estacionários, a densidade de probabilidade não depende do tempo. Por conseguinte, valores médios também não dependem do tempo. Portanto\n",
    "\\begin{equation}\n",
    "\\langle\\vec{F}(t)\\rangle = \\langle - \\nabla_{\\vec{r}}U(\\vec{r})\\rangle  = 0.\n",
    "\\end{equation}\n",
    "Se decompormos o momento linear em termos de suas componentes nas direções radial e tangencial, $\\vec{p}=\\vec{p}_{r}+\\vec{p}_{t}$, teremos que $p^{2}=p_{r}^{2}+p_{t}^{2}$. Como $\\vec{L}=\\vec{r}\\mathrm{x}\\vec{p}=\\vec{r}\\mathrm{x}\\vec{p}_{r}+\\vec{r}\\mathrm{x}\\vec{p}_{t}=0+\\vec{r}\\mathrm{x}\\vec{p}_{t}\\therefore L=rp_{t}$, e então $p_{t}^{2}=L^{2}/r^{2}$. Assim\n",
    "\\begin{align}\n",
    "E&=\\frac{p^{2}}{2\\mu}+U(r) = \\frac{p_{r}^{2}}{2\\mu} + \\frac{p_{t}^{2}}{2\\mu}+U(r) = \\frac{p_{r}^{2}}{2\\mu} + \\frac{L^{2}}{2\\mu r^{2}}+U(r) \\\\\n",
    "&= \\frac{p_{r}^{2}}{2\\mu}+\\tilde{U}(r),\n",
    "\\end{align}\n",
    "onde definimos o potencial efetivo\n",
    "\\begin{equation}\n",
    "\\tilde{U}(r):=\\frac{L^{2}}{2\\mu r^{2}}+U(r) = \\frac{\\hbar^{2}l(l+1)}{2\\mu r^{2}} -\\frac{kZe^{2}}{r},\n",
    "\\end{equation}\n",
    "transformando o problema 3D em um problema efetivo em 1D."
   ]
  },
  {
   "cell_type": "markdown",
   "metadata": {},
   "source": [
    "Com isso teremos\n",
    "\\begin{align}\n",
    "& \\vec{0} = \\vec{F}=\\langle -\\hat{r}\\partial_{r}\\tilde{U}(r)\\rangle +\\vec{0} \\\\\n",
    "& = -\\hat{r}\\left(\\left\\langle \\partial_{r}\\left(\\frac{\\hbar^{2}l(l+1)}{2\\mu r^{2}}\\right)\\right\\rangle + \\left\\langle \\partial_{r}\\left(-\\frac{kZe^{2}}{r}\\right)\\right\\rangle\\right) \\\\\n",
    "& = -\\hat{r}\\left(-\\frac{\\hbar^{2}l(l+1)}{\\mu}\\left\\langle \\frac{1}{r^{3}}\\right\\rangle + kZe^{2}\\left\\langle\\frac{1}{r^{2}}\\right\\rangle\\right)\n",
    "\\end{align}\n",
    "e assim ($a_{0}=\\hbar^{2}/\\mu ke^{2}$)\n",
    "\\begin{align}\n",
    "\\left\\langle\\frac{1}{r^{3}}\\right\\rangle_{\\psi_{n,l,m_{l},m_{s}}} &= \\frac{\\mu kZe^{2}}{\\hbar^{2}l(l+1)}\\left\\langle\\frac{1}{r^{2}}\\right\\rangle = \\frac{Z}{a_{0}l(l+1)}\\frac{Z^{2}}{a_{0}^{2}(l+1/2)n^{3}} \\\\\n",
    "& = \\frac{Z^{3}}{a_{0}^{3}l(l+1)(l+1/2)n^{3}}.\n",
    "\\end{align}"
   ]
  },
  {
   "cell_type": "markdown",
   "metadata": {},
   "source": [
    "---\n",
    "# Exercícios\n",
    "1. Use o teorema de Pauli para mostrar que, para o oscilador harmônico, $\\langle p^{2}\\rangle_{\\Xi_{n}}=m^{2}\\omega^{2}\\langle x^{2}\\rangle_{\\Xi_{n}}=mE_{n}$.\n",
    "\n",
    "1. Para átomos hidrogenóides, use o teorema de Pauli para mostrar que $\\langle p^{2}\\rangle_{\\psi_{n,l,m_{l},m_{s}}}=-2\\mu E_{n}$.\n",
    "\n",
    "---"
   ]
  },
  {
   "cell_type": "code",
   "execution_count": null,
   "metadata": {},
   "outputs": [],
   "source": []
  }
 ],
 "metadata": {
  "kernelspec": {
   "display_name": "Python 3",
   "language": "python",
   "name": "python3"
  },
  "language_info": {
   "codemirror_mode": {
    "name": "ipython",
    "version": 3
   },
   "file_extension": ".py",
   "mimetype": "text/x-python",
   "name": "python",
   "nbconvert_exporter": "python",
   "pygments_lexer": "ipython3",
   "version": "3.6.4"
  }
 },
 "nbformat": 4,
 "nbformat_minor": 2
}
