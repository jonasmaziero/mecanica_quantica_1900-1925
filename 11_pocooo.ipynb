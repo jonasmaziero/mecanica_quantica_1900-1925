{
 "cells": [
  {
   "cell_type": "markdown",
   "metadata": {},
   "source": [
    "## Notas de aula de Mecânica Quântica <br> Autor: Jonas Maziero\n",
    "\n",
    "Link para o vídeo da aula sobre esse tópico: https://youtu.be/VmUuXEs__Uw."
   ]
  },
  {
   "cell_type": "code",
   "execution_count": 1,
   "metadata": {},
   "outputs": [],
   "source": [
    "%run init.ipynb"
   ]
  },
  {
   "cell_type": "markdown",
   "metadata": {},
   "source": [
    "# Potencial poço quadrado infinito\n",
    "O potencial de um quanton em uma caixa unidimensional é\n",
    "\\begin{cases}\n",
    "U(x<0)=\\infty, \\\\\n",
    "U(0<x<a) = 0, \\\\\n",
    "U(x>a) = \\infty.\n",
    "\\end{cases}\n",
    "Nesse caso, queremos obter soluções para a eq. de Schrödinger independente do tempo unidimensional:\n",
    "\\begin{equation}\n",
    "-\\frac{\\hbar^{2}}{2m}\\partial_{xx}\\Xi(x)+U(x)\\Xi(x)=E\\Xi(x).\n",
    "\\end{equation}\n",
    "\n",
    "À esquerda e à direita do poço, como o quanton não pode ter energia infinita, devemos ter\n",
    "\\begin{equation}\n",
    "\\Xi_{e}(x<0)=\\Xi_{d}(x>a)=0.\n",
    "\\end{equation}\n",
    "Dentro do poço, $0<x<a$, a EqSIT1D fica\n",
    "\\begin{equation}\n",
    "-\\frac{\\hbar^{2}}{2m}\\partial_{xx}\\Xi(x)+0\\Xi(x)=E\\Xi(x) \\therefore \\partial_{xx}\\Xi(x)+k_{i}^{2}\\Xi(x)=0,\n",
    "\\end{equation}\n",
    "com\n",
    "\\begin{equation}\n",
    "k_{i} = \\frac{\\sqrt{2mE}}{\\hbar}.\n",
    "\\end{equation}\n",
    "As soluções no interior do poço tem a forma geral\n",
    "\\begin{equation}\n",
    "\\Xi_{i}(0<x<a) = c_{id}e^{ik_{i}x} + c_{ie}e^{-ik_{i}x}.\n",
    "\\end{equation}"
   ]
  },
  {
   "cell_type": "markdown",
   "metadata": {},
   "source": [
    "## Quantização da energia\n",
    "Na sequência, vamos determinar os coeficientes. Começamos impondo a continuidade da função de onda:\n",
    "\\begin{align}\n",
    "& \\Xi_{e}(x=0)=0=\\Xi_{i}(x=0) \\therefore c_{id}+c_{ie}=0 \\therefore c_{id}=-c_{ie}, \\\\\n",
    "& \\Xi_{i}(x=a)=\\Xi_{d}(x=a)=0 \\therefore c_{id}e^{ik_{i}a}+c_{ie}e^{-ik_{i}a} = 0.\n",
    "\\end{align}\n",
    "Juntando esses resultados, teremos\n",
    "\\begin{align}\n",
    "& c_{id}e^{ik_{i}a}-c_{id}e^{-ik_{i}a} = c_{id}\\left(e^{ik_{i}a}-e^{-ik_{i}a}\\right) = c_{id}2i\\sin(k_{i}a)= 0, \\\\\n",
    "& \\therefore k_{i}a=n\\pi \\text{ com } n=1,2,3,\\cdots.\n",
    "\\end{align}\n",
    "Portanto o número de onda, e com isso o comprimento de onda de de Broglie, é quantizado:\n",
    "\\begin{equation}\n",
    "k_{i} = \\frac{n\\pi}{a}\\text{, com }n\\in\\mathbb{Z}_{>0}.\n",
    "\\end{equation}\n",
    "Por conseguinte, a energia também é quantizada\n",
    "\\begin{equation}\n",
    "E_{n} = \\frac{\\hbar^{2}k_{i}^{2}}{2m} = \\left(\\frac{\\hbar^{2}\\pi^{2}}{2ma^{2}}\\right)n^{2}\\text{, com }n\\in\\mathbb{Z}_{>0}.\n",
    "\\end{equation}\n",
    "OBS. $n$ é chamado de número quântico.\n",
    "\n",
    "Observamos que, além de ter energia quantizada, o quanton, indo de acordo com o princípio de indeterminação de Heisenberg, não pode ter energia nula ($X$ e $P$ não podem ter valores bem difinidos simultaneamente). O quanton tem que ter uma energia mínima, a _energia de ponto zero_ obtida com $n=1$:\n",
    "\\begin{equation}\n",
    "E_{1} = \\frac{\\hbar^{2}\\pi^{2}}{2ma^{2}}>0.\n",
    "\\end{equation}"
   ]
  },
  {
   "cell_type": "code",
   "execution_count": 2,
   "metadata": {},
   "outputs": [
    {
     "name": "stdout",
     "output_type": "stream",
     "text": [
      "m = 9.109382e-31kg em um poço infinito de largura 1e-09m\n"
     ]
    },
    {
     "data": {
      "image/png": "[encoded data removed]",
      "text/plain": [
       "<matplotlib.figure.Figure at 0x7fae2459d588>"
      ]
     },
     "metadata": {},
     "output_type": "display_data"
    }
   ],
   "source": [
    "def poco_E(n,m,a):\n",
    "    return (((hb*math.pi*n)**2)/(2*m*a**2))/e # em eV\n",
    "def poco_oo_niveis(xmin,xmax,m,a):\n",
    "    plt.hlines(poco_E(1,m,a),xmin,xmax,color='red')\n",
    "    plt.text(-0.15,poco_E(1,m,a),'n=1',color='red')\n",
    "    plt.text(1.01,poco_E(1,m,a),r'$E_{1}=$'+str('%3.3f'%(poco_E(1,m,a))+' eV'),color='red')\n",
    "    plt.hlines(poco_E(2,m,a),xmin,xmax,color='green')\n",
    "    plt.text(-0.15,poco_E(2,m,a),'n=2',color='green')\n",
    "    plt.text(1.01,poco_E(2,m,a),r'$E_{2}=$'+str('%3.3f'%(poco_E(2,m,a))+' eV'),color='green')\n",
    "    plt.hlines(poco_E(3,m,a),xmin,xmax,color='cyan') \n",
    "    plt.text(-0.15,poco_E(3,m,a),'n=3',color='cyan')\n",
    "    plt.text(1.01,poco_E(3,m,a),r'$E_{3}=$'+str('%3.3f'%(poco_E(3,m,a))+' eV'),color='cyan')\n",
    "    plt.hlines(poco_E(4,m,a),xmin,xmax,color='blue')\n",
    "    plt.text(-0.15,poco_E(4,m,a),'n=4',color='blue')\n",
    "    plt.text(1.01,poco_E(4,m,a),r'$E_{4}=$'+str('%3.3f'%(poco_E(4,m,a))+' eV'),color='blue')\n",
    "    plt.hlines(poco_E(5,m,a),xmin,xmax,color='magenta')\n",
    "    plt.text(-0.15,poco_E(5,m,a),'n=5',color='magenta')\n",
    "    plt.text(1.01,poco_E(5,m,a),r'$E_{5}=$'+str('%3.3f'%(poco_E(5,m,a))+' eV'),color='magenta')\n",
    "    plt.annotate(\"\", xy=(0.1,poco_E(1,m,a)), xytext=(0.1,poco_E(2,m,a)), arrowprops=dict(arrowstyle=\"<->\"))\n",
    "    plt.text(0.11,(poco_E(1,m,a)+poco_E(2,m,a))/2,(c*heV)/(poco_E(2,m,a)-poco_E(1,m,a)))\n",
    "    plt.annotate(\"\", xy=(0.2,poco_E(2,m,a)), xytext=(0.2,poco_E(3,m,a)), arrowprops=dict(arrowstyle=\"<->\"))\n",
    "    plt.text(0.21,(poco_E(2,m,a)+poco_E(3,m,a))/2,(c*heV)/(poco_E(3,m,a)-poco_E(2,m,a)))\n",
    "    plt.annotate(\"\", xy=(0.3,poco_E(3,m,a)), xytext=(0.3,poco_E(4,m,a)), arrowprops=dict(arrowstyle=\"<->\"))\n",
    "    plt.text(0.31,(poco_E(3,m,a)+poco_E(4,m,a))/2,(c*heV)/(poco_E(4,m,a)-poco_E(3,m,a)))\n",
    "    plt.annotate(\"\", xy=(0.4,poco_E(4,m,a)), xytext=(0.4,poco_E(5,m,a)), arrowprops=dict(arrowstyle=\"<->\"))\n",
    "    plt.text(0.41,(poco_E(4,m,a)+poco_E(5,m,a))/2,(c*heV)/(poco_E(5,m,a)-poco_E(4,m,a)))\n",
    "    plt.annotate(r\"$\\vdots$\", xy=(0.8,poco_E(5,m,a)), xytext=(0.8,poco_E(5,m,a)+0.1), arrowprops=dict(arrowstyle=\"<-\"))\n",
    "    plt.axis('off')\n",
    "    plt.show()\n",
    "a = 10**-9; m = me; print('m = '+str(m)+'kg em um poço infinito de largura '+str(a)+'m'); poco_oo_niveis(0,1,m,a)"
   ]
  },
  {
   "cell_type": "markdown",
   "metadata": {},
   "source": [
    "## Função de onda\n",
    "Usando $c_{id}=-c_{ie}$ obtemos\n",
    "\\begin{align}\n",
    "\\Xi_{i}(0<x<a) & = c_{id}\\left(e^{ik_{i}x}-e^{ik_{i}x}\\right) = 2ic_{id}\\sin(k_{i}x) \\\\\n",
    "& =: C_{i}\\sin\\left(\\frac{n\\pi x}{a}\\right).\n",
    "\\end{align}\n",
    "Para determinar a constante que falta, usamos a normalização da função de onda:\n",
    "\\begin{align}\n",
    "1 & = \\int_{-\\infty}^{\\infty}|\\Xi(x)|^{2}dx \\\\ \n",
    "& = \\int_{-\\infty}^{0}|\\Xi_{e}(x<0)|^{2}dx + \\int_{0}^{a}|\\Xi_{i}(0<x<a)|^{2}dx + \\int_{a}^{\\infty}|\\Xi_{d}(x>a)|^{2}dx \\\\\n",
    "& = 0 + \\int_{0}^{a}|C_{i}|^{2}\\sin^{2}\\left(\\frac{n\\pi x}{a}\\right)dx + 0 = |C_{i}|^{2}\\int_{0}^{a}\\left(\\frac{1}{2}-\\frac{1}{2}\\cos\\left(\\frac{2n\\pi x}{a}\\right)\\right)dx \\\\\n",
    "& = |C_{i}|^{2}\\left(\\frac{a}{2}-\\frac{a}{2n\\pi}\\left(\\sin\\left(\\frac{2n\\pi x}{a}\\right)\\right)_{0}^{a}\\right) = |C_{i}|^{2}\\left(\\frac{a}{2}-\\frac{a}{2n\\pi}\\left(\\sin\\left(\\frac{2n\\pi a}{a}\\right)-\\sin(0)\\right)\\right) \\\\\n",
    "& = |C_{i}|^{2}\\left(\\frac{a}{2}-0\\right).\n",
    "\\end{align}\n",
    "Então $|C_{i}| = \\sqrt{2/a}$, $C_{i}=|C_{i}|e^{i\\phi}$ e assim\n",
    "\\begin{equation}\n",
    "\\Xi_{i}(0<x<a) = e^{i\\phi}\\sqrt{\\frac{2}{a}}\\sin\\left(\\frac{n\\pi x}{a}\\right) \\equiv \\sqrt{\\frac{2}{a}}\\sin\\left(\\frac{n\\pi x}{a}\\right).\n",
    "\\end{equation}\n",
    "OBS. A fase global foi omitida pois não muda probabilidades e valores médios. <br>\n",
    "OBS. Esta função fornece a onda estacionária obtida pela superposição das ondas planas $c_{id}e^{ik_{i}x}$ (movimento para a direita) e $c_{ie}e^{-ik_{i}x}$ (movimento para a esquerda).\n",
    "\n",
    "A __densidade de probabilidade__ correspondente é:\n",
    "\\begin{equation}\n",
    "\\left|\\Xi_{i}(0<x<a)\\right|^{2} = \\frac{2}{a}\\sin^{2}\\left(\\frac{n\\pi x}{a}\\right).\n",
    "\\end{equation}"
   ]
  },
  {
   "cell_type": "code",
   "execution_count": 3,
   "metadata": {
    "scrolled": false
   },
   "outputs": [
    {
     "data": {
      "application/vnd.jupyter.widget-view+json": {
       "model_id": "9b14332855eb458bb551e330e5cc6de7",
       "version_major": 2,
       "version_minor": 0
      },
      "text/plain": [
       "interactive(children=(IntSlider(value=5, description='n', max=10, min=1), Output()), _dom_classes=('widget-int…"
      ]
     },
     "metadata": {},
     "output_type": "display_data"
    }
   ],
   "source": [
    "def psi2_poco(n):\n",
    "    fig = plt.figure(figsize=(15,3)); a=1\n",
    "    N = 1000; xmin = -a; xmax = 2*a; dx = (xmax-xmin)/N; x = np.zeros(N); y = np.zeros(N)\n",
    "    for j in range(0,N):\n",
    "        x[j] = xmin + j*dx\n",
    "        if x[j] < 0:\n",
    "            y[j] = 0\n",
    "        elif x[j] > 0 and x[j] < a:\n",
    "            y[j] = (2/a)*(math.sin((n*math.pi*x[j])/a)**2)\n",
    "        elif x[j] > a:\n",
    "            y[j] = 0\n",
    "    plt.annotate(r'$n=$'+str(n), xy=(1.75,1.75), xytext=(1.75,1.75), fontsize=12)\n",
    "    plt.plot(x,y); plt.xlabel(r'$x$',fontsize=10); plt.ylabel(r'$|\\Xi|^{2}$',fontsize=15)\n",
    "    plt.annotate(r'$a=$'+str(a)[:4], xy=(a,0), xytext=(a,0), fontsize=12)\n",
    "    plt.xlim(xmin,xmax); plt.ylim(-0.02,2/a+0.02)\n",
    "    plt.annotate(\"\", xy=(0,-0.02), xytext=(0,2/a+0.02), arrowprops=dict(arrowstyle=\"-\"))\n",
    "    plt.annotate(\"\", xy=(a,-0.02), xytext=(a,2/a+0.02), arrowprops=dict(arrowstyle=\"-\"))\n",
    "    plt.show()\n",
    "interactive(psi2_poco, n=(1,10,1))"
   ]
  },
  {
   "cell_type": "markdown",
   "metadata": {},
   "source": [
    "OBS. Diferentemente do que acontecia nos problemas de tranmissão e reflexão de ondas que vimos em aulas anteriores, para o poço quadrado infinito a derivada da função de onda não é contínua (isso acontecerá sempre que $U=\\infty$). Aqui temos que\n",
    "\\begin{equation}\n",
    "\\partial_{x}\\Xi_{e}=\\partial_{x}\\Xi_{d}=0.\n",
    "\\end{equation}\n",
    "Mas, como $\\partial_{x}\\Xi_{i}=\\sqrt{2/a}(n\\pi/a)\\cos(n\\pi x/a)$, temos\n",
    "\\begin{equation}\n",
    "\\partial_{x}\\Xi_{i}(x=0)=\\sqrt{2/a^{3}}n\\pi \\text{ e } \\partial_{x}\\Xi_{i}(x=a)=\\pm \\sqrt{2/a^{3}}n\\pi.\n",
    "\\end{equation}"
   ]
  },
  {
   "cell_type": "markdown",
   "metadata": {},
   "source": [
    "## Valores médios\n",
    "Valor médio da posição\n",
    "\\begin{align}\n",
    "\\langle X\\rangle & = \\int_{-\\infty}^{\\infty}x|\\Xi(x)|^{2}dx = \\int_{-\\infty}^{0}x|\\Xi_{e}(x)|^{2}dx + \\int_{0}^{a}x|\\Xi_{i}(x)|^{2}dx + \\int_{a}^{\\infty}x|\\Xi_{d}(x)|^{2}dx \\\\\n",
    "& = 0 + \\int_{0}^{a}x\\frac{2}{a}\\sin^{2}\\left(\\frac{n\\pi x}{a}\\right)dx + 0 = \\frac{2}{a}\\int_{0}^{a}x\\left(\\frac{1}{2}-\\frac{1}{2}\\cos\\left(\\frac{2n\\pi x}{a}\\right)\\right)dx \\\\\n",
    "& = \\frac{2}{a}\\left(\\frac{1}{2}\\left[\\frac{x^{2}}{2}\\right]-\\frac{1}{2}\\int_{0}^{a}x\\cos\\left(\\frac{2n\\pi x}{a}\\right)dx\\right).\n",
    "\\end{align}\n",
    "Usando $u=x\\therefore du=dx$ e $dv=\\cos\\left(\\frac{2n\\pi x}{a}\\right)dx\\therefore v=\\frac{a}{2n\\pi}\\sin\\left(\\frac{2n\\pi x}{a}\\right)$ e integrando por partes ($\\int udv = uv-\\int vdu$), vem que\n",
    "\\begin{align}\n",
    "\\langle X\\rangle & = \\frac{2}{a}\\left(\\frac{1}{2}\\frac{a^{2}}{2}-\\frac{1}{2}\\left(\\left[x\\frac{a}{2n\\pi}\\sin\\left(\\frac{2n\\pi x}{a}\\right)\\right]_{0}^{a} - \\int_{0}^{a}\\frac{a}{2n\\pi}\\sin\\left(\\frac{2n\\pi x}{a}\\right)dx\\right)\\right) \\\\\n",
    "& = \\frac{2}{a}\\left(\\frac{a^{2}}{4}-\\frac{1}{2}\\left(a\\frac{a}{2n\\pi}\\sin\\left(\\frac{2n\\pi a}{a}\\right)-0 - \\left[\\left(\\frac{a}{2n\\pi}\\right)^{2}\\cos\\left(\\frac{2n\\pi x}{a}\\right)\\right]_{0}^{a}\\right)\\right) \\\\\n",
    "& = \\frac{2}{a}\\left(\\frac{a^{2}}{4}-\\frac{1}{2}\\left(0 - \\left(\\frac{a}{2n\\pi}\\right)^{2}\\left(\\cos\\left(\\frac{2n\\pi a}{a}\\right)-\\cos\\left(0\\right)\\right)\\right)\\right) \\\\\n",
    "& = \\frac{2}{a}\\left(\\frac{a^{2}}{4}-\\frac{1}{2}\\left(0 - \\left(\\frac{a}{2n\\pi}\\right)^{2}\\left(1-1\\right)\\right)\\right) \\\\\n",
    "& = \\frac{a}{2}.\n",
    "\\end{align}"
   ]
  },
  {
   "cell_type": "markdown",
   "metadata": {},
   "source": [
    "Como vocês verificarão,\n",
    "\\begin{equation}\n",
    "\\langle X^{2}\\rangle = \\int_{-\\infty}^{\\infty}x^{2}|\\Xi(x)|^{2}dx = \\cdots = a^{2}\\left(\\frac{1}{3}-\\frac{1}{2\\pi^{2}n^{2}}\\right).\n",
    "\\end{equation}\n",
    "Assim, a variância da posição é\n",
    "\\begin{equation}\n",
    "Var(X)=\\langle X^{2}\\rangle-\\langle X\\rangle^{2} = a^{2}\\left(\\frac{1}{3}-\\frac{1}{2\\pi^{2}n^{2}}\\right)-\\frac{a^{2}}{4} = a^{2}\\left(\\frac{1}{12}-\\frac{1}{2\\pi^{2}n^{2}}\\right).\n",
    "\\end{equation}\n",
    "Vamos assim que a indeterminação na posição do quanton aumenta com o aumento do número quântico $n$."
   ]
  },
  {
   "cell_type": "code",
   "execution_count": 4,
   "metadata": {},
   "outputs": [
    {
     "data": {
      "image/png": "[encoded data removed]",
      "text/latex": [
       "$$\\frac{a}{2 \\pi^{2} n^{2}} + \\frac{2}{a} \\left(\\frac{a^{2}}{4} \\sin^{2}{\\left (\\pi n \\right )} + \\frac{a^{2}}{4} \\cos^{2}{\\left (\\pi n \\right )} - \\frac{a^{2} \\cos{\\left (\\pi n \\right )}}{2 \\pi n} \\sin{\\left (\\pi n \\right )} - \\frac{a^{2} \\cos^{2}{\\left (\\pi n \\right )}}{4 \\pi^{2} n^{2}}\\right)$$"
      ],
      "text/plain": [
       "            ⎛ 2    2         2    2         2                      2    2     \n",
       "            ⎜a ⋅sin (π⋅n)   a ⋅cos (π⋅n)   a ⋅sin(π⋅n)⋅cos(π⋅n)   a ⋅cos (π⋅n)\n",
       "          2⋅⎜──────────── + ──────────── - ──────────────────── - ────────────\n",
       "            ⎜     4              4                2⋅π⋅n                2  2   \n",
       "   a        ⎝                                                       4⋅π ⋅n    \n",
       "─────── + ────────────────────────────────────────────────────────────────────\n",
       "   2  2                                     a                                 \n",
       "2⋅π ⋅n                                                                        \n",
       "\n",
       "⎞\n",
       "⎟\n",
       "⎟\n",
       "⎟\n",
       "⎠\n",
       "─\n",
       " \n",
       " "
      ]
     },
     "execution_count": 4,
     "metadata": {},
     "output_type": "execute_result"
    }
   ],
   "source": [
    "a,n,x,hbb = symbols('a n x hbar',positive=True)\n",
    "integrate(x*(2/a)*(sin(n*pi*x/a)**2),(x,0,a)) # <X>"
   ]
  },
  {
   "cell_type": "code",
   "execution_count": 5,
   "metadata": {},
   "outputs": [
    {
     "data": {
      "image/png": "[encoded data removed]",
      "text/latex": [
       "$$\\frac{2}{a} \\left(\\frac{a^{3}}{6} \\sin^{2}{\\left (\\pi n \\right )} + \\frac{a^{3}}{6} \\cos^{2}{\\left (\\pi n \\right )} - \\frac{a^{3} \\cos{\\left (\\pi n \\right )}}{2 \\pi n} \\sin{\\left (\\pi n \\right )} + \\frac{a^{3} \\sin^{2}{\\left (\\pi n \\right )}}{4 \\pi^{2} n^{2}} - \\frac{a^{3} \\cos^{2}{\\left (\\pi n \\right )}}{4 \\pi^{2} n^{2}} + \\frac{a^{3} \\cos{\\left (\\pi n \\right )}}{4 \\pi^{3} n^{3}} \\sin{\\left (\\pi n \\right )}\\right)$$"
      ],
      "text/plain": [
       "  ⎛ 3    2         3    2         3                      3    2         3    2\n",
       "  ⎜a ⋅sin (π⋅n)   a ⋅cos (π⋅n)   a ⋅sin(π⋅n)⋅cos(π⋅n)   a ⋅sin (π⋅n)   a ⋅cos \n",
       "2⋅⎜──────────── + ──────────── - ──────────────────── + ──────────── - ───────\n",
       "  ⎜     6              6                2⋅π⋅n                2  2           2 \n",
       "  ⎝                                                       4⋅π ⋅n         4⋅π ⋅\n",
       "──────────────────────────────────────────────────────────────────────────────\n",
       "                                                     a                        \n",
       "\n",
       "         3                  ⎞\n",
       "(π⋅n)   a ⋅sin(π⋅n)⋅cos(π⋅n)⎟\n",
       "───── + ────────────────────⎟\n",
       " 2               3  3       ⎟\n",
       "n             4⋅π ⋅n        ⎠\n",
       "─────────────────────────────\n",
       "                             "
      ]
     },
     "execution_count": 5,
     "metadata": {},
     "output_type": "execute_result"
    }
   ],
   "source": [
    "integrate((x**2)*(2/a)*(sin((n*pi*x)/a)**2),(x,0,a)) # <X^2>"
   ]
  },
  {
   "cell_type": "markdown",
   "metadata": {},
   "source": [
    "Para o momento linear\n",
    "\\begin{align}\n",
    "\\langle P\\rangle & = 0 + \\int_{0}^{a}dx\\Xi_{i}^{*}(x)\\frac{\\hbar}{i}\\partial_{x}\\Xi(x) + 0 = \\frac{\\hbar}{i}\\int_{0}^{a}dx\\sqrt{\\frac{2}{a}}\\sin\\left(\\frac{n\\pi x}{a}\\right)\\partial_{x}\\left(\\sqrt{\\frac{2}{a}}\\sin\\left(\\frac{n\\pi x}{a}\\right)\\right) \\\\\n",
    "& = \\frac{\\hbar2}{ia}\\int_{0}^{a}dx\\sin\\left(\\frac{n\\pi x}{a}\\right)\\cos\\left(\\frac{n\\pi x}{a}\\right)\\frac{n\\pi}{a} = \\frac{\\hbar 2n\\pi}{ia^{2}}\\int_{0}^{a}dx\\frac{1}{2}\\sin\\left(\\frac{2n\\pi x}{a}\\right) \\\\\n",
    "& = \\frac{\\hbar n\\pi}{ia^{2}}\\left[-\\frac{a}{2n\\pi}\\cos\\left(\\frac{2n\\pi x}{a}\\right)\\right]_{0}^{a} = -\\frac{\\hbar}{ia2}\\left[\\cos\\left(\\frac{2n\\pi a}{a}\\right)-\\cos\\left(0\\right)\\right] = -\\frac{\\hbar}{ia2}\\left[1-1\\right] \\\\\n",
    "& = 0.\n",
    "\\end{align}\n",
    "\n",
    "Como vocês verificarão,\n",
    "\\begin{equation}\n",
    "\\langle P^{2}\\rangle = \\int_{-\\infty}^{\\infty}dx\\Xi(x)^{*}(-\\hbar^{2})\\partial_{xx}\\Xi(x) = \\cdots = \\frac{\\pi^{2}\\hbar^{2}n^{2}}{a^{2}}.\n",
    "\\end{equation}\n",
    "Por conseguinte, a variância do momento linear é\n",
    "\\begin{equation}\n",
    "Var(P)=\\langle P^{2}\\rangle-\\langle P\\rangle^{2} = \\frac{\\pi^{2}\\hbar^{2}n^{2}}{a^{2}} - 0.\n",
    "\\end{equation}\n",
    "Por conseguinte, a indeterminação do momento linear do quanton no poço também aumenta com $n$."
   ]
  },
  {
   "cell_type": "code",
   "execution_count": 6,
   "metadata": {},
   "outputs": [
    {
     "data": {
      "image/png": "[encoded data removed]",
      "text/latex": [
       "$$- \\frac{1.0 i}{a} \\hbar \\sin^{2}{\\left (\\pi n \\right )}$$"
      ],
      "text/plain": [
       "             2      \n",
       "-1.0⋅ⅈ⋅h̅⋅sin (π⋅n) \n",
       "────────────────────\n",
       "         a          "
      ]
     },
     "execution_count": 6,
     "metadata": {},
     "output_type": "execute_result"
    }
   ],
   "source": [
    "integrate(sqrt(2/a)*sin((n*pi*x)/a)*(hbb/1j)*diff(sqrt(2/a)*sin((n*pi*x)/a),x),(x,0,a)) # <P>"
   ]
  },
  {
   "cell_type": "code",
   "execution_count": 7,
   "metadata": {},
   "outputs": [
    {
     "data": {
      "image/png": "[encoded data removed]",
      "text/latex": [
       "$$\\frac{2 \\pi}{a^{2}} \\hbar^{2} n \\left(\\frac{\\pi n}{2} - \\frac{1}{2} \\sin{\\left (\\pi n \\right )} \\cos{\\left (\\pi n \\right )}\\right)$$"
      ],
      "text/plain": [
       "      2   ⎛π⋅n   sin(π⋅n)⋅cos(π⋅n)⎞\n",
       "2⋅π⋅h̅ ⋅n⋅⎜─── - ─────────────────⎟\n",
       "          ⎝ 2            2        ⎠\n",
       "───────────────────────────────────\n",
       "                  2                \n",
       "                 a                 "
      ]
     },
     "execution_count": 7,
     "metadata": {},
     "output_type": "execute_result"
    }
   ],
   "source": [
    "integrate(-hbb**2*sqrt(2/a)*sin((n*pi*x)/a)*diff(sqrt(2/a)*sin((n*pi*x)/a),x,x),(x,0,a)) # <P^2>"
   ]
  },
  {
   "cell_type": "markdown",
   "metadata": {},
   "source": [
    "## Funções ortogonais\n",
    "Dizemos que dois vetores $|a\\rangle$ e $|b\\rangle$ são ortogonais se o produto interno entre eles é nulo. Para dois vetores $|a\\rangle,|b\\rangle\\in\\mathbb{R}^{n}$ o produto interno é definido por:\n",
    "\\begin{equation}\n",
    "\\langle a|b\\rangle=\\sum_{j}a_{j}b_{j}.\n",
    "\\end{equation}\n",
    "Para dois vetores de $\\mathbb{C}^{n}$ o produto escalar é definido por:\n",
    "\\begin{equation}\n",
    "\\langle a|b\\rangle=\\sum_{j}a_{j}^{*}b_{j}.\n",
    "\\end{equation}\n",
    "Também podemos definir o produto interno entre duas funções. Para $f,g:\\mathbb{R}\\rightarrow\\mathbb{C}$:\n",
    "\\begin{equation}\n",
    "\\langle f|g\\rangle=\\int_{-\\infty}^{+\\infty}dx f(x)^{*}g(x).\n",
    "\\end{equation}\n",
    "\n",
    "Para as funções de onda do poço quadrado infinito, para $n,m\\in\\mathbb{Z}_{>0}$ e $n\\ne m$, usando $\\cos(\\alpha\\pm\\beta)=\\cos\\alpha\\cos\\beta\\mp\\sin\\alpha\\sin\\beta$:\n",
    "\\begin{align}\n",
    "\\langle \\Xi_{n}|\\Xi_{m}\\rangle & = \\int_{-\\infty}^{+\\infty}dx\\Xi_{n}^{*}\\Xi_{m} = \\frac{2}{a}\\int_{0}^{a}dx\\sin\\left(\\frac{n\\pi x}{a}\\right)\\sin\\left(\\frac{m\\pi x}{a}\\right) \\\\\n",
    "& = \\frac{1}{a}\\left(\\int_{0}^{a}dx\\cos\\left(\\frac{(n-m)\\pi x}{a}\\right)-\\int_{0}^{a}dx\\cos\\left(\\frac{(n+m)\\pi x}{a}\\right)\\right) \\\\\n",
    "& = \\frac{1}{a}\\left(\\frac{a}{(n-m)\\pi}\\left[\\sin\\left(\\frac{(n-m)\\pi x}{a}\\right)\\right]_{0}^{a}-\\frac{a}{(n+m)\\pi}\\left[\\sin\\left(\\frac{(n+m)\\pi x}{a}\\right)\\right]_{0}^{a}\\right) \\\\\n",
    "& = \\frac{1}{\\pi}\\left(\\frac{1}{n-m}\\left(\\sin\\left(\\frac{(n-m)\\pi a}{a}\\right)-\\sin(0)\\right)-\\frac{1}{n+m}\\left(\\sin\\left(\\frac{(n+m)\\pi a}{a}\\right)-\\sin(0)\\right)\\right) \\\\\n",
    "& = 0.\n",
    "\\end{align}\n",
    "Ou seja, essas funções de onda são ortogonais.\n",
    "\n",
    "OBS. Se definirmos o operador Hamiltoniano quântico como\n",
    "\\begin{equation}\n",
    "H=-\\frac{\\hbar^{2}}{2m}\\partial_{xx}+U(x),\n",
    "\\end{equation}\n",
    "a EqSIT1D fica escrita como uma equação de autovalores de autovetores:\n",
    "\\begin{equation}\n",
    "H\\Xi(x)=E\\Xi(x).\n",
    "\\end{equation}\n",
    "Para operadores que representam quantidades fisicamente mensuráveis (como o $H$ para o poço quadrado infinito), suas autofunções formam um conjunto ortonormal."
   ]
  },
  {
   "cell_type": "markdown",
   "metadata": {},
   "source": [
    "---\n",
    "# Exercícios\n",
    "\n",
    "1. Se um fóton com comprimento de onda $694,3\\text{ nm}$ é emitido quando um elétron em um poço quadrado infinito transita do estado $n=2$ para o estado $n=1$, qual é a largura $a$ do poço?\n",
    "\n",
    "1. Mostre que, para $n\\gg 1$, a diferença percentual de energia de níveis consecutivos de um quanton em um poço quadrado infinito pode ser escrita como $(E_{n+1}-E_{n})/E_{n}\\approx 2/n$ (que está de acordo com o princípio de correspondência de Bohr).\n",
    "\n",
    "1. Verifique que duas funções de onda $\\Xi(x)$ e $e^{i\\phi}\\Xi(x)$ fornecem a mesma densidade de probabilidade, i.e., verifique que $\\left|e^{i\\phi}\\Xi(x)\\right|^{2}=\\left|\\Xi(x)\\right|^{2}$. Verifique também que os valores médios de $X$, e de $P$, são os mesmos paras as duas funções de onda $\\Xi(x)$ e $e^{i\\phi}\\Xi(x)$.\n",
    "\n",
    "1. Calcule a probabilidade de, em medidas de posição, encontrarmos um quanton em um poço quadrado infinito entre os pontos $x=0,2a$ e $x=0,4a$.\n",
    "\n",
    "1. Para a função de onda do poço quadrado infinito, calcule $\\langle X^{2}\\rangle$ e $\\langle P^{2}\\rangle$.\n",
    "---"
   ]
  },
  {
   "cell_type": "code",
   "execution_count": null,
   "metadata": {},
   "outputs": [],
   "source": []
  }
 ],
 "metadata": {
  "kernelspec": {
   "display_name": "Python 3",
   "language": "python",
   "name": "python3"
  },
  "language_info": {
   "codemirror_mode": {
    "name": "ipython",
    "version": 3
   },
   "file_extension": ".py",
   "mimetype": "text/x-python",
   "name": "python",
   "nbconvert_exporter": "python",
   "pygments_lexer": "ipython3",
   "version": "3.6.4"
  }
 },
 "nbformat": 4,
 "nbformat_minor": 2
}
