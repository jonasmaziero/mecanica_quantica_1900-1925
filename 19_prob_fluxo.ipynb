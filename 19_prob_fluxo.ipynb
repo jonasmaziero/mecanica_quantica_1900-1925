{
 "cells": [
  {
   "cell_type": "markdown",
   "metadata": {},
   "source": [
    "## Notas de aula de Mecânica Quântica <br> Autor: Jonas Maziero\n",
    "Link para o vídeo da aula sobre esse tópico: ."
   ]
  },
  {
   "cell_type": "code",
   "execution_count": 1,
   "metadata": {},
   "outputs": [],
   "source": [
    "%run init.ipynb"
   ]
  },
  {
   "cell_type": "markdown",
   "metadata": {},
   "source": [
    "# Fluxo de probabilidade\n",
    "Vamos voltar a considerar a eq. de Schrödinger dependente do tempo\n",
    "\\begin{equation}\n",
    "i\\hbar\\partial_{t}\\Psi(\\vec{r},t)=-\\frac{\\hbar^{2}}{2m}\\nabla^{2}\\Psi(\\vec{r},t)+U(\\vec{r},t)\\Psi(\\vec{r},t).\n",
    "\\end{equation}\n",
    "Lembrando, $\\Psi(\\vec{r},t)$ não possui interpretação física per se, mas\n",
    "\\begin{equation}\n",
    "|\\Psi(\\vec{r},t)|^{2}d^{3}r = \\text{ probabilidade do quanton estar no elemento de volume } d^{3}r \\text{ em torno de }\\vec{r} \\text{ no instante de tempo }t.\n",
    "\\end{equation}\n",
    "Como o quanton deve ter alguma posição em qualquer instante de tempo, teremos a condição de normalização\n",
    "\\begin{align}\n",
    "\\int_{\\mathbb{R}^{3}}|\\Psi(\\vec{r},t)|^{2}d^{3}r=1.\n",
    "\\end{align}\n",
    "\n",
    "Vamos olhar para a variação temporal da densidade de probabilidade (ponto a ponto do espaço):\n",
    "\\begin{align}\n",
    "\\partial_{t}\\rho(\\vec{r},t) &:= \\partial_{t}|\\Psi(\\vec{r},t)|^{2} = \\partial_{t}(\\Psi(\\vec{r},t)\\Psi(\\vec{r},t)^{*}) \\\\\n",
    "& = (\\partial_{t}\\Psi(\\vec{r},t))\\Psi(\\vec{r},t)^{*} + \\Psi(\\vec{r},t)(\\partial_{t}\\Psi(\\vec{r},t)^{*}).\n",
    "\\end{align}\n",
    "Pode-se verificar que $(\\partial_{\\alpha}f)^{*}=\\partial_{\\alpha}f^{*}$ para $f=f(\\vec{r},t)$ e $\\alpha=x,y,z,t$. Com isso vem que\n",
    "\\begin{align}\n",
    "& \\partial_{t}\\Psi(\\vec{r},t)=\\frac{i\\hbar}{2m}\\nabla^{2}\\Psi(\\vec{r},t)-(i/\\hbar)U(\\vec{r},t)\\Psi(\\vec{r},t) \\\\\n",
    "& \\Rightarrow \\partial_{t}\\Psi(\\vec{r},t)^{*}=(\\partial_{t}\\Psi(\\vec{r},t))^{*}=-\\frac{i\\hbar}{2m}\\nabla^{2}\\Psi(\\vec{r},t)^{*}+(i/\\hbar)U(\\vec{r},t)^{*}\\Psi(\\vec{r},t)^{*}.\n",
    "\\end{align}"
   ]
  },
  {
   "cell_type": "markdown",
   "metadata": {},
   "source": [
    "Com isso\n",
    "\\begin{align}\n",
    "\\partial_{t}\\rho(\\vec{r},t) &= \\left(\\frac{i\\hbar}{2m}\\nabla^{2}\\Psi(\\vec{r},t)-(i/\\hbar)U(\\vec{r},t)\\Psi(\\vec{r},t)\\right)\\Psi(\\vec{r},t)^{*} + \\Psi(\\vec{r},t)\\left(-\\frac{i\\hbar}{2m}\\nabla^{2}\\Psi(\\vec{r},t)^{*}+(i/\\hbar)U(\\vec{r},t)^{*}\\Psi(\\vec{r},t)^{*}\\right) \\\\\n",
    "&= \\frac{i\\hbar}{2m}\\left(\\left(\\nabla^{2}\\Psi(\\vec{r},t)\\right)\\Psi(\\vec{r},t)^{*} - \\Psi(\\vec{r},t)\\left(\\nabla^{2}\\Psi(\\vec{r},t)^{*}\\right)\\right) + 0.\n",
    "\\end{align}\n",
    "Pode-se verificar que $\\vec{\\nabla}\\cdot(f\\vec{\\nabla}g)=(\\vec{\\nabla}f)\\cdot(\\vec{\\nabla}g)+f\\nabla^{2}g$ para $f=f(\\vec{r},t)$ e $g=g(\\vec{r},t)$. Aplicando essa igualdade, reescreveremos a última equação como\n",
    "\\begin{align}\n",
    "\\partial_{t}\\rho(\\vec{r},t) &= \\frac{i\\hbar}{2m}(\\vec{\\nabla}\\cdot(\\Psi(\\vec{r},t)^{*}\\vec{\\nabla}\\Psi(\\vec{r},t))-(\\vec{\\nabla}\\Psi(\\vec{r},t)^{*})\\cdot(\\vec{\\nabla}\\Psi(\\vec{r},t)) \\\\ \n",
    "& \\hspace{1cm} - \\vec{\\nabla}\\cdot(\\Psi(\\vec{r},t)\\vec{\\nabla}\\Psi(\\vec{r},t)^{*})+(\\vec{\\nabla}\\Psi(\\vec{r},t))\\cdot(\\vec{\\nabla}\\Psi(\\vec{r},t)^{*})) \\\\\n",
    "&= \\frac{i\\hbar}{2m}\\vec{\\nabla}\\cdot\\left(\\Psi(\\vec{r},t)^{*}\\vec{\\nabla}\\Psi(\\vec{r},t)-\\Psi(\\vec{r},t)\\vec{\\nabla}\\Psi(\\vec{r},t)^{*}\\right) \\\\\n",
    "&=: -\\vec{\\nabla}\\cdot\\vec{J},\n",
    "\\end{align}\n",
    "em que definimos a densidade de corrente de probabilidade\n",
    "\\begin{align}\n",
    "\\vec{J} &:= -\\frac{i\\hbar}{2m}\\left(\\Psi(\\vec{r},t)^{*}\\vec{\\nabla}\\Psi(\\vec{r},t)-\\Psi(\\vec{r},t)\\vec{\\nabla}\\Psi(\\vec{r},t)^{*}\\right) \\\\\n",
    "& = -\\frac{i\\hbar}{2m}\\left(\\Psi(\\vec{r},t)^{*}\\vec{\\nabla}\\Psi(\\vec{r},t)-(\\Psi(\\vec{r},t)^{*}\\vec{\\nabla}\\Psi(\\vec{r},t))^{*}\\right) \\\\\n",
    "& = \\frac{\\hbar}{m}\\Im\\left(\\Psi(\\vec{r},t)^{*}\\vec{\\nabla}\\Psi(\\vec{r},t)\\right).\n",
    "\\end{align}"
   ]
  },
  {
   "cell_type": "markdown",
   "metadata": {},
   "source": [
    "A penúltima equação é uma equação de continuidade, que mostra que a taxa com que a densidade de probabilidade em um ponto do espaço muda com o tempo é igual a um fluxo de probabilidade para outros pontos do espaço, o que é dado pelo divergente de uma corrente de probabilidade, expressando conservação local de probabilidades."
   ]
  },
  {
   "cell_type": "markdown",
   "metadata": {},
   "source": [
    "---\n",
    "# Exercícios\n",
    "\n",
    "1. Verifique que $(\\partial_{\\alpha}f)^{*}=\\partial_{\\alpha}f^{*}$ para $f=f(\\vec{r},t)$ e $\\alpha=x,y,z,t$.\n",
    "\n",
    "1. Verifique que $\\vec{\\nabla}\\cdot(f\\vec{\\nabla}g)=(\\vec{\\nabla}f)\\cdot(\\vec{\\nabla}g)+f\\nabla^{2}g$ para $f=f(\\vec{r},t)$ e $g=g(\\vec{r},t)$.\n",
    "\n",
    "---"
   ]
  },
  {
   "cell_type": "code",
   "execution_count": null,
   "metadata": {},
   "outputs": [],
   "source": []
  }
 ],
 "metadata": {
  "kernelspec": {
   "display_name": "Python 3",
   "language": "python",
   "name": "python3"
  },
  "language_info": {
   "codemirror_mode": {
    "name": "ipython",
    "version": 3
   },
   "file_extension": ".py",
   "mimetype": "text/x-python",
   "name": "python",
   "nbconvert_exporter": "python",
   "pygments_lexer": "ipython3",
   "version": "3.6.4"
  }
 },
 "nbformat": 4,
 "nbformat_minor": 2
}
