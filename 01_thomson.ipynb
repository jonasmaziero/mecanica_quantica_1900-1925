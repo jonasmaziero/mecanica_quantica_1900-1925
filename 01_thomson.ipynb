{
 "cells": [
  {
   "cell_type": "markdown",
   "metadata": {},
   "source": [
    "# Notas de aula: Mecânica Quântica, Autor: Jonas Maziero"
   ]
  },
  {
   "cell_type": "code",
   "execution_count": 17,
   "metadata": {},
   "outputs": [],
   "source": [
    "%run init.ipynb"
   ]
  },
  {
   "cell_type": "markdown",
   "metadata": {},
   "source": [
    "# O 'fim' do período clássico\n",
    "Em 1900, Lord W. T. Kelvin (1824-1907) disse: \"Não existe nada novo há ser descoberto em Física. Tudo o que resta a fazer são medidas mais e mais precisas.\" Esse excesso de confiança se devia ao sucesso que as teorias chamadas hoje em dia de _Física Clássica_ tinham naquela época em explicar fenômenos naturais. Dentre estas teorias, podemos citar:\n",
    "* Mecânica Newtoniana (e suas versões Lagrangeana ou Hamiltoniana),\n",
    "* Eletromagnetismo de Maxwell, \n",
    "* Termodinâmica,\n",
    "* Mecânica Estatísica Clássica.\n",
    "\n",
    "Mas haviam alguns experimentos que a Física Clássica não dava conta de descrever (radiação de corpo negro, efeito fotoelétrico, espectros de emissão e absorção atômicos, calor específico de sólidos, etc). Esses experimentos motivaram alguns físicos, hoje bem conhecidos, a propor conceitos estranhos à Física Clássica, tais como quantização da energia de oscilação de um oscilador harmônico e dualidade onda-partícula. Falaremos sobre esses desenvolvimentos, a chamada Velha Teoria Quântica, que foram feitos de 1900 a 1925, na primeira parte dessa disciplina. O formalismo da Mecânica Quântica usado atualmente foi desenvolvido por Schrödinger, Heisenberg e Dirac de 1925 a 1927. Depois de discutir a Mecânica Quântica de Schrödinger, veremos algumas de suas aplicações. Finalizaremos a disciplina estudando o conceito de spin."
   ]
  },
  {
   "cell_type": "markdown",
   "metadata": {},
   "source": [
    "## Quantização da carga elétrica\n",
    "A quantização da matéria foi proposta por Demócrito já antes de Cristo. Depois de vários desenvolvimentos, por volta de 1900 esta hipótese era bem aceita, com e.g. a teoria cinética dos gases levando a predições termodinâmicas que concordavam muito bem com os experimentos. Segundo Richard Feynman, a ideia de que a matéria não é contínua, mas sim granular, seria uma das heranças intelectuais mais importantes da humanidade.\n",
    "\n",
    "Em torno de 1900, o Eletromagnetismo também já tinha sido desenvolvido, e portanto o conceito de carga elétrica era familiar. Como quase sempre em ciência, existem muitos pequenos desenvolvimentos e ideias que culminam em uma grande descoberta. Aqui pularemos esses passos e descreveremos somente os importantes experimentos de J.J. Thomson e de Millikan, que nos possibilitaram não só inferir que todos os tipos de matéria (átomos) contêm um mesmo tipo de carga elétrica fundamental, mas que essa partícula elementar fornece a unidade de carga elétrica, que para um objeto qualquer é quantizada, i.e., a carga elétrica de um objeto é um múltiplo inteiro da carga elétrica elementar."
   ]
  },
  {
   "cell_type": "markdown",
   "metadata": {},
   "source": [
    "### Experimento de J. J. Thomson (medida de $e/m_{e}$)\n",
    "O aparelho usado no experimento de Thomson está mostrado na figura abaixo, que foi obtida da Ref. [1], que a adaptou de [J.J. Thomson, Cathode Rays, Philosophical Magazine 44, 293 (1897)]. Veja também [https://www.nobelprize.org/prizes/physics/1906/thomson/lecture/].\n",
    "\n",
    "<figure>\n",
    "    <img src=\"cathode_rays.png\" width=\"400\">\n",
    "    <div class=\"caption\">Caption here</div>\n",
    "</figure>\n"
   ]
  },
  {
   "cell_type": "markdown",
   "metadata": {},
   "source": [
    "Note que uma diferença de potencial elétrico (ddp) é aplicada entre o cátodo $C$ e o colimador/placa metálica $A$. Cargas elétricas são arrancadas de $C$ e aceleradas pela ddp em direção a $A$. Os colimadores $A$ e $B$ selecionam as cargas elétricas que possuem velocidade paralela ao plano das placas metálicas $D$ e $E$. Essas cargas elétricas são finalmente detectadas na extremidade direita do tubo de raios catódicos, onde se mede a altura $y$ em relação ao ponto médio entre $D$ e $E$. Um campo elétrico $\\vec{E}$ é criado na região entre as placas pela aplicação de uma ddp entre $D$ e $E$ ($\\vec{E}$ é aproximadamente uniforme na região central entre $D$ e $E$). Espiras de corrente, que não estão mostradas na figura, são utilizadas para criar um campo magnético (também aproximadamente uniforme na região central entre as placas $D$ e $E$ ) ortogonal a $\\vec{E}$ e à velocidade $\\vec{v}$ das cargas elétricas.\n",
    "\n",
    "Considere que $D$ possui potencial elétrico positivo e $E$ negativo. Por conseguinte o campo elétrico aponta de $D$ pra $E$, e, se a carga elétrica dos íons for negativa ($q<0$), existe uma força elétrica\n",
    "\\begin{equation}\n",
    "\\vec{F}_{e}=q\\vec{E}\n",
    "\\end{equation}\n",
    "que desviará as cargas  pra cima. Através das leis de Maxwell do eletromagnetismo, sabemos obter os módulos dos campos elétrico e magnético (que estão relacionados com a ddp e a corrente elétrica nos solenóides, respectivamente). Então, lembrando que a força magnética é\n",
    "\\begin{equation}\n",
    "\\vec{F}_{m}=q\\vec{v}\\mathrm{x}\\vec{B},\n",
    "\\end{equation}\n",
    "vemos que se o campo magnético apontar para dentro do plano da figura, a força magnética será para baixo. Fixada a corrente elétrica no solenóide, podemos obter o módulo da velocidade ajustando a ddp entre $D$ e $E$ (ou vice-versa) até que a trajetória das cargas não sofra desvio algum. Nesse caso teremos\n",
    "\\begin{equation}\n",
    "F_{e}=F_{m}\\Rightarrow qE=qvB\\Rightarrow v=\\frac{E}{B}.\n",
    "\\end{equation}"
   ]
  },
  {
   "cell_type": "markdown",
   "metadata": {},
   "source": [
    "Seguindo, abrimos os circuitos dos solenóides, fazendo $\\vec{B}=\\vec{0}$. A mesma ddp é aplicada entre as placas $D$ e $E$, portanto temos o mesmo campo elétrico $\\vec{E}$ do caso anterior. Consideremos que as placas possuem comprimento $x_{1}$. Na direção $x$ (horizontal) não há aceleração, então\n",
    "\\begin{equation}\n",
    "v_{x}=v_{x0}=v=\\frac{E}{B}=\\frac{x_{1}}{t_{1}}\\Rightarrow t_{1}=\\frac{x_{1}B}{E}.\n",
    "\\end{equation}\n",
    "Como a aceleração é constante na direção $y$ (vertical), $y=y_{0}+v_{0y}t+a_{y}t^{2}/2$, $y_{0}:=0$ e $v_{y0}=0$:\n",
    "\\begin{equation}\n",
    "y_{1} = \\frac{a_{y}t_{1}^{2}}{2} = \\frac{F_{y}}{m}\\frac{t_{1}^{2}}{2} = \\frac{qE}{m}\\frac{x_{1}^{2}B^{2}}{2E^{2}} = \\frac{qx_{1}^{2}B^{2}}{2mE}.\n",
    "\\end{equation}\n",
    "Ademais, as cargas saem da região entre as placas com velocidade ($v_{y}=v_{y0}+a_{y}t_{1}$),\n",
    "\\begin{equation}\n",
    "v_{y}=\\frac{qE}{m}\\frac{x_{1}B}{E} = \\frac{qx_{1}B}{m}.\n",
    "\\end{equation}\n",
    "\n",
    "Fora da região entre as placas não há força alguma (mais uma aproximação). Seja $x_{2}$ a distância da extremidade direita das placas até coordenada horizontal na qual as cargas elétricas são detectadas. Como $v_{x}=\\text{constante}$,\n",
    "\\begin{equation}\n",
    "t_{2} = \\frac{x_{2}B}{E}.\n",
    "\\end{equation}\n",
    "Assim a coordenada vertical na qual as cargas são detectadas é obtida somando os deslocamente entre e fora das placas (fora usa $y=y_{0}+v_{y0}t_{2}$):\n",
    "\\begin{equation}\n",
    "y = y_{1}+y_{2} = y_{1}+y_{1}+v_{y}t_{2} = 2\\frac{qx_{1}^{2}B^{2}}{2mE} + \\frac{qx_{1}B}{m}\\frac{x_{2}B}{E} = \\frac{qx_{1}B^{2}}{mE}(x_{1}+x_{2})= \\frac{qx_{1}B^{2}x}{mE}.\n",
    "\\end{equation}\n",
    "Portanto, a relação carga-massa para essas partículas é obtida de\n",
    "\\begin{equation}\n",
    "\\frac{q}{m}=\\frac{Ey}{B^{2}x_{1}x}.\n",
    "\\end{equation}"
   ]
  },
  {
   "cell_type": "markdown",
   "metadata": {},
   "source": [
    "Note que todos os parâmetros no lado direito da última equação podem ser obtidos experimentalmente (usando uma régua, um amperímetro e um voltímetro). Thomson utilizou vários materiais como cátodo (que é de onda saem as cargas elétricas), e obteve o valor aproximado (dentro do erro experimental):\n",
    "\\begin{equation}\n",
    "\\frac{q}{m}\\approx 2\\mathrm{x}10^{11}\\text{C/kg},\n",
    "\\end{equation}\n",
    "que está bem próximo do \"valor atual\".\n",
    "\n",
    "A medida do mesmo valor de $q/m$ para tantos materiais levou Thomson a propor que essa carga elétrica era devida a uma partícula, que ele chamou de corpúsculo, que estaria presente em todas as substâncias. Esse experimento é tido como a _descoberta do elétron_, nome este que foi dado posteriormente por Lorentz. Ademais, comparação com resultados de experimentos feitos com íons de Hidrogênio permitiram a Thomson dizer que o elétron, além de ter carga elétrica negativa, possui massa aproximadamente 2000 vezes menor que a do elemento mais leve conhecido."
   ]
  },
  {
   "cell_type": "markdown",
   "metadata": {},
   "source": [
    "### Experimento de Millikan (medida de $e$)\n",
    "O experimento de Millikan, mostrado na figura abaixo (retirada da Ref. [1]), consiste de um borrifador de gotas \n",
    "de óleo (ou de outro material). Essas gotas, que podem possuir carga elétrica não nula (adquiridas na borrifagem), descem sujeitas à força gravitacional e à força de arrasto com o ar. Depois, adiciona-se a força elétrica ligando um campo elétrico entre as placas circulares mostradas na figura. Mede-se o tempo de descida e subida das gotas observando-as com o telescópio. Um fonte de raios X, que não está mostrada na figura, pode ser usada para ionizar as gotas (para mudar sua carga elétrica).\n",
    "\n",
    "<img src=\"millikan_e.png\" width=\"400\">"
   ]
  },
  {
   "cell_type": "markdown",
   "metadata": {},
   "source": [
    "Na descida e na subida as gotas atingem rapidamente a velocidade terminal, então vamos nos concentrar nesse limite. Na descida, teremos\n",
    "\\begin{equation}\n",
    "F_{g}-F_{a} = 0 \\Rightarrow mg - bv_{d} = 0 \\Rightarrow b=\\frac{mg}{v_{d}},\n",
    "\\end{equation}\n",
    "onde $b$ é o coeficiente de arrasto, $m$ é a massa da gota, $g\\approx 9,807\\text{ m/s}^{2}$, e $v_{d}$ e a velocidade de descida.\n",
    "\n",
    "Na subida, com o campo elétrico ligado, para a velocidade terminal,\n",
    "\\begin{equation}\n",
    "F_{e}-F_{g}-F_{a}=0 \\Rightarrow q_{n}E-mg-bv_{s}=0,\n",
    "\\end{equation}\n",
    "em $q_{n}$ é a carga elétrica da gota, $E$ é o campo elétrico (conhecido) e $v_{s}$ é a velocidade de subida. Teremos assim que\n",
    "\\begin{equation}\n",
    "q_{n} = \\frac{mg}{E}+\\frac{bv_{s}}{E} = \\frac{mg}{E}+\\frac{mg}{v_{d}}\\frac{v_{s}}{E} = \\frac{mg}{Ev_{d}}\\left(v_{d}+v_{s}\\right).\n",
    "\\end{equation}\n",
    "As velocidades de descida e de subida são obtidas experimentalmente medindo-se os tempos de descida e de subida, respectivamente. Teremos \n",
    "\\begin{equation}\n",
    "v_{d}=\\frac{L}{T_{d}} \\text{ e } v_{s}=\\frac{L}{T_{s}},\n",
    "\\end{equation}\n",
    "onde $T_{d}$ é o tempo de descida, $T_{s}$ é o tempo de subida, e $L$ é a distância entre as placas circulares. A densidade do óleo era conhecida, e com isso a massa da gota (que é aproximadamente esférica) é obtidada de\n",
    "\\begin{equation}\n",
    "m = \\rho V = \\frac{\\rho 4\\pi a^{3}}{3},\n",
    "\\end{equation}\n",
    "onde $a$ é o raio da gota. Da lei de Stokes temos\n",
    "\\begin{equation}\n",
    "b = 6\\pi\\eta a = \\frac{mg}{v_{d}} \\Rightarrow a = \\frac{mg}{6\\pi\\eta v_{d}},\n",
    "\\end{equation}\n",
    "em que $\\eta$ é o coeficiente de viscosidade do ar (conhecido). Juntando com a eq. anterior, teremos\n",
    "\\begin{equation}\n",
    "m^{2} = \\frac{3(6\\pi\\eta v_{d})^{3}}{4\\pi\\rho g^{3}}.\n",
    "\\end{equation}"
   ]
  },
  {
   "cell_type": "markdown",
   "metadata": {},
   "source": [
    "A quantização da carga elétrica da gota nos dá:\n",
    "\\begin{equation}\n",
    "q_{n} = ne,\n",
    "\\end{equation}\n",
    "em que $e$ é a carga elétrica elementar e $n$ é um número natural. Nos experimentos, Millikan usou raios X para ionizar as gotas (depois que ela chega na placa inferior), que teriam uma nova quantidade de carda elétrica (note que $v_{d}$ não muda pois $\\vec{E}=\\vec{0}$ na descida):\n",
    "\\begin{equation}\n",
    "q_{n'}=n'e =  \\frac{mg}{Ev_{d}}\\left(v_{d}+v'_{s}\\right),\n",
    "\\end{equation}\n",
    "que nos dá uma mudança de carga elétrica da gota:\n",
    "\\begin{equation}\n",
    "q_{n'}-q_{n}=(n'-n)e:=\\delta_{n}e=\\frac{mg}{Ev_{d}}\\left(v_{s}-v'_{s}\\right).\n",
    "\\end{equation}\n",
    "Por conseguinte\n",
    "\\begin{equation}\n",
    "\\frac{n}{v_{d}+v_{s}} = \\frac{\\delta_{n}}{v_{s}-v'_{s}} = \\frac{mg}{eEv_{d}}.\n",
    "\\end{equation}\n",
    "Millikan procurou os valores de $n$ e de $\\delta_{n}$ que forneciam a mesma constante (lado direito da última equação), repetindo a medida inúmeras vezes. Dessa constante ele obteve:\n",
    "\\begin{equation}\n",
    "e = \\frac{mg}{Ev_{d}} = 1,591\\mathrm{x}10^{-19}\\text{ C},\n",
    "\\end{equation}\n",
    "que está bem próximo do valor mais preciso medido atualmente."
   ]
  },
  {
   "cell_type": "markdown",
   "metadata": {},
   "source": [
    "---\n",
    "# Exercícios\n",
    "\n",
    "1. Um próton de um raio cósmico aproxima-se da Terra verticalmente, na linha do equador, com velocidade $3\\mathrm{x}10^{6}\\text{ m/s}$. Nesse local a componente horizontal do campo magnético tem magnitude aproximada de $3,5\\mathrm{x}10^{-5}\\text { T}$. Qual é a razão entre a força magnética e a força gravitacional no próton?\n",
    "\n",
    "1. Considere o experimento de Thomson com campo elétrico desligado e campo magnético ligado. Mostre que o ângulo que a velocidade instantânea do elétron faz com a direção horizontal pode ser escrito como $\\theta_{t} = qBt/m$. Assim, para $L\\ll 1$, teremos que a trajetória do elétron é desviada de um ângulo $\\theta\\approx qBL/mv$.\n",
    "\n",
    "1. Considere o experimeto de Millikan e mostre que um campo elétrico $E=2mg/q$ é necessário para que o tempo de subida da gota de óleo seja igual ao tempo de descida.\n",
    "\n",
    "1. Considere uma variação do experimento de Millikan em que o campo elétrico $\\vec{E}$ é aplicado na direção horizontal. No regime onde a gota atingiu sua velocidade terminal $\\vec{v}$, mostre que o menor ângulo que sua velocidade faz com a direção vertical é $\\theta=\\arcsin(qE/bv)$.\n",
    "\n",
    "1. Forneça um exemplo de aplicação científica ou tecnológica do experimento de Thomson, de importância histórica ou atual, descrevendo brevemente o seu funcionamento. (não precisa entregar)\n",
    "\n",
    "1. Qual é a estimativa atual mais precisa de $q/m$ para o elétron? (não precisa entregar)\n",
    "\n",
    "1. Qual é a estimativa atual mais precisa para a carga elementar $e$?  (não precisa entregar)"
   ]
  },
  {
   "cell_type": "code",
   "execution_count": null,
   "metadata": {},
   "outputs": [],
   "source": []
  }
 ],
 "metadata": {
  "kernelspec": {
   "display_name": "Python 3",
   "language": "python",
   "name": "python3"
  },
  "language_info": {
   "codemirror_mode": {
    "name": "ipython",
    "version": 3
   },
   "file_extension": ".py",
   "mimetype": "text/x-python",
   "name": "python",
   "nbconvert_exporter": "python",
   "pygments_lexer": "ipython3",
   "version": "3.6.4"
  }
 },
 "nbformat": 4,
 "nbformat_minor": 2
}
